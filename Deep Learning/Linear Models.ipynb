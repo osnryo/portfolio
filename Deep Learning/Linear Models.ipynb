{
 "cells": [
  {
   "cell_type": "markdown",
   "metadata": {},
   "source": [
    "# A General Framework for Linear Models"
   ]
  },
  {
   "cell_type": "code",
   "execution_count": 2,
   "metadata": {},
   "outputs": [],
   "source": [
    "import sympy\n",
    "from sympy import init_printing\n",
    "import numpy as np\n",
    "from numpy.linalg import inv\n",
    "\n",
    "init_printing()\n",
    "np.set_printoptions(precision=3, suppress=True)"
   ]
  },
  {
   "cell_type": "markdown",
   "metadata": {},
   "source": [
    "A simple enlightment on the fact that\n",
    "$$\n",
    "    \\Phi^T \\Phi = \\sum_{i=1}^{N} \\phi(x_i) \\phi(x_i)^T\n",
    "$$\n",
    "\n",
    "Consider\n",
    "* $\\Phi \\in \\mathbb{R}^{N\\times M}$\n",
    "* $\\phi(x_i) \\in \\mathbb{R}^{M\\times 1}$\n",
    "\n",
    "Where\n",
    "$$\n",
    "    \\Phi = \\begin{bmatrix} \\phi(x_1)^T \\\\ \\vdots \\\\ \\phi(x_N)^T \\end{bmatrix}\n",
    "$$\n",
    "\n",
    "Thus,\n",
    "\n",
    "$$\n",
    "    \\Phi^T\\Phi = \\begin{bmatrix} \\phi(x_1) & \\ldots & \\phi(x_N) \\end{bmatrix} \\begin{bmatrix} \\phi(x_1)^T \\\\ \\vdots \\\\ \\phi(x_N)^T \\end{bmatrix} = \\sum_{i=1}^{N} \\phi(x_i) \\phi(x_i)^T\n",
    "$$"
   ]
  },
  {
   "cell_type": "code",
   "execution_count": 3,
   "metadata": {},
   "outputs": [],
   "source": [
    "phi_01 = sympy.symbols('\\phi_{0}(x_1)')\n",
    "phi_02 = sympy.symbols('\\phi_{0}(x_2)')\n",
    "\n",
    "phi_11 = sympy.symbols('\\phi_{1}(x_1)')\n",
    "phi_12 = sympy.symbols('\\phi_{1}(x_2)')\n",
    "\n",
    "phi_21 = sympy.symbols('\\phi_{2}(x_1)')\n",
    "phi_22 = sympy.symbols('\\phi_{2}(x_2)')"
   ]
  },
  {
   "cell_type": "code",
   "execution_count": 4,
   "metadata": {},
   "outputs": [],
   "source": [
    "Phi = sympy.Matrix([\n",
    "    [phi_01, phi_02],\n",
    "    [phi_11, phi_12],\n",
    "    [phi_21, phi_22]\n",
    "])"
   ]
  },
  {
   "cell_type": "code",
   "execution_count": 5,
   "metadata": {},
   "outputs": [
    {
     "data": {
      "text/latex": [
       "$\\displaystyle \\left[\\begin{matrix}\\phi_{0}(x_1) & \\phi_{0}(x_2)\\\\\\phi_{1}(x_1) & \\phi_{1}(x_2)\\\\\\phi_{2}(x_1) & \\phi_{2}(x_2)\\end{matrix}\\right]$"
      ],
      "text/plain": [
       "⎡\\phi_{0}(x_1)  \\phi_{0}(x_2)⎤\n",
       "⎢                            ⎥\n",
       "⎢\\phi_{1}(x_1)  \\phi_{1}(x_2)⎥\n",
       "⎢                            ⎥\n",
       "⎣\\phi_{2}(x_1)  \\phi_{2}(x_2)⎦"
      ]
     },
     "execution_count": 5,
     "metadata": {},
     "output_type": "execute_result"
    }
   ],
   "source": [
    "# N: number of datapoints\n",
    "# M: number of basis functions\n",
    "Phi"
   ]
  },
  {
   "cell_type": "code",
   "execution_count": 6,
   "metadata": {},
   "outputs": [
    {
     "data": {
      "text/latex": [
       "$\\displaystyle \\left[\\begin{matrix}\\phi_{0}(x_1)^{2} + \\phi_{1}(x_1)^{2} + \\phi_{2}(x_1)^{2} & \\phi_{0}(x_1) \\phi_{0}(x_2) + \\phi_{1}(x_1) \\phi_{1}(x_2) + \\phi_{2}(x_1) \\phi_{2}(x_2)\\\\\\phi_{0}(x_1) \\phi_{0}(x_2) + \\phi_{1}(x_1) \\phi_{1}(x_2) + \\phi_{2}(x_1) \\phi_{2}(x_2) & \\phi_{0}(x_2)^{2} + \\phi_{1}(x_2)^{2} + \\phi_{2}(x_2)^{2}\\end{matrix}\\right]$"
      ],
      "text/plain": [
       "⎡                                2                2                2          \n",
       "⎢                   \\phi_{0}(x_1)  + \\phi_{1}(x_1)  + \\phi_{2}(x_1)           \n",
       "⎢                                                                             \n",
       "⎢                                                                             \n",
       "⎣\\phi_{0}(x_1)⋅\\phi_{0}(x_2) + \\phi_{1}(x_1)⋅\\phi_{1}(x_2) + \\phi_{2}(x_1)⋅\\ph\n",
       "\n",
       "                                                                              \n",
       "            \\phi_{0}(x_1)⋅\\phi_{0}(x_2) + \\phi_{1}(x_1)⋅\\phi_{1}(x_2) + \\phi_{\n",
       "                                                                              \n",
       "                                            2                2                \n",
       "i_{2}(x_2)                     \\phi_{0}(x_2)  + \\phi_{1}(x_2)  + \\phi_{2}(x_2)\n",
       "\n",
       "                     ⎤\n",
       "2}(x_1)⋅\\phi_{2}(x_2)⎥\n",
       "                     ⎥\n",
       "2                    ⎥\n",
       "                     ⎦"
      ]
     },
     "execution_count": 6,
     "metadata": {},
     "output_type": "execute_result"
    }
   ],
   "source": [
    "E1 = Phi.T @ Phi\n",
    "E1"
   ]
  },
  {
   "cell_type": "code",
   "execution_count": 7,
   "metadata": {},
   "outputs": [],
   "source": [
    "phi_0 = sympy.Matrix([[phi_01, phi_02]]).T\n",
    "phi_1 = sympy.Matrix([[phi_11, phi_12]]).T\n",
    "phi_2 = sympy.Matrix([[phi_21, phi_22]]).T"
   ]
  },
  {
   "cell_type": "code",
   "execution_count": 8,
   "metadata": {},
   "outputs": [
    {
     "data": {
      "text/latex": [
       "$\\displaystyle \\left[\\begin{matrix}\\phi_{0}(x_1)^{2} + \\phi_{1}(x_1)^{2} + \\phi_{2}(x_1)^{2} & \\phi_{0}(x_1) \\phi_{0}(x_2) + \\phi_{1}(x_1) \\phi_{1}(x_2) + \\phi_{2}(x_1) \\phi_{2}(x_2)\\\\\\phi_{0}(x_1) \\phi_{0}(x_2) + \\phi_{1}(x_1) \\phi_{1}(x_2) + \\phi_{2}(x_1) \\phi_{2}(x_2) & \\phi_{0}(x_2)^{2} + \\phi_{1}(x_2)^{2} + \\phi_{2}(x_2)^{2}\\end{matrix}\\right]$"
      ],
      "text/plain": [
       "⎡                                2                2                2          \n",
       "⎢                   \\phi_{0}(x_1)  + \\phi_{1}(x_1)  + \\phi_{2}(x_1)           \n",
       "⎢                                                                             \n",
       "⎢                                                                             \n",
       "⎣\\phi_{0}(x_1)⋅\\phi_{0}(x_2) + \\phi_{1}(x_1)⋅\\phi_{1}(x_2) + \\phi_{2}(x_1)⋅\\ph\n",
       "\n",
       "                                                                              \n",
       "            \\phi_{0}(x_1)⋅\\phi_{0}(x_2) + \\phi_{1}(x_1)⋅\\phi_{1}(x_2) + \\phi_{\n",
       "                                                                              \n",
       "                                            2                2                \n",
       "i_{2}(x_2)                     \\phi_{0}(x_2)  + \\phi_{1}(x_2)  + \\phi_{2}(x_2)\n",
       "\n",
       "                     ⎤\n",
       "2}(x_1)⋅\\phi_{2}(x_2)⎥\n",
       "                     ⎥\n",
       "2                    ⎥\n",
       "                     ⎦"
      ]
     },
     "execution_count": 8,
     "metadata": {},
     "output_type": "execute_result"
    }
   ],
   "source": [
    "E2 = phi_0 @ phi_0.T + phi_1 @ phi_1.T + phi_2 @ phi_2.T\n",
    "E2"
   ]
  },
  {
   "cell_type": "code",
   "execution_count": 9,
   "metadata": {},
   "outputs": [
    {
     "data": {
      "text/plain": [
       "True"
      ]
     },
     "execution_count": 9,
     "metadata": {},
     "output_type": "execute_result"
    }
   ],
   "source": [
    "E1 == E2"
   ]
  },
  {
   "cell_type": "markdown",
   "metadata": {},
   "source": [
    "# 最小二乗法の幾何学的表現"
   ]
  },
  {
   "cell_type": "code",
   "execution_count": 10,
   "metadata": {},
   "outputs": [],
   "source": [
    "def pseudoinverse(phi):\n",
    "    return inv(phi.T @ phi) @ phi.T"
   ]
  },
  {
   "cell_type": "code",
   "execution_count": 11,
   "metadata": {},
   "outputs": [
    {
     "data": {
      "text/plain": [
       "array([[ 0.819, -0.155, -0.295,  0.069, -0.117,  0.044,  0.129],\n",
       "       [-0.155,  0.517, -0.087,  0.432, -0.122, -0.051, -0.119],\n",
       "       [-0.295, -0.087,  0.44 , -0.064, -0.179,  0.114,  0.32 ],\n",
       "       [ 0.069,  0.432, -0.064,  0.577,  0.068,  0.078,  0.195],\n",
       "       [-0.117, -0.122, -0.179,  0.068,  0.924,  0.023,  0.069],\n",
       "       [ 0.044, -0.051,  0.114,  0.078,  0.023,  0.967, -0.09 ],\n",
       "       [ 0.129, -0.119,  0.32 ,  0.195,  0.069, -0.09 ,  0.756]])"
      ]
     },
     "execution_count": 11,
     "metadata": {},
     "output_type": "execute_result"
    }
   ],
   "source": [
    "N, M = 7, 5\n",
    "Phi = np.random.randn(N, M)\n",
    "Phi @ pseudoinverse(Phi)"
   ]
  },
  {
   "cell_type": "code",
   "execution_count": 12,
   "metadata": {},
   "outputs": [
    {
     "data": {
      "text/plain": [
       "array([[2],\n",
       "       [1],\n",
       "       [4],\n",
       "       [1],\n",
       "       [5],\n",
       "       [7],\n",
       "       [1]])"
      ]
     },
     "execution_count": 12,
     "metadata": {},
     "output_type": "execute_result"
    }
   ],
   "source": [
    "v = np.array([2, 1, 4, 1, 5, 7, 1]).reshape(-1, 1)\n",
    "v"
   ]
  },
  {
   "cell_type": "code",
   "execution_count": 13,
   "metadata": {},
   "outputs": [
    {
     "data": {
      "text/plain": [
       "array([[ 0.224],\n",
       "       [-0.797],\n",
       "       [ 1.238],\n",
       "       [ 1.974],\n",
       "       [ 3.84 ],\n",
       "       [ 7.361],\n",
       "       [ 2.086]])"
      ]
     },
     "execution_count": 13,
     "metadata": {},
     "output_type": "execute_result"
    }
   ],
   "source": [
    "Phi @ pseudoinverse(Phi) @ v"
   ]
  },
  {
   "cell_type": "markdown",
   "metadata": {},
   "source": [
    "# 複数の出力"
   ]
  },
  {
   "cell_type": "code",
   "execution_count": null,
   "metadata": {},
   "outputs": [],
   "source": [
    "w11, w12, w21, w22 = sympy.symbols(\"w_{11}, w_{12}, w_{21}, w_{22}\")\n",
    "x1, x2 = sympy.symbols(\"x_1 x_2\")\n",
    "\n",
    "W = sympy.Matrix([\n",
    "    [w11, w12],\n",
    "    [w21, w22]\n",
    "])\n",
    "x = sympy.Matrix([[x1, x2]]).T"
   ]
  },
  {
   "cell_type": "code",
   "execution_count": 14,
   "metadata": {},
   "outputs": [],
   "source": [
    "w11, w12, w21, w22 = sympy.symbols('w_{11}, w_{12}, w_{21}, w_[22]')\n",
    "x1, x2 = sympy.symbols('x_1 x_2')\n",
    "\n",
    "W = sympy.Matrix([\n",
    "    [w11, w12],\n",
    "    [w21, w22]\n",
    "])\n",
    "x = sympy.Matrix([[x1, x2]]).T"
   ]
  },
  {
   "cell_type": "code",
   "execution_count": 15,
   "metadata": {},
   "outputs": [
    {
     "data": {
      "image/png": "[encoded data removed]",
      "text/latex": [
       "$\\displaystyle \\left(w_{[22]} x_{2} + w_{12} x_{1}\\right)^{2} + \\left(w_{11} x_{1} + w_{21} x_{2}\\right)^{2}$"
      ],
      "text/plain": [
       "                       2                          2\n",
       "(w_[22]⋅x₂ + w_{12}⋅x₁)  + (w_{11}⋅x₁ + w_{21}⋅x₂) "
      ]
     },
     "execution_count": 15,
     "metadata": {},
     "output_type": "execute_result"
    }
   ],
   "source": [
    "((W.T @ x).T @ (W.T @ x))[0]"
   ]
  },
  {
   "cell_type": "code",
   "execution_count": 16,
   "metadata": {},
   "outputs": [
    {
     "data": {
      "text/latex": [
       "$\\displaystyle \\left[\\begin{matrix}x_{1} \\left(w_{11} x_{1} + w_{21} x_{2}\\right) & x_{2} \\left(w_{11} x_{1} + w_{21} x_{2}\\right)\\\\x_{1} \\left(w_{[22]} x_{2} + w_{12} x_{1}\\right) & x_{2} \\left(w_{[22]} x_{2} + w_{12} x_{1}\\right)\\end{matrix}\\right]$"
      ],
      "text/plain": [
       "⎡x₁⋅(w_{11}⋅x₁ + w_{21}⋅x₂)  x₂⋅(w_{11}⋅x₁ + w_{21}⋅x₂)⎤\n",
       "⎢                                                      ⎥\n",
       "⎣x₁⋅(w_[22]⋅x₂ + w_{12}⋅x₁)  x₂⋅(w_[22]⋅x₂ + w_{12}⋅x₁)⎦"
      ]
     },
     "execution_count": 16,
     "metadata": {},
     "output_type": "execute_result"
    }
   ],
   "source": [
    "(W.T @ x) @ x.T"
   ]
  },
  {
   "cell_type": "code",
   "execution_count": null,
   "metadata": {},
   "outputs": [],
   "source": []
  }
 ],
 "metadata": {
  "kernelspec": {
   "display_name": "Python 3",
   "language": "python",
   "name": "python3"
  },
  "language_info": {
   "codemirror_mode": {
    "name": "ipython",
    "version": 3
   },
   "file_extension": ".py",
   "mimetype": "text/x-python",
   "name": "python",
   "nbconvert_exporter": "python",
   "pygments_lexer": "ipython3",
   "version": "3.7.6"
  }
 },
 "nbformat": 4,
 "nbformat_minor": 4
}
