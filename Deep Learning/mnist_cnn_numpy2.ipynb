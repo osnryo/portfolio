{
  "cells": [
    {
      "cell_type": "code",
      "execution_count": null,
      "metadata": {
        "id": "jprQKzgyjCMw"
      },
      "outputs": [],
      "source": [
        "import numpy as np\n",
        "import pandas as pd\n",
        "import matplotlib.pyplot as plt\n",
        "from sklearn.model_selection import train_test_split\n",
        "import seaborn as sns\n",
        "import pickle\n",
        "from sklearn.metrics import accuracy_score\n",
        "from collections import OrderedDict"
      ]
    },
    {
      "cell_type": "code",
      "execution_count": null,
      "metadata": {
        "id": "oRv9dJxwjGkH"
      },
      "outputs": [],
      "source": [
        "from common.layers import Convolution, MaxPooling, ReLU, Affine, SoftmaxWithLoss, Dropout,BatchNormalization\n",
        "from common.optimizer import RMSProp\n",
        "from common.util import im2col, col2im \n",
        "# from common.SimpleConvNet import SimpleConvNet"
      ]
    },
    {
      "cell_type": "code",
      "source": [
        "gen_train_data = np.load('./data/G_train_data.npy')\n",
        "gen_train_label = np.load('./data/G_train_label.npy')\n",
        "\n",
        "gen_train_data = (gen_train_data - gen_train_data.min()) / gen_train_data.max()\n",
        "gen_train_data = gen_train_data.astype('float32')\n",
        "\n",
        "gen_train_data.shape"
      ],
      "metadata": {
        "colab": {
          "base_uri": "https://localhost:8080/"
        },
        "id": "DvcDW5iWtJK6",
        "outputId": "f995cef0-e57c-4012-aec1-e0e7ff1db57f"
      },
      "execution_count": null,
      "outputs": [
        {
          "output_type": "execute_result",
          "data": {
            "text/plain": [
              "(12000, 1, 28, 28)"
            ]
          },
          "metadata": {},
          "execution_count": 46
        }
      ]
    },
    {
      "cell_type": "code",
      "source": [
        "from sklearn.metrics import confusion_matrix\n",
        "\n",
        "def plot_ConfMat(y_pred,y_test):\n",
        "  fig = plt.figure(figsize=(10, 10)) # Set Figure\n",
        "\n",
        "  Y_pred = np.argmax(y_pred, 1) # Decode Predicted labels\n",
        "  Y_test = np.argmax(y_test, 1) # Decode labels\n",
        "\n",
        "  mat = confusion_matrix(Y_test, Y_pred) # Confusion matrix\n",
        "\n",
        "  # Plot Confusion matrix\n",
        "  sns.heatmap(mat.T, square=True, annot=True, cbar=False, cmap=plt.cm.Blues, fmt='.0f')\n",
        "  plt.xlabel('Predicted Values')\n",
        "  plt.ylabel('True Values');\n",
        "  plt.show();"
      ],
      "metadata": {
        "id": "250K8G2o7vAH"
      },
      "execution_count": null,
      "outputs": []
    },
    {
      "cell_type": "code",
      "execution_count": null,
      "metadata": {
        "colab": {
          "base_uri": "https://localhost:8080/"
        },
        "id": "YoNUq02zjyaD",
        "outputId": "397246c0-09b7-43d3-b2b1-959b354b0849"
      },
      "outputs": [
        {
          "output_type": "stream",
          "name": "stdout",
          "text": [
            "train_data.shape= (3000, 1, 28, 28)\n",
            "train_label.shape= (3000, 15)\n",
            "(2400, 1, 28, 28) (600, 1, 28, 28)\n",
            "拡張したデータと結合したｘ (2400, 1, 28, 28)\n",
            "拡張したデータと結合したｘ (2400, 15)\n"
          ]
        }
      ],
      "source": [
        "train_data = np.load('./data/train_data.npy')\n",
        "train_label = np.load('./data/train_label.npy')\n",
        "print('train_data.shape=', train_data.shape)\n",
        "print('train_label.shape=', train_label.shape)\n",
        "\n",
        "gen_train_data = np.load('./data/G_train_data.npy')\n",
        "gen_train_label = np.load('./data/G_train_label.npy')\n",
        "\n",
        "# データ正規化\n",
        "train_data = (train_data - train_data.min()) / train_data.max()\n",
        "train_data = train_data.astype('float32')\n",
        "\n",
        "gen_train_data = (gen_train_data - gen_train_data.min()) / gen_train_data.max()\n",
        "gen_train_data = gen_train_data.astype('float32')\n",
        "\n",
        "\n",
        "# 交差検証のため、データを分割する\n",
        "X_train, X_test, y_train, y_test = train_test_split(train_data, train_label,test_size=0.2, random_state=234,shuffle=True)\n",
        "print(X_train.shape,X_test.shape)\n",
        "\n",
        "x = X_train[:3000,:]\n",
        "t = y_train[:3000,:]\n",
        "\n",
        "# 学習のため、データを結合する\n",
        "# x = np.concatenate([X_train, gen_train_data[:3000]])\n",
        "# t = np.concatenate([y_train, gen_train_label[:3000]])\n",
        "print('拡張したデータと結合したｘ',x.shape)\n",
        "print('拡張したデータと結合したｘ',t.shape)\n",
        "\n",
        "X_test = X_test[:3000,:]\n",
        "y_test = y_test[:3000,:]\n",
        "\n",
        "x = x.reshape(-1,1,28,28) # 配列形式の変形"
      ]
    },
    {
      "cell_type": "code",
      "execution_count": null,
      "metadata": {
        "id": "IYAGB4kokJbC"
      },
      "outputs": [],
      "source": [
        "def df_gr():  \n",
        "  df_log = pd.DataFrame({\"train_accuracy\":train_accuracy,\n",
        "              \"test_accuracy\":test_accuracy})\n",
        "\n",
        "  df_log.plot(style=['r-', 'r--', 'b-', 'b--'])\n",
        "  plt.ylim([0,1])\n",
        "  plt.ylabel(\"Accuracy or loss\")\n",
        "  plt.xlabel(\"epochs\")\n",
        "  plt.show()\n",
        "\n",
        "  return df_log"
      ]
    },
    {
      "cell_type": "code",
      "execution_count": null,
      "metadata": {
        "id": "EsNCHhi-eABo"
      },
      "outputs": [],
      "source": [
        "def train(model,optimizer,epochs,x,t,X_test,y_test):\n",
        "    snet = model\n",
        "    epochs = epochs\n",
        "\n",
        "    batch_size = 32\n",
        "\n",
        "    xsize = x.shape[0]\n",
        "    iter_num = np.ceil(xsize / batch_size).astype(np.int)\n",
        "\n",
        "    train_loss = []\n",
        "    test_loss = []\n",
        "    train_accuracy = []\n",
        "    test_accuracy = []\n",
        "\n",
        "    for epoch in range(epochs):\n",
        "        # print(\"epoch=%s\"%epoch)\n",
        "\n",
        "        # シャッフル\n",
        "        idx = np.arange(xsize)\n",
        "        np.random.shuffle(idx)\n",
        "\n",
        "        for it in range(iter_num):\n",
        "            \"\"\"\n",
        "            ランダムなミニバッチを順番に取り出す\n",
        "            \"\"\"\n",
        "            # print(\"it=\", it)\n",
        "            mask = idx[batch_size*it : batch_size*(it+1)]\n",
        "\n",
        "            # ミニバッチの生成\n",
        "            x_train = x[mask]\n",
        "            t_train = t[mask]\n",
        "\n",
        "            # 勾配の計算 (誤差逆伝播法を用いる) \n",
        "            grads = snet.gradient(x_train, t_train)\n",
        "\n",
        "            # 更新\n",
        "            optimizer.update(snet.params, grads)\n",
        "\n",
        "        ## 学習経過の記録  \n",
        "        train_loss.append(snet.loss(x,  t))\n",
        "        X_test = X_test.reshape(-1,1,28,28)\n",
        "\n",
        "        l_loss = snet.loss(X_test, y_test)\n",
        "        test_loss.append(l_loss)\n",
        "        train_accuracy.append(snet.accuracy(x, t))\n",
        "        \n",
        "        t_accuracy = snet.accuracy(X_test, y_test)\n",
        "        test_accuracy.append(t_accuracy)\n",
        "\n",
        "        print('t_loss','{:.3f}'.format(l_loss*100),'-------------',',t_acc','{:.3f}'.format(t_accuracy*100))\n",
        "\n",
        "    df_log = pd.DataFrame({\"train_accuracy\":train_accuracy,\n",
        "              \"test_accuracy\":test_accuracy})\n",
        "\n",
        "    df_log.plot(style=['r-', 'r--', 'b-', 'b--'])\n",
        "    plt.ylim([0,1])\n",
        "    plt.ylabel(\"Accuracy or loss\")\n",
        "    plt.xlabel(\"epochs\")\n",
        "    plt.show()"
      ]
    },
    {
      "cell_type": "code",
      "execution_count": null,
      "metadata": {
        "id": "m0ChUSTDJYym"
      },
      "outputs": [],
      "source": [
        "class Adam:\n",
        "\n",
        "    # インスタンス変数を定義\n",
        "    def __init__(self, lr=0.001, beta1=0.9, beta2=0.999):\n",
        "        self.lr = lr # 学習率\n",
        "        self.beta1 = beta1 # mの減衰率\n",
        "        self.beta2 = beta2 # vの減衰率\n",
        "        self.iter = 0 # 試行回数を初期化\n",
        "        self.m = None # モーメンタム\n",
        "        self.v = None # 適合的な学習係数\n",
        "    \n",
        "    # パラメータの更新メソッドを定義\n",
        "    def update(self, params, grads):\n",
        "        # mとvを初期化\n",
        "        if self.m is None: # 初回のみ\n",
        "            self.m = {}\n",
        "            self.v = {}\n",
        "            for key, val in params.items():\n",
        "                self.m[key] = np.zeros_like(val) # 全ての要素が0\n",
        "                self.v[key] = np.zeros_like(val) # 全ての要素が0\n",
        "        \n",
        "        # パラメータごとに値を更新\n",
        "        self.iter += 1 # 更新回数をカウント\n",
        "        lr_t  = self.lr * np.sqrt(1.0 - self.beta2 ** self.iter) / (1.0 - self.beta1 ** self.iter) # 式(6)の学習率の項\n",
        "        for key in params.keys():\n",
        "            self.m[key] = self.beta1 * self.m[key] + (1 - self.beta1) * grads[key] # 式(1)\n",
        "            self.v[key] = self.beta2 * self.v[key] + (1 - self.beta2) * (grads[key] ** 2) # 式(2)\n",
        "            params[key] -= lr_t * self.m[key] / (np.sqrt(self.v[key]) + 1e-7) # 式(6)"
      ]
    },
    {
      "cell_type": "markdown",
      "metadata": {
        "id": "fR0EoEKKbYnd"
      },
      "source": [
        "# 拡張したとしなかったデータを結合する"
      ]
    },
    {
      "cell_type": "code",
      "source": [
        "from keras.preprocessing.image import ImageDataGenerator\n",
        "\n",
        "# データを読み込む\n",
        "train_data = np.load('./data/train_data.npy')\n",
        "train_label = np.load('./data/train_label.npy')\n",
        "print('train_data.shape=', train_data.shape)\n",
        "print('train_label.shape=', train_label.shape)\n",
        "\n",
        "# データ正規化\n",
        "train_data = (train_data - train_data.min()) / train_data.max()\n",
        "train_data = train_data.astype('float32')\n",
        "\n",
        "# 交差検証のため、データを分割する\n",
        "# X_train, X_test, y_train, y_test = train_test_split(train_data, train_label,test_size=0.5, random_state=1234,shuffle=True)\n",
        "# print(X_train.shape,X_test.shape)\n",
        "\n",
        "datagen = ImageDataGenerator(\n",
        "        featurewise_center=False,  # set input mean to 0 over the dataset\n",
        "        samplewise_center=False,  # set each sample mean to 0\n",
        "        featurewise_std_normalization=False,  # divide inputs by std of the dataset\n",
        "        samplewise_std_normalization=False,  # divide each input by its std\n",
        "        zca_whitening=False,  # apply ZCA whitening\n",
        "        rotation_range=10,  # randomly rotate images in the range (degrees, 0 to 180)\n",
        "        zoom_range = 0.01, # Randomly zoom image \n",
        "        width_shift_range=0.1,  # randomly shift images horizontally (fraction of total width)\n",
        "        height_shift_range=0.1,  # randomly shift images vertically (fraction of total height)\n",
        "        horizontal_flip=False,  # randomly flip images\n",
        "        vertical_flip=False)  # randomly flip images\n",
        "\n",
        "\n",
        "#datagen.fit(X_train)\n",
        "train_gen = datagen.flow(X_train, y_train, batch_size=128)\n",
        "# test_gen = datagen.flow(X_test, y_test, batch_size=128)"
      ],
      "metadata": {
        "colab": {
          "base_uri": "https://localhost:8080/"
        },
        "id": "3aHGYwR7kWg9",
        "outputId": "c8a80eac-576e-472b-c05e-7fcd3f91e6d9"
      },
      "execution_count": null,
      "outputs": [
        {
          "output_type": "stream",
          "name": "stdout",
          "text": [
            "train_data.shape= (3000, 1, 28, 28)\n",
            "train_label.shape= (3000, 15)\n",
            "(1500, 1, 28, 28) (1500, 1, 28, 28)\n"
          ]
        },
        {
          "output_type": "stream",
          "name": "stderr",
          "text": [
            "/usr/local/lib/python3.7/dist-packages/keras_preprocessing/image/numpy_array_iterator.py:136: UserWarning: NumpyArrayIterator is set to use the data format convention \"channels_last\" (channels on axis 3), i.e. expected either 1, 3, or 4 channels on axis 3. However, it was passed an array with shape (1500, 1, 28, 28) (28 channels).\n",
            "  str(self.x.shape[channels_axis]) + ' channels).')\n"
          ]
        }
      ]
    },
    {
      "cell_type": "markdown",
      "source": [
        "# 新しい拡張データを生成"
      ],
      "metadata": {
        "id": "bssdhYJd0xJs"
      }
    },
    {
      "cell_type": "code",
      "source": [
        "from keras.preprocessing.image import ImageDataGenerator\n",
        "\n",
        "# データを読み込む\n",
        "train_data = np.load('./data/train_data.npy')\n",
        "train_label = np.load('./data/train_label.npy')\n",
        "print('train_data.shape=', train_data.shape)\n",
        "print('train_label.shape=', train_label.shape)\n",
        "\n",
        "# データ正規化\n",
        "train_data = (train_data - train_data.min()) / train_data.max()\n",
        "train_data = train_data.astype('float32')\n",
        "\n",
        "# 交差検証のため、データを分割する\n",
        "# X_train, X_test, y_train, y_test = train_test_split(train_data, train_label,test_size=0.5, random_state=1234,shuffle=True)\n",
        "# print(X_train.shape,X_test.shape)\n",
        "\n",
        "datagen = ImageDataGenerator(\n",
        "        featurewise_center=False,  # set input mean to 0 over the dataset\n",
        "        samplewise_center=False,  # set each sample mean to 0\n",
        "        featurewise_std_normalization=False,  # divide inputs by std of the dataset\n",
        "        samplewise_std_normalization=False,  # divide each input by its std\n",
        "        zca_whitening=False,  # apply ZCA whitening\n",
        "        rotation_range=10,  # randomly rotate images in the range (degrees, 0 to 180)\n",
        "        zoom_range = 0.01, # Randomly zoom image \n",
        "        width_shift_range=0.1,  # randomly shift images horizontally (fraction of total width)\n",
        "        height_shift_range=0.1,  # randomly shift images vertically (fraction of total height)\n",
        "        horizontal_flip=False,  # randomly flip images\n",
        "        vertical_flip=False)  # randomly flip images\n",
        "\n",
        "\n",
        "#datagen.fit(X_train)\n",
        "train_gen = datagen.flow(X_train, y_train, batch_size=128)\n",
        "# test_gen = datagen.flow(X_test, y_test, batch_size=128)"
      ],
      "metadata": {
        "colab": {
          "base_uri": "https://localhost:8080/"
        },
        "id": "k2B4Rjf80u6c",
        "outputId": "046fdf13-7f1c-4cd3-b96f-2549b34122f0"
      },
      "execution_count": null,
      "outputs": [
        {
          "output_type": "stream",
          "name": "stdout",
          "text": [
            "train_data.shape= (3000, 1, 28, 28)\n",
            "train_label.shape= (3000, 15)\n"
          ]
        },
        {
          "output_type": "stream",
          "name": "stderr",
          "text": [
            "/usr/local/lib/python3.7/dist-packages/keras_preprocessing/image/numpy_array_iterator.py:136: UserWarning: NumpyArrayIterator is set to use the data format convention \"channels_last\" (channels on axis 3), i.e. expected either 1, 3, or 4 channels on axis 3. However, it was passed an array with shape (2400, 1, 28, 28) (28 channels).\n",
            "  str(self.x.shape[channels_axis]) + ' channels).')\n"
          ]
        }
      ]
    },
    {
      "cell_type": "code",
      "source": [
        "from keras.preprocessing.image import array_to_img,img_to_array\n",
        "\n",
        "def show(train_gen):\n",
        "  #表示サイズを設定\n",
        "  plt.figure(figsize = (10, 5))\n",
        "  \n",
        "  #画像をbatch_sizeの数ずつdataに入れる\n",
        "  #本稿は画像が一枚のため同じ画像がdataに入り続けることになる\n",
        "  for i, data in enumerate(train_gen):\n",
        "    #表示のためnumpy配列からimgに変換する\n",
        "    img=np.concatenate([train_gen.next()[0] for i in range(train_gen.__len__())])\n",
        "    show_img = img[i].reshape(28,28)\n",
        "\n",
        "    # show_img = array_to_img(data[0], scale = False)\n",
        "    #2×3の画像表示の枠を設定＋枠の指定\n",
        "    plt.subplot(2, 3, i+1)\n",
        "    #軸を表示しない\n",
        "    plt.xticks(color = \"None\")\n",
        "    plt.yticks(color = \"None\")\n",
        "    plt.tick_params(bottom = False, left = False)\n",
        "    #画像を表示\n",
        "    plt.imshow(show_img)\n",
        "    #6回目で繰り返しを強制的に終了\n",
        "    if i == 5:\n",
        "      return"
      ],
      "metadata": {
        "id": "LB7drRI-1fkP"
      },
      "execution_count": null,
      "outputs": []
    },
    {
      "cell_type": "code",
      "source": [
        "show(train_gen)"
      ],
      "metadata": {
        "colab": {
          "base_uri": "https://localhost:8080/",
          "height": 321
        },
        "id": "L2PH4_YO8Glw",
        "outputId": "3b990426-958f-43d5-eda2-e5d69d21abba"
      },
      "execution_count": null,
      "outputs": [
        {
          "output_type": "display_data",
          "data": {
            "text/plain": [
              "<Figure size 720x360 with 6 Axes>"
            ],
            "image/png": "[encoded data removed]"
          },
          "metadata": {
            "needs_background": "light"
          }
        }
      ]
    },
    {
      "cell_type": "code",
      "source": [
        "datagen = ImageDataGenerator(\n",
        "    featurewise_center = False,#○\n",
        "    samplewise_center = False,#○\n",
        "    featurewise_std_normalization = False,#○\n",
        "    samplewise_std_normalization = False,#○\n",
        "    zca_whitening = False,\n",
        "    zca_epsilon = 1e-06,\n",
        "    rotation_range = 0,#○\n",
        "    width_shift_range = 0.0,#○\n",
        "    height_shift_range = 0.0,#○\n",
        "    brightness_range = None,#○\n",
        "    shear_range = 0.0,#○\n",
        "    zoom_range = 0.0,#○\n",
        "    channel_shift_range = 0.0,#○\n",
        "    fill_mode = \"nearest\",#○\n",
        "    cval = 0.0,#○\n",
        "    horizontal_flip = False,#○\n",
        "    vertical_flip = False,#○\n",
        "    rescale = None,#○\n",
        "    preprocessing_function = None,#○\n",
        "    data_format = None,\n",
        "    validation_split = 0.0,\n",
        "    dtype = None,\n",
        ")\n",
        "train_gen = datagen.flow(X_train, y_train, batch_size=128)"
      ],
      "metadata": {
        "colab": {
          "base_uri": "https://localhost:8080/"
        },
        "id": "0wu2JPkM-bJG",
        "outputId": "1cc0ec0a-944b-4d98-cd8d-c4da3febe4d5"
      },
      "execution_count": null,
      "outputs": [
        {
          "output_type": "stream",
          "name": "stderr",
          "text": [
            "/usr/local/lib/python3.7/dist-packages/keras_preprocessing/image/numpy_array_iterator.py:136: UserWarning: NumpyArrayIterator is set to use the data format convention \"channels_last\" (channels on axis 3), i.e. expected either 1, 3, or 4 channels on axis 3. However, it was passed an array with shape (2400, 1, 28, 28) (28 channels).\n",
            "  str(self.x.shape[channels_axis]) + ' channels).')\n"
          ]
        }
      ]
    },
    {
      "cell_type": "code",
      "source": [
        "datagen = ImageDataGenerator(\n",
        "      rotation_range = 0, \n",
        "      width_shift_range = 0.1, \n",
        "      zoom_range = 0.1,\n",
        ")\n",
        "#datagen.fit(X_train)\n",
        "train_gen = datagen.flow(X_train, y_train, batch_size=128)"
      ],
      "metadata": {
        "colab": {
          "base_uri": "https://localhost:8080/"
        },
        "id": "DBBUOj_-ArVC",
        "outputId": "fc0b9776-1bfc-462b-e0c6-1354645fb9ab"
      },
      "execution_count": null,
      "outputs": [
        {
          "output_type": "stream",
          "name": "stderr",
          "text": [
            "/usr/local/lib/python3.7/dist-packages/keras_preprocessing/image/numpy_array_iterator.py:136: UserWarning: NumpyArrayIterator is set to use the data format convention \"channels_last\" (channels on axis 3), i.e. expected either 1, 3, or 4 channels on axis 3. However, it was passed an array with shape (2400, 1, 28, 28) (28 channels).\n",
            "  str(self.x.shape[channels_axis]) + ' channels).')\n"
          ]
        }
      ]
    },
    {
      "cell_type": "code",
      "source": [
        "datagen = ImageDataGenerator(\n",
        "      rotation_range = 2, \n",
        "      zoom_range = 0.1,\n",
        "      height_shift_range=0.1 # randomly shift images vertically (fraction of total height)\n",
        "\n",
        ")\n",
        "#datagen.fit(X_train)\n",
        "train_gen = datagen.flow(X_train, y_train, batch_size=128)\n",
        "test_gen = datagen.flow(X_test, y_test, batch_size=128)"
      ],
      "metadata": {
        "colab": {
          "base_uri": "https://localhost:8080/"
        },
        "id": "1cL-s1_3B0BM",
        "outputId": "83ccb301-699d-427b-e89e-4a3a83842cb7"
      },
      "execution_count": null,
      "outputs": [
        {
          "output_type": "stream",
          "name": "stderr",
          "text": [
            "/usr/local/lib/python3.7/dist-packages/keras_preprocessing/image/numpy_array_iterator.py:136: UserWarning: NumpyArrayIterator is set to use the data format convention \"channels_last\" (channels on axis 3), i.e. expected either 1, 3, or 4 channels on axis 3. However, it was passed an array with shape (2400, 1, 28, 28) (28 channels).\n",
            "  str(self.x.shape[channels_axis]) + ' channels).')\n"
          ]
        }
      ]
    },
    {
      "cell_type": "code",
      "source": [
        "test_gen = datagen.flow(X_test, y_test, batch_size=128)"
      ],
      "metadata": {
        "colab": {
          "base_uri": "https://localhost:8080/"
        },
        "id": "44vBIWtLCv-P",
        "outputId": "adb0cf6a-8389-4552-ada8-0c7daaebeebe"
      },
      "execution_count": null,
      "outputs": [
        {
          "output_type": "stream",
          "name": "stderr",
          "text": [
            "/usr/local/lib/python3.7/dist-packages/keras_preprocessing/image/numpy_array_iterator.py:136: UserWarning: NumpyArrayIterator is set to use the data format convention \"channels_last\" (channels on axis 3), i.e. expected either 1, 3, or 4 channels on axis 3. However, it was passed an array with shape (600, 1, 28, 28) (28 channels).\n",
            "  str(self.x.shape[channels_axis]) + ' channels).')\n"
          ]
        }
      ]
    },
    {
      "cell_type": "code",
      "source": [
        "show(test_gen)"
      ],
      "metadata": {
        "colab": {
          "base_uri": "https://localhost:8080/",
          "height": 321
        },
        "id": "qLbpjfm1C0WN",
        "outputId": "2676987c-10f1-4ba9-db30-1e391535273a"
      },
      "execution_count": null,
      "outputs": [
        {
          "output_type": "display_data",
          "data": {
            "text/plain": [
              "<Figure size 720x360 with 6 Axes>"
            ],
            "image/png": "[encoded data removed]"
          },
          "metadata": {
            "needs_background": "light"
          }
        }
      ]
    },
    {
      "cell_type": "code",
      "source": [
        "show(train_gen)"
      ],
      "metadata": {
        "colab": {
          "base_uri": "https://localhost:8080/",
          "height": 321
        },
        "id": "fAqaMHXW-kWu",
        "outputId": "3758fbd9-10df-4ee4-a401-88158007f719"
      },
      "execution_count": null,
      "outputs": [
        {
          "output_type": "display_data",
          "data": {
            "text/plain": [
              "<Figure size 720x360 with 6 Axes>"
            ],
            "image/png": "[encoded data removed]"
          },
          "metadata": {
            "needs_background": "light"
          }
        }
      ]
    },
    {
      "cell_type": "code",
      "source": [
        "nx=np.concatenate([train_gen.next()[0] for i in range(train_gen.__len__())])\n",
        "nt=np.concatenate([train_gen.next()[1] for i in range(train_gen.__len__())])\n",
        "print(nx.shape)\n",
        "print(nt.shape)"
      ],
      "metadata": {
        "colab": {
          "base_uri": "https://localhost:8080/"
        },
        "id": "ZKO6eYsUDSMk",
        "outputId": "52bc9d8b-54fe-4618-92fe-8290d4428f37"
      },
      "execution_count": null,
      "outputs": [
        {
          "output_type": "stream",
          "name": "stdout",
          "text": [
            "(2400, 1, 28, 28)\n",
            "(2400, 15)\n"
          ]
        }
      ]
    },
    {
      "cell_type": "code",
      "source": [
        "# 新しいデータのをfileに生成する\n",
        "np.save('data/0806G_data', NG_tdata)\n",
        "np.save('data/0806G_label', NG_tlabel)"
      ],
      "metadata": {
        "id": "T_oEOyN9ILiL"
      },
      "execution_count": null,
      "outputs": []
    },
    {
      "cell_type": "code",
      "source": [
        "\n",
        "datagen = ImageDataGenerator(\n",
        "        featurewise_center=False,  # set input mean to 0 over the dataset\n",
        "        samplewise_center=False,  # set each sample mean to 0\n",
        "        featurewise_std_normalization=False,  # divide inputs by std of the dataset\n",
        "        samplewise_std_normalization=False,  # divide each input by its std\n",
        "        zca_whitening=False,  # apply ZCA whitening\n",
        "        shear_range = 5,#○\n",
        "        rotation_range=2,  # randomly rotate images in the range (degrees, 0 to 180)\n",
        "        zoom_range = 0.2, # Randomly zoom image \n",
        "        width_shift_range=0.1,  # randomly shift images horizontally (fraction of total width)\n",
        "        height_shift_range=0.1,  # randomly shift images vertically (fraction of total height)\n",
        "        horizontal_flip=False,  # randomly flip images\n",
        "        vertical_flip=True)  # randomly flip images\n",
        "\n",
        "\n",
        "#datagen.fit(X_train)\n",
        "train_gen = datagen.flow(X_train, y_train, batch_size=128)"
      ],
      "metadata": {
        "colab": {
          "base_uri": "https://localhost:8080/"
        },
        "id": "g7VcILJhWe0w",
        "outputId": "312fce34-4d84-49b4-f828-a55b67fe6180"
      },
      "execution_count": null,
      "outputs": [
        {
          "output_type": "stream",
          "name": "stderr",
          "text": [
            "/usr/local/lib/python3.7/dist-packages/keras_preprocessing/image/numpy_array_iterator.py:136: UserWarning: NumpyArrayIterator is set to use the data format convention \"channels_last\" (channels on axis 3), i.e. expected either 1, 3, or 4 channels on axis 3. However, it was passed an array with shape (2400, 1, 28, 28) (28 channels).\n",
            "  str(self.x.shape[channels_axis]) + ' channels).')\n"
          ]
        }
      ]
    },
    {
      "cell_type": "code",
      "source": [
        "show(train_gen)"
      ],
      "metadata": {
        "colab": {
          "base_uri": "https://localhost:8080/",
          "height": 321
        },
        "id": "nnuG4teg-IOA",
        "outputId": "85973018-e606-4b1b-b354-70136703b928"
      },
      "execution_count": null,
      "outputs": [
        {
          "output_type": "display_data",
          "data": {
            "text/plain": [
              "<Figure size 720x360 with 6 Axes>"
            ],
            "image/png": "[encoded data removed]"
          },
          "metadata": {
            "needs_background": "light"
          }
        }
      ]
    },
    {
      "cell_type": "code",
      "source": [
        "nx=np.concatenate([train_gen.next()[0] for i in range(train_gen.__len__())])\n",
        "nt=np.concatenate([train_gen.next()[1] for i in range(train_gen.__len__())])\n",
        "print(nx.shape)\n",
        "print(nt.shape)"
      ],
      "metadata": {
        "colab": {
          "base_uri": "https://localhost:8080/"
        },
        "id": "fzjs0LAflfGL",
        "outputId": "09f1462b-6b12-4aff-a751-5b2a29583163"
      },
      "execution_count": null,
      "outputs": [
        {
          "output_type": "stream",
          "name": "stdout",
          "text": [
            "(2400, 1, 28, 28)\n",
            "(2400, 15)\n"
          ]
        }
      ]
    },
    {
      "cell_type": "code",
      "source": [
        "nx_test=np.concatenate([test_gen.next()[0] for i in range(test_gen.__len__())])\n",
        "nt_test=np.concatenate([test_gen.next()[1] for i in range(test_gen.__len__())])\n",
        "print(nx_test.shape)\n",
        "print(nt_test.shape)"
      ],
      "metadata": {
        "colab": {
          "base_uri": "https://localhost:8080/"
        },
        "id": "eQ1_u8LQlj3N",
        "outputId": "59ed4d40-26b4-4e4d-e040-beceaed7238d"
      },
      "execution_count": null,
      "outputs": [
        {
          "output_type": "stream",
          "name": "stdout",
          "text": [
            "(600, 1, 28, 28)\n",
            "(600, 15)\n"
          ]
        }
      ]
    },
    {
      "cell_type": "code",
      "source": [
        "NG_tdata = np.concatenate([nx, nx_test])\n",
        "NG_tlabel = np.concatenate([nt, nt_test])\n",
        "print(NG_tdata.shape)\n",
        "print(NG_tlabel.shape)"
      ],
      "metadata": {
        "colab": {
          "base_uri": "https://localhost:8080/"
        },
        "id": "tuYd4RelDmUA",
        "outputId": "97875a1e-2ebf-460e-cb7a-20fe861c058d"
      },
      "execution_count": null,
      "outputs": [
        {
          "output_type": "stream",
          "name": "stdout",
          "text": [
            "(3000, 1, 28, 28)\n",
            "(3000, 15)\n"
          ]
        }
      ]
    },
    {
      "cell_type": "code",
      "source": [
        "# 元のデータと生成したデータを結合\n",
        "gen_train_data = np.concatenate([nx[:1000], X_train])\n",
        "gen_train_label = np.concatenate([nt[:1000], y_train])\n",
        "print(gen_train_data.shape)\n",
        "print(gen_train_label.shape)\n",
        "\n",
        "# 新しいデータのをfileに生成する\n",
        "# np.save('data/Gen_train_data', gen_train_data)\n",
        "# np.save('data/Gen_train_label', gen_train_label)"
      ],
      "metadata": {
        "colab": {
          "base_uri": "https://localhost:8080/"
        },
        "id": "FMFOp-RcnrAD",
        "outputId": "427b8cc6-073b-4b85-e193-d42c07adbd33"
      },
      "execution_count": null,
      "outputs": [
        {
          "output_type": "stream",
          "name": "stdout",
          "text": [
            "(3400, 1, 28, 28)\n",
            "(3400, 15)\n"
          ]
        }
      ]
    },
    {
      "cell_type": "code",
      "source": [
        "train_label.shape"
      ],
      "metadata": {
        "colab": {
          "base_uri": "https://localhost:8080/"
        },
        "id": "dE-SNKxVo0cY",
        "outputId": "d805155b-de21-4186-e499-cdc7373783ac"
      },
      "execution_count": null,
      "outputs": [
        {
          "output_type": "execute_result",
          "data": {
            "text/plain": [
              "(3000, 15)"
            ]
          },
          "metadata": {},
          "execution_count": 27
        }
      ]
    },
    {
      "cell_type": "code",
      "source": [
        "new_gen_train_data = np.concatenate([gen_train_data, train_data])\n",
        "new_gen_train_label = np.concatenate([gen_train_label, train_label])\n",
        "print(new_gen_train_data.shape)\n",
        "print(new_gen_train_label.shape)"
      ],
      "metadata": {
        "colab": {
          "base_uri": "https://localhost:8080/"
        },
        "id": "FOdau1Fno5iL",
        "outputId": "d7e98468-843a-4a3e-d92f-b39784608479"
      },
      "execution_count": null,
      "outputs": [
        {
          "output_type": "stream",
          "name": "stdout",
          "text": [
            "(6000, 1, 28, 28)\n",
            "(6000, 15)\n"
          ]
        }
      ]
    },
    {
      "cell_type": "code",
      "source": [
        "gen_train_data = np.load('./data/Gen_train_data.npy')\n",
        "gen_train_label = np.load('./data/Gen_train_label.npy')"
      ],
      "metadata": {
        "id": "ye9OetCUqxfp"
      },
      "execution_count": null,
      "outputs": []
    },
    {
      "cell_type": "code",
      "source": [
        "G_train_data = np.concatenate([gen_train_data, new_gen_train_data])\n",
        "G_train_label = np.concatenate([gen_train_label, new_gen_train_label])\n",
        "print(G_train_data.shape)\n",
        "print(G_train_label.shape)"
      ],
      "metadata": {
        "colab": {
          "base_uri": "https://localhost:8080/"
        },
        "id": "gLOAyRK5q5cZ",
        "outputId": "68472381-737e-440d-c54c-b532348083fa"
      },
      "execution_count": null,
      "outputs": [
        {
          "output_type": "stream",
          "name": "stdout",
          "text": [
            "(12000, 1, 28, 28)\n",
            "(12000, 15)\n"
          ]
        }
      ]
    },
    {
      "cell_type": "code",
      "source": [
        "# 新しいデータのをfileに生成する\n",
        "np.save('data/G_train_data', G_train_data)\n",
        "np.save('data/G_train_label', G_train_label)"
      ],
      "metadata": {
        "id": "-PscCxZireGQ"
      },
      "execution_count": null,
      "outputs": []
    },
    {
      "cell_type": "code",
      "execution_count": null,
      "metadata": {
        "colab": {
          "base_uri": "https://localhost:8080/"
        },
        "id": "AzfL6kX8aViv",
        "outputId": "6db6e211-573f-40de-8e91-24ffd8f6c992"
      },
      "outputs": [
        {
          "output_type": "stream",
          "name": "stdout",
          "text": [
            "train_data.shape= (3000, 1, 28, 28)\n",
            "train_label.shape= (3000, 15)\n",
            "train_data.shape= (3000, 1, 28, 28)\n"
          ]
        },
        {
          "output_type": "stream",
          "name": "stderr",
          "text": [
            "/usr/local/lib/python3.7/dist-packages/keras_preprocessing/image/numpy_array_iterator.py:136: UserWarning: NumpyArrayIterator is set to use the data format convention \"channels_last\" (channels on axis 3), i.e. expected either 1, 3, or 4 channels on axis 3. However, it was passed an array with shape (3000, 1, 28, 28) (28 channels).\n",
            "  str(self.x.shape[channels_axis]) + ' channels).')\n"
          ]
        },
        {
          "output_type": "stream",
          "name": "stdout",
          "text": [
            "(3000, 1, 28, 28)\n",
            "(3000, 15)\n",
            "(6000, 1, 28, 28)\n",
            "(6000, 15)\n"
          ]
        }
      ],
      "source": [
        "# データを読み込む\n",
        "train_data = np.load('./data/train_data.npy')\n",
        "train_label = np.load('./data/train_label.npy')\n",
        "print('train_data.shape=', train_data.shape)\n",
        "print('train_label.shape=', train_label.shape)\n",
        "\n",
        "# データ正規化\n",
        "# train_data = (train_data - train_data.min()) / train_data.max()\n",
        "# train_data = train_data.astype('float32')\n",
        "\n",
        "print(\"train_data.shape=\", train_data.shape)\n",
        "\n",
        "x = train_data[:3000,:]\n",
        "t = train_label[:3000,:]\n",
        "\n",
        "# データ拡張\n",
        "datagen = ImageDataGenerator(\n",
        "        rotation_range=10,  # randomly rotate images in the range (degrees, 0 to 180)\n",
        "        zoom_range = 0.1, # Randomly zoom image \n",
        "        width_shift_range=0.1,  # randomly shift images horizontally (fraction of total width)\n",
        "        height_shift_range=0.1,  # randomly shift images vertically (fraction of total height)\n",
        "        )  # randomly flip images\n",
        "\n",
        "#datagen.fit(X_train)\n",
        "train_gen = datagen.flow(x, t, batch_size=128,shuffle=False)\n",
        "# test_gen = datagen.flow(X_test, y_test, batch_size=128)\n",
        "\n",
        "nx=np.concatenate([train_gen.next()[0] for i in range(train_gen.__len__())])\n",
        "nt=np.concatenate([train_gen.next()[1] for i in range(train_gen.__len__())])\n",
        "print(nx.shape)\n",
        "print(nt.shape)\n",
        "\n",
        "# 元のデータと生成したデータを結合\n",
        "gen_train_data = np.concatenate([x, nx])\n",
        "gen_train_label = np.concatenate([t, nt])\n",
        "print(gen_train_data.shape)\n",
        "print(gen_train_label.shape)\n",
        "\n",
        "# 新しいデータのをfileに生成する\n",
        "np.save('data/Gen_train_data', gen_train_data)\n",
        "np.save('data/Gen_train_label', gen_train_label)"
      ]
    },
    {
      "cell_type": "code",
      "execution_count": null,
      "metadata": {
        "id": "lRB5tcxAXgOj"
      },
      "outputs": [],
      "source": [
        "def plot_GenData(x,t):\n",
        "  y_test = t\n",
        "  X_test__ = x.reshape(x.shape[0], 28, 28)\n",
        "\n",
        "  fig, axis = plt.subplots(4, 4, figsize=(12, 14))\n",
        "  for i, ax in enumerate(axis.flat):\n",
        "      ax.imshow(X_test__[i], cmap='binary')\n",
        "      ax.set(title = f\"Real Number is {y_test[i].argmax()}\");"
      ]
    },
    {
      "cell_type": "code",
      "execution_count": null,
      "metadata": {
        "colab": {
          "base_uri": "https://localhost:8080/",
          "height": 805
        },
        "id": "kHkr7itDXzOY",
        "outputId": "3a588518-36b3-47b5-b6d2-a34b9f7aaad0"
      },
      "outputs": [
        {
          "output_type": "display_data",
          "data": {
            "text/plain": [
              "<Figure size 864x1008 with 16 Axes>"
            ],
            "image/png": "[encoded data removed]"
          },
          "metadata": {
            "needs_background": "light"
          }
        }
      ],
      "source": [
        "plot_GenData(x,t)"
      ]
    },
    {
      "cell_type": "code",
      "execution_count": null,
      "metadata": {
        "colab": {
          "base_uri": "https://localhost:8080/"
        },
        "id": "kkxPUWDmIs6a",
        "outputId": "04af7303-8f14-46fb-c77f-ce45ec49ea0a"
      },
      "outputs": [
        {
          "data": {
            "text/plain": [
              "keras.preprocessing.image.NumpyArrayIterator"
            ]
          },
          "execution_count": 100,
          "metadata": {},
          "output_type": "execute_result"
        }
      ],
      "source": [
        "type(train_gen)"
      ]
    },
    {
      "cell_type": "markdown",
      "metadata": {
        "id": "zYLZjpvHZoqi"
      },
      "source": [
        "# 小さなフィルターModel 95%"
      ]
    },
    {
      "cell_type": "code",
      "execution_count": null,
      "metadata": {
        "id": "DfJRxMZ0Ziur"
      },
      "outputs": [],
      "source": [
        "from common.layers import Convolution, MaxPooling, ReLU, Affine, SoftmaxWithLoss, Dropout,BatchNormalization\n",
        "from common.optimizer import RMSProp\n",
        "from common.util import im2col, col2im\n",
        "\n",
        "import numpy as np\n",
        "import pandas as pd\n",
        "import matplotlib.pyplot as plt\n",
        "# from common.layers import TwoLayerNet\n",
        "from sklearn.model_selection import train_test_split\n",
        "import pickle\n",
        "import seaborn as sns\n",
        "from sklearn.metrics import accuracy_score\n",
        "from collections import OrderedDict\n",
        "\n",
        "class SimpleConvNet:\n",
        "    def __init__(self, input_dim=(1, 28, 28), \n",
        "                 conv_param={'filter_num':16, 'filter_num2':32, 'filter_num3':64, 'filter_size':3, 'pad':0, 'stride':1},\n",
        "                 pool_param={'pool_size':2, 'pad':0, 'stride':1},\n",
        "                 hidden_size=100, output_size=10, weight_init_std=0.01):\n",
        "                \n",
        "        filter_num = conv_param['filter_num']\n",
        "        filter_size = conv_param['filter_size']\n",
        "        filter_pad = conv_param['pad']\n",
        "        filter_stride = conv_param['stride']\n",
        "        \n",
        "        pool_size = pool_param['pool_size']\n",
        "        pool_pad = pool_param['pad']\n",
        "        pool_stride = pool_param['stride']\n",
        "\n",
        "        filter_num2 = conv_param['filter_num2']\n",
        "        filter_num3 = conv_param['filter_num3']\n",
        "        hidden_size2 = 128\n",
        "        \n",
        "        input_size = input_dim[1]\n",
        "        conv_output_size = (input_size + 2*filter_pad - filter_size) // filter_stride + 1 # 畳み込み後のサイズ(H,W共通)\n",
        "        pool_output_size = (conv_output_size + 2*pool_pad - pool_size) // pool_stride + 1 # プーリング後のサイズ(H,W共通)\n",
        "        # pool_output_pixel = filter_num3 * pool_output_size * pool_output_size # プーリング後のピクセル総数\n",
        "        pool_output_pixel = 3136\n",
        "\n",
        "        # Heを使う\n",
        "        pre_node_nums = np.array([filter_num*input_dim[0]*filter_num,\n",
        "                                  filter_num2*filter_num3*filter_num,\n",
        "                                  filter_num2*filter_num3*filter_num,\n",
        "                                  filter_num3*filter_num2*filter_num,\n",
        "                                  filter_num3*filter_num2,\n",
        "                                  pool_output_pixel,\n",
        "                                  hidden_size\n",
        "                                  ])\n",
        "        wi_scales = np.sqrt(2/pre_node_nums)\n",
        "\n",
        "        # 重みの初期化\n",
        "        self.params = {}\n",
        "        std = weight_init_std\n",
        "        # 64\n",
        "        self.params['W1'] = wi_scales[0] * np.random.randn(filter_num, input_dim[0], filter_size, filter_size) # W1は畳み込みフィルターの重みになる\n",
        "        self.params['b1'] = np.zeros(filter_num) #b1は畳み込みフィルターのバイアスになる\n",
        "        self.params['W12'] = wi_scales[1] * np.random.randn(filter_num, filter_num, filter_size, filter_size) # W1は畳み込みフィルターの重みになる\n",
        "        self.params['b12'] = np.zeros(filter_num) #b1は畳み込みフィルターのバイアスになる\n",
        "        # 128\n",
        "        self.params['W21'] = wi_scales[2] * np.random.randn(filter_num2, filter_num, filter_size, filter_size) # W1は畳み込みフィルターの重みになる\n",
        "        self.params['b21'] = np.zeros(filter_num2) #b1は畳み込みフィルターのバイアスになる\n",
        "        self.params['W22'] = wi_scales[3] * np.random.randn(filter_num2, filter_num2, filter_size, filter_size) # W1は畳み込みフィルターの重みになる\n",
        "        self.params['b22'] = np.zeros(filter_num2) #b1は畳み込みフィルターのバイアスになる\n",
        "        # 256\n",
        "        self.params['W31'] = wi_scales[4] * np.random.randn(filter_num3, filter_num2, filter_size, filter_size) # W1は畳み込みフィルターの重みになる\n",
        "        self.params['b31'] = np.zeros(filter_num3) #b1は畳み込みフィルターのバイアスになる\n",
        "\n",
        "\n",
        "        self.params['W2'] = wi_scales[5] *  np.random.randn(pool_output_pixel, hidden_size)\n",
        "        print(wi_scales[1],pool_output_pixel,hidden_size)\n",
        "        self.params['b2'] = np.zeros(hidden_size)\n",
        "        self.params['W3'] = wi_scales[2] *  np.random.randn(hidden_size, hidden_size2)\n",
        "        self.params['b3'] = np.zeros(hidden_size2)\n",
        "        self.params['W4'] = wi_scales[6] *  np.random.randn(hidden_size2, output_size)\n",
        "        self.params['b4'] = np.zeros(output_size)\n",
        "\n",
        "        # レイヤの生成\n",
        "        self.layers = OrderedDict()\n",
        "        self.layers['Conv1'] = Convolution(self.params['W1'], self.params['b1'],\n",
        "                                           conv_param['stride'], conv_param['pad']) # W1が畳み込みフィルターの重み, b1が畳み込みフィルターのバイアスになる\n",
        "        self.layers['ReLU1'] = ReLU()\n",
        "        \n",
        "        self.layers['Conv2'] = Convolution(self.params['W12'], self.params['b12'],\n",
        "                                           conv_param['stride'], conv_param['pad']) # W1が畳み込みフィルターの重み, b1が畳み込みフィルターのバイアスになる\n",
        "        self.layers['ReLU2'] = ReLU()\n",
        "        self.layers['Pool1'] = MaxPooling(pool_h=pool_size, pool_w=pool_size, stride=pool_stride, pad=pool_pad)\n",
        "        self.layers['BatchNorm1'] = BatchNormalization(gamma=1,beta=0)\n",
        "\n",
        "        self.layers['Conv3'] = Convolution(self.params['W21'], self.params['b21'],\n",
        "                                           conv_param['stride'], conv_param['pad']) # W1が畳み込みフィルターの重み, b1が畳み込みフィルターのバイアスになる\n",
        "        self.layers['ReLU3'] = ReLU()\n",
        "        \n",
        "        self.layers['Conv4'] = Convolution(self.params['W22'], self.params['b22'],\n",
        "                                           conv_param['stride'], conv_param['pad']) # W1が畳み込みフィルターの重み, b1が畳み込みフィルターのバイアスになる\n",
        "        self.layers['ReLU4'] = ReLU()\n",
        "        self.layers['Pool2'] = MaxPooling(pool_h=pool_size, pool_w=pool_size, stride=pool_stride, pad=pool_pad)\n",
        "        self.layers['BatchNorm2'] = BatchNormalization(gamma=1,beta=0)\n",
        "\n",
        "        self.layers['Conv5'] = Convolution(self.params['W31'], self.params['b31'],\n",
        "                                           conv_param['stride'], conv_param['pad']) # W1が畳み込みフィルターの重み, b1が畳み込みフィルターのバイアスになる\n",
        "        self.layers['ReLU5'] = ReLU()\n",
        "        # self.layers['Pool3'] = MaxPooling(pool_h=pool_size, pool_w=pool_size, stride=pool_stride, pad=pool_pad)\n",
        "        self.layers['BatchNorm3'] = BatchNormalization(gamma=1,beta=0)\n",
        "\n",
        "        self.layers['Affine1'] = Affine(self.params['W2'], self.params['b2'])\n",
        "        self.layers['ReLU2'] = ReLU()\n",
        "        self.layers['Dropout1'] = Dropout(dropout_ratio=0.5)\n",
        "        self.layers['Affine2'] = Affine(self.params['W3'], self.params['b3'])\n",
        "        self.layers['ReLU4'] = ReLU()\n",
        "        self.layers['Dropout2'] = Dropout(dropout_ratio=0.5)\n",
        "        self.layers['Affine3'] = Affine(self.params['W4'], self.params['b4'])\n",
        "\n",
        "        self.last_layer = SoftmaxWithLoss()\n",
        "\n",
        "    def predict(self, x):\n",
        "        for layer in self.layers.values():\n",
        "            x = layer.forward(x)\n",
        "            # print('predict x.shape',x.shape)\n",
        "\n",
        "        return x\n",
        "\n",
        "    def loss(self, x, t):\n",
        "        \"\"\"\n",
        "        損失関数\n",
        "        \"\"\"        \n",
        "        y = self.predict(x)\n",
        "        return self.last_layer.forward(y, t)\n",
        "\n",
        "    def accuracy(self, x, t, batch_size=100):\n",
        "        if t.ndim != 1 : t = np.argmax(t, axis=1)\n",
        "        \n",
        "        acc = 0.0\n",
        "        \n",
        "        for i in range(int(x.shape[0] / batch_size)):\n",
        "            tx = x[i*batch_size:(i+1)*batch_size]\n",
        "            tt = t[i*batch_size:(i+1)*batch_size]\n",
        "            y = self.predict(tx)\n",
        "            y = np.argmax(y, axis=1)\n",
        "            acc += np.sum(y == tt) \n",
        "        \n",
        "        return acc / x.shape[0]\n",
        "    \n",
        "    def gradient(self, x, t):\n",
        "        \"\"\"勾配を求める（誤差逆伝播法）\n",
        "        \"\"\"\n",
        "        # forward\n",
        "        self.loss(x, t)\n",
        "\n",
        "        # backward\n",
        "        dout = 1\n",
        "        dout = self.last_layer.backward(dout)\n",
        "        # print('dout.shape',dout.shape)\n",
        "\n",
        "        layers = list(self.layers.values())\n",
        "        layers.reverse()\n",
        "        for layer in layers:\n",
        "            dout = layer.backward(dout)\n",
        "            # print('layer.backward(dout)',dout.shape)\n",
        "\n",
        "        # 設定\n",
        "        grads = {}\n",
        "        grads['W1'], grads['b1'] = self.layers['Conv1'].dW, self.layers['Conv1'].db\n",
        "        grads['W12'], grads['b12'] = self.layers['Conv2'].dW, self.layers['Conv2'].db\n",
        "        grads['W21'], grads['b21'] = self.layers['Conv3'].dW, self.layers['Conv3'].db\n",
        "        grads['W22'], grads['b22'] = self.layers['Conv4'].dW, self.layers['Conv4'].db\n",
        "        grads['W31'], grads['b31'] = self.layers['Conv5'].dW, self.layers['Conv5'].db\n",
        "        grads['W2'], grads['b2'] = self.layers['Affine1'].dW, self.layers['Affine1'].db\n",
        "        grads['W3'], grads['b3'] = self.layers['Affine2'].dW, self.layers['Affine2'].db\n",
        "        grads['W4'], grads['b4'] = self.layers['Affine3'].dW, self.layers['Affine3'].db\n",
        "\n",
        "        return grads"
      ]
    },
    {
      "cell_type": "code",
      "source": [
        "# CNNのオブジェクト生成\n",
        "# 95.167\n",
        "snet = SimpleConvNet(input_dim=(1, 28, 28), \n",
        "                     conv_param={'filter_num':16, 'filter_num2':32, 'filter_num3':64,'filter_size':3, 'pad':1, 'stride':1},\n",
        "                     pool_param={'pool_size':2, 'pad':0, 'stride':2},\n",
        "                     hidden_size=128, output_size=15, weight_init_std=0.01)\n",
        "\n",
        "epochs = 10\n",
        "batch_size = 32\n",
        "model = snet\n",
        "\n",
        "xsize = x.shape[0]\n",
        "iter_num = np.ceil(xsize / batch_size).astype(np.int)\n",
        "\n",
        "\n",
        "optimizer = RMSProp(lr=0.0001, rho=0.88)\n",
        "\n",
        "train(model, optimizer,epochs,iter_num,x,t,X_test,y_test)"
      ],
      "metadata": {
        "colab": {
          "base_uri": "https://localhost:8080/"
        },
        "id": "N_im0rv01sbx",
        "outputId": "4a2f2e5e-ba87-4a7f-95ca-775fef95959d"
      },
      "execution_count": null,
      "outputs": [
        {
          "output_type": "stream",
          "name": "stdout",
          "text": [
            "0.0078125 3136 128\n"
          ]
        },
        {
          "output_type": "stream",
          "name": "stderr",
          "text": [
            "/usr/local/lib/python3.7/dist-packages/ipykernel_launcher.py:12: DeprecationWarning: `np.int` is a deprecated alias for the builtin `int`. To silence this warning, use `int` by itself. Doing this will not modify any behavior and is safe. When replacing `np.int`, you may wish to use e.g. `np.int64` or `np.int32` to specify the precision. If you wish to review your current use, check the release note link for additional information.\n",
            "Deprecated in NumPy 1.20; for more details and guidance: https://numpy.org/devdocs/release/1.20.0-notes.html#deprecations\n",
            "  if sys.path[0] == '':\n"
          ]
        },
        {
          "output_type": "stream",
          "name": "stdout",
          "text": [
            "t_loss 189.179 ------------- ,t_acc 57.833\n",
            "t_loss 111.053 ------------- ,t_acc 75.000\n",
            "t_loss 72.190 ------------- ,t_acc 85.000\n",
            "t_loss 51.409 ------------- ,t_acc 88.333\n",
            "t_loss 38.409 ------------- ,t_acc 88.833\n",
            "t_loss 33.030 ------------- ,t_acc 91.167\n",
            "t_loss 28.040 ------------- ,t_acc 92.833\n",
            "t_loss 25.086 ------------- ,t_acc 94.167\n",
            "t_loss 23.840 ------------- ,t_acc 94.833\n",
            "t_loss 21.936 ------------- ,t_acc 95.167\n"
          ]
        }
      ]
    },
    {
      "cell_type": "code",
      "source": [
        "epochs = 5\n",
        "train(snet, optimizer,epochs,iter_num,x,t,X_test,y_test)"
      ],
      "metadata": {
        "colab": {
          "base_uri": "https://localhost:8080/"
        },
        "id": "Lr3lEEVE7vJi",
        "outputId": "3c3df6b6-2e22-46dd-dcd2-81a66c7cbcb5"
      },
      "execution_count": null,
      "outputs": [
        {
          "output_type": "stream",
          "name": "stdout",
          "text": [
            "t_loss 19.217 ------------- ,t_acc 95.500\n",
            "t_loss 18.112 ------------- ,t_acc 94.167\n",
            "t_loss 18.307 ------------- ,t_acc 94.833\n",
            "t_loss 21.071 ------------- ,t_acc 95.000\n",
            "t_loss 18.339 ------------- ,t_acc 94.667\n"
          ]
        }
      ]
    },
    {
      "cell_type": "code",
      "source": [
        "x.shape"
      ],
      "metadata": {
        "colab": {
          "base_uri": "https://localhost:8080/"
        },
        "id": "ueLrSR0HtWEz",
        "outputId": "e770e7d7-3297-40a1-ceb9-0ed63db369c0"
      },
      "execution_count": null,
      "outputs": [
        {
          "output_type": "execute_result",
          "data": {
            "text/plain": [
              "(2400, 1, 28, 28)"
            ]
          },
          "metadata": {},
          "execution_count": 13
        }
      ]
    },
    {
      "cell_type": "code",
      "source": [
        "epochs = 10\n",
        "train(snet, optimizer,epochs,iter_num,x,t,X_test,y_test)"
      ],
      "metadata": {
        "colab": {
          "base_uri": "https://localhost:8080/"
        },
        "id": "UJH14ZEFvRrY",
        "outputId": "7bdc634c-ad06-4c3a-ef94-b8f6e8e5fbd8"
      },
      "execution_count": null,
      "outputs": [
        {
          "output_type": "stream",
          "name": "stdout",
          "text": [
            "t_loss 35.241 ------------- ,t_acc 88.833\n",
            "t_loss 28.135 ------------- ,t_acc 90.667\n",
            "t_loss 28.462 ------------- ,t_acc 90.000\n",
            "t_loss 36.157 ------------- ,t_acc 88.833\n",
            "t_loss 55.909 ------------- ,t_acc 83.667\n",
            "t_loss 33.914 ------------- ,t_acc 90.500\n",
            "t_loss 59.338 ------------- ,t_acc 83.667\n",
            "t_loss 51.758 ------------- ,t_acc 84.667\n",
            "t_loss 47.721 ------------- ,t_acc 88.500\n",
            "t_loss 44.246 ------------- ,t_acc 89.333\n"
          ]
        }
      ]
    },
    {
      "cell_type": "code",
      "execution_count": null,
      "metadata": {
        "colab": {
          "base_uri": "https://localhost:8080/"
        },
        "id": "6m02VPtsEDFv",
        "outputId": "17ed5322-ea21-43e1-cb75-5f57d9d6cb7e"
      },
      "outputs": [
        {
          "name": "stdout",
          "output_type": "stream",
          "text": [
            "0.0078125 576 128\n"
          ]
        },
        {
          "name": "stderr",
          "output_type": "stream",
          "text": [
            "/usr/local/lib/python3.7/dist-packages/ipykernel_launcher.py:12: DeprecationWarning: `np.int` is a deprecated alias for the builtin `int`. To silence this warning, use `int` by itself. Doing this will not modify any behavior and is safe. When replacing `np.int`, you may wish to use e.g. `np.int64` or `np.int32` to specify the precision. If you wish to review your current use, check the release note link for additional information.\n",
            "Deprecated in NumPy 1.20; for more details and guidance: https://numpy.org/devdocs/release/1.20.0-notes.html#deprecations\n",
            "  if sys.path[0] == '':\n"
          ]
        },
        {
          "name": "stdout",
          "output_type": "stream",
          "text": [
            "loss,test_accuracy 2.081027147230409 0.6872222222222222\n",
            "loss,test_accuracy 1.8797018527909277 0.7572222222222222\n",
            "loss,test_accuracy 1.7052748697651885 0.8261111111111111\n",
            "loss,test_accuracy 1.5888040297394799 0.8516666666666667\n",
            "loss,test_accuracy 1.4832057157379839 0.8855555555555555\n",
            "loss,test_accuracy 1.4388582762306883 0.8866666666666667\n",
            "loss,test_accuracy 1.3867928904082996 0.8955555555555555\n",
            "loss,test_accuracy 1.3278743769678014 0.9227777777777778\n",
            "loss,test_accuracy 1.2887276702629429 0.9172222222222223\n",
            "loss,test_accuracy 1.2643667643054293 0.9161111111111111\n"
          ]
        }
      ],
      "source": [
        "# CNNのオブジェクト生成\n",
        "snet = SimpleConvNet(input_dim=(1, 28, 28), \n",
        "                     conv_param={'filter_num':16, 'filter_num2':32, 'filter_num3':64,'filter_size':3, 'pad':1, 'stride':1},\n",
        "                     pool_param={'pool_size':2, 'pad':0, 'stride':2},\n",
        "                     hidden_size=128, output_size=15, weight_init_std=0.01)\n",
        "\n",
        "epochs = 10\n",
        "batch_size = 32\n",
        "model = snet\n",
        "\n",
        "xsize = x.shape[0]\n",
        "iter_num = np.ceil(xsize / batch_size).astype(np.int)\n",
        "\n",
        "\n",
        "optimizer = RMSProp(lr=0.0001, rho=0.88)\n",
        "\n",
        "train(model, optimizer,epochs,iter_num,x,t,X_test,y_test)"
      ]
    },
    {
      "cell_type": "markdown",
      "metadata": {
        "id": "fveIFd2dfEmr"
      },
      "source": [
        "# 7200コのデータを学習させる"
      ]
    },
    {
      "cell_type": "code",
      "execution_count": null,
      "metadata": {
        "colab": {
          "base_uri": "https://localhost:8080/"
        },
        "id": "UZnq5tJZpG4j",
        "outputId": "c9ba8d7b-bc10-4628-b53c-db008e45574f"
      },
      "outputs": [
        {
          "name": "stdout",
          "output_type": "stream",
          "text": [
            "0.0078125 576 128\n"
          ]
        },
        {
          "name": "stderr",
          "output_type": "stream",
          "text": [
            "/usr/local/lib/python3.7/dist-packages/ipykernel_launcher.py:12: DeprecationWarning: `np.int` is a deprecated alias for the builtin `int`. To silence this warning, use `int` by itself. Doing this will not modify any behavior and is safe. When replacing `np.int`, you may wish to use e.g. `np.int64` or `np.int32` to specify the precision. If you wish to review your current use, check the release note link for additional information.\n",
            "Deprecated in NumPy 1.20; for more details and guidance: https://numpy.org/devdocs/release/1.20.0-notes.html#deprecations\n",
            "  if sys.path[0] == '':\n"
          ]
        },
        {
          "name": "stdout",
          "output_type": "stream",
          "text": [
            "loss,test_accuracy 2.040582993717052 0.7044444444444444\n",
            "loss,test_accuracy 1.8016823167056055 0.8005555555555556\n",
            "loss,test_accuracy 1.6212087624494587 0.8344444444444444\n",
            "loss,test_accuracy 1.4897844311561654 0.8827777777777778\n",
            "loss,test_accuracy 1.435098747726265 0.8911111111111111\n",
            "loss,test_accuracy 1.3695053119878313 0.9172222222222223\n",
            "loss,test_accuracy 1.3195953319789602 0.9166666666666666\n",
            "loss,test_accuracy 1.28120458509358 0.9255555555555556\n",
            "loss,test_accuracy 1.2331600610847306 0.9288888888888889\n",
            "loss,test_accuracy 1.2128417379090366 0.9283333333333333\n"
          ]
        }
      ],
      "source": [
        "# CNNのオブジェクト生成\n",
        "snet = SimpleConvNet(input_dim=(1, 28, 28), \n",
        "                     conv_param={'filter_num':16, 'filter_num2':32, 'filter_num3':64,'filter_size':3, 'pad':1, 'stride':1},\n",
        "                     pool_param={'pool_size':2, 'pad':0, 'stride':2},\n",
        "                     hidden_size=128, output_size=15, weight_init_std=0.01)\n",
        "\n",
        "epochs = 10\n",
        "batch_size = 32\n",
        "model = snet\n",
        "\n",
        "xsize = x.shape[0]\n",
        "iter_num = np.ceil(xsize / batch_size).astype(np.int)\n",
        "\n",
        "# Adamを使う\n",
        "optimizer = Adam(lr=0.0001, beta1=0.8, beta2=0.98) #Adam\n",
        "\n",
        "train(model, optimizer,epochs,iter_num,x,t,X_test,y_test)"
      ]
    },
    {
      "cell_type": "code",
      "execution_count": null,
      "metadata": {
        "colab": {
          "base_uri": "https://localhost:8080/"
        },
        "id": "788Nxiu6wkGU",
        "outputId": "39b0cb4f-1a62-44ed-9968-2a7f5caca129"
      },
      "outputs": [
        {
          "name": "stdout",
          "output_type": "stream",
          "text": [
            "0.0078125 576 64\n"
          ]
        },
        {
          "name": "stderr",
          "output_type": "stream",
          "text": [
            "/usr/local/lib/python3.7/dist-packages/ipykernel_launcher.py:12: DeprecationWarning: `np.int` is a deprecated alias for the builtin `int`. To silence this warning, use `int` by itself. Doing this will not modify any behavior and is safe. When replacing `np.int`, you may wish to use e.g. `np.int64` or `np.int32` to specify the precision. If you wish to review your current use, check the release note link for additional information.\n",
            "Deprecated in NumPy 1.20; for more details and guidance: https://numpy.org/devdocs/release/1.20.0-notes.html#deprecations\n",
            "  if sys.path[0] == '':\n"
          ]
        },
        {
          "name": "stdout",
          "output_type": "stream",
          "text": [
            "loss,test_accuracy 2.2752046343375594 0.585\n",
            "loss,test_accuracy 1.9626027217457345 0.7394444444444445\n",
            "loss,test_accuracy 1.7496142368087582 0.8305555555555556\n",
            "loss,test_accuracy 1.61694581320893 0.8527777777777777\n",
            "loss,test_accuracy 1.5201078878398797 0.8933333333333333\n",
            "loss,test_accuracy 1.4590967352647923 0.8844444444444445\n",
            "loss,test_accuracy 1.390421997341117 0.9166666666666666\n",
            "loss,test_accuracy 1.3511085736995156 0.9238888888888889\n",
            "loss,test_accuracy 1.324859762699754 0.9216666666666666\n",
            "loss,test_accuracy 1.2885331685142423 0.9261111111111111\n"
          ]
        }
      ],
      "source": [
        "# CNNのオブジェクト生成\n",
        "snet = SimpleConvNet(input_dim=(1, 28, 28), \n",
        "                     conv_param={'filter_num':16, 'filter_num2':32, 'filter_num3':64,'filter_size':3, 'pad':1, 'stride':1},\n",
        "                     pool_param={'pool_size':2, 'pad':0, 'stride':2},\n",
        "                     hidden_size=64, output_size=15, weight_init_std=0.01)\n",
        "\n",
        "epochs = 10\n",
        "batch_size = 32\n",
        "model = snet\n",
        "\n",
        "xsize = x.shape[0]\n",
        "iter_num = np.ceil(xsize / batch_size).astype(np.int)\n",
        "\n",
        "# Adamを使う\n",
        "optimizer = Adam(lr=0.0001, beta1=0.8, beta2=0.98) #Adam\n",
        "\n",
        "train(model, optimizer,epochs,iter_num,x,t,X_test,y_test)"
      ]
    },
    {
      "cell_type": "code",
      "execution_count": null,
      "metadata": {
        "id": "dDSKysM20_O2"
      },
      "outputs": [],
      "source": [
        "with open(\"katakana_model.pickle\", \"wb\") as f:\n",
        "    pickle.dump(snet, f)"
      ]
    },
    {
      "cell_type": "code",
      "execution_count": null,
      "metadata": {
        "colab": {
          "background_save": true,
          "base_uri": "https://localhost:8080/"
        },
        "id": "0afIg0Ud0XLM",
        "outputId": "41c1b032-f0a4-4d10-eb07-fa2329ee81c9"
      },
      "outputs": [
        {
          "name": "stdout",
          "output_type": "stream",
          "text": [
            "loss,test_accuracy 1.2548181886821352 0.9288888888888889\n",
            "loss,test_accuracy 1.2234230004555466 0.9372222222222222\n",
            "loss,test_accuracy 1.2043088687674537 0.935\n",
            "loss,test_accuracy 1.17235140453415 0.9511111111111111\n",
            "loss,test_accuracy 1.1393904428452928 0.9411111111111111\n",
            "loss,test_accuracy 1.1241066387789735 0.9416666666666667\n",
            "loss,test_accuracy 1.0930490403229165 0.94\n",
            "loss,test_accuracy 1.0731317086827967 0.935\n",
            "loss,test_accuracy 1.0309658479810713 0.9472222222222222\n",
            "loss,test_accuracy 1.0166592801102043 0.955\n",
            "loss,test_accuracy 0.9840124888509123 0.9433333333333334\n",
            "loss,test_accuracy 0.9479957572005321 0.9544444444444444\n",
            "loss,test_accuracy 0.9101786339060527 0.9405555555555556\n",
            "loss,test_accuracy 0.885621094635749 0.9527777777777777\n",
            "loss,test_accuracy 0.8423261682572881 0.9605555555555556\n",
            "loss,test_accuracy 0.8343674906218916 0.9355555555555556\n",
            "loss,test_accuracy 0.7980173322718334 0.9211111111111111\n",
            "loss,test_accuracy 0.7624421320060429 0.9388888888888889\n",
            "loss,test_accuracy 0.7486147353190085 0.9394444444444444\n",
            "loss,test_accuracy 0.7203922580259294 0.9405555555555556\n",
            "loss,test_accuracy 0.6774557789797501 0.9444444444444444\n",
            "loss,test_accuracy 0.6714055756138092 0.9377777777777778\n",
            "loss,test_accuracy 0.6332577962411144 0.9338888888888889\n",
            "loss,test_accuracy 0.6084567846839176 0.94\n",
            "loss,test_accuracy 0.59491501225325 0.9477777777777778\n",
            "loss,test_accuracy 0.5616915629708391 0.94\n",
            "loss,test_accuracy 0.5510732879481577 0.9416666666666667\n",
            "loss,test_accuracy 0.506365142061702 0.9377777777777778\n",
            "loss,test_accuracy 0.5030422704540035 0.945\n",
            "loss,test_accuracy 0.48901793567471236 0.9344444444444444\n",
            "loss,test_accuracy 0.48267559892172623 0.9488888888888889\n",
            "loss,test_accuracy 0.4482553452102226 0.9433333333333334\n",
            "loss,test_accuracy 0.4515609010828584 0.9211111111111111\n",
            "loss,test_accuracy 0.42860303150563817 0.92\n",
            "loss,test_accuracy 0.41236387227315796 0.9422222222222222\n",
            "loss,test_accuracy 0.3665032878785489 0.9444444444444444\n",
            "loss,test_accuracy 0.3677625023130942 0.9338888888888889\n",
            "loss,test_accuracy 0.35935313815158376 0.9361111111111111\n",
            "loss,test_accuracy 0.3665177839205871 0.9305555555555556\n",
            "loss,test_accuracy 0.33125348063679494 0.9577777777777777\n",
            "loss,test_accuracy 0.32309390828020107 0.9422222222222222\n",
            "loss,test_accuracy 0.2980548716065141 0.9366666666666666\n",
            "loss,test_accuracy 0.30183307756871214 0.9311111111111111\n",
            "loss,test_accuracy 0.29883415911294786 0.9388888888888889\n",
            "loss,test_accuracy 0.28732573587232707 0.9316666666666666\n",
            "loss,test_accuracy 0.29888236415973 0.9388888888888889\n",
            "loss,test_accuracy 0.2559085568277704 0.9555555555555556\n",
            "loss,test_accuracy 0.259844795558323 0.9366666666666666\n",
            "loss,test_accuracy 0.24774814698618033 0.9388888888888889\n",
            "loss,test_accuracy 0.23635561031618854 0.9416666666666667\n"
          ]
        }
      ],
      "source": [
        "epochs = 50\n",
        "train(model, optimizer,epochs,iter_num,x,t,X_test,y_test)"
      ]
    },
    {
      "cell_type": "code",
      "execution_count": null,
      "metadata": {
        "colab": {
          "base_uri": "https://localhost:8080/"
        },
        "id": "1LCZdThLfDTg",
        "outputId": "51152380-8a18-4247-d261-57d206b361a0"
      },
      "outputs": [
        {
          "data": {
            "text/plain": [
              "(7200, 1, 28, 28)"
            ]
          },
          "execution_count": 14,
          "metadata": {},
          "output_type": "execute_result"
        }
      ],
      "source": [
        "x.shape"
      ]
    },
    {
      "cell_type": "code",
      "execution_count": null,
      "metadata": {
        "colab": {
          "base_uri": "https://localhost:8080/"
        },
        "id": "0nC8EIpbfbEz",
        "outputId": "80709370-929c-40eb-8bd8-972a94504587"
      },
      "outputs": [
        {
          "data": {
            "text/plain": [
              "(1800, 784)"
            ]
          },
          "execution_count": 86,
          "metadata": {},
          "output_type": "execute_result"
        }
      ],
      "source": [
        "X_test.shape"
      ]
    },
    {
      "cell_type": "code",
      "execution_count": null,
      "metadata": {
        "id": "S3vPvsTtPpvL"
      },
      "outputs": [],
      "source": [
        "def plot_pred(x):\n",
        "  y_pred = snet.predict(x)\n",
        "  X_test__ = x.reshape(x.shape[0], 28, 28)\n",
        "\n",
        "  fig, axis = plt.subplots(4, 4, figsize=(12, 14))\n",
        "  for i, ax in enumerate(axis.flat):\n",
        "      ax.imshow(X_test__[i], cmap='binary')\n",
        "      ax.set(title = f\"Real Number is {y_test[i].argmax()}\\nPredict Number is {y_pred[i].argmax()}\");"
      ]
    },
    {
      "cell_type": "code",
      "execution_count": null,
      "metadata": {
        "colab": {
          "base_uri": "https://localhost:8080/",
          "height": 820
        },
        "id": "e1nd08VmP7QO",
        "outputId": "047724f0-8b73-4d91-af5f-094f0c5df766"
      },
      "outputs": [
        {
          "data": {
            "image/png": "[encoded data removed]",
            "text/plain": [
              "<Figure size 864x1008 with 16 Axes>"
            ]
          },
          "metadata": {},
          "output_type": "display_data"
        }
      ],
      "source": [
        "# 拡張したデータの予測\n",
        "plot_pred(x)"
      ]
    },
    {
      "cell_type": "code",
      "execution_count": null,
      "metadata": {
        "id": "lfie8OCoQJy_"
      },
      "outputs": [],
      "source": []
    },
    {
      "cell_type": "code",
      "execution_count": null,
      "metadata": {
        "id": "_1W42YchDJir"
      },
      "outputs": [],
      "source": []
    },
    {
      "cell_type": "code",
      "execution_count": null,
      "metadata": {
        "colab": {
          "base_uri": "https://localhost:8080/"
        },
        "id": "0uM_DjxO68l3",
        "outputId": "25aa3cd7-8e67-4244-9ca1-d62fcfe7fff9"
      },
      "outputs": [
        {
          "name": "stdout",
          "output_type": "stream",
          "text": [
            "0\n",
            "0.03932103846522027 0.974\n",
            "1\n",
            "0.02337602143079218 0.982\n",
            "2\n",
            "0.016501249890742444 0.968\n",
            "3\n",
            "0.09145574194745915 0.94\n",
            "4\n",
            "0.11545335756227205 0.858\n",
            "5\n",
            "0.07766723431353788 0.934\n",
            "Test loss: 0.06062910726833733\n",
            "Test accuracy: 0.9426666666666667\n"
          ]
        }
      ],
      "source": [
        "import numpy as np\n",
        "import glob\n",
        "import os,sys\n",
        "# import util\n",
        "import pickle\n",
        "from common.SimpleConvNet import *\n",
        "\n",
        "def makedataset():\n",
        "    \"\"\"\n",
        "    データセットをつくる関数です。\n",
        "    自由に編集してください。\n",
        "    \"\"\"\n",
        "    \n",
        "    # 次の行は変更しないこと\n",
        "    test_data= loaddata()\n",
        "    \n",
        "    # 以下は自由に編集しても構いません\n",
        "    # 必要な前処理をここに記述してください  \n",
        "    \n",
        "    # 正規化\n",
        "    test_data = test_data / test_data.max()\n",
        "    test_data = test_data.astype('float32')\n",
        "\n",
        "    # 配列形式変更\n",
        "    test_data = test_data.reshape(-1, 28*28)\n",
        "\n",
        "    return test_data\n",
        "\n",
        "\n",
        "def func_predict(test_data, test_label):\n",
        "    \"\"\"\n",
        "    予測する関数\n",
        "    data : 画像データ\n",
        "    return loss, accuracy\n",
        "    引数とreturn以外は、自由に編集してください    \n",
        "    \"\"\"\n",
        "    \n",
        "    # 以下を自由に編集してください\n",
        "    test_data = test_data[:3000,:]\n",
        "    test_label = test_label[:3000,:]\n",
        "\n",
        "    test_data = test_data.reshape(-1,1,28,28) # 配列形式の変形\n",
        "    \n",
        "    with open(\"katakana_model.pickle\", \"rb\") as f:\n",
        "        model = pickle.load(f)\n",
        "    \n",
        "    accuracy = model.accuracy(test_data, test_label)\n",
        "    loss  = model.loss(test_data, test_label)\n",
        "    \n",
        "    return loss, accuracy # 編集不可\n",
        "\n",
        "\n",
        "def main():\n",
        "    \"\"\"\n",
        "    編集しないでください。\n",
        "    \"\"\"\n",
        "    # テスト用データをつくる\n",
        "    test_data = makedataset()\n",
        "\n",
        "    # 予測し精度を算出する\n",
        "    accuracy(func_predict, test_data)\n",
        "    \n",
        "    return\n",
        "\n",
        "if __name__==\"__main__\":\n",
        "    main()"
      ]
    },
    {
      "cell_type": "code",
      "source": [
        "y_pred = snet.predict(X_test)\n",
        "plot_ConfMat(y_pred,y_test)"
      ],
      "metadata": {
        "colab": {
          "base_uri": "https://localhost:8080/",
          "height": 606
        },
        "id": "9jUB2dFH3ExZ",
        "outputId": "d26f936f-7434-4806-ce4b-42b5aa29d2a5"
      },
      "execution_count": null,
      "outputs": [
        {
          "output_type": "display_data",
          "data": {
            "text/plain": [
              "<Figure size 720x720 with 1 Axes>"
            ],
            "image/png": "[encoded data removed]"
          },
          "metadata": {
            "needs_background": "light"
          }
        }
      ]
    },
    {
      "cell_type": "code",
      "source": [
        "import numpy as np\n",
        "import glob\n",
        "import os,sys\n",
        "# import util\n",
        "import pickle\n",
        "from common.SimpleConvNet import *\n",
        "from sklearn.metrics import confusion_matrix\n",
        "\n",
        "def makedataset():\n",
        "    \"\"\"\n",
        "    データセットをつくる関数です。\n",
        "    自由に編集してください。\n",
        "    \"\"\"\n",
        "    \n",
        "    # 次の行は変更しないこと\n",
        "    test_data= loaddata()\n",
        "    \n",
        "    # 以下は自由に編集しても構いません\n",
        "    # 必要な前処理をここに記述してください  \n",
        "    \n",
        "    # 正規化\n",
        "    test_data = test_data / test_data.max()\n",
        "    test_data = test_data.astype('float32')\n",
        "\n",
        "    # 配列形式変更\n",
        "    test_data = test_data.reshape(-1, 28*28)\n",
        "\n",
        "    return test_data\n",
        "\n",
        "\n",
        "def func_predict(test_data, test_label):\n",
        "    \"\"\"\n",
        "    予測する関数\n",
        "    data : 画像データ\n",
        "    return loss, accuracy\n",
        "    引数とreturn以外は、自由に編集してください    \n",
        "    \"\"\"\n",
        "    \n",
        "    # 以下を自由に編集してください\n",
        "    test_data = test_data[:3000,:]\n",
        "    test_label = test_label[:3000,:]\n",
        "\n",
        "    test_data = test_data.reshape(-1,1,28,28) # 配列形式の変形\n",
        "    \n",
        "    with open(\"katakana_model.pickle\", \"rb\") as f:\n",
        "        model = pickle.load(f)\n",
        "    \n",
        "    accuracy = model.accuracy(test_data, test_label)\n",
        "    loss  = model.loss(test_data, test_label)\n",
        "\n",
        "    # plot_ConfMat(test_data, test_label)\n",
        "    \n",
        "    return loss, accuracy # 編集不可\n",
        "\n",
        "def plot_ConfMat(test_data, test_label):\n",
        "    fig = plt.figure(figsize=(10, 10)) # Set Figure\n",
        "\n",
        "    y_test = test_label\n",
        "    y_pred = func_predict # Predict class probabilities as 2 => [0.1, 0, 0.9, 0, 0, 0, 0, 0, 0, 0]\n",
        "\n",
        "    Y_pred = np.argmax(y_pred, 1) # Decode Predicted labels\n",
        "    Y_test = np.argmax(y_test, 1) # Decode labels\n",
        "\n",
        "    mat = confusion_matrix(Y_test, Y_pred) # Confusion matrix\n",
        "\n",
        "    # Plot Confusion matrix\n",
        "    sns.heatmap(mat.T, square=True, annot=True, cbar=False, cmap=plt.cm.Blues, fmt='.0f')\n",
        "    plt.xlabel('Predicted Values')\n",
        "    plt.ylabel('True Values');\n",
        "    plt.show();\n",
        "\n",
        "def main():\n",
        "    \"\"\"\n",
        "    編集しないでください。\n",
        "    \"\"\"\n",
        "    # テスト用データをつくる\n",
        "    test_data = makedataset()\n",
        "\n",
        "    # 予測し精度を算出する\n",
        "    accuracy(func_predict, test_data)\n",
        "    \n",
        "    return\n",
        "\n",
        "main()\n",
        "\n",
        "# if __name__==\"__main__\":\n",
        "#     main()"
      ],
      "metadata": {
        "colab": {
          "base_uri": "https://localhost:8080/",
          "height": 402
        },
        "id": "T0NLdRj73pDV",
        "outputId": "655f4c3b-77fc-4fb6-ae40-de9d53d32f2b"
      },
      "execution_count": null,
      "outputs": [
        {
          "output_type": "stream",
          "name": "stdout",
          "text": [
            "0\n"
          ]
        },
        {
          "output_type": "error",
          "ename": "EOFError",
          "evalue": "ignored",
          "traceback": [
            "\u001b[0;31m---------------------------------------------------------------------------\u001b[0m",
            "\u001b[0;31mEOFError\u001b[0m                                  Traceback (most recent call last)",
            "\u001b[0;32m<ipython-input-32-3d9237b7f58a>\u001b[0m in \u001b[0;36m<module>\u001b[0;34m()\u001b[0m\n\u001b[1;32m     82\u001b[0m     \u001b[0;32mreturn\u001b[0m\u001b[0;34m\u001b[0m\u001b[0;34m\u001b[0m\u001b[0m\n\u001b[1;32m     83\u001b[0m \u001b[0;34m\u001b[0m\u001b[0m\n\u001b[0;32m---> 84\u001b[0;31m \u001b[0mmain\u001b[0m\u001b[0;34m(\u001b[0m\u001b[0;34m)\u001b[0m\u001b[0;34m\u001b[0m\u001b[0;34m\u001b[0m\u001b[0m\n\u001b[0m\u001b[1;32m     85\u001b[0m \u001b[0;34m\u001b[0m\u001b[0m\n\u001b[1;32m     86\u001b[0m \u001b[0;31m# if __name__==\"__main__\":\u001b[0m\u001b[0;34m\u001b[0m\u001b[0;34m\u001b[0m\u001b[0;34m\u001b[0m\u001b[0m\n",
            "\u001b[0;32m<ipython-input-32-3d9237b7f58a>\u001b[0m in \u001b[0;36mmain\u001b[0;34m()\u001b[0m\n\u001b[1;32m     78\u001b[0m \u001b[0;34m\u001b[0m\u001b[0m\n\u001b[1;32m     79\u001b[0m     \u001b[0;31m# 予測し精度を算出する\u001b[0m\u001b[0;34m\u001b[0m\u001b[0;34m\u001b[0m\u001b[0;34m\u001b[0m\u001b[0m\n\u001b[0;32m---> 80\u001b[0;31m     \u001b[0maccuracy\u001b[0m\u001b[0;34m(\u001b[0m\u001b[0mfunc_predict\u001b[0m\u001b[0;34m,\u001b[0m \u001b[0mtest_data\u001b[0m\u001b[0;34m)\u001b[0m\u001b[0;34m\u001b[0m\u001b[0;34m\u001b[0m\u001b[0m\n\u001b[0m\u001b[1;32m     81\u001b[0m \u001b[0;34m\u001b[0m\u001b[0m\n\u001b[1;32m     82\u001b[0m     \u001b[0;32mreturn\u001b[0m\u001b[0;34m\u001b[0m\u001b[0;34m\u001b[0m\u001b[0m\n",
            "\u001b[0;32m<ipython-input-21-34bc84653e69>\u001b[0m in \u001b[0;36maccuracy\u001b[0;34m(func_predict, test_data)\u001b[0m\n\u001b[1;32m     51\u001b[0m         \u001b[0mdata\u001b[0m \u001b[0;34m=\u001b[0m \u001b[0mtest_data\u001b[0m\u001b[0;34m[\u001b[0m\u001b[0mmask\u001b[0m\u001b[0;34m]\u001b[0m\u001b[0;34m\u001b[0m\u001b[0;34m\u001b[0m\u001b[0m\n\u001b[1;32m     52\u001b[0m         \u001b[0mlabel\u001b[0m \u001b[0;34m=\u001b[0m \u001b[0mtest_label\u001b[0m\u001b[0;34m[\u001b[0m\u001b[0mmask\u001b[0m\u001b[0;34m]\u001b[0m\u001b[0;34m\u001b[0m\u001b[0;34m\u001b[0m\u001b[0m\n\u001b[0;32m---> 53\u001b[0;31m         \u001b[0mloss\u001b[0m\u001b[0;34m,\u001b[0m \u001b[0maccuracy\u001b[0m  \u001b[0;34m=\u001b[0m \u001b[0mfunc_predict\u001b[0m\u001b[0;34m(\u001b[0m\u001b[0mdata\u001b[0m\u001b[0;34m,\u001b[0m \u001b[0mlabel\u001b[0m\u001b[0;34m)\u001b[0m\u001b[0;34m\u001b[0m\u001b[0;34m\u001b[0m\u001b[0m\n\u001b[0m\u001b[1;32m     54\u001b[0m         \u001b[0mprint\u001b[0m\u001b[0;34m(\u001b[0m\u001b[0mloss\u001b[0m\u001b[0;34m,\u001b[0m \u001b[0maccuracy\u001b[0m\u001b[0;34m)\u001b[0m\u001b[0;34m\u001b[0m\u001b[0;34m\u001b[0m\u001b[0m\n\u001b[1;32m     55\u001b[0m \u001b[0;34m\u001b[0m\u001b[0m\n",
            "\u001b[0;32m<ipython-input-32-3d9237b7f58a>\u001b[0m in \u001b[0;36mfunc_predict\u001b[0;34m(test_data, test_label)\u001b[0m\n\u001b[1;32m     44\u001b[0m \u001b[0;34m\u001b[0m\u001b[0m\n\u001b[1;32m     45\u001b[0m     \u001b[0;32mwith\u001b[0m \u001b[0mopen\u001b[0m\u001b[0;34m(\u001b[0m\u001b[0;34m\"katakana_model.pickle\"\u001b[0m\u001b[0;34m,\u001b[0m \u001b[0;34m\"rb\"\u001b[0m\u001b[0;34m)\u001b[0m \u001b[0;32mas\u001b[0m \u001b[0mf\u001b[0m\u001b[0;34m:\u001b[0m\u001b[0;34m\u001b[0m\u001b[0;34m\u001b[0m\u001b[0m\n\u001b[0;32m---> 46\u001b[0;31m         \u001b[0mmodel\u001b[0m \u001b[0;34m=\u001b[0m \u001b[0mpickle\u001b[0m\u001b[0;34m.\u001b[0m\u001b[0mload\u001b[0m\u001b[0;34m(\u001b[0m\u001b[0mf\u001b[0m\u001b[0;34m)\u001b[0m\u001b[0;34m\u001b[0m\u001b[0;34m\u001b[0m\u001b[0m\n\u001b[0m\u001b[1;32m     47\u001b[0m \u001b[0;34m\u001b[0m\u001b[0m\n\u001b[1;32m     48\u001b[0m     \u001b[0maccuracy\u001b[0m \u001b[0;34m=\u001b[0m \u001b[0mmodel\u001b[0m\u001b[0;34m.\u001b[0m\u001b[0maccuracy\u001b[0m\u001b[0;34m(\u001b[0m\u001b[0mtest_data\u001b[0m\u001b[0;34m,\u001b[0m \u001b[0mtest_label\u001b[0m\u001b[0;34m)\u001b[0m\u001b[0;34m\u001b[0m\u001b[0;34m\u001b[0m\u001b[0m\n",
            "\u001b[0;31mEOFError\u001b[0m: Ran out of input"
          ]
        }
      ]
    },
    {
      "cell_type": "code",
      "execution_count": null,
      "metadata": {
        "id": "vYwOPgil7CEL"
      },
      "outputs": [],
      "source": [
        "import numpy as np\n",
        "\n",
        "def loaddata():\n",
        "    \"\"\"\n",
        "    データを読む関数\n",
        "    \"\"\"\n",
        "    test_data = np.load(\"./data/train_data.npy\")\n",
        "    return test_data\n",
        "\n",
        "\n",
        "\n",
        "def accuracy(func_predict, test_data):\n",
        "    \"\"\"\n",
        "    精度を計算する関数\n",
        "    label_pred : numpy 1D array \n",
        "    \"\"\"\n",
        "    \n",
        "    # データ数のチェック\n",
        "    data_size = len(test_data)\n",
        "    if data_size<3000:\n",
        "        error = \"label_predのサイズが足りていません\"\n",
        "        print(data_size, error)\n",
        "        print('Test loss:', error)\n",
        "        print('Test accuracy:', error)\n",
        "        return\n",
        "    elif data_size>3000:\n",
        "        error = \"label_predのサイズが多すぎます\"\n",
        "        print(data_size, error)\n",
        "        print('Test loss:', error)\n",
        "        print('Test accuracy:', error)        \n",
        "        return\n",
        "\n",
        "    test_label = np.load(\"./data/train_label.npy\")\n",
        "    \n",
        "    \n",
        "    # 予測\n",
        "    # サーバーへの負荷を軽減するため、ミニバッチ処理で行う\n",
        "    \n",
        "    batch_size = 500\n",
        "    \n",
        "    minibatch_num = np.ceil( data_size / batch_size).astype(int) # ミニバッチの個数\n",
        "    \n",
        "    li_loss = []\n",
        "    li_accuracy = []\n",
        "    li_num = []\n",
        "    index = np.arange(data_size)\n",
        "    \n",
        "    for mn in range(minibatch_num):\n",
        "        print(mn)\n",
        "        mask = index[batch_size*mn:batch_size*(mn+1)]        \n",
        "        data = test_data[mask]\n",
        "        label = test_label[mask]\n",
        "        loss, accuracy  = func_predict(data, label)\n",
        "        print(loss, accuracy)\n",
        "        \n",
        "        li_loss.append(loss)\n",
        "        li_accuracy.append(accuracy)\n",
        "        li_num.append(len(data))\n",
        "\n",
        "    test_loss = np.dot(li_loss, li_num) / np.sum(li_num)\n",
        "    test_accuracy = np.dot(li_accuracy, li_num) / np.sum(li_num)\n",
        "    \n",
        "    print('Test loss:', test_loss)\n",
        "    print('Test accuracy:', test_accuracy)\n",
        "    return"
      ]
    },
    {
      "cell_type": "code",
      "execution_count": null,
      "metadata": {
        "colab": {
          "base_uri": "https://localhost:8080/",
          "height": 629
        },
        "id": "lKvLCZxPt0Kt",
        "outputId": "a753f986-38b7-46b4-94fa-f8a76dd68131"
      },
      "outputs": [
        {
          "data": {
            "image/png": "[encoded data removed]",
            "text/plain": [
              "<Figure size 432x288 with 1 Axes>"
            ]
          },
          "metadata": {},
          "output_type": "display_data"
        },
        {
          "data": {
            "text/html": [
              "\n",
              "  <div id=\"df-c22d2e2d-3dfc-4324-a491-6f5c0ea92319\">\n",
              "    <div class=\"colab-df-container\">\n",
              "      <div>\n",
              "<style scoped>\n",
              "    .dataframe tbody tr th:only-of-type {\n",
              "        vertical-align: middle;\n",
              "    }\n",
              "\n",
              "    .dataframe tbody tr th {\n",
              "        vertical-align: top;\n",
              "    }\n",
              "\n",
              "    .dataframe thead th {\n",
              "        text-align: right;\n",
              "    }\n",
              "</style>\n",
              "<table border=\"1\" class=\"dataframe\">\n",
              "  <thead>\n",
              "    <tr style=\"text-align: right;\">\n",
              "      <th></th>\n",
              "      <th>train_accuracy</th>\n",
              "      <th>test_accuracy</th>\n",
              "    </tr>\n",
              "  </thead>\n",
              "  <tbody>\n",
              "    <tr>\n",
              "      <th>0</th>\n",
              "      <td>0.900833</td>\n",
              "      <td>0.865000</td>\n",
              "    </tr>\n",
              "    <tr>\n",
              "      <th>1</th>\n",
              "      <td>0.958750</td>\n",
              "      <td>0.933333</td>\n",
              "    </tr>\n",
              "    <tr>\n",
              "      <th>2</th>\n",
              "      <td>0.963333</td>\n",
              "      <td>0.933333</td>\n",
              "    </tr>\n",
              "    <tr>\n",
              "      <th>3</th>\n",
              "      <td>0.983750</td>\n",
              "      <td>0.953333</td>\n",
              "    </tr>\n",
              "    <tr>\n",
              "      <th>4</th>\n",
              "      <td>0.970417</td>\n",
              "      <td>0.940000</td>\n",
              "    </tr>\n",
              "    <tr>\n",
              "      <th>5</th>\n",
              "      <td>0.987083</td>\n",
              "      <td>0.955000</td>\n",
              "    </tr>\n",
              "    <tr>\n",
              "      <th>6</th>\n",
              "      <td>0.997083</td>\n",
              "      <td>0.953333</td>\n",
              "    </tr>\n",
              "    <tr>\n",
              "      <th>7</th>\n",
              "      <td>0.995000</td>\n",
              "      <td>0.956667</td>\n",
              "    </tr>\n",
              "    <tr>\n",
              "      <th>8</th>\n",
              "      <td>0.995000</td>\n",
              "      <td>0.968333</td>\n",
              "    </tr>\n",
              "    <tr>\n",
              "      <th>9</th>\n",
              "      <td>0.995833</td>\n",
              "      <td>0.968333</td>\n",
              "    </tr>\n",
              "  </tbody>\n",
              "</table>\n",
              "</div>\n",
              "      <button class=\"colab-df-convert\" onclick=\"convertToInteractive('df-c22d2e2d-3dfc-4324-a491-6f5c0ea92319')\"\n",
              "              title=\"Convert this dataframe to an interactive table.\"\n",
              "              style=\"display:none;\">\n",
              "        \n",
              "  <svg xmlns=\"http://www.w3.org/2000/svg\" height=\"24px\"viewBox=\"0 0 24 24\"\n",
              "       width=\"24px\">\n",
              "    <path d=\"M0 0h24v24H0V0z\" fill=\"none\"/>\n",
              "    <path d=\"M18.56 5.44l.94 2.06.94-2.06 2.06-.94-2.06-.94-.94-2.06-.94 2.06-2.06.94zm-11 1L8.5 8.5l.94-2.06 2.06-.94-2.06-.94L8.5 2.5l-.94 2.06-2.06.94zm10 10l.94 2.06.94-2.06 2.06-.94-2.06-.94-.94-2.06-.94 2.06-2.06.94z\"/><path d=\"M17.41 7.96l-1.37-1.37c-.4-.4-.92-.59-1.43-.59-.52 0-1.04.2-1.43.59L10.3 9.45l-7.72 7.72c-.78.78-.78 2.05 0 2.83L4 21.41c.39.39.9.59 1.41.59.51 0 1.02-.2 1.41-.59l7.78-7.78 2.81-2.81c.8-.78.8-2.07 0-2.86zM5.41 20L4 18.59l7.72-7.72 1.47 1.35L5.41 20z\"/>\n",
              "  </svg>\n",
              "      </button>\n",
              "      \n",
              "  <style>\n",
              "    .colab-df-container {\n",
              "      display:flex;\n",
              "      flex-wrap:wrap;\n",
              "      gap: 12px;\n",
              "    }\n",
              "\n",
              "    .colab-df-convert {\n",
              "      background-color: #E8F0FE;\n",
              "      border: none;\n",
              "      border-radius: 50%;\n",
              "      cursor: pointer;\n",
              "      display: none;\n",
              "      fill: #1967D2;\n",
              "      height: 32px;\n",
              "      padding: 0 0 0 0;\n",
              "      width: 32px;\n",
              "    }\n",
              "\n",
              "    .colab-df-convert:hover {\n",
              "      background-color: #E2EBFA;\n",
              "      box-shadow: 0px 1px 2px rgba(60, 64, 67, 0.3), 0px 1px 3px 1px rgba(60, 64, 67, 0.15);\n",
              "      fill: #174EA6;\n",
              "    }\n",
              "\n",
              "    [theme=dark] .colab-df-convert {\n",
              "      background-color: #3B4455;\n",
              "      fill: #D2E3FC;\n",
              "    }\n",
              "\n",
              "    [theme=dark] .colab-df-convert:hover {\n",
              "      background-color: #434B5C;\n",
              "      box-shadow: 0px 1px 3px 1px rgba(0, 0, 0, 0.15);\n",
              "      filter: drop-shadow(0px 1px 2px rgba(0, 0, 0, 0.3));\n",
              "      fill: #FFFFFF;\n",
              "    }\n",
              "  </style>\n",
              "\n",
              "      <script>\n",
              "        const buttonEl =\n",
              "          document.querySelector('#df-c22d2e2d-3dfc-4324-a491-6f5c0ea92319 button.colab-df-convert');\n",
              "        buttonEl.style.display =\n",
              "          google.colab.kernel.accessAllowed ? 'block' : 'none';\n",
              "\n",
              "        async function convertToInteractive(key) {\n",
              "          const element = document.querySelector('#df-c22d2e2d-3dfc-4324-a491-6f5c0ea92319');\n",
              "          const dataTable =\n",
              "            await google.colab.kernel.invokeFunction('convertToInteractive',\n",
              "                                                     [key], {});\n",
              "          if (!dataTable) return;\n",
              "\n",
              "          const docLinkHtml = 'Like what you see? Visit the ' +\n",
              "            '<a target=\"_blank\" href=https://colab.research.google.com/notebooks/data_table.ipynb>data table notebook</a>'\n",
              "            + ' to learn more about interactive tables.';\n",
              "          element.innerHTML = '';\n",
              "          dataTable['output_type'] = 'display_data';\n",
              "          await google.colab.output.renderOutput(dataTable, element);\n",
              "          const docLink = document.createElement('div');\n",
              "          docLink.innerHTML = docLinkHtml;\n",
              "          element.appendChild(docLink);\n",
              "        }\n",
              "      </script>\n",
              "    </div>\n",
              "  </div>\n",
              "  "
            ],
            "text/plain": [
              "   train_accuracy  test_accuracy\n",
              "0        0.900833       0.865000\n",
              "1        0.958750       0.933333\n",
              "2        0.963333       0.933333\n",
              "3        0.983750       0.953333\n",
              "4        0.970417       0.940000\n",
              "5        0.987083       0.955000\n",
              "6        0.997083       0.953333\n",
              "7        0.995000       0.956667\n",
              "8        0.995000       0.968333\n",
              "9        0.995833       0.968333"
            ]
          },
          "execution_count": 33,
          "metadata": {},
          "output_type": "execute_result"
        }
      ],
      "source": [
        "# 'filter_num':32,\n",
        "# filter_num2 = 64\n",
        "# filter_num3 = 128\n",
        "# optimizer = RMSProp(lr=0.001, rho=0.88)\n",
        "df_gr()"
      ]
    },
    {
      "cell_type": "code",
      "execution_count": null,
      "metadata": {
        "colab": {
          "base_uri": "https://localhost:8080/",
          "height": 1000
        },
        "id": "cXXXL3RvmY5Q",
        "outputId": "ba9b8193-4161-4ed6-faf7-180ea61c087b"
      },
      "outputs": [
        {
          "data": {
            "image/png": "[encoded data removed]",
            "text/plain": [
              "<Figure size 432x288 with 1 Axes>"
            ]
          },
          "metadata": {},
          "output_type": "display_data"
        },
        {
          "data": {
            "text/html": [
              "\n",
              "  <div id=\"df-32c268e7-9aeb-4bdf-9fd1-fdc2ee57545f\">\n",
              "    <div class=\"colab-df-container\">\n",
              "      <div>\n",
              "<style scoped>\n",
              "    .dataframe tbody tr th:only-of-type {\n",
              "        vertical-align: middle;\n",
              "    }\n",
              "\n",
              "    .dataframe tbody tr th {\n",
              "        vertical-align: top;\n",
              "    }\n",
              "\n",
              "    .dataframe thead th {\n",
              "        text-align: right;\n",
              "    }\n",
              "</style>\n",
              "<table border=\"1\" class=\"dataframe\">\n",
              "  <thead>\n",
              "    <tr style=\"text-align: right;\">\n",
              "      <th></th>\n",
              "      <th>train_accuracy</th>\n",
              "      <th>test_accuracy</th>\n",
              "    </tr>\n",
              "  </thead>\n",
              "  <tbody>\n",
              "    <tr>\n",
              "      <th>0</th>\n",
              "      <td>0.273333</td>\n",
              "      <td>0.218519</td>\n",
              "    </tr>\n",
              "    <tr>\n",
              "      <th>1</th>\n",
              "      <td>0.446667</td>\n",
              "      <td>0.351481</td>\n",
              "    </tr>\n",
              "    <tr>\n",
              "      <th>2</th>\n",
              "      <td>0.543333</td>\n",
              "      <td>0.478889</td>\n",
              "    </tr>\n",
              "    <tr>\n",
              "      <th>3</th>\n",
              "      <td>0.656667</td>\n",
              "      <td>0.567407</td>\n",
              "    </tr>\n",
              "    <tr>\n",
              "      <th>4</th>\n",
              "      <td>0.766667</td>\n",
              "      <td>0.615185</td>\n",
              "    </tr>\n",
              "    <tr>\n",
              "      <th>5</th>\n",
              "      <td>0.776667</td>\n",
              "      <td>0.632593</td>\n",
              "    </tr>\n",
              "    <tr>\n",
              "      <th>6</th>\n",
              "      <td>0.880000</td>\n",
              "      <td>0.714815</td>\n",
              "    </tr>\n",
              "    <tr>\n",
              "      <th>7</th>\n",
              "      <td>0.903333</td>\n",
              "      <td>0.741481</td>\n",
              "    </tr>\n",
              "    <tr>\n",
              "      <th>8</th>\n",
              "      <td>0.943333</td>\n",
              "      <td>0.762222</td>\n",
              "    </tr>\n",
              "    <tr>\n",
              "      <th>9</th>\n",
              "      <td>0.966667</td>\n",
              "      <td>0.771481</td>\n",
              "    </tr>\n",
              "    <tr>\n",
              "      <th>10</th>\n",
              "      <td>0.976667</td>\n",
              "      <td>0.782593</td>\n",
              "    </tr>\n",
              "    <tr>\n",
              "      <th>11</th>\n",
              "      <td>0.963333</td>\n",
              "      <td>0.803333</td>\n",
              "    </tr>\n",
              "    <tr>\n",
              "      <th>12</th>\n",
              "      <td>0.976667</td>\n",
              "      <td>0.783704</td>\n",
              "    </tr>\n",
              "    <tr>\n",
              "      <th>13</th>\n",
              "      <td>0.976667</td>\n",
              "      <td>0.803704</td>\n",
              "    </tr>\n",
              "    <tr>\n",
              "      <th>14</th>\n",
              "      <td>0.983333</td>\n",
              "      <td>0.810000</td>\n",
              "    </tr>\n",
              "    <tr>\n",
              "      <th>15</th>\n",
              "      <td>0.960000</td>\n",
              "      <td>0.774815</td>\n",
              "    </tr>\n",
              "    <tr>\n",
              "      <th>16</th>\n",
              "      <td>0.986667</td>\n",
              "      <td>0.805556</td>\n",
              "    </tr>\n",
              "    <tr>\n",
              "      <th>17</th>\n",
              "      <td>0.990000</td>\n",
              "      <td>0.816667</td>\n",
              "    </tr>\n",
              "    <tr>\n",
              "      <th>18</th>\n",
              "      <td>0.996667</td>\n",
              "      <td>0.821111</td>\n",
              "    </tr>\n",
              "    <tr>\n",
              "      <th>19</th>\n",
              "      <td>0.996667</td>\n",
              "      <td>0.821481</td>\n",
              "    </tr>\n",
              "    <tr>\n",
              "      <th>20</th>\n",
              "      <td>0.993333</td>\n",
              "      <td>0.819259</td>\n",
              "    </tr>\n",
              "    <tr>\n",
              "      <th>21</th>\n",
              "      <td>0.980000</td>\n",
              "      <td>0.799259</td>\n",
              "    </tr>\n",
              "    <tr>\n",
              "      <th>22</th>\n",
              "      <td>0.993333</td>\n",
              "      <td>0.815556</td>\n",
              "    </tr>\n",
              "    <tr>\n",
              "      <th>23</th>\n",
              "      <td>0.993333</td>\n",
              "      <td>0.806667</td>\n",
              "    </tr>\n",
              "    <tr>\n",
              "      <th>24</th>\n",
              "      <td>0.986667</td>\n",
              "      <td>0.785926</td>\n",
              "    </tr>\n",
              "    <tr>\n",
              "      <th>25</th>\n",
              "      <td>0.980000</td>\n",
              "      <td>0.804815</td>\n",
              "    </tr>\n",
              "    <tr>\n",
              "      <th>26</th>\n",
              "      <td>0.993333</td>\n",
              "      <td>0.795185</td>\n",
              "    </tr>\n",
              "    <tr>\n",
              "      <th>27</th>\n",
              "      <td>0.983333</td>\n",
              "      <td>0.802222</td>\n",
              "    </tr>\n",
              "    <tr>\n",
              "      <th>28</th>\n",
              "      <td>0.993333</td>\n",
              "      <td>0.817037</td>\n",
              "    </tr>\n",
              "    <tr>\n",
              "      <th>29</th>\n",
              "      <td>1.000000</td>\n",
              "      <td>0.824444</td>\n",
              "    </tr>\n",
              "    <tr>\n",
              "      <th>30</th>\n",
              "      <td>1.000000</td>\n",
              "      <td>0.822963</td>\n",
              "    </tr>\n",
              "    <tr>\n",
              "      <th>31</th>\n",
              "      <td>0.996667</td>\n",
              "      <td>0.818148</td>\n",
              "    </tr>\n",
              "    <tr>\n",
              "      <th>32</th>\n",
              "      <td>0.993333</td>\n",
              "      <td>0.829630</td>\n",
              "    </tr>\n",
              "    <tr>\n",
              "      <th>33</th>\n",
              "      <td>0.980000</td>\n",
              "      <td>0.811111</td>\n",
              "    </tr>\n",
              "    <tr>\n",
              "      <th>34</th>\n",
              "      <td>0.970000</td>\n",
              "      <td>0.782963</td>\n",
              "    </tr>\n",
              "    <tr>\n",
              "      <th>35</th>\n",
              "      <td>0.993333</td>\n",
              "      <td>0.815185</td>\n",
              "    </tr>\n",
              "    <tr>\n",
              "      <th>36</th>\n",
              "      <td>0.983333</td>\n",
              "      <td>0.809259</td>\n",
              "    </tr>\n",
              "    <tr>\n",
              "      <th>37</th>\n",
              "      <td>0.986667</td>\n",
              "      <td>0.782593</td>\n",
              "    </tr>\n",
              "    <tr>\n",
              "      <th>38</th>\n",
              "      <td>0.986667</td>\n",
              "      <td>0.811111</td>\n",
              "    </tr>\n",
              "    <tr>\n",
              "      <th>39</th>\n",
              "      <td>0.986667</td>\n",
              "      <td>0.794074</td>\n",
              "    </tr>\n",
              "    <tr>\n",
              "      <th>40</th>\n",
              "      <td>0.996667</td>\n",
              "      <td>0.816296</td>\n",
              "    </tr>\n",
              "    <tr>\n",
              "      <th>41</th>\n",
              "      <td>0.993333</td>\n",
              "      <td>0.812593</td>\n",
              "    </tr>\n",
              "    <tr>\n",
              "      <th>42</th>\n",
              "      <td>0.986667</td>\n",
              "      <td>0.805926</td>\n",
              "    </tr>\n",
              "    <tr>\n",
              "      <th>43</th>\n",
              "      <td>0.996667</td>\n",
              "      <td>0.812963</td>\n",
              "    </tr>\n",
              "    <tr>\n",
              "      <th>44</th>\n",
              "      <td>0.990000</td>\n",
              "      <td>0.817037</td>\n",
              "    </tr>\n",
              "    <tr>\n",
              "      <th>45</th>\n",
              "      <td>1.000000</td>\n",
              "      <td>0.838889</td>\n",
              "    </tr>\n",
              "    <tr>\n",
              "      <th>46</th>\n",
              "      <td>1.000000</td>\n",
              "      <td>0.818889</td>\n",
              "    </tr>\n",
              "    <tr>\n",
              "      <th>47</th>\n",
              "      <td>0.993333</td>\n",
              "      <td>0.823704</td>\n",
              "    </tr>\n",
              "    <tr>\n",
              "      <th>48</th>\n",
              "      <td>0.996667</td>\n",
              "      <td>0.832593</td>\n",
              "    </tr>\n",
              "    <tr>\n",
              "      <th>49</th>\n",
              "      <td>1.000000</td>\n",
              "      <td>0.836667</td>\n",
              "    </tr>\n",
              "  </tbody>\n",
              "</table>\n",
              "</div>\n",
              "      <button class=\"colab-df-convert\" onclick=\"convertToInteractive('df-32c268e7-9aeb-4bdf-9fd1-fdc2ee57545f')\"\n",
              "              title=\"Convert this dataframe to an interactive table.\"\n",
              "              style=\"display:none;\">\n",
              "        \n",
              "  <svg xmlns=\"http://www.w3.org/2000/svg\" height=\"24px\"viewBox=\"0 0 24 24\"\n",
              "       width=\"24px\">\n",
              "    <path d=\"M0 0h24v24H0V0z\" fill=\"none\"/>\n",
              "    <path d=\"M18.56 5.44l.94 2.06.94-2.06 2.06-.94-2.06-.94-.94-2.06-.94 2.06-2.06.94zm-11 1L8.5 8.5l.94-2.06 2.06-.94-2.06-.94L8.5 2.5l-.94 2.06-2.06.94zm10 10l.94 2.06.94-2.06 2.06-.94-2.06-.94-.94-2.06-.94 2.06-2.06.94z\"/><path d=\"M17.41 7.96l-1.37-1.37c-.4-.4-.92-.59-1.43-.59-.52 0-1.04.2-1.43.59L10.3 9.45l-7.72 7.72c-.78.78-.78 2.05 0 2.83L4 21.41c.39.39.9.59 1.41.59.51 0 1.02-.2 1.41-.59l7.78-7.78 2.81-2.81c.8-.78.8-2.07 0-2.86zM5.41 20L4 18.59l7.72-7.72 1.47 1.35L5.41 20z\"/>\n",
              "  </svg>\n",
              "      </button>\n",
              "      \n",
              "  <style>\n",
              "    .colab-df-container {\n",
              "      display:flex;\n",
              "      flex-wrap:wrap;\n",
              "      gap: 12px;\n",
              "    }\n",
              "\n",
              "    .colab-df-convert {\n",
              "      background-color: #E8F0FE;\n",
              "      border: none;\n",
              "      border-radius: 50%;\n",
              "      cursor: pointer;\n",
              "      display: none;\n",
              "      fill: #1967D2;\n",
              "      height: 32px;\n",
              "      padding: 0 0 0 0;\n",
              "      width: 32px;\n",
              "    }\n",
              "\n",
              "    .colab-df-convert:hover {\n",
              "      background-color: #E2EBFA;\n",
              "      box-shadow: 0px 1px 2px rgba(60, 64, 67, 0.3), 0px 1px 3px 1px rgba(60, 64, 67, 0.15);\n",
              "      fill: #174EA6;\n",
              "    }\n",
              "\n",
              "    [theme=dark] .colab-df-convert {\n",
              "      background-color: #3B4455;\n",
              "      fill: #D2E3FC;\n",
              "    }\n",
              "\n",
              "    [theme=dark] .colab-df-convert:hover {\n",
              "      background-color: #434B5C;\n",
              "      box-shadow: 0px 1px 3px 1px rgba(0, 0, 0, 0.15);\n",
              "      filter: drop-shadow(0px 1px 2px rgba(0, 0, 0, 0.3));\n",
              "      fill: #FFFFFF;\n",
              "    }\n",
              "  </style>\n",
              "\n",
              "      <script>\n",
              "        const buttonEl =\n",
              "          document.querySelector('#df-32c268e7-9aeb-4bdf-9fd1-fdc2ee57545f button.colab-df-convert');\n",
              "        buttonEl.style.display =\n",
              "          google.colab.kernel.accessAllowed ? 'block' : 'none';\n",
              "\n",
              "        async function convertToInteractive(key) {\n",
              "          const element = document.querySelector('#df-32c268e7-9aeb-4bdf-9fd1-fdc2ee57545f');\n",
              "          const dataTable =\n",
              "            await google.colab.kernel.invokeFunction('convertToInteractive',\n",
              "                                                     [key], {});\n",
              "          if (!dataTable) return;\n",
              "\n",
              "          const docLinkHtml = 'Like what you see? Visit the ' +\n",
              "            '<a target=\"_blank\" href=https://colab.research.google.com/notebooks/data_table.ipynb>data table notebook</a>'\n",
              "            + ' to learn more about interactive tables.';\n",
              "          element.innerHTML = '';\n",
              "          dataTable['output_type'] = 'display_data';\n",
              "          await google.colab.output.renderOutput(dataTable, element);\n",
              "          const docLink = document.createElement('div');\n",
              "          docLink.innerHTML = docLinkHtml;\n",
              "          element.appendChild(docLink);\n",
              "        }\n",
              "      </script>\n",
              "    </div>\n",
              "  </div>\n",
              "  "
            ],
            "text/plain": [
              "    train_accuracy  test_accuracy\n",
              "0         0.273333       0.218519\n",
              "1         0.446667       0.351481\n",
              "2         0.543333       0.478889\n",
              "3         0.656667       0.567407\n",
              "4         0.766667       0.615185\n",
              "5         0.776667       0.632593\n",
              "6         0.880000       0.714815\n",
              "7         0.903333       0.741481\n",
              "8         0.943333       0.762222\n",
              "9         0.966667       0.771481\n",
              "10        0.976667       0.782593\n",
              "11        0.963333       0.803333\n",
              "12        0.976667       0.783704\n",
              "13        0.976667       0.803704\n",
              "14        0.983333       0.810000\n",
              "15        0.960000       0.774815\n",
              "16        0.986667       0.805556\n",
              "17        0.990000       0.816667\n",
              "18        0.996667       0.821111\n",
              "19        0.996667       0.821481\n",
              "20        0.993333       0.819259\n",
              "21        0.980000       0.799259\n",
              "22        0.993333       0.815556\n",
              "23        0.993333       0.806667\n",
              "24        0.986667       0.785926\n",
              "25        0.980000       0.804815\n",
              "26        0.993333       0.795185\n",
              "27        0.983333       0.802222\n",
              "28        0.993333       0.817037\n",
              "29        1.000000       0.824444\n",
              "30        1.000000       0.822963\n",
              "31        0.996667       0.818148\n",
              "32        0.993333       0.829630\n",
              "33        0.980000       0.811111\n",
              "34        0.970000       0.782963\n",
              "35        0.993333       0.815185\n",
              "36        0.983333       0.809259\n",
              "37        0.986667       0.782593\n",
              "38        0.986667       0.811111\n",
              "39        0.986667       0.794074\n",
              "40        0.996667       0.816296\n",
              "41        0.993333       0.812593\n",
              "42        0.986667       0.805926\n",
              "43        0.996667       0.812963\n",
              "44        0.990000       0.817037\n",
              "45        1.000000       0.838889\n",
              "46        1.000000       0.818889\n",
              "47        0.993333       0.823704\n",
              "48        0.996667       0.832593\n",
              "49        1.000000       0.836667"
            ]
          },
          "execution_count": 15,
          "metadata": {},
          "output_type": "execute_result"
        }
      ],
      "source": [
        "df_gr()"
      ]
    },
    {
      "cell_type": "code",
      "execution_count": null,
      "metadata": {
        "id": "M8N40wbRjKQf"
      },
      "outputs": [],
      "source": [
        "with open(\"katakana_model.pickle\", \"wb\") as f:\n",
        "    pickle.dump(snet, f)"
      ]
    },
    {
      "cell_type": "code",
      "execution_count": null,
      "metadata": {
        "colab": {
          "base_uri": "https://localhost:8080/",
          "height": 629
        },
        "id": "D8wBzwpHy2M0",
        "outputId": "efcf0162-bd67-499a-82e9-9cf7e12c9a8c"
      },
      "outputs": [
        {
          "data": {
            "image/png": "[encoded data removed]",
            "text/plain": [
              "<Figure size 432x288 with 1 Axes>"
            ]
          },
          "metadata": {},
          "output_type": "display_data"
        },
        {
          "data": {
            "text/html": [
              "\n",
              "  <div id=\"df-04bed900-5a42-4bec-9772-edafc460df5c\">\n",
              "    <div class=\"colab-df-container\">\n",
              "      <div>\n",
              "<style scoped>\n",
              "    .dataframe tbody tr th:only-of-type {\n",
              "        vertical-align: middle;\n",
              "    }\n",
              "\n",
              "    .dataframe tbody tr th {\n",
              "        vertical-align: top;\n",
              "    }\n",
              "\n",
              "    .dataframe thead th {\n",
              "        text-align: right;\n",
              "    }\n",
              "</style>\n",
              "<table border=\"1\" class=\"dataframe\">\n",
              "  <thead>\n",
              "    <tr style=\"text-align: right;\">\n",
              "      <th></th>\n",
              "      <th>train_accuracy</th>\n",
              "      <th>test_accuracy</th>\n",
              "    </tr>\n",
              "  </thead>\n",
              "  <tbody>\n",
              "    <tr>\n",
              "      <th>0</th>\n",
              "      <td>0.900833</td>\n",
              "      <td>0.865000</td>\n",
              "    </tr>\n",
              "    <tr>\n",
              "      <th>1</th>\n",
              "      <td>0.958750</td>\n",
              "      <td>0.933333</td>\n",
              "    </tr>\n",
              "    <tr>\n",
              "      <th>2</th>\n",
              "      <td>0.963333</td>\n",
              "      <td>0.933333</td>\n",
              "    </tr>\n",
              "    <tr>\n",
              "      <th>3</th>\n",
              "      <td>0.983750</td>\n",
              "      <td>0.953333</td>\n",
              "    </tr>\n",
              "    <tr>\n",
              "      <th>4</th>\n",
              "      <td>0.970417</td>\n",
              "      <td>0.940000</td>\n",
              "    </tr>\n",
              "    <tr>\n",
              "      <th>5</th>\n",
              "      <td>0.987083</td>\n",
              "      <td>0.955000</td>\n",
              "    </tr>\n",
              "    <tr>\n",
              "      <th>6</th>\n",
              "      <td>0.997083</td>\n",
              "      <td>0.953333</td>\n",
              "    </tr>\n",
              "    <tr>\n",
              "      <th>7</th>\n",
              "      <td>0.995000</td>\n",
              "      <td>0.956667</td>\n",
              "    </tr>\n",
              "    <tr>\n",
              "      <th>8</th>\n",
              "      <td>0.995000</td>\n",
              "      <td>0.968333</td>\n",
              "    </tr>\n",
              "    <tr>\n",
              "      <th>9</th>\n",
              "      <td>0.995833</td>\n",
              "      <td>0.968333</td>\n",
              "    </tr>\n",
              "  </tbody>\n",
              "</table>\n",
              "</div>\n",
              "      <button class=\"colab-df-convert\" onclick=\"convertToInteractive('df-04bed900-5a42-4bec-9772-edafc460df5c')\"\n",
              "              title=\"Convert this dataframe to an interactive table.\"\n",
              "              style=\"display:none;\">\n",
              "        \n",
              "  <svg xmlns=\"http://www.w3.org/2000/svg\" height=\"24px\"viewBox=\"0 0 24 24\"\n",
              "       width=\"24px\">\n",
              "    <path d=\"M0 0h24v24H0V0z\" fill=\"none\"/>\n",
              "    <path d=\"M18.56 5.44l.94 2.06.94-2.06 2.06-.94-2.06-.94-.94-2.06-.94 2.06-2.06.94zm-11 1L8.5 8.5l.94-2.06 2.06-.94-2.06-.94L8.5 2.5l-.94 2.06-2.06.94zm10 10l.94 2.06.94-2.06 2.06-.94-2.06-.94-.94-2.06-.94 2.06-2.06.94z\"/><path d=\"M17.41 7.96l-1.37-1.37c-.4-.4-.92-.59-1.43-.59-.52 0-1.04.2-1.43.59L10.3 9.45l-7.72 7.72c-.78.78-.78 2.05 0 2.83L4 21.41c.39.39.9.59 1.41.59.51 0 1.02-.2 1.41-.59l7.78-7.78 2.81-2.81c.8-.78.8-2.07 0-2.86zM5.41 20L4 18.59l7.72-7.72 1.47 1.35L5.41 20z\"/>\n",
              "  </svg>\n",
              "      </button>\n",
              "      \n",
              "  <style>\n",
              "    .colab-df-container {\n",
              "      display:flex;\n",
              "      flex-wrap:wrap;\n",
              "      gap: 12px;\n",
              "    }\n",
              "\n",
              "    .colab-df-convert {\n",
              "      background-color: #E8F0FE;\n",
              "      border: none;\n",
              "      border-radius: 50%;\n",
              "      cursor: pointer;\n",
              "      display: none;\n",
              "      fill: #1967D2;\n",
              "      height: 32px;\n",
              "      padding: 0 0 0 0;\n",
              "      width: 32px;\n",
              "    }\n",
              "\n",
              "    .colab-df-convert:hover {\n",
              "      background-color: #E2EBFA;\n",
              "      box-shadow: 0px 1px 2px rgba(60, 64, 67, 0.3), 0px 1px 3px 1px rgba(60, 64, 67, 0.15);\n",
              "      fill: #174EA6;\n",
              "    }\n",
              "\n",
              "    [theme=dark] .colab-df-convert {\n",
              "      background-color: #3B4455;\n",
              "      fill: #D2E3FC;\n",
              "    }\n",
              "\n",
              "    [theme=dark] .colab-df-convert:hover {\n",
              "      background-color: #434B5C;\n",
              "      box-shadow: 0px 1px 3px 1px rgba(0, 0, 0, 0.15);\n",
              "      filter: drop-shadow(0px 1px 2px rgba(0, 0, 0, 0.3));\n",
              "      fill: #FFFFFF;\n",
              "    }\n",
              "  </style>\n",
              "\n",
              "      <script>\n",
              "        const buttonEl =\n",
              "          document.querySelector('#df-04bed900-5a42-4bec-9772-edafc460df5c button.colab-df-convert');\n",
              "        buttonEl.style.display =\n",
              "          google.colab.kernel.accessAllowed ? 'block' : 'none';\n",
              "\n",
              "        async function convertToInteractive(key) {\n",
              "          const element = document.querySelector('#df-04bed900-5a42-4bec-9772-edafc460df5c');\n",
              "          const dataTable =\n",
              "            await google.colab.kernel.invokeFunction('convertToInteractive',\n",
              "                                                     [key], {});\n",
              "          if (!dataTable) return;\n",
              "\n",
              "          const docLinkHtml = 'Like what you see? Visit the ' +\n",
              "            '<a target=\"_blank\" href=https://colab.research.google.com/notebooks/data_table.ipynb>data table notebook</a>'\n",
              "            + ' to learn more about interactive tables.';\n",
              "          element.innerHTML = '';\n",
              "          dataTable['output_type'] = 'display_data';\n",
              "          await google.colab.output.renderOutput(dataTable, element);\n",
              "          const docLink = document.createElement('div');\n",
              "          docLink.innerHTML = docLinkHtml;\n",
              "          element.appendChild(docLink);\n",
              "        }\n",
              "      </script>\n",
              "    </div>\n",
              "  </div>\n",
              "  "
            ],
            "text/plain": [
              "   train_accuracy  test_accuracy\n",
              "0        0.900833       0.865000\n",
              "1        0.958750       0.933333\n",
              "2        0.963333       0.933333\n",
              "3        0.983750       0.953333\n",
              "4        0.970417       0.940000\n",
              "5        0.987083       0.955000\n",
              "6        0.997083       0.953333\n",
              "7        0.995000       0.956667\n",
              "8        0.995000       0.968333\n",
              "9        0.995833       0.968333"
            ]
          },
          "execution_count": 51,
          "metadata": {},
          "output_type": "execute_result"
        }
      ],
      "source": [
        "df_gr()"
      ]
    },
    {
      "cell_type": "code",
      "execution_count": null,
      "metadata": {
        "colab": {
          "base_uri": "https://localhost:8080/",
          "height": 943
        },
        "id": "K18crsMmtux3",
        "outputId": "422a73b7-d3a9-4dbb-9c8c-ae45fa67defb"
      },
      "outputs": [
        {
          "data": {
            "image/png": "[encoded data removed]",
            "text/plain": [
              "<Figure size 432x288 with 1 Axes>"
            ]
          },
          "metadata": {},
          "output_type": "display_data"
        },
        {
          "data": {
            "text/html": [
              "\n",
              "  <div id=\"df-fe5cebdf-3743-4731-9a08-5127f9d276e2\">\n",
              "    <div class=\"colab-df-container\">\n",
              "      <div>\n",
              "<style scoped>\n",
              "    .dataframe tbody tr th:only-of-type {\n",
              "        vertical-align: middle;\n",
              "    }\n",
              "\n",
              "    .dataframe tbody tr th {\n",
              "        vertical-align: top;\n",
              "    }\n",
              "\n",
              "    .dataframe thead th {\n",
              "        text-align: right;\n",
              "    }\n",
              "</style>\n",
              "<table border=\"1\" class=\"dataframe\">\n",
              "  <thead>\n",
              "    <tr style=\"text-align: right;\">\n",
              "      <th></th>\n",
              "      <th>train_accuracy</th>\n",
              "      <th>test_accuracy</th>\n",
              "    </tr>\n",
              "  </thead>\n",
              "  <tbody>\n",
              "    <tr>\n",
              "      <th>0</th>\n",
              "      <td>0.858333</td>\n",
              "      <td>0.841667</td>\n",
              "    </tr>\n",
              "    <tr>\n",
              "      <th>1</th>\n",
              "      <td>0.932083</td>\n",
              "      <td>0.903333</td>\n",
              "    </tr>\n",
              "    <tr>\n",
              "      <th>2</th>\n",
              "      <td>0.951667</td>\n",
              "      <td>0.941667</td>\n",
              "    </tr>\n",
              "    <tr>\n",
              "      <th>3</th>\n",
              "      <td>0.967917</td>\n",
              "      <td>0.941667</td>\n",
              "    </tr>\n",
              "    <tr>\n",
              "      <th>4</th>\n",
              "      <td>0.980833</td>\n",
              "      <td>0.945000</td>\n",
              "    </tr>\n",
              "    <tr>\n",
              "      <th>5</th>\n",
              "      <td>0.987083</td>\n",
              "      <td>0.955000</td>\n",
              "    </tr>\n",
              "    <tr>\n",
              "      <th>6</th>\n",
              "      <td>0.989167</td>\n",
              "      <td>0.953333</td>\n",
              "    </tr>\n",
              "    <tr>\n",
              "      <th>7</th>\n",
              "      <td>0.993750</td>\n",
              "      <td>0.956667</td>\n",
              "    </tr>\n",
              "    <tr>\n",
              "      <th>8</th>\n",
              "      <td>0.988333</td>\n",
              "      <td>0.956667</td>\n",
              "    </tr>\n",
              "    <tr>\n",
              "      <th>9</th>\n",
              "      <td>0.992917</td>\n",
              "      <td>0.958333</td>\n",
              "    </tr>\n",
              "    <tr>\n",
              "      <th>10</th>\n",
              "      <td>0.990417</td>\n",
              "      <td>0.948333</td>\n",
              "    </tr>\n",
              "    <tr>\n",
              "      <th>11</th>\n",
              "      <td>0.995417</td>\n",
              "      <td>0.953333</td>\n",
              "    </tr>\n",
              "    <tr>\n",
              "      <th>12</th>\n",
              "      <td>0.997500</td>\n",
              "      <td>0.966667</td>\n",
              "    </tr>\n",
              "    <tr>\n",
              "      <th>13</th>\n",
              "      <td>0.994583</td>\n",
              "      <td>0.955000</td>\n",
              "    </tr>\n",
              "    <tr>\n",
              "      <th>14</th>\n",
              "      <td>0.993333</td>\n",
              "      <td>0.950000</td>\n",
              "    </tr>\n",
              "    <tr>\n",
              "      <th>15</th>\n",
              "      <td>0.996250</td>\n",
              "      <td>0.955000</td>\n",
              "    </tr>\n",
              "    <tr>\n",
              "      <th>16</th>\n",
              "      <td>0.996250</td>\n",
              "      <td>0.960000</td>\n",
              "    </tr>\n",
              "    <tr>\n",
              "      <th>17</th>\n",
              "      <td>0.998750</td>\n",
              "      <td>0.968333</td>\n",
              "    </tr>\n",
              "    <tr>\n",
              "      <th>18</th>\n",
              "      <td>0.998333</td>\n",
              "      <td>0.966667</td>\n",
              "    </tr>\n",
              "    <tr>\n",
              "      <th>19</th>\n",
              "      <td>0.992083</td>\n",
              "      <td>0.956667</td>\n",
              "    </tr>\n",
              "  </tbody>\n",
              "</table>\n",
              "</div>\n",
              "      <button class=\"colab-df-convert\" onclick=\"convertToInteractive('df-fe5cebdf-3743-4731-9a08-5127f9d276e2')\"\n",
              "              title=\"Convert this dataframe to an interactive table.\"\n",
              "              style=\"display:none;\">\n",
              "        \n",
              "  <svg xmlns=\"http://www.w3.org/2000/svg\" height=\"24px\"viewBox=\"0 0 24 24\"\n",
              "       width=\"24px\">\n",
              "    <path d=\"M0 0h24v24H0V0z\" fill=\"none\"/>\n",
              "    <path d=\"M18.56 5.44l.94 2.06.94-2.06 2.06-.94-2.06-.94-.94-2.06-.94 2.06-2.06.94zm-11 1L8.5 8.5l.94-2.06 2.06-.94-2.06-.94L8.5 2.5l-.94 2.06-2.06.94zm10 10l.94 2.06.94-2.06 2.06-.94-2.06-.94-.94-2.06-.94 2.06-2.06.94z\"/><path d=\"M17.41 7.96l-1.37-1.37c-.4-.4-.92-.59-1.43-.59-.52 0-1.04.2-1.43.59L10.3 9.45l-7.72 7.72c-.78.78-.78 2.05 0 2.83L4 21.41c.39.39.9.59 1.41.59.51 0 1.02-.2 1.41-.59l7.78-7.78 2.81-2.81c.8-.78.8-2.07 0-2.86zM5.41 20L4 18.59l7.72-7.72 1.47 1.35L5.41 20z\"/>\n",
              "  </svg>\n",
              "      </button>\n",
              "      \n",
              "  <style>\n",
              "    .colab-df-container {\n",
              "      display:flex;\n",
              "      flex-wrap:wrap;\n",
              "      gap: 12px;\n",
              "    }\n",
              "\n",
              "    .colab-df-convert {\n",
              "      background-color: #E8F0FE;\n",
              "      border: none;\n",
              "      border-radius: 50%;\n",
              "      cursor: pointer;\n",
              "      display: none;\n",
              "      fill: #1967D2;\n",
              "      height: 32px;\n",
              "      padding: 0 0 0 0;\n",
              "      width: 32px;\n",
              "    }\n",
              "\n",
              "    .colab-df-convert:hover {\n",
              "      background-color: #E2EBFA;\n",
              "      box-shadow: 0px 1px 2px rgba(60, 64, 67, 0.3), 0px 1px 3px 1px rgba(60, 64, 67, 0.15);\n",
              "      fill: #174EA6;\n",
              "    }\n",
              "\n",
              "    [theme=dark] .colab-df-convert {\n",
              "      background-color: #3B4455;\n",
              "      fill: #D2E3FC;\n",
              "    }\n",
              "\n",
              "    [theme=dark] .colab-df-convert:hover {\n",
              "      background-color: #434B5C;\n",
              "      box-shadow: 0px 1px 3px 1px rgba(0, 0, 0, 0.15);\n",
              "      filter: drop-shadow(0px 1px 2px rgba(0, 0, 0, 0.3));\n",
              "      fill: #FFFFFF;\n",
              "    }\n",
              "  </style>\n",
              "\n",
              "      <script>\n",
              "        const buttonEl =\n",
              "          document.querySelector('#df-fe5cebdf-3743-4731-9a08-5127f9d276e2 button.colab-df-convert');\n",
              "        buttonEl.style.display =\n",
              "          google.colab.kernel.accessAllowed ? 'block' : 'none';\n",
              "\n",
              "        async function convertToInteractive(key) {\n",
              "          const element = document.querySelector('#df-fe5cebdf-3743-4731-9a08-5127f9d276e2');\n",
              "          const dataTable =\n",
              "            await google.colab.kernel.invokeFunction('convertToInteractive',\n",
              "                                                     [key], {});\n",
              "          if (!dataTable) return;\n",
              "\n",
              "          const docLinkHtml = 'Like what you see? Visit the ' +\n",
              "            '<a target=\"_blank\" href=https://colab.research.google.com/notebooks/data_table.ipynb>data table notebook</a>'\n",
              "            + ' to learn more about interactive tables.';\n",
              "          element.innerHTML = '';\n",
              "          dataTable['output_type'] = 'display_data';\n",
              "          await google.colab.output.renderOutput(dataTable, element);\n",
              "          const docLink = document.createElement('div');\n",
              "          docLink.innerHTML = docLinkHtml;\n",
              "          element.appendChild(docLink);\n",
              "        }\n",
              "      </script>\n",
              "    </div>\n",
              "  </div>\n",
              "  "
            ],
            "text/plain": [
              "    train_accuracy  test_accuracy\n",
              "0         0.858333       0.841667\n",
              "1         0.932083       0.903333\n",
              "2         0.951667       0.941667\n",
              "3         0.967917       0.941667\n",
              "4         0.980833       0.945000\n",
              "5         0.987083       0.955000\n",
              "6         0.989167       0.953333\n",
              "7         0.993750       0.956667\n",
              "8         0.988333       0.956667\n",
              "9         0.992917       0.958333\n",
              "10        0.990417       0.948333\n",
              "11        0.995417       0.953333\n",
              "12        0.997500       0.966667\n",
              "13        0.994583       0.955000\n",
              "14        0.993333       0.950000\n",
              "15        0.996250       0.955000\n",
              "16        0.996250       0.960000\n",
              "17        0.998750       0.968333\n",
              "18        0.998333       0.966667\n",
              "19        0.992083       0.956667"
            ]
          },
          "execution_count": 22,
          "metadata": {},
          "output_type": "execute_result"
        }
      ],
      "source": [
        "df_gr()"
      ]
    },
    {
      "cell_type": "code",
      "execution_count": null,
      "metadata": {
        "colab": {
          "base_uri": "https://localhost:8080/",
          "height": 754
        },
        "id": "H1_u1dXtrQs3",
        "outputId": "99c03991-597f-49cb-dcbe-16d3c0bc92aa"
      },
      "outputs": [
        {
          "data": {
            "image/png": "[encoded data removed]",
            "text/plain": [
              "<Figure size 432x288 with 1 Axes>"
            ]
          },
          "metadata": {},
          "output_type": "display_data"
        },
        {
          "data": {
            "text/html": [
              "\n",
              "  <div id=\"df-4e74554f-9404-48ec-91d5-dc0324febf2d\">\n",
              "    <div class=\"colab-df-container\">\n",
              "      <div>\n",
              "<style scoped>\n",
              "    .dataframe tbody tr th:only-of-type {\n",
              "        vertical-align: middle;\n",
              "    }\n",
              "\n",
              "    .dataframe tbody tr th {\n",
              "        vertical-align: top;\n",
              "    }\n",
              "\n",
              "    .dataframe thead th {\n",
              "        text-align: right;\n",
              "    }\n",
              "</style>\n",
              "<table border=\"1\" class=\"dataframe\">\n",
              "  <thead>\n",
              "    <tr style=\"text-align: right;\">\n",
              "      <th></th>\n",
              "      <th>train_accuracy</th>\n",
              "      <th>test_accuracy</th>\n",
              "    </tr>\n",
              "  </thead>\n",
              "  <tbody>\n",
              "    <tr>\n",
              "      <th>0</th>\n",
              "      <td>0.918750</td>\n",
              "      <td>0.900000</td>\n",
              "    </tr>\n",
              "    <tr>\n",
              "      <th>1</th>\n",
              "      <td>0.948333</td>\n",
              "      <td>0.933333</td>\n",
              "    </tr>\n",
              "    <tr>\n",
              "      <th>2</th>\n",
              "      <td>0.976250</td>\n",
              "      <td>0.945000</td>\n",
              "    </tr>\n",
              "    <tr>\n",
              "      <th>3</th>\n",
              "      <td>0.983750</td>\n",
              "      <td>0.941667</td>\n",
              "    </tr>\n",
              "    <tr>\n",
              "      <th>4</th>\n",
              "      <td>0.980833</td>\n",
              "      <td>0.953333</td>\n",
              "    </tr>\n",
              "    <tr>\n",
              "      <th>5</th>\n",
              "      <td>0.990833</td>\n",
              "      <td>0.956667</td>\n",
              "    </tr>\n",
              "    <tr>\n",
              "      <th>6</th>\n",
              "      <td>0.992500</td>\n",
              "      <td>0.955000</td>\n",
              "    </tr>\n",
              "    <tr>\n",
              "      <th>7</th>\n",
              "      <td>0.995000</td>\n",
              "      <td>0.958333</td>\n",
              "    </tr>\n",
              "    <tr>\n",
              "      <th>8</th>\n",
              "      <td>0.997917</td>\n",
              "      <td>0.965000</td>\n",
              "    </tr>\n",
              "    <tr>\n",
              "      <th>9</th>\n",
              "      <td>0.997083</td>\n",
              "      <td>0.961667</td>\n",
              "    </tr>\n",
              "    <tr>\n",
              "      <th>10</th>\n",
              "      <td>0.997083</td>\n",
              "      <td>0.958333</td>\n",
              "    </tr>\n",
              "    <tr>\n",
              "      <th>11</th>\n",
              "      <td>0.993750</td>\n",
              "      <td>0.946667</td>\n",
              "    </tr>\n",
              "    <tr>\n",
              "      <th>12</th>\n",
              "      <td>0.998333</td>\n",
              "      <td>0.965000</td>\n",
              "    </tr>\n",
              "    <tr>\n",
              "      <th>13</th>\n",
              "      <td>0.999167</td>\n",
              "      <td>0.961667</td>\n",
              "    </tr>\n",
              "  </tbody>\n",
              "</table>\n",
              "</div>\n",
              "      <button class=\"colab-df-convert\" onclick=\"convertToInteractive('df-4e74554f-9404-48ec-91d5-dc0324febf2d')\"\n",
              "              title=\"Convert this dataframe to an interactive table.\"\n",
              "              style=\"display:none;\">\n",
              "        \n",
              "  <svg xmlns=\"http://www.w3.org/2000/svg\" height=\"24px\"viewBox=\"0 0 24 24\"\n",
              "       width=\"24px\">\n",
              "    <path d=\"M0 0h24v24H0V0z\" fill=\"none\"/>\n",
              "    <path d=\"M18.56 5.44l.94 2.06.94-2.06 2.06-.94-2.06-.94-.94-2.06-.94 2.06-2.06.94zm-11 1L8.5 8.5l.94-2.06 2.06-.94-2.06-.94L8.5 2.5l-.94 2.06-2.06.94zm10 10l.94 2.06.94-2.06 2.06-.94-2.06-.94-.94-2.06-.94 2.06-2.06.94z\"/><path d=\"M17.41 7.96l-1.37-1.37c-.4-.4-.92-.59-1.43-.59-.52 0-1.04.2-1.43.59L10.3 9.45l-7.72 7.72c-.78.78-.78 2.05 0 2.83L4 21.41c.39.39.9.59 1.41.59.51 0 1.02-.2 1.41-.59l7.78-7.78 2.81-2.81c.8-.78.8-2.07 0-2.86zM5.41 20L4 18.59l7.72-7.72 1.47 1.35L5.41 20z\"/>\n",
              "  </svg>\n",
              "      </button>\n",
              "      \n",
              "  <style>\n",
              "    .colab-df-container {\n",
              "      display:flex;\n",
              "      flex-wrap:wrap;\n",
              "      gap: 12px;\n",
              "    }\n",
              "\n",
              "    .colab-df-convert {\n",
              "      background-color: #E8F0FE;\n",
              "      border: none;\n",
              "      border-radius: 50%;\n",
              "      cursor: pointer;\n",
              "      display: none;\n",
              "      fill: #1967D2;\n",
              "      height: 32px;\n",
              "      padding: 0 0 0 0;\n",
              "      width: 32px;\n",
              "    }\n",
              "\n",
              "    .colab-df-convert:hover {\n",
              "      background-color: #E2EBFA;\n",
              "      box-shadow: 0px 1px 2px rgba(60, 64, 67, 0.3), 0px 1px 3px 1px rgba(60, 64, 67, 0.15);\n",
              "      fill: #174EA6;\n",
              "    }\n",
              "\n",
              "    [theme=dark] .colab-df-convert {\n",
              "      background-color: #3B4455;\n",
              "      fill: #D2E3FC;\n",
              "    }\n",
              "\n",
              "    [theme=dark] .colab-df-convert:hover {\n",
              "      background-color: #434B5C;\n",
              "      box-shadow: 0px 1px 3px 1px rgba(0, 0, 0, 0.15);\n",
              "      filter: drop-shadow(0px 1px 2px rgba(0, 0, 0, 0.3));\n",
              "      fill: #FFFFFF;\n",
              "    }\n",
              "  </style>\n",
              "\n",
              "      <script>\n",
              "        const buttonEl =\n",
              "          document.querySelector('#df-4e74554f-9404-48ec-91d5-dc0324febf2d button.colab-df-convert');\n",
              "        buttonEl.style.display =\n",
              "          google.colab.kernel.accessAllowed ? 'block' : 'none';\n",
              "\n",
              "        async function convertToInteractive(key) {\n",
              "          const element = document.querySelector('#df-4e74554f-9404-48ec-91d5-dc0324febf2d');\n",
              "          const dataTable =\n",
              "            await google.colab.kernel.invokeFunction('convertToInteractive',\n",
              "                                                     [key], {});\n",
              "          if (!dataTable) return;\n",
              "\n",
              "          const docLinkHtml = 'Like what you see? Visit the ' +\n",
              "            '<a target=\"_blank\" href=https://colab.research.google.com/notebooks/data_table.ipynb>data table notebook</a>'\n",
              "            + ' to learn more about interactive tables.';\n",
              "          element.innerHTML = '';\n",
              "          dataTable['output_type'] = 'display_data';\n",
              "          await google.colab.output.renderOutput(dataTable, element);\n",
              "          const docLink = document.createElement('div');\n",
              "          docLink.innerHTML = docLinkHtml;\n",
              "          element.appendChild(docLink);\n",
              "        }\n",
              "      </script>\n",
              "    </div>\n",
              "  </div>\n",
              "  "
            ],
            "text/plain": [
              "    train_accuracy  test_accuracy\n",
              "0         0.918750       0.900000\n",
              "1         0.948333       0.933333\n",
              "2         0.976250       0.945000\n",
              "3         0.983750       0.941667\n",
              "4         0.980833       0.953333\n",
              "5         0.990833       0.956667\n",
              "6         0.992500       0.955000\n",
              "7         0.995000       0.958333\n",
              "8         0.997917       0.965000\n",
              "9         0.997083       0.961667\n",
              "10        0.997083       0.958333\n",
              "11        0.993750       0.946667\n",
              "12        0.998333       0.965000\n",
              "13        0.999167       0.961667"
            ]
          },
          "execution_count": 21,
          "metadata": {},
          "output_type": "execute_result"
        }
      ],
      "source": [
        "df_gr()"
      ]
    },
    {
      "cell_type": "markdown",
      "metadata": {
        "id": "6LUxIEIsZjKT"
      },
      "source": [
        "# RAM足りないModel"
      ]
    },
    {
      "cell_type": "code",
      "execution_count": null,
      "metadata": {
        "id": "FNTMSCBuztMd"
      },
      "outputs": [],
      "source": [
        "from common.layers import Convolution, MaxPooling, ReLU, Affine, SoftmaxWithLoss, Dropout,BatchNormalization\n",
        "from common.optimizer import RMSProp\n",
        "from common.util import im2col, col2im\n",
        "\n",
        "import numpy as np\n",
        "import pandas as pd\n",
        "import matplotlib.pyplot as plt\n",
        "# from common.layers import TwoLayerNet\n",
        "from sklearn.model_selection import train_test_split\n",
        "import pickle\n",
        "import seaborn as sns\n",
        "from sklearn.metrics import accuracy_score\n",
        "from collections import OrderedDict\n",
        "\n",
        "class SimpleConvNet:\n",
        "    def __init__(self, input_dim=(1, 28, 28), \n",
        "                 conv_param={'filter_num':32, 'filter_size':3, 'pad':0, 'stride':1},\n",
        "                 pool_param={'pool_size':2, 'pad':0, 'stride':2},\n",
        "                 hidden_size=128, output_size=10, weight_init_std=0.01):\n",
        "                \n",
        "        filter_num = conv_param['filter_num']\n",
        "        filter_size = conv_param['filter_size']\n",
        "        filter_pad = conv_param['pad']\n",
        "        filter_stride = conv_param['stride']\n",
        "        \n",
        "        pool_size = pool_param['pool_size']\n",
        "        pool_pad = pool_param['pad']\n",
        "        pool_stride = pool_param['stride']\n",
        "\n",
        "        filter_num2 = 128\n",
        "        filter_num3 = 256\n",
        "        hidden_size2 = 64\n",
        "        \n",
        "        input_size = input_dim[1]\n",
        "        conv_output_size = (input_size + 2*filter_pad - filter_size) // filter_stride + 1 # 畳み込み後のサイズ(H,W共通)\n",
        "        pool_output_size = (conv_output_size + 2*pool_pad - pool_size) // pool_stride + 1 # プーリング後のサイズ(H,W共通)\n",
        "        pool_output_pixel = filter_num2 * pool_output_size * pool_output_size # プーリング後のピクセル総数\n",
        "\n",
        "        # Heを使う\n",
        "        pre_node_nums = np.array([filter_num*input_dim[0]*filter_num,\n",
        "                                  filter_num2*filter_num2*filter_num,\n",
        "                                  filter_num2*filter_num3*filter_num,\n",
        "                                  filter_num3*filter_num3*filter_num,\n",
        "                                  filter_num3*filter_num3,\n",
        "                                  pool_output_pixel,\n",
        "                                  hidden_size\n",
        "                                  ])\n",
        "        wi_scales = np.sqrt(2/pre_node_nums)\n",
        "\n",
        "        # 重みの初期化\n",
        "        self.params = {}\n",
        "        std = weight_init_std\n",
        "        # 64\n",
        "        self.params['W1'] = wi_scales[0] * np.random.randn(filter_num, input_dim[0], filter_size, filter_size) # W1は畳み込みフィルターの重みになる\n",
        "        self.params['b1'] = np.zeros(filter_num) #b1は畳み込みフィルターのバイアスになる\n",
        "        self.params['W12'] = wi_scales[1] * np.random.randn(filter_num, filter_num, filter_size, filter_size) # W1は畳み込みフィルターの重みになる\n",
        "        self.params['b12'] = np.zeros(filter_num) #b1は畳み込みフィルターのバイアスになる\n",
        "        # 128\n",
        "        self.params['W21'] = wi_scales[2] * np.random.randn(filter_num2, filter_num, filter_size, filter_size) # W1は畳み込みフィルターの重みになる\n",
        "        self.params['b21'] = np.zeros(filter_num2) #b1は畳み込みフィルターのバイアスになる\n",
        "        self.params['W22'] = wi_scales[3] * np.random.randn(filter_num2, filter_num2, filter_size, filter_size) # W1は畳み込みフィルターの重みになる\n",
        "        self.params['b22'] = np.zeros(filter_num2) #b1は畳み込みフィルターのバイアスになる\n",
        "        # 256\n",
        "        self.params['W31'] = wi_scales[4] * np.random.randn(filter_num3, filter_num2, filter_size, filter_size) # W1は畳み込みフィルターの重みになる\n",
        "        self.params['b31'] = np.zeros(filter_num3) #b1は畳み込みフィルターのバイアスになる\n",
        "\n",
        "\n",
        "        self.params['W2'] = wi_scales[5] *  np.random.randn(2304, hidden_size)\n",
        "        print(wi_scales[1],pool_output_pixel,hidden_size)\n",
        "        self.params['b2'] = np.zeros(hidden_size)\n",
        "        # self.params['W3'] = wi_scales[2] *  np.random.randn(hidden_size, hidden_size2)\n",
        "        # self.params['b3'] = np.zeros(hidden_size2)\n",
        "        self.params['W4'] = wi_scales[6] *  np.random.randn(hidden_size, output_size)\n",
        "        self.params['b4'] = np.zeros(output_size)\n",
        "\n",
        "        # レイヤの生成\n",
        "        self.layers = OrderedDict()\n",
        "        self.layers['Conv1'] = Convolution(self.params['W1'], self.params['b1'],\n",
        "                                           conv_param['stride'], conv_param['pad']) # W1が畳み込みフィルターの重み, b1が畳み込みフィルターのバイアスになる\n",
        "        self.layers['ReLU1'] = ReLU()\n",
        "        \n",
        "        self.layers['Conv2'] = Convolution(self.params['W12'], self.params['b12'],\n",
        "                                           conv_param['stride'], conv_param['pad']) # W1が畳み込みフィルターの重み, b1が畳み込みフィルターのバイアスになる\n",
        "        self.layers['ReLU2'] = ReLU()\n",
        "        self.layers['Pool1'] = MaxPooling(pool_h=pool_size, pool_w=pool_size, stride=pool_stride, pad=pool_pad)\n",
        "        self.layers['BatchNorm1'] = BatchNormalization(gamma=1,beta=0)\n",
        "\n",
        "        self.layers['Conv3'] = Convolution(self.params['W21'], self.params['b21'],\n",
        "                                           conv_param['stride'], conv_param['pad']) # W1が畳み込みフィルターの重み, b1が畳み込みフィルターのバイアスになる\n",
        "        self.layers['ReLU3'] = ReLU()\n",
        "        \n",
        "        self.layers['Conv4'] = Convolution(self.params['W22'], self.params['b22'],\n",
        "                                           conv_param['stride'], conv_param['pad']) # W1が畳み込みフィルターの重み, b1が畳み込みフィルターのバイアスになる\n",
        "        self.layers['ReLU4'] = ReLU()\n",
        "        self.layers['Pool2'] = MaxPooling(pool_h=pool_size, pool_w=pool_size, stride=pool_stride, pad=pool_pad)\n",
        "        self.layers['BatchNorm2'] = BatchNormalization(gamma=1,beta=0)\n",
        "\n",
        "        self.layers['Conv5'] = Convolution(self.params['W31'], self.params['b31'],\n",
        "                                           conv_param['stride'], conv_param['pad']) # W1が畳み込みフィルターの重み, b1が畳み込みフィルターのバイアスになる\n",
        "        self.layers['ReLU5'] = ReLU()\n",
        "        self.layers['Pool3'] = MaxPooling(pool_h=pool_size, pool_w=pool_size, stride=pool_stride, pad=pool_pad)\n",
        "        self.layers['BatchNorm3'] = BatchNormalization(gamma=1,beta=0)\n",
        "\n",
        "\n",
        "        # self.layers['Pool2'] = MaxPooling(pool_h=pool_size, pool_w=pool_size, stride=pool_stride, pad=pool_pad)\n",
        "\n",
        "        self.layers['Affine1'] = Affine(self.params['W2'], self.params['b2'])\n",
        "        # self.layers['BatchNorm'] = BatchNormalization(gamma=1,beta=0)\n",
        "        self.layers['ReLU2'] = ReLU()\n",
        "        self.layers['Dropout1'] = Dropout(dropout_ratio=0.5)\n",
        "        # self.layers['Affine2'] = Affine(self.params['W3'], self.params['b3'])\n",
        "        # self.layers['ReLU4'] = ReLU()\n",
        "        self.layers['Affine3'] = Affine(self.params['W4'], self.params['b4'])\n",
        "\n",
        "        print(\"self.params['W1']\",self.params['W1'].shape)\n",
        "        print(\"self.params['W12']\",self.params['W12'].shape)\n",
        "        print(\"self.params['W2']\",self.params['W2'].shape)\n",
        "        # print(\"self.params['W3']\",self.params['W3'].shape)\n",
        "        print(\"self.params['W4']\",self.params['W4'].shape)\n",
        "\n",
        "        self.last_layer = SoftmaxWithLoss()\n",
        "\n",
        "    def predict(self, x):\n",
        "        for layer in self.layers.values():\n",
        "            x = layer.forward(x)\n",
        "            # print('predict x.shape',x.shape)\n",
        "\n",
        "        return x\n",
        "\n",
        "    def loss(self, x, t):\n",
        "        \"\"\"\n",
        "        損失関数\n",
        "        \"\"\"        \n",
        "        y = self.predict(x)\n",
        "        return self.last_layer.forward(y, t)\n",
        "\n",
        "    def accuracy(self, x, t, batch_size=100):\n",
        "        if t.ndim != 1 : t = np.argmax(t, axis=1)\n",
        "        \n",
        "        acc = 0.0\n",
        "        \n",
        "        for i in range(int(x.shape[0] / batch_size)):\n",
        "            tx = x[i*batch_size:(i+1)*batch_size]\n",
        "            tt = t[i*batch_size:(i+1)*batch_size]\n",
        "            y = self.predict(tx)\n",
        "            y = np.argmax(y, axis=1)\n",
        "            acc += np.sum(y == tt) \n",
        "        \n",
        "        return acc / x.shape[0]\n",
        "\n",
        "    def gradient(self, x, t):\n",
        "        \"\"\"勾配を求める（誤差逆伝播法）\n",
        "        \"\"\"\n",
        "        # forward\n",
        "        self.loss(x, t)\n",
        "\n",
        "        # backward\n",
        "        dout = 1\n",
        "        dout = self.last_layer.backward(dout)\n",
        "        # print('dout.shape',dout.shape)\n",
        "\n",
        "        layers = list(self.layers.values())\n",
        "        layers.reverse()\n",
        "        for layer in layers:\n",
        "            dout = layer.backward(dout)\n",
        "            # print('layer.backward(dout)',dout.shape)\n",
        "\n",
        "        # 設定\n",
        "        grads = {}\n",
        "        grads['W1'], grads['b1'] = self.layers['Conv1'].dW, self.layers['Conv1'].db\n",
        "        grads['W12'], grads['b12'] = self.layers['Conv2'].dW, self.layers['Conv2'].db\n",
        "        grads['W21'], grads['b21'] = self.layers['Conv3'].dW, self.layers['Conv3'].db\n",
        "        grads['W22'], grads['b22'] = self.layers['Conv4'].dW, self.layers['Conv4'].db\n",
        "        grads['W31'], grads['b31'] = self.layers['Conv5'].dW, self.layers['Conv5'].db\n",
        "        grads['W2'], grads['b2'] = self.layers['Affine1'].dW, self.layers['Affine1'].db\n",
        "        # grads['W3'], grads['b3'] = self.layers['Affine2'].dW, self.layers['Affine2'].db\n",
        "        grads['W4'], grads['b4'] = self.layers['Affine3'].dW, self.layers['Affine3'].db\n",
        "\n",
        "        return grads"
      ]
    },
    {
      "cell_type": "code",
      "execution_count": null,
      "metadata": {
        "id": "adBvKMkSLhrZ"
      },
      "outputs": [],
      "source": [
        "class Adam:\n",
        "\n",
        "    # インスタンス変数を定義\n",
        "    def __init__(self, lr=0.001, beta1=0.9, beta2=0.999):\n",
        "        self.lr = lr # 学習率\n",
        "        self.beta1 = beta1 # mの減衰率\n",
        "        self.beta2 = beta2 # vの減衰率\n",
        "        self.iter = 0 # 試行回数を初期化\n",
        "        self.m = None # モーメンタム\n",
        "        self.v = None # 適合的な学習係数\n",
        "    \n",
        "    # パラメータの更新メソッドを定義\n",
        "    def update(self, params, grads):\n",
        "        # mとvを初期化\n",
        "        if self.m is None: # 初回のみ\n",
        "            self.m = {}\n",
        "            self.v = {}\n",
        "            for key, val in params.items():\n",
        "                self.m[key] = np.zeros_like(val) # 全ての要素が0\n",
        "                self.v[key] = np.zeros_like(val) # 全ての要素が0\n",
        "        \n",
        "        # パラメータごとに値を更新\n",
        "        self.iter += 1 # 更新回数をカウント\n",
        "        lr_t  = self.lr * np.sqrt(1.0 - self.beta2 ** self.iter) / (1.0 - self.beta1 ** self.iter) # 式(6)の学習率の項\n",
        "        for key in params.keys():\n",
        "            self.m[key] = self.beta1 * self.m[key] + (1 - self.beta1) * grads[key] # 式(1)\n",
        "            self.v[key] = self.beta2 * self.v[key] + (1 - self.beta2) * (grads[key] ** 2) # 式(2)\n",
        "            params[key] -= lr_t * self.m[key] / (np.sqrt(self.v[key]) + 1e-7) # 式(6)"
      ]
    },
    {
      "cell_type": "code",
      "execution_count": null,
      "metadata": {
        "colab": {
          "base_uri": "https://localhost:8080/"
        },
        "id": "RA7QzMbzzgr2",
        "outputId": "ab4f38ef-0303-4c5f-a529-97687960327e"
      },
      "outputs": [
        {
          "name": "stderr",
          "output_type": "stream",
          "text": [
            "/usr/local/lib/python3.7/dist-packages/ipykernel_launcher.py:8: DeprecationWarning: `np.int` is a deprecated alias for the builtin `int`. To silence this warning, use `int` by itself. Doing this will not modify any behavior and is safe. When replacing `np.int`, you may wish to use e.g. `np.int64` or `np.int32` to specify the precision. If you wish to review your current use, check the release note link for additional information.\n",
            "Deprecated in NumPy 1.20; for more details and guidance: https://numpy.org/devdocs/release/1.20.0-notes.html#deprecations\n",
            "  \n"
          ]
        },
        {
          "name": "stdout",
          "output_type": "stream",
          "text": [
            "0.015625 25088 512\n",
            "self.params['W1'] (64, 1, 3, 3)\n",
            "self.params['W12'] (64, 64, 3, 3)\n",
            "self.params['W2'] (2304, 512)\n",
            "self.params['W4'] (512, 15)\n"
          ]
        }
      ],
      "source": [
        "epochs = 14\n",
        "batch_size = 128\n",
        "\n",
        "# optimizer = RMSProp(lr=0.001, rho=0.9)\n",
        "optimizer = Adam(lr=0.01, beta1=0.8, beta2=0.98) #Adam\n",
        "\n",
        "# 繰り返し回数\n",
        "xsize = x.shape[0]\n",
        "iter_num = np.ceil(xsize / batch_size).astype(np.int)\n",
        "\n",
        "\n",
        "# CNNのオブジェクト生成\n",
        "snet = SimpleConvNet(input_dim=(1, 28, 28), \n",
        "                     conv_param={'filter_num2':128,'filter_num':64,'filter_size':3, 'pad':1, 'stride':1},\n",
        "                     pool_param={'pool_size':2, 'pad':0, 'stride':2},\n",
        "                     hidden_size=512, output_size=15, weight_init_std=0.01)\n",
        "\n",
        "train_loss = []\n",
        "test_loss = []\n",
        "train_accuracy = []\n",
        "test_accuracy = []\n",
        "\n",
        "for epoch in range(epochs):\n",
        "    # print(\"epoch=%s\"%epoch)\n",
        "\n",
        "    # シャッフル\n",
        "    idx = np.arange(xsize)\n",
        "    np.random.shuffle(idx)\n",
        "\n",
        "    for it in range(iter_num):\n",
        "        \"\"\"\n",
        "        ランダムなミニバッチを順番に取り出す\n",
        "        \"\"\"\n",
        "        # print(\"it=\", it)\n",
        "        mask = idx[batch_size*it : batch_size*(it+1)]\n",
        "\n",
        "        # ミニバッチの生成\n",
        "        x_train = x[mask]\n",
        "        t_train = t[mask]\n",
        "\n",
        "        # print('x_train.shape',x_train.shape)\n",
        "        # print('t_train.shape',t_train.shape)\n",
        "        # 勾配の計算 (誤差逆伝播法を用いる) \n",
        "        grads = snet.gradient(x_train, t_train)\n",
        "\n",
        "        # 更新\n",
        "        optimizer.update(snet.params, grads)\n",
        "\n",
        "    ## 学習経過の記録  \n",
        "    l_loss = snet.loss(x,  t)\n",
        "\n",
        "    train_loss.append(l_loss)\n",
        "    X_test = X_test.reshape(-1,1,28,28)\n",
        "    test_loss.append(snet.loss(X_test, y_test))\n",
        "    train_accuracy.append(snet.accuracy(x, t))\n",
        "    \n",
        "    t_accuracy = snet.accuracy(X_test, y_test)\n",
        "    test_accuracy.append(t_accuracy)\n",
        "\n",
        "    print('loss,test_accuracy',l_loss, t_accuracy)"
      ]
    },
    {
      "cell_type": "code",
      "execution_count": null,
      "metadata": {
        "id": "JfSNNW5M9ePO"
      },
      "outputs": [],
      "source": [
        "'''\n",
        "self.params['W1'] (64, 1, 3, 3)\n",
        "self.params['W2'] (12544, 128)\n",
        "self.params['W4'] (128, 15)\n",
        "dout.shape (30, 15) softmax\n",
        "layer.backward(dout) (30, 128) affine2\n",
        "layer.backward(dout) (30, 128) relu\n",
        "layer.backward(dout) (30, 128) affine1\n",
        "layer.backward(dout) (30, 64, 12, 12) pooling\n",
        "layer.backward(dout) (30, 64, 12, 12) conv\n",
        "layer.backward(dout) (30, 64, 14, 14) batchNorm\n",
        "layer.backward(dout) (30, 64, 14, 14) pooling\n",
        "layer.backward(dout) (30, 64, 28, 28) relu\n",
        "layer.backward(dout) (30, 64, 28, 28) conv\n",
        "layer.backward(dout) (30, 1, 28, 28) input\n",
        "'''\n",
        "df_gr()"
      ]
    },
    {
      "cell_type": "code",
      "execution_count": null,
      "metadata": {
        "colab": {
          "base_uri": "https://localhost:8080/",
          "height": 629
        },
        "id": "DcWx20Ci5nml",
        "outputId": "8bb123ea-9041-4c98-a3eb-61830bfa8af9"
      },
      "outputs": [
        {
          "data": {
            "image/png": "[encoded data removed]",
            "text/plain": [
              "<Figure size 432x288 with 1 Axes>"
            ]
          },
          "metadata": {},
          "output_type": "display_data"
        },
        {
          "data": {
            "text/html": [
              "\n",
              "  <div id=\"df-7c23272d-2c02-4650-95bd-b862b0975142\">\n",
              "    <div class=\"colab-df-container\">\n",
              "      <div>\n",
              "<style scoped>\n",
              "    .dataframe tbody tr th:only-of-type {\n",
              "        vertical-align: middle;\n",
              "    }\n",
              "\n",
              "    .dataframe tbody tr th {\n",
              "        vertical-align: top;\n",
              "    }\n",
              "\n",
              "    .dataframe thead th {\n",
              "        text-align: right;\n",
              "    }\n",
              "</style>\n",
              "<table border=\"1\" class=\"dataframe\">\n",
              "  <thead>\n",
              "    <tr style=\"text-align: right;\">\n",
              "      <th></th>\n",
              "      <th>train_accuracy</th>\n",
              "      <th>test_accuracy</th>\n",
              "    </tr>\n",
              "  </thead>\n",
              "  <tbody>\n",
              "    <tr>\n",
              "      <th>0</th>\n",
              "      <td>0.882917</td>\n",
              "      <td>0.856667</td>\n",
              "    </tr>\n",
              "    <tr>\n",
              "      <th>1</th>\n",
              "      <td>0.936250</td>\n",
              "      <td>0.885000</td>\n",
              "    </tr>\n",
              "    <tr>\n",
              "      <th>2</th>\n",
              "      <td>0.962500</td>\n",
              "      <td>0.918333</td>\n",
              "    </tr>\n",
              "    <tr>\n",
              "      <th>3</th>\n",
              "      <td>0.966667</td>\n",
              "      <td>0.896667</td>\n",
              "    </tr>\n",
              "    <tr>\n",
              "      <th>4</th>\n",
              "      <td>0.977500</td>\n",
              "      <td>0.918333</td>\n",
              "    </tr>\n",
              "    <tr>\n",
              "      <th>5</th>\n",
              "      <td>0.984167</td>\n",
              "      <td>0.913333</td>\n",
              "    </tr>\n",
              "    <tr>\n",
              "      <th>6</th>\n",
              "      <td>0.989167</td>\n",
              "      <td>0.936667</td>\n",
              "    </tr>\n",
              "    <tr>\n",
              "      <th>7</th>\n",
              "      <td>0.990000</td>\n",
              "      <td>0.915000</td>\n",
              "    </tr>\n",
              "    <tr>\n",
              "      <th>8</th>\n",
              "      <td>0.991667</td>\n",
              "      <td>0.913333</td>\n",
              "    </tr>\n",
              "    <tr>\n",
              "      <th>9</th>\n",
              "      <td>0.992083</td>\n",
              "      <td>0.903333</td>\n",
              "    </tr>\n",
              "  </tbody>\n",
              "</table>\n",
              "</div>\n",
              "      <button class=\"colab-df-convert\" onclick=\"convertToInteractive('df-7c23272d-2c02-4650-95bd-b862b0975142')\"\n",
              "              title=\"Convert this dataframe to an interactive table.\"\n",
              "              style=\"display:none;\">\n",
              "        \n",
              "  <svg xmlns=\"http://www.w3.org/2000/svg\" height=\"24px\"viewBox=\"0 0 24 24\"\n",
              "       width=\"24px\">\n",
              "    <path d=\"M0 0h24v24H0V0z\" fill=\"none\"/>\n",
              "    <path d=\"M18.56 5.44l.94 2.06.94-2.06 2.06-.94-2.06-.94-.94-2.06-.94 2.06-2.06.94zm-11 1L8.5 8.5l.94-2.06 2.06-.94-2.06-.94L8.5 2.5l-.94 2.06-2.06.94zm10 10l.94 2.06.94-2.06 2.06-.94-2.06-.94-.94-2.06-.94 2.06-2.06.94z\"/><path d=\"M17.41 7.96l-1.37-1.37c-.4-.4-.92-.59-1.43-.59-.52 0-1.04.2-1.43.59L10.3 9.45l-7.72 7.72c-.78.78-.78 2.05 0 2.83L4 21.41c.39.39.9.59 1.41.59.51 0 1.02-.2 1.41-.59l7.78-7.78 2.81-2.81c.8-.78.8-2.07 0-2.86zM5.41 20L4 18.59l7.72-7.72 1.47 1.35L5.41 20z\"/>\n",
              "  </svg>\n",
              "      </button>\n",
              "      \n",
              "  <style>\n",
              "    .colab-df-container {\n",
              "      display:flex;\n",
              "      flex-wrap:wrap;\n",
              "      gap: 12px;\n",
              "    }\n",
              "\n",
              "    .colab-df-convert {\n",
              "      background-color: #E8F0FE;\n",
              "      border: none;\n",
              "      border-radius: 50%;\n",
              "      cursor: pointer;\n",
              "      display: none;\n",
              "      fill: #1967D2;\n",
              "      height: 32px;\n",
              "      padding: 0 0 0 0;\n",
              "      width: 32px;\n",
              "    }\n",
              "\n",
              "    .colab-df-convert:hover {\n",
              "      background-color: #E2EBFA;\n",
              "      box-shadow: 0px 1px 2px rgba(60, 64, 67, 0.3), 0px 1px 3px 1px rgba(60, 64, 67, 0.15);\n",
              "      fill: #174EA6;\n",
              "    }\n",
              "\n",
              "    [theme=dark] .colab-df-convert {\n",
              "      background-color: #3B4455;\n",
              "      fill: #D2E3FC;\n",
              "    }\n",
              "\n",
              "    [theme=dark] .colab-df-convert:hover {\n",
              "      background-color: #434B5C;\n",
              "      box-shadow: 0px 1px 3px 1px rgba(0, 0, 0, 0.15);\n",
              "      filter: drop-shadow(0px 1px 2px rgba(0, 0, 0, 0.3));\n",
              "      fill: #FFFFFF;\n",
              "    }\n",
              "  </style>\n",
              "\n",
              "      <script>\n",
              "        const buttonEl =\n",
              "          document.querySelector('#df-7c23272d-2c02-4650-95bd-b862b0975142 button.colab-df-convert');\n",
              "        buttonEl.style.display =\n",
              "          google.colab.kernel.accessAllowed ? 'block' : 'none';\n",
              "\n",
              "        async function convertToInteractive(key) {\n",
              "          const element = document.querySelector('#df-7c23272d-2c02-4650-95bd-b862b0975142');\n",
              "          const dataTable =\n",
              "            await google.colab.kernel.invokeFunction('convertToInteractive',\n",
              "                                                     [key], {});\n",
              "          if (!dataTable) return;\n",
              "\n",
              "          const docLinkHtml = 'Like what you see? Visit the ' +\n",
              "            '<a target=\"_blank\" href=https://colab.research.google.com/notebooks/data_table.ipynb>data table notebook</a>'\n",
              "            + ' to learn more about interactive tables.';\n",
              "          element.innerHTML = '';\n",
              "          dataTable['output_type'] = 'display_data';\n",
              "          await google.colab.output.renderOutput(dataTable, element);\n",
              "          const docLink = document.createElement('div');\n",
              "          docLink.innerHTML = docLinkHtml;\n",
              "          element.appendChild(docLink);\n",
              "        }\n",
              "      </script>\n",
              "    </div>\n",
              "  </div>\n",
              "  "
            ],
            "text/plain": [
              "   train_accuracy  test_accuracy\n",
              "0        0.882917       0.856667\n",
              "1        0.936250       0.885000\n",
              "2        0.962500       0.918333\n",
              "3        0.966667       0.896667\n",
              "4        0.977500       0.918333\n",
              "5        0.984167       0.913333\n",
              "6        0.989167       0.936667\n",
              "7        0.990000       0.915000\n",
              "8        0.991667       0.913333\n",
              "9        0.992083       0.903333"
            ]
          },
          "execution_count": 77,
          "metadata": {},
          "output_type": "execute_result"
        }
      ],
      "source": [
        "'''\n",
        "dout.shape (32, 15) softmax\n",
        "layer.backward(dout) (32, 128) affine2\n",
        "layer.backward(dout) (32, 128) relu\n",
        "layer.backward(dout) (32, 128) affine1\n",
        "layer.backward(dout) (32, 32, 14, 14) batchNorm\n",
        "layer.backward(dout) (32, 32, 14, 14) pooling\n",
        "layer.backward(dout) (32, 32, 28, 28) relu\n",
        "layer.backward(dout) (32, 32, 28, 28) conv\n",
        "layer.backward(dout) (32, 1, 28, 28)  input\n",
        "'''\n",
        "df_gr()"
      ]
    },
    {
      "cell_type": "code",
      "execution_count": null,
      "metadata": {
        "colab": {
          "base_uri": "https://localhost:8080/",
          "height": 629
        },
        "id": "aCXQyg_41c8j",
        "outputId": "8838b96a-2681-4ec2-c863-874adf8569f7"
      },
      "outputs": [
        {
          "data": {
            "image/png": "[encoded data removed]",
            "text/plain": [
              "<Figure size 432x288 with 1 Axes>"
            ]
          },
          "metadata": {},
          "output_type": "display_data"
        },
        {
          "data": {
            "text/html": [
              "\n",
              "  <div id=\"df-66cbe4d7-e6ed-4a48-8846-89750fc52be9\">\n",
              "    <div class=\"colab-df-container\">\n",
              "      <div>\n",
              "<style scoped>\n",
              "    .dataframe tbody tr th:only-of-type {\n",
              "        vertical-align: middle;\n",
              "    }\n",
              "\n",
              "    .dataframe tbody tr th {\n",
              "        vertical-align: top;\n",
              "    }\n",
              "\n",
              "    .dataframe thead th {\n",
              "        text-align: right;\n",
              "    }\n",
              "</style>\n",
              "<table border=\"1\" class=\"dataframe\">\n",
              "  <thead>\n",
              "    <tr style=\"text-align: right;\">\n",
              "      <th></th>\n",
              "      <th>train_accuracy</th>\n",
              "      <th>test_accuracy</th>\n",
              "    </tr>\n",
              "  </thead>\n",
              "  <tbody>\n",
              "    <tr>\n",
              "      <th>0</th>\n",
              "      <td>0.754583</td>\n",
              "      <td>0.746667</td>\n",
              "    </tr>\n",
              "    <tr>\n",
              "      <th>1</th>\n",
              "      <td>0.847917</td>\n",
              "      <td>0.816667</td>\n",
              "    </tr>\n",
              "    <tr>\n",
              "      <th>2</th>\n",
              "      <td>0.924167</td>\n",
              "      <td>0.885000</td>\n",
              "    </tr>\n",
              "    <tr>\n",
              "      <th>3</th>\n",
              "      <td>0.949167</td>\n",
              "      <td>0.903333</td>\n",
              "    </tr>\n",
              "    <tr>\n",
              "      <th>4</th>\n",
              "      <td>0.969167</td>\n",
              "      <td>0.901667</td>\n",
              "    </tr>\n",
              "    <tr>\n",
              "      <th>5</th>\n",
              "      <td>0.963333</td>\n",
              "      <td>0.880000</td>\n",
              "    </tr>\n",
              "    <tr>\n",
              "      <th>6</th>\n",
              "      <td>0.987917</td>\n",
              "      <td>0.918333</td>\n",
              "    </tr>\n",
              "    <tr>\n",
              "      <th>7</th>\n",
              "      <td>0.994583</td>\n",
              "      <td>0.911667</td>\n",
              "    </tr>\n",
              "    <tr>\n",
              "      <th>8</th>\n",
              "      <td>0.997500</td>\n",
              "      <td>0.915000</td>\n",
              "    </tr>\n",
              "    <tr>\n",
              "      <th>9</th>\n",
              "      <td>0.998750</td>\n",
              "      <td>0.908333</td>\n",
              "    </tr>\n",
              "  </tbody>\n",
              "</table>\n",
              "</div>\n",
              "      <button class=\"colab-df-convert\" onclick=\"convertToInteractive('df-66cbe4d7-e6ed-4a48-8846-89750fc52be9')\"\n",
              "              title=\"Convert this dataframe to an interactive table.\"\n",
              "              style=\"display:none;\">\n",
              "        \n",
              "  <svg xmlns=\"http://www.w3.org/2000/svg\" height=\"24px\"viewBox=\"0 0 24 24\"\n",
              "       width=\"24px\">\n",
              "    <path d=\"M0 0h24v24H0V0z\" fill=\"none\"/>\n",
              "    <path d=\"M18.56 5.44l.94 2.06.94-2.06 2.06-.94-2.06-.94-.94-2.06-.94 2.06-2.06.94zm-11 1L8.5 8.5l.94-2.06 2.06-.94-2.06-.94L8.5 2.5l-.94 2.06-2.06.94zm10 10l.94 2.06.94-2.06 2.06-.94-2.06-.94-.94-2.06-.94 2.06-2.06.94z\"/><path d=\"M17.41 7.96l-1.37-1.37c-.4-.4-.92-.59-1.43-.59-.52 0-1.04.2-1.43.59L10.3 9.45l-7.72 7.72c-.78.78-.78 2.05 0 2.83L4 21.41c.39.39.9.59 1.41.59.51 0 1.02-.2 1.41-.59l7.78-7.78 2.81-2.81c.8-.78.8-2.07 0-2.86zM5.41 20L4 18.59l7.72-7.72 1.47 1.35L5.41 20z\"/>\n",
              "  </svg>\n",
              "      </button>\n",
              "      \n",
              "  <style>\n",
              "    .colab-df-container {\n",
              "      display:flex;\n",
              "      flex-wrap:wrap;\n",
              "      gap: 12px;\n",
              "    }\n",
              "\n",
              "    .colab-df-convert {\n",
              "      background-color: #E8F0FE;\n",
              "      border: none;\n",
              "      border-radius: 50%;\n",
              "      cursor: pointer;\n",
              "      display: none;\n",
              "      fill: #1967D2;\n",
              "      height: 32px;\n",
              "      padding: 0 0 0 0;\n",
              "      width: 32px;\n",
              "    }\n",
              "\n",
              "    .colab-df-convert:hover {\n",
              "      background-color: #E2EBFA;\n",
              "      box-shadow: 0px 1px 2px rgba(60, 64, 67, 0.3), 0px 1px 3px 1px rgba(60, 64, 67, 0.15);\n",
              "      fill: #174EA6;\n",
              "    }\n",
              "\n",
              "    [theme=dark] .colab-df-convert {\n",
              "      background-color: #3B4455;\n",
              "      fill: #D2E3FC;\n",
              "    }\n",
              "\n",
              "    [theme=dark] .colab-df-convert:hover {\n",
              "      background-color: #434B5C;\n",
              "      box-shadow: 0px 1px 3px 1px rgba(0, 0, 0, 0.15);\n",
              "      filter: drop-shadow(0px 1px 2px rgba(0, 0, 0, 0.3));\n",
              "      fill: #FFFFFF;\n",
              "    }\n",
              "  </style>\n",
              "\n",
              "      <script>\n",
              "        const buttonEl =\n",
              "          document.querySelector('#df-66cbe4d7-e6ed-4a48-8846-89750fc52be9 button.colab-df-convert');\n",
              "        buttonEl.style.display =\n",
              "          google.colab.kernel.accessAllowed ? 'block' : 'none';\n",
              "\n",
              "        async function convertToInteractive(key) {\n",
              "          const element = document.querySelector('#df-66cbe4d7-e6ed-4a48-8846-89750fc52be9');\n",
              "          const dataTable =\n",
              "            await google.colab.kernel.invokeFunction('convertToInteractive',\n",
              "                                                     [key], {});\n",
              "          if (!dataTable) return;\n",
              "\n",
              "          const docLinkHtml = 'Like what you see? Visit the ' +\n",
              "            '<a target=\"_blank\" href=https://colab.research.google.com/notebooks/data_table.ipynb>data table notebook</a>'\n",
              "            + ' to learn more about interactive tables.';\n",
              "          element.innerHTML = '';\n",
              "          dataTable['output_type'] = 'display_data';\n",
              "          await google.colab.output.renderOutput(dataTable, element);\n",
              "          const docLink = document.createElement('div');\n",
              "          docLink.innerHTML = docLinkHtml;\n",
              "          element.appendChild(docLink);\n",
              "        }\n",
              "      </script>\n",
              "    </div>\n",
              "  </div>\n",
              "  "
            ],
            "text/plain": [
              "   train_accuracy  test_accuracy\n",
              "0        0.754583       0.746667\n",
              "1        0.847917       0.816667\n",
              "2        0.924167       0.885000\n",
              "3        0.949167       0.903333\n",
              "4        0.969167       0.901667\n",
              "5        0.963333       0.880000\n",
              "6        0.987917       0.918333\n",
              "7        0.994583       0.911667\n",
              "8        0.997500       0.915000\n",
              "9        0.998750       0.908333"
            ]
          },
          "execution_count": 63,
          "metadata": {},
          "output_type": "execute_result"
        }
      ],
      "source": [
        "df_gr()"
      ]
    },
    {
      "cell_type": "markdown",
      "metadata": {
        "id": "Lcub_6QeLmAI"
      },
      "source": [
        "# うまく行ったModel"
      ]
    },
    {
      "cell_type": "code",
      "execution_count": null,
      "metadata": {
        "id": "2xp0sc6uLjlX"
      },
      "outputs": [],
      "source": [
        "from common.layers import Convolution, MaxPooling, ReLU, Affine, SoftmaxWithLoss, Dropout,BatchNormalization\n",
        "from common.optimizer import RMSProp\n",
        "from common.util import im2col, col2im\n",
        "\n",
        "import numpy as np\n",
        "import pandas as pd\n",
        "import matplotlib.pyplot as plt\n",
        "# from common.layers import TwoLayerNet\n",
        "from sklearn.model_selection import train_test_split\n",
        "import pickle\n",
        "import seaborn as sns\n",
        "from sklearn.metrics import accuracy_score\n",
        "from collections import OrderedDict\n",
        "\n",
        "class SimpleConvNet1:\n",
        "    def __init__(self, input_dim=(1, 28, 28), \n",
        "                 conv_param={'filter_num':32, 'filter_size':3, 'pad':0, 'stride':1},\n",
        "                 pool_param={'pool_size':2, 'pad':0, 'stride':2},\n",
        "                 hidden_size=128, output_size=10, weight_init_std=0.01):\n",
        "                \n",
        "        filter_num = conv_param['filter_num']\n",
        "        filter_size = conv_param['filter_size']\n",
        "        filter_pad = conv_param['pad']\n",
        "        filter_stride = conv_param['stride']\n",
        "        \n",
        "        pool_size = pool_param['pool_size']\n",
        "        pool_pad = pool_param['pad']\n",
        "        pool_stride = pool_param['stride']\n",
        "\n",
        "        filter_num2 = 64\n",
        "        hidden_size2 = 64\n",
        "        \n",
        "        input_size = input_dim[1]\n",
        "        conv_output_size = (input_size + 2*filter_pad - filter_size) // filter_stride + 1 # 畳み込み後のサイズ(H,W共通)\n",
        "        pool_output_size = (conv_output_size + 2*pool_pad - pool_size) // pool_stride + 1 # プーリング後のサイズ(H,W共通)\n",
        "        pool_output_pixel = filter_num2 * pool_output_size * pool_output_size # プーリング後のピクセル総数\n",
        "\n",
        "        # Heを使う\n",
        "        pre_node_nums = np.array([filter_num*input_dim[0]*filter_num,\n",
        "                                  filter_num2*input_dim[0]*filter_num,\n",
        "                                  pool_output_pixel,\n",
        "                                  hidden_size,\n",
        "                                  hidden_size\n",
        "                                  ])\n",
        "        wi_scales = np.sqrt(2/pre_node_nums)\n",
        "\n",
        "        # 重みの初期化\n",
        "        self.params = {}\n",
        "        std = weight_init_std\n",
        "        self.params['W1'] = wi_scales[0] * np.random.randn(filter_num, input_dim[0], filter_size, filter_size) # W1は畳み込みフィルターの重みになる\n",
        "        self.params['b1'] = np.zeros(filter_num) #b1は畳み込みフィルターのバイアスになる\n",
        "        self.params['W12'] = wi_scales[0] * np.random.randn(filter_num2, filter_num, filter_size, filter_size) # W1は畳み込みフィルターの重みになる\n",
        "        self.params['b12'] = np.zeros(filter_num2) #b1は畳み込みフィルターのバイアスになる\n",
        "        self.params['W2'] = wi_scales[1] *  np.random.randn(3136, hidden_size)\n",
        "        print(wi_scales[1],pool_output_pixel,hidden_size)\n",
        "        self.params['b2'] = np.zeros(hidden_size)\n",
        "        # self.params['W3'] = wi_scales[2] *  np.random.randn(hidden_size, hidden_size2)\n",
        "        # self.params['b3'] = np.zeros(hidden_size2)\n",
        "        self.params['W4'] = wi_scales[2] *  np.random.randn(hidden_size, output_size)\n",
        "        self.params['b4'] = np.zeros(output_size)\n",
        "\n",
        "        # レイヤの生成\n",
        "        self.layers = OrderedDict()\n",
        "        self.layers['Conv1'] = Convolution(self.params['W1'], self.params['b1'],\n",
        "                                           conv_param['stride'], conv_param['pad']) # W1が畳み込みフィルターの重み, b1が畳み込みフィルターのバイアスになる\n",
        "        self.layers['BatchNorm1'] = BatchNormalization(gamma=1,beta=0)\n",
        "        self.layers['ReLU1'] = ReLU()\n",
        "        self.layers['Pool1'] = MaxPooling(pool_h=pool_size, pool_w=pool_size, stride=pool_stride, pad=pool_pad)\n",
        "        self.layers['Conv2'] = Convolution(self.params['W12'], self.params['b12'],\n",
        "                                           conv_param['stride'], conv_param['pad']) # W1が畳み込みフィルターの重み, b1が畳み込みフィルターのバイアスになる\n",
        "        self.layers['BatchNorm2'] = BatchNormalization(gamma=1,beta=0)\n",
        "        self.layers['ReLU21'] = ReLU()\n",
        "        self.layers['Pool2'] = MaxPooling(pool_h=pool_size, pool_w=pool_size, stride=pool_stride, pad=pool_pad)\n",
        "\n",
        "        self.layers['Affine1'] = Affine(self.params['W2'], self.params['b2'])\n",
        "        # self.layers['BatchNorm'] = BatchNormalization(gamma=1,beta=0)\n",
        "        self.layers['ReLU2'] = ReLU()\n",
        "        self.layers['Dropout1'] = Dropout(dropout_ratio=0.5)\n",
        "        # self.layers['Affine2'] = Affine(self.params['W3'], self.params['b3'])\n",
        "        # self.layers['ReLU4'] = ReLU()\n",
        "        self.layers['Affine3'] = Affine(self.params['W4'], self.params['b4'])\n",
        "\n",
        "        print(\"self.params['W1']\",self.params['W1'].shape)\n",
        "        print(\"self.params['W12']\",self.params['W12'].shape)\n",
        "        print(\"self.params['W2']\",self.params['W2'].shape)\n",
        "        # print(\"self.params['W3']\",self.params['W3'].shape)\n",
        "        print(\"self.params['W4']\",self.params['W4'].shape)\n",
        "\n",
        "        self.last_layer = SoftmaxWithLoss()\n",
        "\n",
        "    def predict(self, x):\n",
        "        for layer in self.layers.values():\n",
        "            x = layer.forward(x)\n",
        "            # print('predict x.shape',x.shape)\n",
        "\n",
        "        return x\n",
        "\n",
        "    def loss(self, x, t):\n",
        "        \"\"\"\n",
        "        損失関数\n",
        "        \"\"\"\n",
        "        y = self.predict(x)\n",
        "        return self.last_layer.forward(y, t)\n",
        "\n",
        "    def accuracy(self, x, t, batch_size=100):\n",
        "        if t.ndim != 1 : t = np.argmax(t, axis=1)\n",
        "        \n",
        "        acc = 0.0\n",
        "        \n",
        "        for i in range(int(x.shape[0] / batch_size)):\n",
        "            tx = x[i*batch_size:(i+1)*batch_size]\n",
        "            tt = t[i*batch_size:(i+1)*batch_size]\n",
        "            y = self.predict(tx)\n",
        "            y = np.argmax(y, axis=1)\n",
        "            acc += np.sum(y == tt) \n",
        "        \n",
        "        return acc / x.shape[0]\n",
        "\n",
        "    def gradient(self, x, t):\n",
        "        \"\"\"勾配を求める（誤差逆伝播法）\n",
        "        \"\"\"\n",
        "        # forward\n",
        "        self.loss(x, t)\n",
        "\n",
        "        # backward\n",
        "        dout = 1\n",
        "        dout = self.last_layer.backward(dout)\n",
        "        # print('dout.shape',dout.shape)\n",
        "\n",
        "        layers = list(self.layers.values())\n",
        "        layers.reverse()\n",
        "        for layer in layers:\n",
        "            dout = layer.backward(dout)\n",
        "            print('layer.backward(dout)',dout.shape)\n",
        "\n",
        "        # 設定\n",
        "        grads = {}\n",
        "        grads['W1'], grads['b1'] = self.layers['Conv1'].dW, self.layers['Conv1'].db\n",
        "        grads['W12'], grads['b12'] = self.layers['Conv2'].dW, self.layers['Conv2'].db\n",
        "        grads['W2'], grads['b2'] = self.layers['Affine1'].dW, self.layers['Affine1'].db\n",
        "        # grads['W3'], grads['b3'] = self.layers['Affine2'].dW, self.layers['Affine2'].db\n",
        "        grads['W4'], grads['b4'] = self.layers['Affine3'].dW, self.layers['Affine3'].db\n",
        "\n",
        "        return grads"
      ]
    },
    {
      "cell_type": "markdown",
      "metadata": {
        "id": "5Sqq_GmMkMlu"
      },
      "source": [
        "# NumPyCNN https://github.com/ahmedfgad/NumPyCNN/blob/master/example.py"
      ]
    },
    {
      "cell_type": "code",
      "execution_count": null,
      "metadata": {
        "id": "JLOB3QG0kjim"
      },
      "outputs": [],
      "source": [
        "import numpy\n",
        "import sys\n",
        "\n",
        "class numpycnn:\n",
        "    def conv_(img, conv_filter):\n",
        "        filter_size = conv_filter.shape[1]\n",
        "        result = numpy.zeros((img.shape))\n",
        "        #Looping through the image to apply the convolution operation.\n",
        "        for r in numpy.uint16(numpy.arange(filter_size/2.0, \n",
        "                              img.shape[0]-filter_size/2.0+1)):\n",
        "            for c in numpy.uint16(numpy.arange(filter_size/2.0, \n",
        "                                              img.shape[1]-filter_size/2.0+1)):\n",
        "                \"\"\"\n",
        "                Getting the current region to get multiplied with the filter.\n",
        "                How to loop through the image and get the region based on \n",
        "                the image and filer sizes is the most tricky part of convolution.\n",
        "                \"\"\"\n",
        "                curr_region = img[r-numpy.uint16(numpy.floor(filter_size/2.0)):r+numpy.uint16(numpy.ceil(filter_size/2.0)), \n",
        "                                  c-numpy.uint16(numpy.floor(filter_size/2.0)):c+numpy.uint16(numpy.ceil(filter_size/2.0))]\n",
        "                #Element-wise multipliplication between the current region and the filter.\n",
        "                curr_result = curr_region * conv_filter\n",
        "                conv_sum = numpy.sum(curr_result) #Summing the result of multiplication.\n",
        "                result[r, c] = conv_sum #Saving the summation in the convolution layer feature map.\n",
        "                \n",
        "        #Clipping the outliers of the result matrix.\n",
        "        final_result = result[numpy.uint16(filter_size/2.0):result.shape[0]-numpy.uint16(filter_size/2.0), \n",
        "                              numpy.uint16(filter_size/2.0):result.shape[1]-numpy.uint16(filter_size/2.0)]\n",
        "        return final_result\n",
        "    def conv(img, conv_filter):\n",
        "\n",
        "        if len(img.shape) != len(conv_filter.shape) - 1: # Check whether number of dimensions is the same\n",
        "            print(\"Error: Number of dimensions in conv filter and image do not match.\")  \n",
        "            exit()\n",
        "        if len(img.shape) > 2 or len(conv_filter.shape) > 3: # Check if number of image channels matches the filter depth.\n",
        "            if img.shape[-1] != conv_filter.shape[-1]:\n",
        "                print(\"Error: Number of channels in both image and filter must match.\")\n",
        "                sys.exit()\n",
        "        if conv_filter.shape[1] != conv_filter.shape[2]: # Check if filter dimensions are equal.\n",
        "            print('Error: Filter must be a square matrix. I.e. number of rows and columns must match.')\n",
        "            sys.exit()\n",
        "        if conv_filter.shape[1]%2==0: # Check if filter diemnsions are odd.\n",
        "            print('Error: Filter must have an odd size. I.e. number of rows and columns must be odd.')\n",
        "            sys.exit()\n",
        "\n",
        "        # An empty feature map to hold the output of convolving the filter(s) with the image.\n",
        "        feature_maps = numpy.zeros((img.shape[0]-conv_filter.shape[1]+1, \n",
        "                                    img.shape[1]-conv_filter.shape[1]+1, \n",
        "                                    conv_filter.shape[0]))\n",
        "\n",
        "        # Convolving the image by the filter(s).\n",
        "        for filter_num in range(conv_filter.shape[0]):\n",
        "            print(\"Filter \", filter_num + 1)\n",
        "            curr_filter = conv_filter[filter_num, :] # getting a filter from the bank.\n",
        "            \"\"\" \n",
        "            Checking if there are mutliple channels for the single filter.\n",
        "            If so, then each channel will convolve the image.\n",
        "            The result of all convolutions are summed to return a single feature map.\n",
        "            \"\"\"\n",
        "            if len(curr_filter.shape) > 2:\n",
        "                conv_map = conv_(img[:, :, 0], curr_filter[:, :, 0]) # Array holding the sum of all feature maps.\n",
        "                for ch_num in range(1, curr_filter.shape[-1]): # Convolving each channel with the image and summing the results.\n",
        "                    conv_map = conv_map + conv_(img[:, :, ch_num], \n",
        "                                      curr_filter[:, :, ch_num])\n",
        "            else: # There is just a single channel in the filter.\n",
        "                conv_map = conv_(img, curr_filter)\n",
        "            feature_maps[:, :, filter_num] = conv_map # Holding feature map with the current filter.\n",
        "        return feature_maps # Returning all feature maps.\n",
        "        \n",
        "\n",
        "    def pooling(feature_map, size=2, stride=2):\n",
        "        #Preparing the output of the pooling operation.\n",
        "        pool_out = numpy.zeros((numpy.uint16((feature_map.shape[0]-size+1)/stride+1),\n",
        "                                numpy.uint16((feature_map.shape[1]-size+1)/stride+1),\n",
        "                                feature_map.shape[-1]))\n",
        "        for map_num in range(feature_map.shape[-1]):\n",
        "            r2 = 0\n",
        "            for r in numpy.arange(0,feature_map.shape[0]-size+1, stride):\n",
        "                c2 = 0\n",
        "                for c in numpy.arange(0, feature_map.shape[1]-size+1, stride):\n",
        "                    pool_out[r2, c2, map_num] = numpy.max([feature_map[r:r+size,  c:c+size, map_num]])\n",
        "                    c2 = c2 + 1\n",
        "                r2 = r2 +1\n",
        "        return pool_out\n",
        "\n",
        "    def relu(feature_map):\n",
        "        #Preparing the output of the ReLU activation function.\n",
        "        relu_out = numpy.zeros(feature_map.shape)\n",
        "        for map_num in range(feature_map.shape[-1]):\n",
        "            for r in numpy.arange(0,feature_map.shape[0]):\n",
        "                for c in numpy.arange(0, feature_map.shape[1]):\n",
        "                    relu_out[r, c, map_num] = numpy.max([feature_map[r, c, map_num], 0])\n",
        "        return relu_out"
      ]
    },
    {
      "cell_type": "code",
      "execution_count": null,
      "metadata": {
        "colab": {
          "base_uri": "https://localhost:8080/"
        },
        "id": "9PCA1BkslRpw",
        "outputId": "20365615-5c18-487b-9fba-966d80d8c95d"
      },
      "outputs": [
        {
          "name": "stdout",
          "output_type": "stream",
          "text": [
            "\n",
            "**Working with conv layer 1**\n",
            "Filter  1\n",
            "Filter  2\n",
            "\n",
            "**ReLU**\n",
            "\n",
            "**Pooling**\n",
            "**End of conv layer 1**\n",
            "\n",
            "\n",
            "**Working with conv layer 2**\n",
            "Filter  1\n",
            "Filter  2\n",
            "Filter  3\n",
            "\n",
            "**ReLU**\n",
            "\n",
            "**Pooling**\n",
            "**End of conv layer 2**\n",
            "\n",
            "\n",
            "**Working with conv layer 3**\n",
            "Filter  1\n",
            "\n",
            "**ReLU**\n",
            "\n",
            "**Pooling**\n",
            "**End of conv layer 3**\n",
            "\n"
          ]
        }
      ],
      "source": [
        "import skimage.data\n",
        "import numpy\n",
        "import matplotlib\n",
        "# import NumPyCNN as numpycnn\n",
        "\n",
        "\n",
        "# Reading the image\n",
        "#img = skimage.io.imread(\"test.jpg\")\n",
        "#img = skimage.data.checkerboard()\n",
        "img = skimage.data.chelsea()\n",
        "#img = skimage.data.camera()\n",
        "\n",
        "# Converting the image into gray.\n",
        "img = skimage.color.rgb2gray(img)\n",
        "\n",
        "# First conv layer\n",
        "#l1_filter = numpy.random.rand(2,7,7)*20 # Preparing the filters randomly.\n",
        "l1_filter = numpy.zeros((2,3,3))\n",
        "l1_filter[0, :, :] = numpy.array([[[-1, 0, 1], \n",
        "                                   [-1, 0, 1], \n",
        "                                   [-1, 0, 1]]])\n",
        "l1_filter[1, :, :] = numpy.array([[[1,   1,  1], \n",
        "                                   [0,   0,  0], \n",
        "                                   [-1, -1, -1]]])\n",
        "\n",
        "print(\"\\n**Working with conv layer 1**\")\n",
        "l1_feature_map = numpycnn.conv(img, l1_filter)\n",
        "print(\"\\n**ReLU**\")\n",
        "l1_feature_map_relu = numpycnn.relu(l1_feature_map)\n",
        "print(\"\\n**Pooling**\")\n",
        "l1_feature_map_relu_pool = numpycnn.pooling(l1_feature_map_relu, 2, 2)\n",
        "print(\"**End of conv layer 1**\\n\")\n",
        "\n",
        "# Second conv layer\n",
        "l2_filter = numpy.random.rand(3, 5, 5, l1_feature_map_relu_pool.shape[-1])\n",
        "print(\"\\n**Working with conv layer 2**\")\n",
        "l2_feature_map = numpycnn.conv(l1_feature_map_relu_pool, l2_filter)\n",
        "print(\"\\n**ReLU**\")\n",
        "l2_feature_map_relu = numpycnn.relu(l2_feature_map)\n",
        "print(\"\\n**Pooling**\")\n",
        "l2_feature_map_relu_pool = numpycnn.pooling(l2_feature_map_relu, 2, 2)\n",
        "print(\"**End of conv layer 2**\\n\")\n",
        "\n",
        "# Third conv layer\n",
        "l3_filter = numpy.random.rand(1, 7, 7, l2_feature_map_relu_pool.shape[-1])\n",
        "print(\"\\n**Working with conv layer 3**\")\n",
        "l3_feature_map = numpycnn.conv(l2_feature_map_relu_pool, l3_filter)\n",
        "print(\"\\n**ReLU**\")\n",
        "l3_feature_map_relu = numpycnn.relu(l3_feature_map)\n",
        "print(\"\\n**Pooling**\")\n",
        "l3_feature_map_relu_pool = numpycnn.pooling(l3_feature_map_relu, 2, 2)\n",
        "print(\"**End of conv layer 3**\\n\")\n",
        "\n",
        "# Graphing results\n",
        "fig0, ax0 = matplotlib.pyplot.subplots(nrows=1, ncols=1)\n",
        "ax0.imshow(img).set_cmap(\"gray\")\n",
        "ax0.set_title(\"Input Image\")\n",
        "ax0.get_xaxis().set_ticks([])\n",
        "ax0.get_yaxis().set_ticks([])\n",
        "matplotlib.pyplot.savefig(\"in_img.png\", bbox_inches=\"tight\")\n",
        "matplotlib.pyplot.close(fig0)\n",
        "\n",
        "# Layer 1\n",
        "fig1, ax1 = matplotlib.pyplot.subplots(nrows=3, ncols=2)\n",
        "ax1[0, 0].imshow(l1_feature_map[:, :, 0]).set_cmap(\"gray\")\n",
        "ax1[0, 0].get_xaxis().set_ticks([])\n",
        "ax1[0, 0].get_yaxis().set_ticks([])\n",
        "ax1[0, 0].set_title(\"L1-Map1\")\n",
        "\n",
        "ax1[0, 1].imshow(l1_feature_map[:, :, 1]).set_cmap(\"gray\")\n",
        "ax1[0, 1].get_xaxis().set_ticks([])\n",
        "ax1[0, 1].get_yaxis().set_ticks([])\n",
        "ax1[0, 1].set_title(\"L1-Map2\")\n",
        "\n",
        "ax1[1, 0].imshow(l1_feature_map_relu[:, :, 0]).set_cmap(\"gray\")\n",
        "ax1[1, 0].get_xaxis().set_ticks([])\n",
        "ax1[1, 0].get_yaxis().set_ticks([])\n",
        "ax1[1, 0].set_title(\"L1-Map1ReLU\")\n",
        "\n",
        "ax1[1, 1].imshow(l1_feature_map_relu[:, :, 1]).set_cmap(\"gray\")\n",
        "ax1[1, 1].get_xaxis().set_ticks([])\n",
        "ax1[1, 1].get_yaxis().set_ticks([])\n",
        "ax1[1, 1].set_title(\"L1-Map2ReLU\")\n",
        "\n",
        "ax1[2, 0].imshow(l1_feature_map_relu_pool[:, :, 0]).set_cmap(\"gray\")\n",
        "ax1[2, 0].get_xaxis().set_ticks([])\n",
        "ax1[2, 0].get_yaxis().set_ticks([])\n",
        "ax1[2, 0].set_title(\"L1-Map1ReLUPool\")\n",
        "\n",
        "ax1[2, 1].imshow(l1_feature_map_relu_pool[:, :, 1]).set_cmap(\"gray\")\n",
        "ax1[2, 0].get_xaxis().set_ticks([])\n",
        "ax1[2, 0].get_yaxis().set_ticks([])\n",
        "ax1[2, 1].set_title(\"L1-Map2ReLUPool\")\n",
        "\n",
        "matplotlib.pyplot.savefig(\"L1.png\", bbox_inches=\"tight\")\n",
        "matplotlib.pyplot.close(fig1)\n",
        "\n",
        "# Layer 2\n",
        "fig2, ax2 = matplotlib.pyplot.subplots(nrows=3, ncols=3)\n",
        "ax2[0, 0].imshow(l2_feature_map[:, :, 0]).set_cmap(\"gray\")\n",
        "ax2[0, 0].get_xaxis().set_ticks([])\n",
        "ax2[0, 0].get_yaxis().set_ticks([])\n",
        "ax2[0, 0].set_title(\"L2-Map1\")\n",
        "\n",
        "ax2[0, 1].imshow(l2_feature_map[:, :, 1]).set_cmap(\"gray\")\n",
        "ax2[0, 1].get_xaxis().set_ticks([])\n",
        "ax2[0, 1].get_yaxis().set_ticks([])\n",
        "ax2[0, 1].set_title(\"L2-Map2\")\n",
        "\n",
        "ax2[0, 2].imshow(l2_feature_map[:, :, 2]).set_cmap(\"gray\")\n",
        "ax2[0, 2].get_xaxis().set_ticks([])\n",
        "ax2[0, 2].get_yaxis().set_ticks([])\n",
        "ax2[0, 2].set_title(\"L2-Map3\")\n",
        "\n",
        "ax2[1, 0].imshow(l2_feature_map_relu[:, :, 0]).set_cmap(\"gray\")\n",
        "ax2[1, 0].get_xaxis().set_ticks([])\n",
        "ax2[1, 0].get_yaxis().set_ticks([])\n",
        "ax2[1, 0].set_title(\"L2-Map1ReLU\")\n",
        "\n",
        "ax2[1, 1].imshow(l2_feature_map_relu[:, :, 1]).set_cmap(\"gray\")\n",
        "ax2[1, 1].get_xaxis().set_ticks([])\n",
        "ax2[1, 1].get_yaxis().set_ticks([])\n",
        "ax2[1, 1].set_title(\"L2-Map2ReLU\")\n",
        "\n",
        "ax2[1, 2].imshow(l2_feature_map_relu[:, :, 2]).set_cmap(\"gray\")\n",
        "ax2[1, 2].get_xaxis().set_ticks([])\n",
        "ax2[1, 2].get_yaxis().set_ticks([])\n",
        "ax2[1, 2].set_title(\"L2-Map3ReLU\")\n",
        "\n",
        "ax2[2, 0].imshow(l2_feature_map_relu_pool[:, :, 0]).set_cmap(\"gray\")\n",
        "ax2[2, 0].get_xaxis().set_ticks([])\n",
        "ax2[2, 0].get_yaxis().set_ticks([])\n",
        "ax2[2, 0].set_title(\"L2-Map1ReLUPool\")\n",
        "\n",
        "ax2[2, 1].imshow(l2_feature_map_relu_pool[:, :, 1]).set_cmap(\"gray\")\n",
        "ax2[2, 1].get_xaxis().set_ticks([])\n",
        "ax2[2, 1].get_yaxis().set_ticks([])\n",
        "ax2[2, 1].set_title(\"L2-Map2ReLUPool\")\n",
        "\n",
        "ax2[2, 2].imshow(l2_feature_map_relu_pool[:, :, 2]).set_cmap(\"gray\")\n",
        "ax2[2, 2].get_xaxis().set_ticks([])\n",
        "ax2[2, 2].get_yaxis().set_ticks([])\n",
        "ax2[2, 2].set_title(\"L2-Map3ReLUPool\")\n",
        "\n",
        "matplotlib.pyplot.savefig(\"L2.png\", bbox_inches=\"tight\")\n",
        "matplotlib.pyplot.close(fig2)\n",
        "\n",
        "# Layer 3\n",
        "fig3, ax3 = matplotlib.pyplot.subplots(nrows=1, ncols=3)\n",
        "ax3[0].imshow(l3_feature_map[:, :, 0]).set_cmap(\"gray\")\n",
        "ax3[0].get_xaxis().set_ticks([])\n",
        "ax3[0].get_yaxis().set_ticks([])\n",
        "ax3[0].set_title(\"L3-Map1\")\n",
        "\n",
        "ax3[1].imshow(l3_feature_map_relu[:, :, 0]).set_cmap(\"gray\")\n",
        "ax3[1].get_xaxis().set_ticks([])\n",
        "ax3[1].get_yaxis().set_ticks([])\n",
        "ax3[1].set_title(\"L3-Map1ReLU\")\n",
        "\n",
        "ax3[2].imshow(l3_feature_map_relu_pool[:, :, 0]).set_cmap(\"gray\")\n",
        "ax3[2].get_xaxis().set_ticks([])\n",
        "ax3[2].get_yaxis().set_ticks([])\n",
        "ax3[2].set_title(\"L3-Map1ReLUPool\")\n",
        "\n",
        "matplotlib.pyplot.savefig(\"L3.png\", bbox_inches=\"tight\")\n",
        "matplotlib.pyplot.close(fig3)"
      ]
    },
    {
      "cell_type": "code",
      "execution_count": null,
      "metadata": {
        "colab": {
          "base_uri": "https://localhost:8080/"
        },
        "id": "Az5xS9Bey1c8",
        "outputId": "1bf7b78a-707a-4028-be84-a836394e3238"
      },
      "outputs": [
        {
          "data": {
            "text/plain": [
              "(30, 9)"
            ]
          },
          "execution_count": 28,
          "metadata": {},
          "output_type": "execute_result"
        }
      ],
      "source": [
        "x = np.random.randn(30,3*3)\n",
        "x.shape"
      ]
    },
    {
      "cell_type": "code",
      "execution_count": null,
      "metadata": {
        "colab": {
          "base_uri": "https://localhost:8080/"
        },
        "id": "ZyIo_7W5zJvl",
        "outputId": "5e23df60-7ff1-4ea5-f5ca-cd1ab77e4855"
      },
      "outputs": [
        {
          "data": {
            "text/plain": [
              "array([[ 0.78054155,  0.73206818,  0.01005461,  0.39807526,  3.24248256,\n",
              "        -0.74052928,  1.16505199, -1.51903934, -1.79883882],\n",
              "       [-1.787957  ,  0.50456309, -1.55275768,  0.06922997,  0.55528672,\n",
              "         0.29328232,  0.4908466 , -2.89948674,  1.4343381 ]])"
            ]
          },
          "execution_count": 32,
          "metadata": {},
          "output_type": "execute_result"
        }
      ],
      "source": [
        "x.reshape(-1,1,3,3)\n",
        "x[:2]"
      ]
    },
    {
      "cell_type": "code",
      "execution_count": null,
      "metadata": {
        "colab": {
          "base_uri": "https://localhost:8080/"
        },
        "id": "zgiSiD1WzAjo",
        "outputId": "486bf779-35c9-48a4-8067-3cc37648e822"
      },
      "outputs": [
        {
          "data": {
            "text/plain": [
              "array([[ 0.78054155,  0.73206818,  0.01005461,  0.39807526,  3.24248256,\n",
              "        -0.74052928,  1.16505199, -1.51903934, -1.79883882],\n",
              "       [-1.787957  ,  0.50456309, -1.55275768,  0.06922997,  0.55528672,\n",
              "         0.29328232,  0.4908466 , -2.89948674,  1.4343381 ]])"
            ]
          },
          "execution_count": 31,
          "metadata": {},
          "output_type": "execute_result"
        }
      ],
      "source": [
        "x.reshape(-1,3,3,1)\n",
        "x[:2]"
      ]
    },
    {
      "cell_type": "code",
      "execution_count": null,
      "metadata": {
        "colab": {
          "base_uri": "https://localhost:8080/"
        },
        "id": "Wot8lkGysKIr",
        "outputId": "31673e09-be8b-49ad-ba7a-ef00d46d9769"
      },
      "outputs": [
        {
          "name": "stdout",
          "output_type": "stream",
          "text": [
            "(28, 28, 1)\n"
          ]
        }
      ],
      "source": [
        "print(sample_shape)"
      ]
    },
    {
      "cell_type": "code",
      "execution_count": null,
      "metadata": {
        "colab": {
          "base_uri": "https://localhost:8080/",
          "height": 854
        },
        "id": "PW4NmfXCrfFP",
        "outputId": "928f9a49-987b-4aee-bd2e-a94638dfbcad"
      },
      "outputs": [
        {
          "name": "stdout",
          "output_type": "stream",
          "text": [
            "train_data.shape= (3000, 28, 28, 1)\n",
            "train_label.shape= (3000, 15)\n",
            "\n",
            "----------Network Architecture----------\n",
            "<class '__main__.Conv2D'>\n",
            "<class '__main__.ReLU'>\n",
            "<class '__main__.AveragePooling2D'>\n",
            "<class '__main__.Conv2D'>\n",
            "<class '__main__.ReLU'>\n",
            "<class '__main__.MaxPooling2D'>\n",
            "<class '__main__.Conv2D'>\n",
            "<class '__main__.ReLU'>\n",
            "<class '__main__.AveragePooling2D'>\n",
            "<class '__main__.Flatten'>\n",
            "<class '__main__.Dense'>\n",
            "<class '__main__.Dense'>\n",
            "----------------------------------------\n",
            "\n",
            "Epoch 0\n",
            "layer.trained_weights.shape (2, 3, 3, 1)\n",
            "network_error [21770 21770 21770 21770 21770 21770 21770 21770 21770 21770 21770 21770\n",
            " 21770 21770 21770]\n",
            "<class 'float'>\n",
            "layer.trained_weights.shape (3, 3, 3, 2)\n",
            "network_error [21770 21770 21770 21770 21770 21770 21770 21770 21770 21770 21770 21770\n",
            " 21770 21770 21770]\n",
            "<class 'float'>\n"
          ]
        },
        {
          "ename": "ValueError",
          "evalue": "ignored",
          "output_type": "error",
          "traceback": [
            "\u001b[0;31m---------------------------------------------------------------------------\u001b[0m",
            "\u001b[0;31mValueError\u001b[0m                                Traceback (most recent call last)",
            "\u001b[0;32m<ipython-input-53-849b9186196e>\u001b[0m in \u001b[0;36m<module>\u001b[0;34m()\u001b[0m\n\u001b[1;32m     64\u001b[0m \u001b[0;34m\u001b[0m\u001b[0m\n\u001b[1;32m     65\u001b[0m model.train(train_inputs=train_inputs, \n\u001b[0;32m---> 66\u001b[0;31m             train_outputs=train_outputs)\n\u001b[0m\u001b[1;32m     67\u001b[0m \u001b[0;34m\u001b[0m\u001b[0m\n\u001b[1;32m     68\u001b[0m \u001b[0mpredictions\u001b[0m \u001b[0;34m=\u001b[0m \u001b[0mmodel\u001b[0m\u001b[0;34m.\u001b[0m\u001b[0mpredict\u001b[0m\u001b[0;34m(\u001b[0m\u001b[0mdata_inputs\u001b[0m\u001b[0;34m=\u001b[0m\u001b[0mtrain_inputs\u001b[0m\u001b[0;34m)\u001b[0m\u001b[0;34m\u001b[0m\u001b[0;34m\u001b[0m\u001b[0m\n",
            "\u001b[0;32m<ipython-input-41-767f4fd491e0>\u001b[0m in \u001b[0;36mtrain\u001b[0;34m(self, train_inputs, train_outputs)\u001b[0m\n\u001b[1;32m    743\u001b[0m                 \u001b[0mnetwork_error\u001b[0m \u001b[0;34m=\u001b[0m \u001b[0mnetwork_error\u001b[0m \u001b[0;34m+\u001b[0m \u001b[0mabs\u001b[0m\u001b[0;34m(\u001b[0m\u001b[0mpredicted_label\u001b[0m \u001b[0;34m-\u001b[0m \u001b[0mtrain_outputs\u001b[0m\u001b[0;34m[\u001b[0m\u001b[0msample_idx\u001b[0m\u001b[0;34m]\u001b[0m\u001b[0;34m)\u001b[0m\u001b[0;34m\u001b[0m\u001b[0;34m\u001b[0m\u001b[0m\n\u001b[1;32m    744\u001b[0m \u001b[0;34m\u001b[0m\u001b[0m\n\u001b[0;32m--> 745\u001b[0;31m             \u001b[0mself\u001b[0m\u001b[0;34m.\u001b[0m\u001b[0mupdate_weights\u001b[0m\u001b[0;34m(\u001b[0m\u001b[0mnetwork_error\u001b[0m\u001b[0;34m)\u001b[0m\u001b[0;34m\u001b[0m\u001b[0;34m\u001b[0m\u001b[0m\n\u001b[0m\u001b[1;32m    746\u001b[0m \u001b[0;34m\u001b[0m\u001b[0m\n\u001b[1;32m    747\u001b[0m     \u001b[0;32mdef\u001b[0m \u001b[0mfeed_sample\u001b[0m\u001b[0;34m(\u001b[0m\u001b[0mself\u001b[0m\u001b[0;34m,\u001b[0m \u001b[0msample\u001b[0m\u001b[0;34m)\u001b[0m\u001b[0;34m:\u001b[0m\u001b[0;34m\u001b[0m\u001b[0;34m\u001b[0m\u001b[0m\n",
            "\u001b[0;32m<ipython-input-41-767f4fd491e0>\u001b[0m in \u001b[0;36mupdate_weights\u001b[0;34m(self, network_error)\u001b[0m\n\u001b[1;32m    799\u001b[0m                 \u001b[0mprint\u001b[0m\u001b[0;34m(\u001b[0m\u001b[0;34m'network_error'\u001b[0m\u001b[0;34m,\u001b[0m\u001b[0mnetwork_error\u001b[0m\u001b[0;34m)\u001b[0m\u001b[0;34m\u001b[0m\u001b[0;34m\u001b[0m\u001b[0m\n\u001b[1;32m    800\u001b[0m                 \u001b[0mprint\u001b[0m\u001b[0;34m(\u001b[0m\u001b[0mtype\u001b[0m\u001b[0;34m(\u001b[0m\u001b[0mself\u001b[0m\u001b[0;34m.\u001b[0m\u001b[0mlearning_rate\u001b[0m\u001b[0;34m)\u001b[0m\u001b[0;34m)\u001b[0m\u001b[0;34m\u001b[0m\u001b[0;34m\u001b[0m\u001b[0m\n\u001b[0;32m--> 801\u001b[0;31m                 \u001b[0mlayer\u001b[0m\u001b[0;34m.\u001b[0m\u001b[0mtrained_weights\u001b[0m \u001b[0;34m=\u001b[0m \u001b[0mlayer\u001b[0m\u001b[0;34m.\u001b[0m\u001b[0mtrained_weights\u001b[0m \u001b[0;34m-\u001b[0m \u001b[0mnetwork_error\u001b[0m \u001b[0;34m*\u001b[0m \u001b[0mself\u001b[0m\u001b[0;34m.\u001b[0m\u001b[0mlearning_rate\u001b[0m \u001b[0;34m*\u001b[0m \u001b[0mlayer\u001b[0m\u001b[0;34m.\u001b[0m\u001b[0mtrained_weights\u001b[0m\u001b[0;34m\u001b[0m\u001b[0;34m\u001b[0m\u001b[0m\n\u001b[0m\u001b[1;32m    802\u001b[0m \u001b[0;34m\u001b[0m\u001b[0m\n\u001b[1;32m    803\u001b[0m     \u001b[0;32mdef\u001b[0m \u001b[0mpredict\u001b[0m\u001b[0;34m(\u001b[0m\u001b[0mself\u001b[0m\u001b[0;34m,\u001b[0m \u001b[0mdata_inputs\u001b[0m\u001b[0;34m)\u001b[0m\u001b[0;34m:\u001b[0m\u001b[0;34m\u001b[0m\u001b[0;34m\u001b[0m\u001b[0m\n",
            "\u001b[0;31mValueError\u001b[0m: operands could not be broadcast together with shapes (15,) (3,3,3,2) "
          ]
        }
      ],
      "source": [
        "import numpy as np\n",
        "# import pygad.cnn\n",
        "\n",
        "# train_inputs = np.load(\"dataset_inputs.npy\")\n",
        "# train_outputs = np.load(\"dataset_outputs.npy\")\n",
        "# (80, 100, 100, 3)\n",
        "# (80,)\n",
        "\n",
        "# 3000,28,28,1\n",
        "# 3000,15\n",
        "train_inputs = np.load(\"./train_data.npy\")\n",
        "train_outputs = np.load(\"./train_label.npy\")\n",
        "train_inputs = train_inputs.reshape(-1,28,28,1)\n",
        "\n",
        "print(\"train_data.shape=\", train_inputs.shape)\n",
        "print(\"train_label.shape=\", train_outputs.shape)\n",
        "\n",
        "sample_shape = train_inputs.shape[1:]\n",
        "num_classes = 15\n",
        "# num_classes = 4\n",
        "\n",
        "\n",
        "input_layer = Input2D(input_shape=sample_shape)\n",
        "conv_layer1 = Conv2D(num_filters=2,\n",
        "                               kernel_size=3,\n",
        "                               previous_layer=input_layer,\n",
        "                               activation_function=None)\n",
        "relu_layer1 = ReLU(previous_layer=conv_layer1)\n",
        "average_pooling_layer = AveragePooling2D(pool_size=2, \n",
        "                                                   previous_layer=relu_layer1,\n",
        "                                                   stride=2)\n",
        "\n",
        "conv_layer2 = Conv2D(num_filters=3,\n",
        "                               kernel_size=3,\n",
        "                               previous_layer=average_pooling_layer,\n",
        "                               activation_function=None)\n",
        "relu_layer2 = ReLU(previous_layer=conv_layer2)\n",
        "max_pooling_layer = MaxPooling2D(pool_size=2, \n",
        "                                           previous_layer=relu_layer2,\n",
        "                                           stride=2)\n",
        "\n",
        "conv_layer3 = Conv2D(num_filters=3,\n",
        "                               kernel_size=3,\n",
        "                               previous_layer=max_pooling_layer,\n",
        "                               activation_function=None)\n",
        "relu_layer3 = ReLU(previous_layer=conv_layer3)\n",
        "pooling_layer = AveragePooling2D(pool_size=2, \n",
        "                                           previous_layer=relu_layer3,\n",
        "                                           stride=2)\n",
        "\n",
        "flatten_layer = Flatten(previous_layer=pooling_layer)\n",
        "dense_layer1 = Dense(num_neurons=64, \n",
        "                               previous_layer=flatten_layer,\n",
        "                               activation_function=\"relu\")\n",
        "dense_layer2 = Dense(num_neurons=num_classes, \n",
        "                               previous_layer=dense_layer1,\n",
        "                               activation_function=\"softmax\")\n",
        "\n",
        "model = Model(last_layer=dense_layer2,\n",
        "                        epochs=1,\n",
        "                        learning_rate=0.01)\n",
        "\n",
        "model.summary()\n",
        "\n",
        "model.train(train_inputs=train_inputs, \n",
        "            train_outputs=train_outputs)\n",
        "\n",
        "predictions = model.predict(data_inputs=train_inputs)\n",
        "print(predictions)\n",
        "\n",
        "num_wrong = np.where(predictions != train_outputs)[0]\n",
        "num_correct = train_outputs.size - num_wrong.size\n",
        "accuracy = 100 * (num_correct/train_outputs.size)\n",
        "print(\"Number of correct classifications : {num_correct}.\".format(num_correct=num_correct))\n",
        "print(\"Number of wrong classifications : {num_wrong}.\".format(num_wrong=num_wrong.size))\n",
        "print(\"Classification accuracy : {accuracy}.\".format(accuracy=accuracy))"
      ]
    },
    {
      "cell_type": "code",
      "execution_count": null,
      "metadata": {
        "colab": {
          "base_uri": "https://localhost:8080/"
        },
        "id": "ckd43WRDfHh5",
        "outputId": "799d4bb6-5cbe-44a8-9eb7-56f2ae499e11"
      },
      "outputs": [
        {
          "name": "stdout",
          "output_type": "stream",
          "text": [
            "[0. 0. 0.]\n"
          ]
        }
      ],
      "source": [
        "print(train_outputs[:3])"
      ]
    },
    {
      "cell_type": "code",
      "execution_count": null,
      "metadata": {
        "id": "LmtIE2sQrPOr"
      },
      "outputs": [],
      "source": [
        "import numpy\n",
        "import functools\n",
        "\n",
        "\"\"\"\n",
        "Convolutional neural network implementation using NumPy\n",
        "A tutorial that helps to get started (Building Convolutional Neural Network using NumPy from Scratch) available in these links: \n",
        "    https://www.linkedin.com/pulse/building-convolutional-neural-network-using-numpy-from-ahmed-gad\n",
        "    https://towardsdatascience.com/building-convolutional-neural-network-using-numpy-from-scratch-b30aac50e50a\n",
        "    https://www.kdnuggets.com/2018/04/building-convolutional-neural-network-numpy-scratch.html\n",
        "It is also translated into Chinese: http://m.aliyun.com/yunqi/articles/585741\n",
        "\"\"\"\n",
        "\n",
        "# Supported activation functions by the cnn.py module.\n",
        "supported_activation_functions = (\"sigmoid\", \"relu\", \"softmax\")\n",
        "\n",
        "def sigmoid(sop):\n",
        "\n",
        "    \"\"\"\n",
        "    Applies the sigmoid function.\n",
        "    sop: The input to which the sigmoid function is applied.\n",
        "    Returns the result of the sigmoid function.\n",
        "    \"\"\"\n",
        "\n",
        "    if type(sop) in [list, tuple]:\n",
        "        sop = numpy.array(sop)\n",
        "\n",
        "    return 1.0 / (1 + numpy.exp(-1 * sop))\n",
        "\n",
        "def relu(sop):\n",
        "\n",
        "    \"\"\"\n",
        "    Applies the rectified linear unit (ReLU) function.\n",
        "    sop: The input to which the relu function is applied.\n",
        "    Returns the result of the ReLU function.\n",
        "    \"\"\"\n",
        "\n",
        "    if not (type(sop) in [list, tuple, numpy.ndarray]):\n",
        "        if sop < 0:\n",
        "            return 0\n",
        "        else:\n",
        "            return sop\n",
        "    elif type(sop) in [list, tuple]:\n",
        "        sop = numpy.array(sop)\n",
        "\n",
        "    result = sop\n",
        "    result[sop < 0] = 0\n",
        "\n",
        "    return result\n",
        "\n",
        "def softmax(layer_outputs):\n",
        "\n",
        "    \"\"\"\n",
        "    Applies the sotmax function.\n",
        "    sop: The input to which the softmax function is applied.\n",
        "    Returns the result of the softmax function.\n",
        "    \"\"\"\n",
        "    return layer_outputs / (numpy.sum(layer_outputs) + 0.000001)\n",
        "\n",
        "def layers_weights(model, initial=True):\n",
        "\n",
        "    \"\"\"\n",
        "    Creates a list holding the weights of all layers in the CNN.\n",
        "    model: A reference to the instance from the cnn.Model class.\n",
        "    initial: When True, the function returns the initial weights of the layers. When False, the trained weights of the layers are returned. The initial weights are only needed before network training starts. The trained weights are needed to predict the network outputs.\n",
        "    Returns a list (network_weights) holding the weights of the layers in the CNN.\n",
        "    \"\"\"\n",
        "\n",
        "    network_weights = []\n",
        "\n",
        "    layer = model.last_layer\n",
        "    while \"previous_layer\" in layer.__init__.__code__.co_varnames:\n",
        "        if type(layer) in [Conv2D, Dense]:\n",
        "            # If the 'initial' parameter is True, append the initial weights. Otherwise, append the trained weights.\n",
        "            if initial == True:\n",
        "                network_weights.append(layer.initial_weights)\n",
        "            elif initial == False:\n",
        "                network_weights.append(layer.trained_weights)\n",
        "            else:\n",
        "                raise ValueError(\"Unexpected value to the 'initial' parameter: {initial}.\".format(initial=initial))\n",
        "\n",
        "        # Go to the previous layer.\n",
        "        layer = layer.previous_layer\n",
        "\n",
        "    # If the first layer in the network is not an input layer (i.e. an instance of the Input2D class), raise an error.\n",
        "    if not (type(layer) is Input2D):\n",
        "        raise TypeError(\"The first layer in the network architecture must be an input layer.\")\n",
        "\n",
        "    # Currently, the weights of the layers are in the reverse order. In other words, the weights of the first layer are at the last index of the 'network_weights' list while the weights of the last layer are at the first index.\n",
        "    # Reversing the 'network_weights' list to order the layers' weights according to their location in the network architecture (i.e. the weights of the first layer appears at index 0 of the list).\n",
        "    network_weights.reverse()\n",
        "    return numpy.array(network_weights)\n",
        "\n",
        "def layers_weights_as_matrix(model, vector_weights):\n",
        "\n",
        "    \"\"\"\n",
        "    Converts the network weights from vectors to matrices.\n",
        "    model: A reference to the instance from the cnn.Model class.\n",
        "    vector_weights: The network weights as vectors where the weights of each layer form a single vector.\n",
        "    Returns a list (network_weights) holding the weights of the CNN layers as matrices.\n",
        "    \"\"\"\n",
        "\n",
        "    network_weights = []\n",
        "\n",
        "    start = 0\n",
        "    layer = model.last_layer\n",
        "    vector_weights = vector_weights[::-1]\n",
        "    while \"previous_layer\" in layer.__init__.__code__.co_varnames:\n",
        "        if type(layer) in [Conv2D, Dense]:\n",
        "            layer_weights_shape = layer.initial_weights.shape\n",
        "            layer_weights_size = layer.initial_weights.size\n",
        "    \n",
        "            weights_vector=vector_weights[start:start + layer_weights_size]\n",
        "    #        matrix = pygad.nn.DenseLayer.to_array(vector=weights_vector, shape=layer_weights_shape)\n",
        "            matrix = numpy.reshape(weights_vector, newshape=(layer_weights_shape))\n",
        "            network_weights.append(matrix)\n",
        "    \n",
        "            start = start + layer_weights_size\n",
        "    \n",
        "        # Go to the previous layer.\n",
        "        layer = layer.previous_layer\n",
        "\n",
        "    # If the first layer in the network is not an input layer (i.e. an instance of the Input2D class), raise an error.\n",
        "    if not (type(layer) is Input2D):\n",
        "        raise TypeError(\"The first layer in the network architecture must be an input layer.\")\n",
        "\n",
        "    # Currently, the weights of the layers are in the reverse order. In other words, the weights of the first layer are at the last index of the 'network_weights' list while the weights of the last layer are at the first index.\n",
        "    # Reversing the 'network_weights' list to order the layers' weights according to their location in the network architecture (i.e. the weights of the first layer appears at index 0 of the list).\n",
        "    network_weights.reverse()\n",
        "    return numpy.array(network_weights)\n",
        "\n",
        "def layers_weights_as_vector(model, initial=True):\n",
        "\n",
        "    \"\"\"\n",
        "    Creates a list holding the weights of each layer (Conv and Dense) in the CNN as a vector.\n",
        "    model: A reference to the instance from the cnn.Model class.\n",
        "    initial: When True, the function returns the initial weights of the CNN. When False, the trained weights of the CNN layers are returned. The initial weights are only needed before network training starts. The trained weights are needed to predict the network outputs.\n",
        "    \n",
        "    Returns a list (network_weights) holding the weights of the CNN layers as a vector.\n",
        "    \"\"\"\n",
        "\n",
        "    network_weights = []\n",
        "\n",
        "    layer = model.last_layer\n",
        "    while \"previous_layer\" in layer.__init__.__code__.co_varnames:\n",
        "        if type(layer) in [Conv2D, Dense]:\n",
        "            # If the 'initial' parameter is True, append the initial weights. Otherwise, append the trained weights.\n",
        "            if initial == True:\n",
        "                vector = numpy.reshape(layer.initial_weights, newshape=(layer.initial_weights.size))\n",
        "    #            vector = pygad.nn.DenseLayer.to_vector(matrix=layer.initial_weights)\n",
        "                network_weights.extend(vector)\n",
        "            elif initial == False:\n",
        "                vector = numpy.reshape(layer.trained_weights, newshape=(layer.trained_weights.size))\n",
        "    #            vector = pygad.nn.DenseLayer.to_vector(array=layer.trained_weights)\n",
        "                network_weights.extend(vector)\n",
        "            else:\n",
        "                raise ValueError(\"Unexpected value to the 'initial' parameter: {initial}.\".format(initial=initial))\n",
        "\n",
        "        # Go to the previous layer.\n",
        "        layer = layer.previous_layer\n",
        "\n",
        "    # If the first layer in the network is not an input layer (i.e. an instance of the Input2D class), raise an error.\n",
        "    if not (type(layer) is Input2D):\n",
        "        raise TypeError(\"The first layer in the network architecture must be an input layer.\")\n",
        "\n",
        "    # Currently, the weights of the layers are in the reverse order. In other words, the weights of the first layer are at the last index of the 'network_weights' list while the weights of the last layer are at the first index.\n",
        "    # Reversing the 'network_weights' list to order the layers' weights according to their location in the network architecture (i.e. the weights of the first layer appears at index 0 of the list).\n",
        "    network_weights.reverse()\n",
        "    return numpy.array(network_weights)\n",
        "\n",
        "def update_layers_trained_weights(model, final_weights):\n",
        "\n",
        "    \"\"\"\n",
        "    After the network weights are trained, the 'trained_weights' attribute of each layer is updated by the weights calculated after passing all the epochs (such weights are passed in the 'final_weights' parameter).\n",
        "    By just passing a reference to the last layer in the network (i.e. output layer) in addition to the final weights, this function updates the 'trained_weights' attribute of all layers.\n",
        "    model: A reference to the instance from the cnn.Model class.\n",
        "    final_weights: An array of layers weights as matrices after passing through all the epochs.\n",
        "    \"\"\"\n",
        "\n",
        "    layer = model.last_layer\n",
        "    layer_idx = len(final_weights) - 1\n",
        "    while \"previous_layer\" in layer.__init__.__code__.co_varnames:\n",
        "        if type(layer) in [Conv2D, Dense]:\n",
        "            layer.trained_weights = final_weights[layer_idx]\n",
        "    \n",
        "            layer_idx = layer_idx - 1\n",
        "\n",
        "        # Go to the previous layer.\n",
        "        layer = layer.previous_layer\n",
        "\n",
        "class Input2D:\n",
        "\n",
        "    \"\"\"\n",
        "    Implementing the input layer of a CNN.\n",
        "    The CNN architecture must start with an input layer.\n",
        "    \"\"\"\n",
        "\n",
        "    def __init__(self, input_shape):\n",
        "\n",
        "        \"\"\"\n",
        "        input_shape: Shape of the input sample to the CNN.\n",
        "        \"\"\"\n",
        "\n",
        "        # If the input sample has less than 2 dimensions, then an exception is raised.\n",
        "        if len(input_shape) < 2:\n",
        "            raise ValueError(\"The Input2D class creates an input layer for data inputs with at least 2 dimensions but ({num_dim}) dimensions found.\".format(num_dim=len(input_shape)))\n",
        "        # If the input sample has exactly 2 dimensions, the third dimension is set to 1.\n",
        "        elif len(input_shape) == 2:\n",
        "            input_shape = (input_shape[0], input_shape[1], 1)\n",
        "\n",
        "        for dim_idx, dim in enumerate(input_shape):\n",
        "            if dim <= 0:\n",
        "                raise ValueError(\"The dimension size of the inputs cannot be <= 0. Please pass a valid value to the 'input_size' parameter.\")\n",
        "\n",
        "        self.input_shape = input_shape # Shape of the input sample.\n",
        "        self.layer_output_size = input_shape # Shape of the output from the current layer. For an input layer, it is the same as the shape of the input sample.\n",
        "\n",
        "class Conv2D:\n",
        "\n",
        "    \"\"\"\n",
        "    Implementing the convolution layer.\n",
        "    \"\"\"\n",
        "\n",
        "    def __init__(self, num_filters, kernel_size, previous_layer, activation_function=None):\n",
        "\n",
        "        \"\"\"\n",
        "        num_filters: Number of filters in the convolution layer.\n",
        "        kernel_size: Kernel size of the filter.\n",
        "        previous_layer: A reference to the previous layer.\n",
        "        activation_function=None: The name of the activation function to be used in the conv layer. If None, then no activation function is applied besides the convolution operation. The activation function can be applied by a separate layer.\n",
        "        \"\"\"\n",
        "\n",
        "        if num_filters <= 0:\n",
        "            raise ValueError(\"Number of filters cannot be <= 0. Please pass a valid value to the 'num_filters' parameter.\")\n",
        "        # Number of filters in the conv layer.\n",
        "        self.num_filters = num_filters\n",
        "\n",
        "        if kernel_size <= 0:\n",
        "            raise ValueError(\"The kernel size cannot be <= 0. Please pass a valid value to the 'kernel_size' parameter.\")\n",
        "        # Kernel size of each filter.\n",
        "        self.kernel_size = kernel_size\n",
        "\n",
        "        # Validating the activation function\n",
        "        if (activation_function is None):\n",
        "            self.activation = None\n",
        "        elif (activation_function == \"relu\"):\n",
        "            self.activation = relu\n",
        "        elif (activation_function == \"sigmoid\"):\n",
        "            self.activation = sigmoid\n",
        "        elif (activation_function == \"softmax\"):\n",
        "            raise ValueError(\"The softmax activation function cannot be used in a conv layer.\")\n",
        "        else:\n",
        "            raise ValueError(\"The specified activation function '{activation_function}' is not among the supported activation functions {supported_activation_functions}. Please use one of the supported functions.\".format(activation_function=activation_function, supported_activation_functions=supported_activation_functions))\n",
        "\n",
        "        # The activation function used in the current layer.\n",
        "        self.activation_function = activation_function\n",
        "\n",
        "        if previous_layer is None:\n",
        "            raise TypeError(\"The previous layer cannot be of Type 'None'. Please pass a valid layer to the 'previous_layer' parameter.\")\n",
        "        # A reference to the layer that preceeds the current layer in the network architecture.\n",
        "        self.previous_layer = previous_layer\n",
        "        \n",
        "        # A reference to the bank of filters.\n",
        "        self.filter_bank_size = (self.num_filters,\n",
        "                                 self.kernel_size, \n",
        "                                 self.kernel_size, \n",
        "                                 self.previous_layer.layer_output_size[-1])\n",
        "\n",
        "        # Initializing the filters of the conv layer.\n",
        "        self.initial_weights = numpy.random.uniform(low=-0.1,\n",
        "                                                    high=0.1,\n",
        "                                                    size=self.filter_bank_size)\n",
        "\n",
        "        # The trained filters of the conv layer. Only assigned a value after the network is trained (i.e. the train_network() function completes).\n",
        "        # Just initialized to be equal to the initial filters\n",
        "        self.trained_weights = self.initial_weights.copy()\n",
        "\n",
        "        # Size of the input to the layer.\n",
        "        self.layer_input_size = self.previous_layer.layer_output_size\n",
        "\n",
        "        # Size of the output from the layer.\n",
        "        # Later, it must conider strides and paddings\n",
        "        self.layer_output_size = (self.previous_layer.layer_output_size[0] - self.kernel_size + 1, \n",
        "                                  self.previous_layer.layer_output_size[1] - self.kernel_size + 1, \n",
        "                                  num_filters)\n",
        "\n",
        "        # The layer_output attribute holds the latest output from the layer.\n",
        "        self.layer_output = None\n",
        "\n",
        "    def conv_(self, input2D, conv_filter):\n",
        "        \n",
        "        \"\"\"\n",
        "        Convolves the input (input2D) by a single filter (conv_filter).\n",
        "        \n",
        "        input2D: The input to be convolved by a single filter.\n",
        "        conv_filter: The filter convolving the input.\n",
        "        \n",
        "        Returns the result of convolution.\n",
        "        \"\"\"\n",
        "\n",
        "        result = numpy.zeros(shape=(input2D.shape[0], input2D.shape[1], conv_filter.shape[0]))\n",
        "        # Looping through the image to apply the convolution operation.\n",
        "        for r in numpy.uint16(numpy.arange(self.filter_bank_size[1]/2.0, \n",
        "                              input2D.shape[0]-self.filter_bank_size[1]/2.0+1)):\n",
        "            for c in numpy.uint16(numpy.arange(self.filter_bank_size[1]/2.0, \n",
        "                                               input2D.shape[1]-self.filter_bank_size[1]/2.0+1)):\n",
        "                \"\"\"\n",
        "                Getting the current region to get multiplied with the filter.\n",
        "                How to loop through the image and get the region based on \n",
        "                the image and filer sizes is the most tricky part of convolution.\n",
        "                \"\"\"\n",
        "                if len(input2D.shape) == 2:\n",
        "                    curr_region = input2D[r-numpy.uint16(numpy.floor(self.filter_bank_size[1]/2.0)):r+numpy.uint16(numpy.ceil(self.filter_bank_size[1]/2.0)), \n",
        "                                          c-numpy.uint16(numpy.floor(self.filter_bank_size[1]/2.0)):c+numpy.uint16(numpy.ceil(self.filter_bank_size[1]/2.0))]\n",
        "                else:\n",
        "                    curr_region = input2D[r-numpy.uint16(numpy.floor(self.filter_bank_size[1]/2.0)):r+numpy.uint16(numpy.ceil(self.filter_bank_size[1]/2.0)), \n",
        "                                          c-numpy.uint16(numpy.floor(self.filter_bank_size[1]/2.0)):c+numpy.uint16(numpy.ceil(self.filter_bank_size[1]/2.0)), :]\n",
        "                # Element-wise multipliplication between the current region and the filter.\n",
        "                \n",
        "                for filter_idx in range(conv_filter.shape[0]):\n",
        "                    curr_result = curr_region * conv_filter[filter_idx]\n",
        "                    conv_sum = numpy.sum(curr_result) # Summing the result of multiplication.\n",
        "    \n",
        "                    if self.activation is None:\n",
        "                        result[r, c, filter_idx] = conv_sum # Saving the SOP in the convolution layer feature map.\n",
        "                    else:\n",
        "                        result[r, c, filter_idx] = self.activation(conv_sum) # Saving the activation function result in the convolution layer feature map.\n",
        "\n",
        "        # Clipping the outliers of the result matrix.\n",
        "        final_result = result[numpy.uint16(self.filter_bank_size[1]/2.0):result.shape[0]-numpy.uint16(self.filter_bank_size[1]/2.0), \n",
        "                              numpy.uint16(self.filter_bank_size[1]/2.0):result.shape[1]-numpy.uint16(self.filter_bank_size[1]/2.0), :]\n",
        "        return final_result\n",
        "\n",
        "    def conv(self, input2D):\n",
        "\n",
        "        \"\"\"\n",
        "        Convolves the input (input2D) by a filter bank.\n",
        "        \n",
        "        input2D: The input to be convolved by the filter bank.\n",
        "        The conv() method saves the result of convolving the input by the filter bank in the layer_output attribute.\n",
        "        \"\"\"\n",
        "\n",
        "        if len(input2D.shape) != len(self.initial_weights.shape) - 1: # Check if there is a match in the number of dimensions between the image and the filters.\n",
        "            raise ValueError(\"Number of dimensions in the conv filter and the input do not match.\")  \n",
        "        if len(input2D.shape) > 2 or len(self.initial_weights.shape) > 3: # Check if number of image channels matches the filter depth.\n",
        "            if input2D.shape[-1] != self.initial_weights.shape[-1]:\n",
        "                raise ValueError(\"Number of channels in both the input and the filter must match.\")\n",
        "        if self.initial_weights.shape[1] != self.initial_weights.shape[2]: # Check if filter dimensions are equal.\n",
        "            raise ValueError('A filter must be a square matrix. I.e. number of rows and columns must match.')\n",
        "        if self.initial_weights.shape[1]%2==0: # Check if filter diemnsions are odd.\n",
        "            raise ValueError('A filter must have an odd size. I.e. number of rows and columns must be odd.')\n",
        "\n",
        "        self.layer_output = self.conv_(input2D, self.trained_weights)\n",
        "\n",
        "class AveragePooling2D:\n",
        "\n",
        "    \"\"\"\n",
        "    Implementing the average pooling layer.\n",
        "    \"\"\"\n",
        "\n",
        "    def __init__(self, pool_size, previous_layer, stride=2):\n",
        "\n",
        "        \"\"\"\n",
        "        pool_size: Pool size.\n",
        "        previous_layer: Reference to the previous layer in the CNN architecture.\n",
        "        stride=2: Stride\n",
        "        \"\"\"\n",
        "\n",
        "        if not (type(pool_size) is int):\n",
        "            raise ValueError(\"The expected type of the pool_size is int but {pool_size_type} found.\".format(pool_size_type=type(pool_size)))\n",
        "\n",
        "        if pool_size <= 0:\n",
        "            raise ValueError(\"The passed value to the pool_size parameter cannot be <= 0.\")\n",
        "        self.pool_size = pool_size\n",
        "\n",
        "        if stride <= 0:\n",
        "            raise ValueError(\"The passed value to the stride parameter cannot be <= 0.\")\n",
        "        self.stride = stride\n",
        "\n",
        "        if previous_layer is None:\n",
        "            raise TypeError(\"The previous layer cannot be of Type 'None'. Please pass a valid layer to the 'previous_layer' parameter.\")\n",
        "        # A reference to the layer that preceeds the current layer in the network architecture.\n",
        "        self.previous_layer = previous_layer\n",
        "\n",
        "        # Size of the input to the layer.\n",
        "        self.layer_input_size = self.previous_layer.layer_output_size\n",
        "\n",
        "        # Size of the output from the layer.\n",
        "        self.layer_output_size = (numpy.uint16((self.previous_layer.layer_output_size[0] - self.pool_size + 1)/stride + 1), \n",
        "                                  numpy.uint16((self.previous_layer.layer_output_size[1] - self.pool_size + 1)/stride + 1), \n",
        "                                  self.previous_layer.layer_output_size[-1])\n",
        "\n",
        "        # The layer_output attribute holds the latest output from the layer.\n",
        "        self.layer_output = None\n",
        "\n",
        "    def average_pooling(self, input2D):\n",
        "\n",
        "        \"\"\"\n",
        "        Applies the average pooling operation.\n",
        "        \n",
        "        input2D: The input to which the average pooling operation is applied.\n",
        "        The average_pooling() method saves its result in the layer_output attribute.\n",
        "        \"\"\"\n",
        "\n",
        "        # Preparing the output of the pooling operation.\n",
        "        pool_out = numpy.zeros((numpy.uint16((input2D.shape[0]-self.pool_size+1)/self.stride+1),\n",
        "                                numpy.uint16((input2D.shape[1]-self.pool_size+1)/self.stride+1),\n",
        "                                input2D.shape[-1]))\n",
        "        for map_num in range(input2D.shape[-1]):\n",
        "            r2 = 0\n",
        "            for r in numpy.arange(0,input2D.shape[0]-self.pool_size+1, self.stride):\n",
        "                c2 = 0\n",
        "                for c in numpy.arange(0, input2D.shape[1]-self.pool_size+1, self.stride):\n",
        "                    pool_out[r2, c2, map_num] = numpy.mean([input2D[r:r+self.pool_size,  c:c+self.pool_size, map_num]])\n",
        "                    c2 = c2 + 1\n",
        "                r2 = r2 +1\n",
        "\n",
        "        self.layer_output = pool_out\n",
        "\n",
        "class MaxPooling2D:\n",
        "\n",
        "    \"\"\"\n",
        "    Similar to the AveragePooling2D class except that it implements max pooling.\n",
        "    \"\"\"\n",
        "\n",
        "    def __init__(self, pool_size, previous_layer, stride=2):\n",
        "        \n",
        "        \"\"\"\n",
        "        pool_size: Pool size.\n",
        "        previous_layer: Reference to the previous layer in the CNN architecture.\n",
        "        stride=2: Stride\n",
        "        \"\"\"\n",
        "        \n",
        "        if not (type(pool_size) is int):\n",
        "            raise ValueError(\"The expected type of the pool_size is int but {pool_size_type} found.\".format(pool_size_type=type(pool_size)))\n",
        "\n",
        "        if pool_size <= 0:\n",
        "            raise ValueError(\"The passed value to the pool_size parameter cannot be <= 0.\")\n",
        "        self.pool_size = pool_size\n",
        "\n",
        "        if stride <= 0:\n",
        "            raise ValueError(\"The passed value to the stride parameter cannot be <= 0.\")\n",
        "        self.stride = stride\n",
        "\n",
        "        if previous_layer is None:\n",
        "            raise TypeError(\"The previous layer cannot be of Type 'None'. Please pass a valid layer to the 'previous_layer' parameter.\")\n",
        "        # A reference to the layer that preceeds the current layer in the network architecture.\n",
        "        self.previous_layer = previous_layer\n",
        "\n",
        "        # Size of the input to the layer.\n",
        "        self.layer_input_size = self.previous_layer.layer_output_size\n",
        "\n",
        "        # Size of the output from the layer.\n",
        "        self.layer_output_size = (numpy.uint16((self.previous_layer.layer_output_size[0] - self.pool_size + 1)/stride + 1), \n",
        "                                  numpy.uint16((self.previous_layer.layer_output_size[1] - self.pool_size + 1)/stride + 1), \n",
        "                                  self.previous_layer.layer_output_size[-1])\n",
        "\n",
        "        # The layer_output attribute holds the latest output from the layer.\n",
        "        self.layer_output = None\n",
        "\n",
        "    def max_pooling(self, input2D):\n",
        "        \n",
        "        \"\"\"\n",
        "        Applies the max pooling operation.\n",
        "        \n",
        "        input2D: The input to which the max pooling operation is applied.\n",
        "        The max_pooling() method saves its result in the layer_output attribute.\n",
        "        \"\"\"\n",
        "        \n",
        "        # Preparing the output of the pooling operation.\n",
        "        pool_out = numpy.zeros((numpy.uint16((input2D.shape[0]-self.pool_size+1)/self.stride+1),\n",
        "                                numpy.uint16((input2D.shape[1]-self.pool_size+1)/self.stride+1),\n",
        "                                input2D.shape[-1]))\n",
        "        for map_num in range(input2D.shape[-1]):\n",
        "            r2 = 0\n",
        "            for r in numpy.arange(0,input2D.shape[0]-self.pool_size+1, self.stride):\n",
        "                c2 = 0\n",
        "                for c in numpy.arange(0, input2D.shape[1]-self.pool_size+1, self.stride):\n",
        "                    pool_out[r2, c2, map_num] = numpy.max([input2D[r:r+self.pool_size,  c:c+self.pool_size, map_num]])\n",
        "                    c2 = c2 + 1\n",
        "                r2 = r2 +1\n",
        "\n",
        "        self.layer_output = pool_out\n",
        "\n",
        "class ReLU:\n",
        "\n",
        "    \"\"\"\n",
        "    Implementing the ReLU layer.\n",
        "    \"\"\"\n",
        "\n",
        "    def __init__(self, previous_layer):\n",
        "\n",
        "        \"\"\"\n",
        "        previous_layer: Reference to the previous layer.\n",
        "        \"\"\"\n",
        "\n",
        "        if previous_layer is None:\n",
        "            raise TypeError(\"The previous layer cannot be of Type 'None'. Please pass a valid layer to the 'previous_layer' parameter.\")\n",
        "\n",
        "        # A reference to the layer that preceeds the current layer in the network architecture.\n",
        "        self.previous_layer = previous_layer\n",
        "\n",
        "        # Size of the input to the layer.\n",
        "        self.layer_input_size = self.previous_layer.layer_output_size\n",
        "\n",
        "        # Size of the output from the layer.\n",
        "        self.layer_output_size = self.previous_layer.layer_output_size\n",
        "\n",
        "        # The layer_output attribute holds the latest output from the layer.\n",
        "        self.layer_output = None\n",
        "\n",
        "    def relu_layer(self, layer_input):\n",
        "\n",
        "        \"\"\"\n",
        "        Applies the ReLU function over all elements in input to the ReLU layer.\n",
        "        \n",
        "        layer_input: The input to which the ReLU function is applied.\n",
        "        The relu_layer() method saves its result in the layer_output attribute.\n",
        "        \"\"\"\n",
        "\n",
        "        self.layer_output_size = layer_input.size\n",
        "        self.layer_output = relu(layer_input)\n",
        "\n",
        "class Sigmoid:\n",
        "\n",
        "    \"\"\"\n",
        "    Implementing the sigmoid layer.\n",
        "    \"\"\"\n",
        "\n",
        "    def __init__(self, previous_layer):\n",
        "\n",
        "        \"\"\"\n",
        "        previous_layer: Reference to the previous layer.\n",
        "        \"\"\"\n",
        "\n",
        "        if previous_layer is None:\n",
        "            raise TypeError(\"The previous layer cannot be of Type 'None'. Please pass a valid layer to the 'previous_layer' parameter.\")\n",
        "        # A reference to the layer that preceeds the current layer in the network architecture.\n",
        "        self.previous_layer = previous_layer\n",
        "\n",
        "        # Size of the input to the layer.\n",
        "        self.layer_input_size = self.previous_layer.layer_output_size\n",
        "\n",
        "        # Size of the output from the layer.\n",
        "        self.layer_output_size = self.previous_layer.layer_output_size\n",
        "\n",
        "        # The layer_output attribute holds the latest output from the layer.\n",
        "        self.layer_output = None\n",
        "\n",
        "    def sigmoid_layer(self, layer_input):\n",
        "\n",
        "        \"\"\"\n",
        "        Applies the sigmoid function over all elements in input to the sigmoid layer.\n",
        "        \n",
        "        layer_input: The input to which the sigmoid function is applied.\n",
        "        The sigmoid_layer() method saves its result in the layer_output attribute.\n",
        "        \"\"\"\n",
        "\n",
        "        self.layer_output_size = layer_input.size\n",
        "        self.layer_output = sigmoid(layer_input)\n",
        "\n",
        "class Flatten:\n",
        "\n",
        "    \"\"\"\n",
        "    Implementing the flatten layer.\n",
        "    \"\"\"\n",
        "\n",
        "    def __init__(self, previous_layer):\n",
        "        \n",
        "        \"\"\"\n",
        "        previous_layer: Reference to the previous layer.\n",
        "        \"\"\"\n",
        "\n",
        "        if previous_layer is None:\n",
        "            raise TypeError(\"The previous layer cannot be of Type 'None'. Please pass a valid layer to the 'previous_layer' parameter.\")\n",
        "        # A reference to the layer that preceeds the current layer in the network architecture.\n",
        "        self.previous_layer = previous_layer\n",
        "\n",
        "        # Size of the input to the layer.\n",
        "        self.layer_input_size = self.previous_layer.layer_output_size\n",
        "\n",
        "        # Size of the output from the layer.\n",
        "        self.layer_output_size = functools.reduce(lambda x, y: x*y, self.previous_layer.layer_output_size)\n",
        "\n",
        "        # The layer_output attribute holds the latest output from the layer.\n",
        "        self.layer_output = None\n",
        "\n",
        "    def flatten(self, input2D):\n",
        "        \n",
        "        \"\"\"\n",
        "        Reshapes the input into a 1D vector.\n",
        "        \n",
        "        input2D: The input to the Flatten layer that will be converted into a 1D vector.\n",
        "        The flatten() method saves its result in the layer_output attribute.\n",
        "        \"\"\"\n",
        "\n",
        "        self.layer_output_size = input2D.size\n",
        "        self.layer_output = numpy.ravel(input2D)\n",
        "\n",
        "class Dense:\n",
        "\n",
        "    \"\"\"\n",
        "    Implementing the input dense (fully connected) layer of a CNN.\n",
        "    \"\"\"\n",
        "\n",
        "    def __init__(self, num_neurons, previous_layer, activation_function=\"relu\"):\n",
        "\n",
        "        \"\"\"\n",
        "        num_neurons: Number of neurons in the dense layer.\n",
        "        previous_layer: Reference to the previous layer.\n",
        "        activation_function: Name of the activation function to be used in the current layer.\n",
        "        \"\"\"\n",
        "\n",
        "        if num_neurons <= 0:\n",
        "            raise ValueError(\"Number of neurons cannot be <= 0. Please pass a valid value to the 'num_neurons' parameter.\")\n",
        "\n",
        "        # Number of neurons in the dense layer.\n",
        "        self.num_neurons = num_neurons\n",
        "\n",
        "        # Validating the activation function\n",
        "        if (activation_function == \"relu\"):\n",
        "            self.activation = relu\n",
        "        elif (activation_function == \"sigmoid\"):\n",
        "            self.activation = sigmoid\n",
        "        elif (activation_function == \"softmax\"):\n",
        "            self.activation = softmax\n",
        "        else:\n",
        "            raise ValueError(\"The specified activation function '{activation_function}' is not among the supported activation functions {supported_activation_functions}. Please use one of the supported functions.\".format(activation_function=activation_function, supported_activation_functions=supported_activation_functions))\n",
        "\n",
        "        self.activation_function = activation_function\n",
        "\n",
        "        if previous_layer is None:\n",
        "            raise TypeError(\"The previous layer cannot be of Type 'None'. Please pass a valid layer to the 'previous_layer' parameter.\")\n",
        "        # A reference to the layer that preceeds the current layer in the network architecture.\n",
        "        self.previous_layer = previous_layer\n",
        "        \n",
        "        if type(self.previous_layer.layer_output_size) in [list, tuple, numpy.ndarray] and len(self.previous_layer.layer_output_size) > 1:\n",
        "            raise ValueError(\"The input to the dense layer must be of type int but {sh} found.\".format(sh=type(self.previous_layer.layer_output_size)))\n",
        "        # Initializing the weights of the layer.\n",
        "        self.initial_weights = numpy.random.uniform(low=-0.1,\n",
        "                                                    high=0.1,\n",
        "                                                    size=(self.previous_layer.layer_output_size, self.num_neurons))\n",
        "\n",
        "        # The trained weights of the layer. Only assigned a value after the network is trained (i.e. the train_network() function completes).\n",
        "        # Just initialized to be equal to the initial weights\n",
        "        self.trained_weights = self.initial_weights.copy()\n",
        "\n",
        "        # Size of the input to the layer.\n",
        "        self.layer_input_size = self.previous_layer.layer_output_size\n",
        "\n",
        "        # Size of the output from the layer.\n",
        "        self.layer_output_size = num_neurons\n",
        "\n",
        "        # The layer_output attribute holds the latest output from the layer.\n",
        "        self.layer_output = None\n",
        "\n",
        "    def dense_layer(self, layer_input):\n",
        "\n",
        "        \"\"\"\n",
        "        Calculates the output of the dense layer.\n",
        "        \n",
        "        layer_input: The input to the dense layer\n",
        "        The dense_layer() method saves its result in the layer_output attribute.\n",
        "        \"\"\"\n",
        "\n",
        "        if self.trained_weights is None:\n",
        "            raise TypeError(\"The weights of the dense layer cannot be of Type 'None'.\")\n",
        "\n",
        "        sop = numpy.matmul(layer_input, self.trained_weights)\n",
        "\n",
        "        self.layer_output = self.activation(sop)\n",
        "\n",
        "class Model:\n",
        "\n",
        "    \"\"\"\n",
        "    Creating a CNN model.\n",
        "    \"\"\"\n",
        "\n",
        "    def __init__(self, last_layer, epochs=10, learning_rate=0.01):\n",
        "        \n",
        "        \"\"\"\n",
        "        last_layer: A reference to the last layer in the CNN architecture.\n",
        "        epochs=10: Number of epochs.\n",
        "        learning_rate=0.01: Learning rate.\n",
        "        \"\"\"\n",
        "\n",
        "        self.last_layer = last_layer\n",
        "        self.epochs = epochs\n",
        "        self.learning_rate = learning_rate\n",
        "\n",
        "        # The network_layers attribute is a list holding references to all CNN layers.\n",
        "        self.network_layers = self.get_layers()\n",
        "\n",
        "    def get_layers(self):\n",
        "\n",
        "        \"\"\"\n",
        "        Prepares a  list of all layers in the CNN model.\n",
        "        Returns the list.\n",
        "        \"\"\"\n",
        "\n",
        "        network_layers = []\n",
        "\n",
        "        # The last layer in the network archietcture.\n",
        "        layer = self.last_layer\n",
        "\n",
        "        while \"previous_layer\" in layer.__init__.__code__.co_varnames:\n",
        "            network_layers.insert(0, layer)\n",
        "            layer = layer.previous_layer\n",
        "\n",
        "        return network_layers\n",
        "\n",
        "    def train(self, train_inputs, train_outputs):\n",
        "        \n",
        "        \"\"\"\n",
        "        Trains the CNN model.\n",
        "        It is important to note that no learning algorithm is used for training the CNN. Just the learning rate is used for making some changes which is better than leaving the weights unchanged.\n",
        "        \n",
        "        train_inputs: Training data inputs.\n",
        "        train_outputs: Training data outputs. \n",
        "        \"\"\"\n",
        "        \n",
        "        if (train_inputs.ndim != 4):\n",
        "            raise ValueError(\"The training data input has {num_dims} but it must have 4 dimensions. The first dimension is the number of training samples, the second & third dimensions represent the width and height of the sample, and the fourth dimension represents the number of channels in the sample.\".format(num_dims=train_inputs.ndim))    \n",
        "\n",
        "        if (train_inputs.shape[0] != len(train_outputs)):\n",
        "            raise ValueError(\"Mismatch between the number of input samples and number of labels: {num_samples_inputs} != {num_samples_outputs}.\".format(num_samples_inputs=train_inputs.shape[0], num_samples_outputs=len(train_outputs)))\n",
        "\n",
        "        network_predictions = []\n",
        "        network_error = 0\n",
        "    \n",
        "        for epoch in range(self.epochs):\n",
        "            print(\"Epoch {epoch}\".format(epoch=epoch))\n",
        "            for sample_idx in range(train_inputs.shape[0]):\n",
        "                # print(\"Sample {sample_idx}\".format(sample_idx=sample_idx))\n",
        "                self.feed_sample(train_inputs[sample_idx, :])\n",
        "    \n",
        "                try:\n",
        "                    predicted_label = numpy.where(numpy.max(self.last_layer.layer_output) == self.last_layer.layer_output)[0][0]\n",
        "                except IndexError:\n",
        "                    print(self.last_layer.layer_output)\n",
        "                    raise IndexError(\"Index out of range\")\n",
        "                network_predictions.append(predicted_label)\n",
        "    \n",
        "                network_error = network_error + abs(predicted_label - train_outputs[sample_idx])\n",
        "\n",
        "            self.update_weights(network_error)\n",
        "\n",
        "    def feed_sample(self, sample):\n",
        "        \n",
        "        \"\"\"\n",
        "        Feeds a sample in the CNN layers.\n",
        "        \n",
        "        sample: The samples to be fed to the CNN layers.\n",
        "        \n",
        "        Returns results of the last layer in the CNN.\n",
        "        \"\"\"\n",
        "\n",
        "        last_layer_outputs = sample\n",
        "        for layer in self.network_layers:\n",
        "            if type(layer) is Conv2D:\n",
        "#                import time\n",
        "#                time1 = time.time()\n",
        "                layer.conv(input2D=last_layer_outputs)\n",
        "#                time2 = time.time()\n",
        "#                print(time2 - time1)\n",
        "            elif type(layer) is Dense:\n",
        "                layer.dense_layer(layer_input=last_layer_outputs)\n",
        "            elif type(layer) is MaxPooling2D:\n",
        "                layer.max_pooling(input2D=last_layer_outputs)\n",
        "            elif type(layer) is AveragePooling2D:\n",
        "                layer.average_pooling(input2D=last_layer_outputs)\n",
        "            elif type(layer) is ReLU:\n",
        "                layer.relu_layer(layer_input=last_layer_outputs)\n",
        "            elif type(layer) is Sigmoid:\n",
        "                layer.sigmoid_layer(layer_input=last_layer_outputs)\n",
        "            elif type(layer) is Flatten:\n",
        "                layer.flatten(input2D=last_layer_outputs)\n",
        "            elif type(layer) is Input2D:\n",
        "                pass\n",
        "            else:\n",
        "                print(\"Other\")\n",
        "                raise TypeError(\"The layer of type {layer_type} is not supported yet.\".format(layer_type=type(layer)))\n",
        "\n",
        "            last_layer_outputs = layer.layer_output\n",
        "        return self.network_layers[-1].layer_output\n",
        "\n",
        "    def update_weights(self, network_error):\n",
        "        \n",
        "        \"\"\"\n",
        "        Updates the weights of the CNN.\n",
        "        It is important to note that no learning algorithm is used for training the CNN. Just the learning rate is used for making some changes which is better than leaving the weights unchanged.\n",
        "        \n",
        "        This method loops through the layers and updates their weights.\n",
        "        network_error: The network error in the last epoch.\n",
        "        \"\"\"\n",
        "        \n",
        "        for layer in self.network_layers:\n",
        "            if \"trained_weights\" in vars(layer).keys():\n",
        "                print('layer.trained_weights.shape',layer.trained_weights.shape)\n",
        "                print('network_error',network_error)\n",
        "                print(type(self.learning_rate))\n",
        "                layer.trained_weights = layer.trained_weights - network_error * self.learning_rate * layer.trained_weights\n",
        "\n",
        "    def predict(self, data_inputs):\n",
        "\n",
        "        \"\"\"\n",
        "        Uses the trained CNN for making predictions.\n",
        "        \n",
        "        data_inputs: The inputs to predict their label.\n",
        "        Returns a list holding the samples predictions.\n",
        "        \"\"\"\n",
        "\n",
        "        if (data_inputs.ndim != 4):\n",
        "            raise ValueError(\"The data input has {num_dims} but it must have 4 dimensions. The first dimension is the number of training samples, the second & third dimensions represent the width and height of the sample, and the fourth dimension represents the number of channels in the sample.\".format(num_dims=data_inputs.ndim))\n",
        "\n",
        "        predictions = []\n",
        "        for sample in data_inputs:\n",
        "            probs = self.feed_sample(sample=sample)\n",
        "            predicted_label = numpy.where(numpy.max(probs) == probs)[0][0]\n",
        "            predictions.append(predicted_label)\n",
        "        return predictions\n",
        "\n",
        "    def summary(self):\n",
        "\n",
        "        \"\"\"\n",
        "        Prints a summary of the CNN architecture.\n",
        "        \"\"\"\n",
        "\n",
        "        print(\"\\n----------Network Architecture----------\")\n",
        "        for layer in self.network_layers:\n",
        "            print(type(layer))\n",
        "        print(\"----------------------------------------\\n\")"
      ]
    },
    {
      "cell_type": "markdown",
      "metadata": {
        "id": "mp1SRZaGpfu2"
      },
      "source": [
        "# deep-learning-from-scratch-3 mnist_gpu\n"
      ]
    },
    {
      "cell_type": "code",
      "execution_count": null,
      "metadata": {
        "colab": {
          "base_uri": "https://localhost:8080/"
        },
        "id": "QfL-gjCjlq6A",
        "outputId": "051a36bf-f4d7-458f-feac-17f66b8930aa"
      },
      "outputs": [
        {
          "output_type": "stream",
          "name": "stdout",
          "text": [
            "Downloading: train-images-idx3-ubyte.gz\n",
            "[##############################] 100.00% Done\n",
            "Downloading: train-labels-idx1-ubyte.gz\n",
            "[##############################] 100.00% Done\n",
            "epoch: 1, loss: 1.9067, time: 6.7347[sec]\n",
            "epoch: 2, loss: 1.2766, time: 6.7198[sec]\n",
            "epoch: 3, loss: 0.9210, time: 6.7235[sec]\n",
            "epoch: 4, loss: 0.7385, time: 6.7546[sec]\n",
            "epoch: 5, loss: 0.6348, time: 6.7853[sec]\n"
          ]
        }
      ],
      "source": [
        "import time\n",
        "import dezero\n",
        "import dezero.functions as F\n",
        "from dezero import optimizers\n",
        "from dezero import DataLoader\n",
        "from dezero.models import MLP\n",
        "\n",
        "max_epoch = 5\n",
        "batch_size = 100\n",
        "cpu_times = []\n",
        "\n",
        "train_set = dezero.datasets.MNIST(train=True)\n",
        "train_loader = DataLoader(train_set, batch_size)\n",
        "model = MLP((1000, 10))\n",
        "optimizer = optimizers.SGD().setup(model)\n",
        "\n",
        "for epoch in range(max_epoch):\n",
        "    start = time.time()\n",
        "    sum_loss = 0\n",
        "\n",
        "    for x, t in train_loader:\n",
        "        y = model(x)\n",
        "        loss = F.softmax_cross_entropy(y, t)\n",
        "        model.cleargrads()\n",
        "        loss.backward()\n",
        "        optimizer.update()\n",
        "        sum_loss += float(loss.data) * len(t)\n",
        "\n",
        "    elapsed_time = time.time() - start\n",
        "    cpu_times.append(elapsed_time)\n",
        "    print('epoch: {}, loss: {:.4f}, time: {:.4f}[sec]'.format(\n",
        "        epoch + 1, sum_loss / len(train_set), elapsed_time))"
      ]
    },
    {
      "cell_type": "code",
      "execution_count": null,
      "metadata": {
        "colab": {
          "base_uri": "https://localhost:8080/"
        },
        "id": "VOqgD8qmm2U5",
        "outputId": "a15a91f2-9832-4823-8c8d-0e61d1765368"
      },
      "outputs": [
        {
          "output_type": "stream",
          "name": "stdout",
          "text": [
            "epoch: 1, loss: 0.5689, time: 11.4847[sec]\n",
            "epoch: 2, loss: 0.5235, time: 1.8211[sec]\n",
            "epoch: 3, loss: 0.4905, time: 1.8211[sec]\n",
            "epoch: 4, loss: 0.4651, time: 1.8073[sec]\n",
            "epoch: 5, loss: 0.4455, time: 1.8158[sec]\n"
          ]
        }
      ],
      "source": [
        "# import cupy as np  # !! CUPY !!\n",
        "gpu_times = []\n",
        "\n",
        "# GPU mode\n",
        "train_loader.to_gpu()\n",
        "model.to_gpu()\n",
        "\n",
        "for epoch in range(max_epoch):\n",
        "    start = time.time()\n",
        "    sum_loss = 0\n",
        "\n",
        "    for x, t in train_loader:\n",
        "        y = model(x)\n",
        "        loss = F.softmax_cross_entropy(y, t)\n",
        "        model.cleargrads()\n",
        "        loss.backward()\n",
        "        optimizer.update()\n",
        "        sum_loss += float(loss.data) * len(t)\n",
        "\n",
        "    elapsed_time = time.time() - start\n",
        "    gpu_times.append(elapsed_time)\n",
        "    print('epoch: {}, loss: {:.4f}, time: {:.4f}[sec]'.format(\n",
        "        epoch + 1, sum_loss / len(train_set), elapsed_time))"
      ]
    },
    {
      "cell_type": "code",
      "execution_count": null,
      "metadata": {
        "colab": {
          "base_uri": "https://localhost:8080/"
        },
        "id": "3yZk224fpIsr",
        "outputId": "371cfe81-ce9a-46dc-9e54-ab54a0383860"
      },
      "outputs": [
        {
          "output_type": "stream",
          "name": "stdout",
          "text": [
            "CPU: 6.74[sec]\n",
            "GPU: 3.75[sec]\n",
            "GPU speedup over CPU: 1.8x\n"
          ]
        }
      ],
      "source": [
        "cpu_avg_time = sum(cpu_times) / len(cpu_times)\n",
        "gpu_avg_time = sum(gpu_times) / len(gpu_times)\n",
        "\n",
        "print('CPU: {:.2f}[sec]'.format(cpu_avg_time))\n",
        "print('GPU: {:.2f}[sec]'.format(gpu_avg_time))\n",
        "print('GPU speedup over CPU: {:.1f}x'.format(cpu_avg_time/gpu_avg_time))"
      ]
    },
    {
      "cell_type": "markdown",
      "metadata": {
        "id": "mtgwN2ITpqh5"
      },
      "source": [
        "# mnistを使ってテストする"
      ]
    },
    {
      "cell_type": "code",
      "execution_count": null,
      "metadata": {
        "id": "Bn0oZl0IsLL8"
      },
      "outputs": [],
      "source": [
        "import time\n",
        "import dezero\n",
        "import dezero.functions as F\n",
        "import dezero.layers as L\n",
        "from dezero import optimizers\n",
        "from dezero import DataLoader\n",
        "from dezero.models import MLP,Sequential,Model,BottleneckB\n",
        "import dezero.utils as utils\n",
        "from dezero import Model"
      ]
    },
    {
      "cell_type": "code",
      "execution_count": null,
      "metadata": {
        "id": "Era6LImQpLZ9"
      },
      "outputs": [],
      "source": [
        "def test_forward2():\n",
        "    x = np.random.randn(1, 3, 224, 224).astype('f')\n",
        "    model = MultiConvNet()\n",
        "    y = model(x)\n",
        "    print(y.shape)"
      ]
    },
    {
      "cell_type": "code",
      "execution_count": null,
      "metadata": {
        "colab": {
          "base_uri": "https://localhost:8080/",
          "height": 316
        },
        "id": "9-uYk2OAqZSC",
        "outputId": "3cb2fbd8-873d-4eae-8b88-d8645a0dcd0a"
      },
      "outputs": [
        {
          "ename": "AttributeError",
          "evalue": "ignored",
          "output_type": "error",
          "traceback": [
            "\u001b[0;31m---------------------------------------------------------------------------\u001b[0m",
            "\u001b[0;31mAttributeError\u001b[0m                            Traceback (most recent call last)",
            "\u001b[0;32m<ipython-input-32-825ef8923514>\u001b[0m in \u001b[0;36m<module>\u001b[0;34m()\u001b[0m\n\u001b[0;32m----> 1\u001b[0;31m \u001b[0mtest_forward2\u001b[0m\u001b[0;34m(\u001b[0m\u001b[0;34m)\u001b[0m\u001b[0;34m\u001b[0m\u001b[0;34m\u001b[0m\u001b[0m\n\u001b[0m",
            "\u001b[0;32m<ipython-input-31-cc97b7c17f37>\u001b[0m in \u001b[0;36mtest_forward2\u001b[0;34m()\u001b[0m\n\u001b[1;32m      1\u001b[0m \u001b[0;32mdef\u001b[0m \u001b[0mtest_forward2\u001b[0m\u001b[0;34m(\u001b[0m\u001b[0;34m)\u001b[0m\u001b[0;34m:\u001b[0m\u001b[0;34m\u001b[0m\u001b[0;34m\u001b[0m\u001b[0m\n\u001b[1;32m      2\u001b[0m     \u001b[0mx\u001b[0m \u001b[0;34m=\u001b[0m \u001b[0mnp\u001b[0m\u001b[0;34m.\u001b[0m\u001b[0mrandom\u001b[0m\u001b[0;34m.\u001b[0m\u001b[0mrandn\u001b[0m\u001b[0;34m(\u001b[0m\u001b[0;36m1\u001b[0m\u001b[0;34m,\u001b[0m \u001b[0;36m3\u001b[0m\u001b[0;34m,\u001b[0m \u001b[0;36m224\u001b[0m\u001b[0;34m,\u001b[0m \u001b[0;36m224\u001b[0m\u001b[0;34m)\u001b[0m\u001b[0;34m.\u001b[0m\u001b[0mastype\u001b[0m\u001b[0;34m(\u001b[0m\u001b[0;34m'f'\u001b[0m\u001b[0;34m)\u001b[0m\u001b[0;34m\u001b[0m\u001b[0;34m\u001b[0m\u001b[0m\n\u001b[0;32m----> 3\u001b[0;31m     \u001b[0mmodel\u001b[0m \u001b[0;34m=\u001b[0m \u001b[0mMultiConvNet\u001b[0m\u001b[0;34m(\u001b[0m\u001b[0;34m)\u001b[0m\u001b[0;34m\u001b[0m\u001b[0;34m\u001b[0m\u001b[0m\n\u001b[0m\u001b[1;32m      4\u001b[0m     \u001b[0my\u001b[0m \u001b[0;34m=\u001b[0m \u001b[0mmodel\u001b[0m\u001b[0;34m(\u001b[0m\u001b[0mx\u001b[0m\u001b[0;34m)\u001b[0m\u001b[0;34m\u001b[0m\u001b[0;34m\u001b[0m\u001b[0m\n\u001b[1;32m      5\u001b[0m     \u001b[0mprint\u001b[0m\u001b[0;34m(\u001b[0m\u001b[0my\u001b[0m\u001b[0;34m.\u001b[0m\u001b[0mshape\u001b[0m\u001b[0;34m)\u001b[0m\u001b[0;34m\u001b[0m\u001b[0;34m\u001b[0m\u001b[0m\n",
            "\u001b[0;32m<ipython-input-29-abc06f19f6dd>\u001b[0m in \u001b[0;36m__init__\u001b[0;34m(self, pretrained)\u001b[0m\n\u001b[1;32m      3\u001b[0m \u001b[0;34m\u001b[0m\u001b[0m\n\u001b[1;32m      4\u001b[0m         \u001b[0mmodel\u001b[0m \u001b[0;34m=\u001b[0m \u001b[0mSequential\u001b[0m\u001b[0;34m(\u001b[0m\u001b[0;34m)\u001b[0m\u001b[0;34m\u001b[0m\u001b[0;34m\u001b[0m\u001b[0m\n\u001b[0;32m----> 5\u001b[0;31m         \u001b[0mself\u001b[0m\u001b[0;34m.\u001b[0m\u001b[0mconv1_1\u001b[0m \u001b[0;34m=\u001b[0m \u001b[0mL\u001b[0m\u001b[0;34m.\u001b[0m\u001b[0mConv2d\u001b[0m\u001b[0;34m(\u001b[0m\u001b[0;36m64\u001b[0m\u001b[0;34m,\u001b[0m \u001b[0mkernel_size\u001b[0m\u001b[0;34m=\u001b[0m\u001b[0;36m3\u001b[0m\u001b[0;34m,\u001b[0m \u001b[0mstride\u001b[0m\u001b[0;34m=\u001b[0m\u001b[0;36m1\u001b[0m\u001b[0;34m,\u001b[0m \u001b[0mpad\u001b[0m\u001b[0;34m=\u001b[0m\u001b[0;36m1\u001b[0m\u001b[0;34m)\u001b[0m\u001b[0;34m\u001b[0m\u001b[0;34m\u001b[0m\u001b[0m\n\u001b[0m\u001b[1;32m      6\u001b[0m         \u001b[0mself\u001b[0m\u001b[0;34m.\u001b[0m\u001b[0mconv1_2\u001b[0m \u001b[0;34m=\u001b[0m \u001b[0mL\u001b[0m\u001b[0;34m.\u001b[0m\u001b[0mConv2d\u001b[0m\u001b[0;34m(\u001b[0m\u001b[0;36m64\u001b[0m\u001b[0;34m,\u001b[0m \u001b[0mkernel_size\u001b[0m\u001b[0;34m=\u001b[0m\u001b[0;36m3\u001b[0m\u001b[0;34m,\u001b[0m \u001b[0mstride\u001b[0m\u001b[0;34m=\u001b[0m\u001b[0;36m1\u001b[0m\u001b[0;34m,\u001b[0m \u001b[0mpad\u001b[0m\u001b[0;34m=\u001b[0m\u001b[0;36m1\u001b[0m\u001b[0;34m)\u001b[0m\u001b[0;34m\u001b[0m\u001b[0;34m\u001b[0m\u001b[0m\n\u001b[1;32m      7\u001b[0m         \u001b[0mself\u001b[0m\u001b[0;34m.\u001b[0m\u001b[0mconv2_1\u001b[0m \u001b[0;34m=\u001b[0m \u001b[0mL\u001b[0m\u001b[0;34m.\u001b[0m\u001b[0mConv2d\u001b[0m\u001b[0;34m(\u001b[0m\u001b[0;36m128\u001b[0m\u001b[0;34m,\u001b[0m \u001b[0mkernel_size\u001b[0m\u001b[0;34m=\u001b[0m\u001b[0;36m3\u001b[0m\u001b[0;34m,\u001b[0m \u001b[0mstride\u001b[0m\u001b[0;34m=\u001b[0m\u001b[0;36m1\u001b[0m\u001b[0;34m,\u001b[0m \u001b[0mpad\u001b[0m\u001b[0;34m=\u001b[0m\u001b[0;36m1\u001b[0m\u001b[0;34m)\u001b[0m\u001b[0;34m\u001b[0m\u001b[0;34m\u001b[0m\u001b[0m\n",
            "\u001b[0;32m/content/dezero/layers.py\u001b[0m in \u001b[0;36m__setattr__\u001b[0;34m(self, name, value)\u001b[0m\n\u001b[1;32m     17\u001b[0m     \u001b[0;32mdef\u001b[0m \u001b[0m__setattr__\u001b[0m\u001b[0;34m(\u001b[0m\u001b[0mself\u001b[0m\u001b[0;34m,\u001b[0m \u001b[0mname\u001b[0m\u001b[0;34m,\u001b[0m \u001b[0mvalue\u001b[0m\u001b[0;34m)\u001b[0m\u001b[0;34m:\u001b[0m\u001b[0;34m\u001b[0m\u001b[0;34m\u001b[0m\u001b[0m\n\u001b[1;32m     18\u001b[0m         \u001b[0;32mif\u001b[0m \u001b[0misinstance\u001b[0m\u001b[0;34m(\u001b[0m\u001b[0mvalue\u001b[0m\u001b[0;34m,\u001b[0m \u001b[0;34m(\u001b[0m\u001b[0mParameter\u001b[0m\u001b[0;34m,\u001b[0m \u001b[0mLayer\u001b[0m\u001b[0;34m)\u001b[0m\u001b[0;34m)\u001b[0m\u001b[0;34m:\u001b[0m\u001b[0;34m\u001b[0m\u001b[0;34m\u001b[0m\u001b[0m\n\u001b[0;32m---> 19\u001b[0;31m             \u001b[0mself\u001b[0m\u001b[0;34m.\u001b[0m\u001b[0m_params\u001b[0m\u001b[0;34m.\u001b[0m\u001b[0madd\u001b[0m\u001b[0;34m(\u001b[0m\u001b[0mname\u001b[0m\u001b[0;34m)\u001b[0m\u001b[0;34m\u001b[0m\u001b[0;34m\u001b[0m\u001b[0m\n\u001b[0m\u001b[1;32m     20\u001b[0m         \u001b[0msuper\u001b[0m\u001b[0;34m(\u001b[0m\u001b[0;34m)\u001b[0m\u001b[0;34m.\u001b[0m\u001b[0m__setattr__\u001b[0m\u001b[0;34m(\u001b[0m\u001b[0mname\u001b[0m\u001b[0;34m,\u001b[0m \u001b[0mvalue\u001b[0m\u001b[0;34m)\u001b[0m\u001b[0;34m\u001b[0m\u001b[0;34m\u001b[0m\u001b[0m\n\u001b[1;32m     21\u001b[0m \u001b[0;34m\u001b[0m\u001b[0m\n",
            "\u001b[0;31mAttributeError\u001b[0m: 'MultiConvNet' object has no attribute '_params'"
          ]
        }
      ],
      "source": [
        "test_forward2()"
      ]
    },
    {
      "cell_type": "code",
      "execution_count": null,
      "metadata": {
        "id": "VaSgTJySv1v-"
      },
      "outputs": [],
      "source": [
        "class VGG_K(Model):\n",
        "    def __init__(self, pretrained=False):  \n",
        "\n",
        "        model = Sequential()\n",
        "        self.conv1_1 = L.Conv2d(64, kernel_size=3, stride=1, pad=1)\n",
        "        self.conv1_2 = L.Conv2d(64, kernel_size=3, stride=1, pad=1)\n",
        "        self.conv2_1 = L.Conv2d(128, kernel_size=3, stride=1, pad=1)\n",
        "        self.conv2_2 = L.Conv2d(128, kernel_size=3, stride=1, pad=1)\n",
        "        self.conv3_1 = L.Conv2d(256, kernel_size=3, stride=1, pad=1)\n",
        "        self.fc6 = L.Linear(512)\n",
        "        self.fc7 = L.Linear(15)\n",
        "        self.last_layer = SoftmaxWithLoss()\n",
        "\n",
        "        # if pretrained:\n",
        "        #     weights_path = utils.get_file(VGG16.WEIGHTS_PATH)\n",
        "        #     self.load_weights(weights_path)\n",
        "\n",
        "    def forward(self, x):\n",
        "        x = F.relu(self.conv1_1(x))\n",
        "        x = F.relu(self.conv1_2(x))\n",
        "        x = F.pooling(x, 2, 2)\n",
        "        x = F.relu(self.conv2_1(x))\n",
        "        x = F.relu(self.conv2_2(x))\n",
        "        x = F.pooling(x, 2, 2)\n",
        "        x = F.relu(self.conv3_1(x))\n",
        "        x = F.pooling(x, 2, 2)\n",
        "        x = F.reshape(x, (x.shape[0], -1))\n",
        "        x = F.dropout(F.relu(self.fc6(x)))\n",
        "        x = self.fc7(x)\n",
        "        return x\n",
        "\n",
        "    @staticmethod\n",
        "    def preprocess(image, size=(224, 224), dtype=np.float32):\n",
        "        image = image.convert('RGB')\n",
        "        if size:\n",
        "            image = image.resize(size)\n",
        "        image = np.asarray(image, dtype=dtype)\n",
        "        image = image[:, :, ::-1]\n",
        "        image -= np.array([103.939, 116.779, 123.68], dtype=dtype)\n",
        "        image = image.transpose((2, 0, 1))\n",
        "        return image\n",
        "\n",
        "\n",
        "    def predict(self, x):\n",
        "        for layer in self.layers.values():\n",
        "            x = layer.forward(x)\n",
        "            # print('predict x.shape',x.shape)\n",
        "\n",
        "        return x\n",
        "\n",
        "    def loss(self, x, t):\n",
        "        \"\"\"\n",
        "        損失関数\n",
        "        \"\"\"\n",
        "        y = self.predict(x)\n",
        "        return self.last_layer.forward(y, t)\n",
        "\n",
        "    def accuracy(self, x, t, batch_size=100):\n",
        "        if t.ndim != 1 : t = np.argmax(t, axis=1)\n",
        "        \n",
        "        acc = 0.0\n",
        "        \n",
        "        for i in range(int(x.shape[0] / batch_size)):\n",
        "            tx = x[i*batch_size:(i+1)*batch_size]\n",
        "            tt = t[i*batch_size:(i+1)*batch_size]\n",
        "            y = self.predict(tx)\n",
        "            y = np.argmax(y, axis=1)\n",
        "            acc += np.sum(y == tt) \n",
        "        \n",
        "        return acc / x.shape[0]\n",
        "\n",
        "    def gradient(self, x, t):\n",
        "        \"\"\"勾配を求める（誤差逆伝播法）\n",
        "        \"\"\"\n",
        "        # forward\n",
        "        self.loss(x, t)\n",
        "\n",
        "        # backward\n",
        "        dout = 1\n",
        "        dout = self.last_layer.backward(dout)\n",
        "\n",
        "        layers = list(self.layers.values())\n",
        "        layers.reverse()\n",
        "        for layer in layers:\n",
        "            dout = layer.backward(dout)\n",
        "\n",
        "        # 設定\n",
        "        grads = {}\n",
        "        grads['W1'], grads['b1'] = self.layers['Conv1'].dW, self.layers['Conv1'].db\n",
        "        # grads['W12'], grads['b12'] = self.layers['Conv2'].dW, self.layers['Conv2'].db\n",
        "        grads['W2'], grads['b2'] = self.layers['Affine1'].dW, self.layers['Affine1'].db\n",
        "        grads['W3'], grads['b3'] = self.layers['Affine2'].dW, self.layers['Affine2'].db\n",
        "        grads['W4'], grads['b4'] = self.layers['Affine3'].dW, self.layers['Affine3'].db\n",
        "\n",
        "        return grads"
      ]
    },
    {
      "cell_type": "code",
      "execution_count": null,
      "metadata": {
        "id": "yzKWoabDqwNT"
      },
      "outputs": [],
      "source": [
        "class MultiConvNet(Model):\n",
        "    def __init__(self, pretrained=False):  \n",
        "\n",
        "        model = Sequential()\n",
        "        self.conv1_1 = L.Conv2d(64, kernel_size=3, stride=1, pad=1)\n",
        "        self.conv1_2 = L.Conv2d(64, kernel_size=3, stride=1, pad=1)\n",
        "        self.conv2_1 = L.Conv2d(128, kernel_size=3, stride=1, pad=1)\n",
        "        self.conv2_2 = L.Conv2d(128, kernel_size=3, stride=1, pad=1)\n",
        "        self.conv3_1 = L.Conv2d(256, kernel_size=3, stride=1, pad=1)\n",
        "        self.fc6 = L.Linear(512)\n",
        "        self.fc7 = L.Linear(15)\n",
        "        self.last_layer = SoftmaxWithLoss()\n",
        "\n",
        "        # if pretrained:\n",
        "        #     weights_path = utils.get_file(VGG16.WEIGHTS_PATH)\n",
        "        #     self.load_weights(weights_path)\n",
        "\n",
        "    def forward(self, x):\n",
        "        x = F.relu(self.conv1_1(x))\n",
        "        x = F.relu(self.conv1_2(x))\n",
        "        x = F.pooling(x, 2, 2)\n",
        "        x = F.relu(self.conv2_1(x))\n",
        "        x = F.relu(self.conv2_2(x))\n",
        "        x = F.pooling(x, 2, 2)\n",
        "        x = F.relu(self.conv3_1(x))\n",
        "        x = F.pooling(x, 2, 2)\n",
        "        x = F.reshape(x, (x.shape[0], -1))\n",
        "        x = F.dropout(F.relu(self.fc6(x)))\n",
        "        x = self.fc7(x)\n",
        "        return x\n",
        "\n",
        "    @staticmethod\n",
        "    def preprocess(image, size=(224, 224), dtype=np.float32):\n",
        "        image = image.convert('RGB')\n",
        "        if size:\n",
        "            image = image.resize(size)\n",
        "        image = np.asarray(image, dtype=dtype)\n",
        "        image = image[:, :, ::-1]\n",
        "        image -= np.array([103.939, 116.779, 123.68], dtype=dtype)\n",
        "        image = image.transpose((2, 0, 1))\n",
        "        return image\n",
        "\n",
        "\n",
        "    def predict(self, x):\n",
        "        for layer in self.layers.values():\n",
        "            x = layer.forward(x)\n",
        "            # print('predict x.shape',x.shape)\n",
        "\n",
        "        return x\n",
        "\n",
        "    def loss(self, x, t):\n",
        "        \"\"\"\n",
        "        損失関数\n",
        "        \"\"\"\n",
        "        y = self.predict(x)\n",
        "        return self.last_layer.forward(y, t)\n",
        "\n",
        "    def accuracy(self, x, t, batch_size=100):\n",
        "        if t.ndim != 1 : t = np.argmax(t, axis=1)\n",
        "        \n",
        "        acc = 0.0\n",
        "        \n",
        "        for i in range(int(x.shape[0] / batch_size)):\n",
        "            tx = x[i*batch_size:(i+1)*batch_size]\n",
        "            tt = t[i*batch_size:(i+1)*batch_size]\n",
        "            y = self.predict(tx)\n",
        "            y = np.argmax(y, axis=1)\n",
        "            acc += np.sum(y == tt) \n",
        "        \n",
        "        return acc / x.shape[0]\n",
        "\n",
        "    def gradient(self, x, t):\n",
        "        \"\"\"勾配を求める（誤差逆伝播法）\n",
        "        \"\"\"\n",
        "        # forward\n",
        "        self.loss(x, t)\n",
        "\n",
        "        # backward\n",
        "        dout = 1\n",
        "        dout = self.last_layer.backward(dout)\n",
        "\n",
        "        layers = list(self.layers.values())\n",
        "        layers.reverse()\n",
        "        for layer in layers:\n",
        "            dout = layer.backward(dout)\n",
        "\n",
        "        # 設定\n",
        "        grads = {}\n",
        "        grads['W1'], grads['b1'] = self.layers['Conv1'].dW, self.layers['Conv1'].db\n",
        "        # grads['W12'], grads['b12'] = self.layers['Conv2'].dW, self.layers['Conv2'].db\n",
        "        grads['W2'], grads['b2'] = self.layers['Affine1'].dW, self.layers['Affine1'].db\n",
        "        grads['W3'], grads['b3'] = self.layers['Affine2'].dW, self.layers['Affine2'].db\n",
        "        grads['W4'], grads['b4'] = self.layers['Affine3'].dW, self.layers['Affine3'].db\n",
        "\n",
        "        return grads"
      ]
    },
    {
      "cell_type": "markdown",
      "metadata": {
        "id": "tOKO8EjQgbG3"
      },
      "source": [
        "# VGG16テストする"
      ]
    },
    {
      "cell_type": "code",
      "execution_count": null,
      "metadata": {
        "id": "yGK_OsRKg4Os"
      },
      "outputs": [],
      "source": [
        "import unittest\n",
        "import numpy as np\n",
        "# import chainer\n",
        "import dezero\n",
        "from dezero.utils import array_allclose\n",
        "from dezero.models import VGG16"
      ]
    },
    {
      "cell_type": "code",
      "execution_count": null,
      "metadata": {
        "colab": {
          "base_uri": "https://localhost:8080/"
        },
        "id": "r6OA5hDWhtV6",
        "outputId": "288d2305-5e3f-4c4b-b8a7-0bfe94204f0c"
      },
      "outputs": [
        {
          "name": "stdout",
          "output_type": "stream",
          "text": [
            "Looking in indexes: https://pypi.org/simple, https://us-python.pkg.dev/colab-wheels/public/simple/\n",
            "Collecting chainer\n",
            "  Downloading chainer-7.8.1.tar.gz (1.0 MB)\n",
            "\u001b[K     |████████████████████████████████| 1.0 MB 5.6 MB/s \n",
            "\u001b[?25hRequirement already satisfied: setuptools in /usr/local/lib/python3.7/dist-packages (from chainer) (57.4.0)\n",
            "Requirement already satisfied: typing_extensions in /usr/local/lib/python3.7/dist-packages (from chainer) (4.1.1)\n",
            "Requirement already satisfied: filelock in /usr/local/lib/python3.7/dist-packages (from chainer) (3.7.1)\n",
            "Requirement already satisfied: numpy>=1.9.0 in /usr/local/lib/python3.7/dist-packages (from chainer) (1.21.6)\n",
            "Requirement already satisfied: protobuf>=3.0.0 in /usr/local/lib/python3.7/dist-packages (from chainer) (3.17.3)\n",
            "Requirement already satisfied: six>=1.9.0 in /usr/local/lib/python3.7/dist-packages (from chainer) (1.15.0)\n",
            "Building wheels for collected packages: chainer\n",
            "  Building wheel for chainer (setup.py) ... \u001b[?25l\u001b[?25hdone\n",
            "  Created wheel for chainer: filename=chainer-7.8.1-py3-none-any.whl size=967740 sha256=c18686ab2c281894d587a797f178dc0d350231f8fd239f8fb7abcfd996f4039f\n",
            "  Stored in directory: /root/.cache/pip/wheels/c8/6a/6f/fd563166cc597e5206e375ea074ea836e5db5dd58421215672\n",
            "Successfully built chainer\n",
            "Installing collected packages: chainer\n",
            "Successfully installed chainer-7.8.1\n"
          ]
        }
      ],
      "source": [
        "pip install chainer"
      ]
    },
    {
      "cell_type": "code",
      "execution_count": null,
      "metadata": {
        "id": "xZsKELUvg7QJ"
      },
      "outputs": [],
      "source": [
        "def test_forward2():\n",
        "    x = np.random.randn(1, 3, 224, 224).astype('f')\n",
        "    model = VGG16()\n",
        "    y = model(x)\n",
        "    print(y.shape)"
      ]
    },
    {
      "cell_type": "code",
      "execution_count": null,
      "metadata": {
        "colab": {
          "base_uri": "https://localhost:8080/"
        },
        "id": "O_5aon0Nhsli",
        "outputId": "b60c1d12-50c5-4434-c754-1f6931d05163"
      },
      "outputs": [
        {
          "name": "stdout",
          "output_type": "stream",
          "text": [
            "(1, 1000)\n"
          ]
        }
      ],
      "source": [
        "test_forward2()"
      ]
    },
    {
      "cell_type": "code",
      "execution_count": null,
      "metadata": {
        "colab": {
          "base_uri": "https://localhost:8080/"
        },
        "id": "RYFF1HDnjqd-",
        "outputId": "145d2ec3-5e25-4d82-c1fc-a9715349686b"
      },
      "outputs": [
        {
          "name": "stdout",
          "output_type": "stream",
          "text": [
            "<bound method TestCase.assertTrue of <__main__.TestVGG16_K testMethod=runTest>>\n"
          ]
        }
      ],
      "source": [
        "tv = TestVGG16_K()\n",
        "tv.test_backward1()"
      ]
    },
    {
      "cell_type": "code",
      "execution_count": null,
      "metadata": {
        "colab": {
          "base_uri": "https://localhost:8080/",
          "height": 378
        },
        "id": "rBaGzpq1ggAG",
        "outputId": "54bdaa0f-4163-42d6-f2eb-1073e30f7c1a"
      },
      "outputs": [
        {
          "ename": "ModuleNotFoundError",
          "evalue": "ignored",
          "output_type": "error",
          "traceback": [
            "\u001b[0;31m---------------------------------------------------------------------------\u001b[0m",
            "\u001b[0;31mModuleNotFoundError\u001b[0m                       Traceback (most recent call last)",
            "\u001b[0;32m<ipython-input-54-a9d66d52d0d3>\u001b[0m in \u001b[0;36m<module>\u001b[0;34m()\u001b[0m\n\u001b[1;32m      1\u001b[0m \u001b[0;32mimport\u001b[0m \u001b[0munittest\u001b[0m\u001b[0;34m\u001b[0m\u001b[0;34m\u001b[0m\u001b[0m\n\u001b[1;32m      2\u001b[0m \u001b[0;32mimport\u001b[0m \u001b[0mnumpy\u001b[0m \u001b[0;32mas\u001b[0m \u001b[0mnp\u001b[0m\u001b[0;34m\u001b[0m\u001b[0;34m\u001b[0m\u001b[0m\n\u001b[0;32m----> 3\u001b[0;31m \u001b[0;32mimport\u001b[0m \u001b[0mchainer\u001b[0m\u001b[0;34m\u001b[0m\u001b[0;34m\u001b[0m\u001b[0m\n\u001b[0m\u001b[1;32m      4\u001b[0m \u001b[0;32mimport\u001b[0m \u001b[0mdezero\u001b[0m\u001b[0;34m\u001b[0m\u001b[0;34m\u001b[0m\u001b[0m\n\u001b[1;32m      5\u001b[0m \u001b[0;32mfrom\u001b[0m \u001b[0mdezero\u001b[0m\u001b[0;34m.\u001b[0m\u001b[0mutils\u001b[0m \u001b[0;32mimport\u001b[0m \u001b[0marray_allclose\u001b[0m\u001b[0;34m\u001b[0m\u001b[0;34m\u001b[0m\u001b[0m\n",
            "\u001b[0;31mModuleNotFoundError\u001b[0m: No module named 'chainer'",
            "",
            "\u001b[0;31m---------------------------------------------------------------------------\u001b[0;32m\nNOTE: If your import is failing due to a missing package, you can\nmanually install dependencies using either !pip or !apt.\n\nTo view examples of installing some common dependencies, click the\n\"Open Examples\" button below.\n\u001b[0;31m---------------------------------------------------------------------------\u001b[0m\n"
          ]
        }
      ],
      "source": [
        "import unittest\n",
        "import numpy as np\n",
        "import chainer\n",
        "import dezero\n",
        "from dezero.utils import array_allclose\n",
        "from dezero.models import VGG16\n",
        "\n",
        "\n",
        "class TestVGG16(unittest.TestCase):\n",
        "\n",
        "    def test_forward1(self):\n",
        "        x = np.random.randn(1, 3, 224, 224).astype('f')\n",
        "        _model = chainer.links.VGG16Layers(None)\n",
        "\n",
        "        with chainer.using_config('train', False):\n",
        "            with chainer.using_config('enable_backprop', False):\n",
        "                out_layer_name = 'fc8'\n",
        "                _y = _model.forward(x, [out_layer_name])[out_layer_name]\n",
        "\n",
        "        model = VGG16()\n",
        "        layers = _model.available_layers\n",
        "        for l in layers:\n",
        "            if \"conv\" in l or \"fc\" in l:\n",
        "                m1 = getattr(model, l)\n",
        "                m2 = getattr(_model, l)\n",
        "                m1.W.data = m2.W.data\n",
        "                m1.b.data = m2.b.data\n",
        "                if \"fc\" in l:\n",
        "                    m1.W.data = m1.W.data.T\n",
        "\n",
        "        with dezero.test_mode():\n",
        "            y = model(x)\n",
        "\n",
        "        self.assertTrue(array_allclose(y.data, _y.data))\n",
        "\n",
        "\n",
        "    def test_forward2(self):\n",
        "        x = np.random.randn(1, 3, 224, 224).astype('f')\n",
        "        model = VGG16()\n",
        "        y = model(x)\n",
        "        self.assertTrue(y.dtype == np.float32)\n",
        "\n",
        "    def test_backward1(self):\n",
        "        x = np.random.randn(2, 3, 224, 224).astype('f')\n",
        "        _model = chainer.links.VGG16Layers(None)\n",
        "\n",
        "        with chainer.using_config('train', False):\n",
        "            out_layer_name = 'fc8'\n",
        "            _y = _model.forward(x, [out_layer_name])[out_layer_name]\n",
        "            _y.grad = np.ones_like(_y.data)\n",
        "            _y.backward()\n",
        "\n",
        "        model = VGG16()\n",
        "        layers = _model.available_layers\n",
        "        for l in layers:\n",
        "            if \"conv\" in l or \"fc\" in l:\n",
        "                m1 = getattr(model, l)\n",
        "                m2 = getattr(_model, l)\n",
        "                m1.W.data = m2.W.data\n",
        "                m1.b.data = m2.b.data\n",
        "                if \"fc\" in l:\n",
        "                    m1.W.data = m1.W.data.T\n",
        "\n",
        "        with dezero.test_mode():\n",
        "            y = model(x)\n",
        "            y.backward()\n",
        "\n",
        "        layers = _model.available_layers\n",
        "        for l in layers:\n",
        "            if \"conv\" in l:\n",
        "                m1 = getattr(model, l)\n",
        "                m2 = getattr(_model, l)\n",
        "                self.assertTrue(array_allclose(m1.W.data, m2.W.data))\n",
        "                self.assertTrue(array_allclose(m1.b.data, m2.b.data))\n",
        "            elif \"fc\" in l:\n",
        "                m1 = getattr(model, l)\n",
        "                m2 = getattr(_model, l)\n",
        "                self.assertTrue(array_allclose(m1.W.data, m2.W.data.T))\n",
        "                self.assertTrue(array_allclose(m1.b.data, m2.b.data))"
      ]
    },
    {
      "cell_type": "markdown",
      "metadata": {
        "id": "XMbA8oDP4B9l"
      },
      "source": [
        "# 普通のNN"
      ]
    },
    {
      "cell_type": "code",
      "execution_count": null,
      "metadata": {
        "colab": {
          "base_uri": "https://localhost:8080/",
          "height": 378
        },
        "id": "mGlplQM1klQ2",
        "outputId": "20da9b71-e5ce-43f7-eee6-a03f489caaed"
      },
      "outputs": [
        {
          "ename": "ModuleNotFoundError",
          "evalue": "ignored",
          "output_type": "error",
          "traceback": [
            "\u001b[0;31m---------------------------------------------------------------------------\u001b[0m",
            "\u001b[0;31mModuleNotFoundError\u001b[0m                       Traceback (most recent call last)",
            "\u001b[0;32m<ipython-input-56-1295e0bc67f0>\u001b[0m in \u001b[0;36m<module>\u001b[0;34m()\u001b[0m\n\u001b[1;32m      1\u001b[0m \u001b[0;32mimport\u001b[0m \u001b[0mnumpy\u001b[0m \u001b[0;32mas\u001b[0m \u001b[0mnp\u001b[0m\u001b[0;34m\u001b[0m\u001b[0;34m\u001b[0m\u001b[0m\n\u001b[1;32m      2\u001b[0m \u001b[0;32mimport\u001b[0m \u001b[0mmatplotlib\u001b[0m\u001b[0;34m.\u001b[0m\u001b[0mpyplot\u001b[0m \u001b[0;32mas\u001b[0m \u001b[0mplt\u001b[0m\u001b[0;34m\u001b[0m\u001b[0;34m\u001b[0m\u001b[0m\n\u001b[0;32m----> 3\u001b[0;31m \u001b[0;32mimport\u001b[0m \u001b[0mdezero\u001b[0m\u001b[0;34m\u001b[0m\u001b[0;34m\u001b[0m\u001b[0m\n\u001b[0m\u001b[1;32m      4\u001b[0m \u001b[0;32mfrom\u001b[0m \u001b[0mdezero\u001b[0m \u001b[0;32mimport\u001b[0m \u001b[0moptimizers\u001b[0m\u001b[0;34m\u001b[0m\u001b[0;34m\u001b[0m\u001b[0m\n\u001b[1;32m      5\u001b[0m \u001b[0;32mfrom\u001b[0m \u001b[0mdezero\u001b[0m \u001b[0;32mimport\u001b[0m \u001b[0mModel\u001b[0m\u001b[0;34m\u001b[0m\u001b[0;34m\u001b[0m\u001b[0m\n",
            "\u001b[0;31mModuleNotFoundError\u001b[0m: No module named 'dezero'",
            "",
            "\u001b[0;31m---------------------------------------------------------------------------\u001b[0;32m\nNOTE: If your import is failing due to a missing package, you can\nmanually install dependencies using either !pip or !apt.\n\nTo view examples of installing some common dependencies, click the\n\"Open Examples\" button below.\n\u001b[0;31m---------------------------------------------------------------------------\u001b[0m\n"
          ]
        }
      ],
      "source": [
        "import numpy as np\n",
        "import matplotlib.pyplot as plt\n",
        "import dezero\n",
        "from dezero import optimizers\n",
        "from dezero import Model\n",
        "import dezero.functions as F\n",
        "import dezero.layers as L\n",
        "from dezero import DataLoader\n",
        "\n",
        "\n",
        "x = X_train[:3000,:]\n",
        "t = y_train[:3000,:]\n",
        "\n",
        "X_test = X_test[:3000,:]\n",
        "y_test = y_test[:3000,:]\n",
        "\n",
        "x = x.reshape(-1,1,28,28) # 配列形式の変形\n",
        "\n",
        "max_epoch = 10\n",
        "batch_size = 32\n",
        "hidden_size = 10\n",
        "lr = 0.01\n",
        "\n",
        "# 繰り返し回数\n",
        "xsize = X_train.shape[0]\n",
        "iter_num = np.ceil(xsize / batch_size).astype(np.int)\n",
        "\n",
        "# train_set = dezero.datasets.Spiral(train=True)\n",
        "# test_set = dezero.datasets.Spiral(train=False)\n",
        "train_loader = DataLoader(X_train, batch_size)\n",
        "test_loader = DataLoader(X_test, batch_size, shuffle=False)\n",
        "\n",
        "train_loss = []\n",
        "test_loss = []\n",
        "train_accuracy = []\n",
        "test_accuracy = []\n",
        "class TwoLayerNet(Model):\n",
        "    def __init__(self, hidden_size, out_size):\n",
        "        super().__init__()\n",
        "        self.l1 = L.Linear(hidden_size)\n",
        "        self.l2 = L.Linear(out_size)\n",
        "        self.bn1 = L.BatchNorm()\n",
        "        self.sm = L.SoftmaxWithLoss\n",
        "\n",
        "    def forward(self, x):\n",
        "        y = F.softmax(self.bn1(self.l1(x)))\n",
        "        y = self.l2(y)\n",
        "        y = self.l1(y)\n",
        "        return y\n",
        "\n",
        "model = TwoLayerNet(hidden_size, 15)\n",
        "optimizer = optimizers.SGD(lr).setup(model)\n",
        "\n",
        "for epoch in range(max_epoch):\n",
        "    for x, t in train_loader:\n",
        "        y = model(x)\n",
        "        loss = F.softmax_cross_entropy(y, t)\n",
        "        model.cleargrads()\n",
        "        loss.backward()\n",
        "        optimizer.update()\n",
        "    if epoch % 10 == 0:\n",
        "        print('loss:', loss.data)\n",
        "\n",
        "    ## 学習経過の記録\n",
        "    train_loss.append(model.loss(X_train,  y_train))\n",
        "    test_loss.append(model.loss(X_test, y_test))\n",
        "    train_accuracy.append(model.accuracy(X_train, y_train))\n",
        "    test_accuracy.append(model.accuracy(X_test, y_test))\n"
      ]
    },
    {
      "cell_type": "code",
      "execution_count": null,
      "metadata": {
        "colab": {
          "base_uri": "https://localhost:8080/",
          "height": 457
        },
        "id": "ouqeGIE-_rla",
        "outputId": "2eb70679-be69-4432-bf03-bfe86c7b819b"
      },
      "outputs": [
        {
          "name": "stderr",
          "output_type": "stream",
          "text": [
            "/usr/local/lib/python3.7/dist-packages/ipykernel_launcher.py:16: DeprecationWarning: `np.int` is a deprecated alias for the builtin `int`. To silence this warning, use `int` by itself. Doing this will not modify any behavior and is safe. When replacing `np.int`, you may wish to use e.g. `np.int64` or `np.int32` to specify the precision. If you wish to review your current use, check the release note link for additional information.\n",
            "Deprecated in NumPy 1.20; for more details and guidance: https://numpy.org/devdocs/release/1.20.0-notes.html#deprecations\n",
            "  app.launch_new_instance()\n"
          ]
        },
        {
          "ename": "IndexError",
          "evalue": "ignored",
          "output_type": "error",
          "traceback": [
            "\u001b[0;31m---------------------------------------------------------------------------\u001b[0m",
            "\u001b[0;31mIndexError\u001b[0m                                Traceback (most recent call last)",
            "\u001b[0;32m<ipython-input-19-e16bcd3208e4>\u001b[0m in \u001b[0;36m<module>\u001b[0;34m()\u001b[0m\n\u001b[1;32m     39\u001b[0m \u001b[0;32mfor\u001b[0m \u001b[0mepoch\u001b[0m \u001b[0;32min\u001b[0m \u001b[0mrange\u001b[0m\u001b[0;34m(\u001b[0m\u001b[0mmax_epoch\u001b[0m\u001b[0;34m)\u001b[0m\u001b[0;34m:\u001b[0m\u001b[0;34m\u001b[0m\u001b[0;34m\u001b[0m\u001b[0m\n\u001b[1;32m     40\u001b[0m     \u001b[0;32mfor\u001b[0m \u001b[0mx\u001b[0m\u001b[0;34m,\u001b[0m \u001b[0mt\u001b[0m \u001b[0;32min\u001b[0m \u001b[0mtrain_loader\u001b[0m\u001b[0;34m:\u001b[0m\u001b[0;34m\u001b[0m\u001b[0;34m\u001b[0m\u001b[0m\n\u001b[0;32m---> 41\u001b[0;31m         \u001b[0my\u001b[0m \u001b[0;34m=\u001b[0m \u001b[0mmodel\u001b[0m\u001b[0;34m(\u001b[0m\u001b[0mx\u001b[0m\u001b[0;34m)\u001b[0m\u001b[0;34m\u001b[0m\u001b[0;34m\u001b[0m\u001b[0m\n\u001b[0m\u001b[1;32m     42\u001b[0m         \u001b[0mloss\u001b[0m \u001b[0;34m=\u001b[0m \u001b[0mF\u001b[0m\u001b[0;34m.\u001b[0m\u001b[0msoftmax_cross_entropy\u001b[0m\u001b[0;34m(\u001b[0m\u001b[0my\u001b[0m\u001b[0;34m,\u001b[0m \u001b[0mt\u001b[0m\u001b[0;34m)\u001b[0m\u001b[0;34m\u001b[0m\u001b[0;34m\u001b[0m\u001b[0m\n\u001b[1;32m     43\u001b[0m         \u001b[0mmodel\u001b[0m\u001b[0;34m.\u001b[0m\u001b[0mcleargrads\u001b[0m\u001b[0;34m(\u001b[0m\u001b[0;34m)\u001b[0m\u001b[0;34m\u001b[0m\u001b[0;34m\u001b[0m\u001b[0m\n",
            "\u001b[0;32m/content/dezero/layers.py\u001b[0m in \u001b[0;36m__call__\u001b[0;34m(self, *inputs)\u001b[0m\n\u001b[1;32m     21\u001b[0m \u001b[0;34m\u001b[0m\u001b[0m\n\u001b[1;32m     22\u001b[0m     \u001b[0;32mdef\u001b[0m \u001b[0m__call__\u001b[0m\u001b[0;34m(\u001b[0m\u001b[0mself\u001b[0m\u001b[0;34m,\u001b[0m \u001b[0;34m*\u001b[0m\u001b[0minputs\u001b[0m\u001b[0;34m)\u001b[0m\u001b[0;34m:\u001b[0m\u001b[0;34m\u001b[0m\u001b[0;34m\u001b[0m\u001b[0m\n\u001b[0;32m---> 23\u001b[0;31m         \u001b[0moutputs\u001b[0m \u001b[0;34m=\u001b[0m \u001b[0mself\u001b[0m\u001b[0;34m.\u001b[0m\u001b[0mforward\u001b[0m\u001b[0;34m(\u001b[0m\u001b[0;34m*\u001b[0m\u001b[0minputs\u001b[0m\u001b[0;34m)\u001b[0m\u001b[0;34m\u001b[0m\u001b[0;34m\u001b[0m\u001b[0m\n\u001b[0m\u001b[1;32m     24\u001b[0m         \u001b[0;32mif\u001b[0m \u001b[0;32mnot\u001b[0m \u001b[0misinstance\u001b[0m\u001b[0;34m(\u001b[0m\u001b[0moutputs\u001b[0m\u001b[0;34m,\u001b[0m \u001b[0mtuple\u001b[0m\u001b[0;34m)\u001b[0m\u001b[0;34m:\u001b[0m\u001b[0;34m\u001b[0m\u001b[0;34m\u001b[0m\u001b[0m\n\u001b[1;32m     25\u001b[0m             \u001b[0moutputs\u001b[0m \u001b[0;34m=\u001b[0m \u001b[0;34m(\u001b[0m\u001b[0moutputs\u001b[0m\u001b[0;34m,\u001b[0m\u001b[0;34m)\u001b[0m\u001b[0;34m\u001b[0m\u001b[0;34m\u001b[0m\u001b[0m\n",
            "\u001b[0;32m<ipython-input-19-e16bcd3208e4>\u001b[0m in \u001b[0;36mforward\u001b[0;34m(self, x)\u001b[0m\n\u001b[1;32m     29\u001b[0m \u001b[0;34m\u001b[0m\u001b[0m\n\u001b[1;32m     30\u001b[0m     \u001b[0;32mdef\u001b[0m \u001b[0mforward\u001b[0m\u001b[0;34m(\u001b[0m\u001b[0mself\u001b[0m\u001b[0;34m,\u001b[0m \u001b[0mx\u001b[0m\u001b[0;34m)\u001b[0m\u001b[0;34m:\u001b[0m\u001b[0;34m\u001b[0m\u001b[0;34m\u001b[0m\u001b[0m\n\u001b[0;32m---> 31\u001b[0;31m         \u001b[0my\u001b[0m \u001b[0;34m=\u001b[0m \u001b[0mF\u001b[0m\u001b[0;34m.\u001b[0m\u001b[0msigmoid\u001b[0m\u001b[0;34m(\u001b[0m\u001b[0mself\u001b[0m\u001b[0;34m.\u001b[0m\u001b[0mbn1\u001b[0m\u001b[0;34m(\u001b[0m\u001b[0mself\u001b[0m\u001b[0;34m.\u001b[0m\u001b[0ml1\u001b[0m\u001b[0;34m(\u001b[0m\u001b[0mx\u001b[0m\u001b[0;34m)\u001b[0m\u001b[0;34m)\u001b[0m\u001b[0;34m)\u001b[0m\u001b[0;34m\u001b[0m\u001b[0;34m\u001b[0m\u001b[0m\n\u001b[0m\u001b[1;32m     32\u001b[0m         \u001b[0my\u001b[0m \u001b[0;34m=\u001b[0m \u001b[0mself\u001b[0m\u001b[0;34m.\u001b[0m\u001b[0ml2\u001b[0m\u001b[0;34m(\u001b[0m\u001b[0my\u001b[0m\u001b[0;34m)\u001b[0m\u001b[0;34m\u001b[0m\u001b[0;34m\u001b[0m\u001b[0m\n\u001b[1;32m     33\u001b[0m         \u001b[0;32mreturn\u001b[0m \u001b[0my\u001b[0m\u001b[0;34m\u001b[0m\u001b[0;34m\u001b[0m\u001b[0m\n",
            "\u001b[0;32m/content/dezero/layers.py\u001b[0m in \u001b[0;36m__call__\u001b[0;34m(self, *inputs)\u001b[0m\n\u001b[1;32m     21\u001b[0m \u001b[0;34m\u001b[0m\u001b[0m\n\u001b[1;32m     22\u001b[0m     \u001b[0;32mdef\u001b[0m \u001b[0m__call__\u001b[0m\u001b[0;34m(\u001b[0m\u001b[0mself\u001b[0m\u001b[0;34m,\u001b[0m \u001b[0;34m*\u001b[0m\u001b[0minputs\u001b[0m\u001b[0;34m)\u001b[0m\u001b[0;34m:\u001b[0m\u001b[0;34m\u001b[0m\u001b[0;34m\u001b[0m\u001b[0m\n\u001b[0;32m---> 23\u001b[0;31m         \u001b[0moutputs\u001b[0m \u001b[0;34m=\u001b[0m \u001b[0mself\u001b[0m\u001b[0;34m.\u001b[0m\u001b[0mforward\u001b[0m\u001b[0;34m(\u001b[0m\u001b[0;34m*\u001b[0m\u001b[0minputs\u001b[0m\u001b[0;34m)\u001b[0m\u001b[0;34m\u001b[0m\u001b[0;34m\u001b[0m\u001b[0m\n\u001b[0m\u001b[1;32m     24\u001b[0m         \u001b[0;32mif\u001b[0m \u001b[0;32mnot\u001b[0m \u001b[0misinstance\u001b[0m\u001b[0;34m(\u001b[0m\u001b[0moutputs\u001b[0m\u001b[0;34m,\u001b[0m \u001b[0mtuple\u001b[0m\u001b[0;34m)\u001b[0m\u001b[0;34m:\u001b[0m\u001b[0;34m\u001b[0m\u001b[0;34m\u001b[0m\u001b[0m\n\u001b[1;32m     25\u001b[0m             \u001b[0moutputs\u001b[0m \u001b[0;34m=\u001b[0m \u001b[0;34m(\u001b[0m\u001b[0moutputs\u001b[0m\u001b[0;34m,\u001b[0m\u001b[0;34m)\u001b[0m\u001b[0;34m\u001b[0m\u001b[0;34m\u001b[0m\u001b[0m\n",
            "\u001b[0;32m/content/dezero/layers.py\u001b[0m in \u001b[0;36mforward\u001b[0;34m(self, x)\u001b[0m\n\u001b[1;32m    110\u001b[0m     \u001b[0;32mdef\u001b[0m \u001b[0mforward\u001b[0m\u001b[0;34m(\u001b[0m\u001b[0mself\u001b[0m\u001b[0;34m,\u001b[0m \u001b[0mx\u001b[0m\u001b[0;34m)\u001b[0m\u001b[0;34m:\u001b[0m\u001b[0;34m\u001b[0m\u001b[0;34m\u001b[0m\u001b[0m\n\u001b[1;32m    111\u001b[0m         \u001b[0;32mif\u001b[0m \u001b[0mself\u001b[0m\u001b[0;34m.\u001b[0m\u001b[0mW\u001b[0m\u001b[0;34m.\u001b[0m\u001b[0mdata\u001b[0m \u001b[0;32mis\u001b[0m \u001b[0;32mNone\u001b[0m\u001b[0;34m:\u001b[0m\u001b[0;34m\u001b[0m\u001b[0;34m\u001b[0m\u001b[0m\n\u001b[0;32m--> 112\u001b[0;31m             \u001b[0mself\u001b[0m\u001b[0;34m.\u001b[0m\u001b[0min_size\u001b[0m \u001b[0;34m=\u001b[0m \u001b[0mx\u001b[0m\u001b[0;34m.\u001b[0m\u001b[0mshape\u001b[0m\u001b[0;34m[\u001b[0m\u001b[0;36m1\u001b[0m\u001b[0;34m]\u001b[0m\u001b[0;34m\u001b[0m\u001b[0;34m\u001b[0m\u001b[0m\n\u001b[0m\u001b[1;32m    113\u001b[0m             \u001b[0mxp\u001b[0m \u001b[0;34m=\u001b[0m \u001b[0mcuda\u001b[0m\u001b[0;34m.\u001b[0m\u001b[0mget_array_module\u001b[0m\u001b[0;34m(\u001b[0m\u001b[0mx\u001b[0m\u001b[0;34m)\u001b[0m\u001b[0;34m\u001b[0m\u001b[0;34m\u001b[0m\u001b[0m\n\u001b[1;32m    114\u001b[0m             \u001b[0mself\u001b[0m\u001b[0;34m.\u001b[0m\u001b[0m_init_W\u001b[0m\u001b[0;34m(\u001b[0m\u001b[0mxp\u001b[0m\u001b[0;34m)\u001b[0m\u001b[0;34m\u001b[0m\u001b[0;34m\u001b[0m\u001b[0m\n",
            "\u001b[0;31mIndexError\u001b[0m: tuple index out of range"
          ]
        }
      ],
      "source": [
        "x = X_train[:3000,:]\n",
        "t = y_train[:3000,:]\n",
        "\n",
        "X_test = X_test[:3000,:]\n",
        "y_test = y_test[:3000,:]\n",
        "\n",
        "x = x.reshape(-1,1,28,28) # 配列形式の変形\n",
        "\n",
        "max_epoch = 10\n",
        "batch_size = 32\n",
        "hidden_size = 10\n",
        "lr = 0.01\n",
        "\n",
        "# 繰り返し回数\n",
        "xsize = X_train.shape[0]\n",
        "iter_num = np.ceil(xsize / batch_size).astype(np.int)\n",
        "\n",
        "# train_set = dezero.datasets.Spiral(train=True)\n",
        "# test_set = dezero.datasets.Spiral(train=False)\n",
        "train_loader = DataLoader(X_train, batch_size)\n",
        "test_loader = DataLoader(X_test, batch_size, shuffle=False)\n",
        "\n",
        "class TwoLayerNet(Model):\n",
        "    def __init__(self, hidden_size, out_size):\n",
        "        super().__init__()\n",
        "        self.l1 = L.Linear(hidden_size)\n",
        "        self.l2 = L.Linear(out_size)\n",
        "        self.bn1 = L.BatchNorm()\n",
        "\n",
        "    def forward(self, x):\n",
        "        y = F.sigmoid(self.bn1(self.l1(x)))\n",
        "        y = self.l2(y)\n",
        "        return y\n",
        "\n",
        "\n",
        "model = TwoLayerNet(hidden_size, 15)\n",
        "optimizer = optimizers.SGD(lr).setup(model)\n",
        "\n",
        "for epoch in range(max_epoch):\n",
        "    for x, t in train_loader:\n",
        "        y = model(x)\n",
        "        loss = F.softmax_cross_entropy(y, t)\n",
        "        model.cleargrads()\n",
        "        loss.backward()\n",
        "        optimizer.update()\n",
        "    if epoch % 10 == 0:\n",
        "        print('loss:', loss.data)\n",
        "\n",
        "# Plot\n",
        "# x = np.array([example[0] for example in train_set])\n",
        "# t = np.array([example[1] for example in train_set])\n",
        "# h = 0.001\n",
        "# x_min, x_max = x[:, 0].min() - .1, x[:, 0].max() + .1\n",
        "# y_min, y_max = x[:, 1].min() - .1, x[:, 1].max() + .1\n",
        "# xx, yy = np.meshgrid(np.arange(x_min, x_max, h), np.arange(y_min, y_max, h))\n",
        "# X = np.c_[xx.ravel(), yy.ravel()]\n",
        "\n",
        "# with dezero.test_mode():\n",
        "#     score = model(X)\n",
        "# predict_cls = np.argmax(score.data, axis=1)\n",
        "# Z = predict_cls.reshape(xx.shape)\n",
        "# plt.contourf(xx, yy, Z)\n",
        "\n",
        "# N, CLS_NUM = 100, 3\n",
        "# markers = ['o', 'x', '^']\n",
        "# colors = ['orange', 'blue', 'green']\n",
        "# for i in range(len(x)):\n",
        "#     c = t[i]\n",
        "#     plt.scatter(x[i][0], x[i][1],s=40,  marker=markers[c], c=colors[c])\n",
        "# plt.show()"
      ]
    },
    {
      "cell_type": "code",
      "execution_count": null,
      "metadata": {
        "colab": {
          "base_uri": "https://localhost:8080/",
          "height": 786
        },
        "id": "Dy1Uosfh0aod",
        "outputId": "ff86f87f-2139-487e-f772-b44dbf89904b"
      },
      "outputs": [
        {
          "name": "stdout",
          "output_type": "stream",
          "text": [
            "x.shape (30, 2)\n",
            "t.shape (30,)\n",
            "x.shape (30, 2)\n",
            "t.shape (30,)\n",
            "x.shape (30, 2)\n",
            "t.shape (30,)\n",
            "x.shape (30, 2)\n",
            "t.shape (30,)\n",
            "x.shape (30, 2)\n",
            "t.shape (30,)\n",
            "x.shape (30, 2)\n",
            "t.shape (30,)\n",
            "x.shape (30, 2)\n",
            "t.shape (30,)\n",
            "x.shape (30, 2)\n",
            "t.shape (30,)\n",
            "x.shape (30, 2)\n",
            "t.shape (30,)\n",
            "x.shape (30, 2)\n",
            "t.shape (30,)\n",
            "loss: 0.9509853\n",
            "loss: 0.7308726\n",
            "loss: 0.72445446\n",
            "loss: 0.5195633\n",
            "loss: 0.46908125\n",
            "loss: 0.5983242\n",
            "loss: 0.48311985\n",
            "loss: 0.30487055\n",
            "loss: 0.4982168\n",
            "loss: 0.38002232\n"
          ]
        },
        {
          "data": {
            "image/png": "[encoded data removed]",
            "text/plain": [
              "<Figure size 432x288 with 1 Axes>"
            ]
          },
          "metadata": {},
          "output_type": "display_data"
        }
      ],
      "source": [
        "import numpy as np\n",
        "import matplotlib.pyplot as plt\n",
        "import dezero\n",
        "from dezero import optimizers\n",
        "from dezero import Model\n",
        "import dezero.functions as F\n",
        "import dezero.layers as L\n",
        "from dezero import DataLoader\n",
        "\n",
        "\n",
        "max_epoch = 100\n",
        "batch_size = 30\n",
        "hidden_size = 10\n",
        "lr = 1.0\n",
        "\n",
        "train_set = dezero.datasets.Spiral(train=True)\n",
        "test_set = dezero.datasets.Spiral(train=False)\n",
        "train_loader = DataLoader(train_set, batch_size)\n",
        "test_loader = DataLoader(test_set, batch_size, shuffle=False)\n",
        "\n",
        "for x, t in train_loader:\n",
        "  print('x.shape',x.shape)\n",
        "  print('t.shape',t.shape)\n",
        "\n",
        "class TwoLayerNet(Model):\n",
        "    def __init__(self, hidden_size, out_size):\n",
        "        super().__init__()\n",
        "        self.l1 = L.Linear(hidden_size)\n",
        "        self.l2 = L.Linear(out_size)\n",
        "        self.bn1 = L.BatchNorm()\n",
        "\n",
        "    def forward(self, x):\n",
        "        y = F.sigmoid(self.bn1(self.l1(x)))\n",
        "        y = self.l2(y)\n",
        "        return y\n",
        "\n",
        "\n",
        "model = TwoLayerNet(hidden_size, 3)\n",
        "optimizer = optimizers.SGD(lr).setup(model)\n",
        "\n",
        "for epoch in range(max_epoch):\n",
        "    for x, t in train_loader:\n",
        "        y = model(x)\n",
        "        loss = F.softmax_cross_entropy(y, t)\n",
        "        model.cleargrads()\n",
        "        loss.backward()\n",
        "        optimizer.update()\n",
        "    if epoch % 10 == 0:\n",
        "        print('loss:', loss.data)\n",
        "\n",
        "# Plot\n",
        "x = np.array([example[0] for example in train_set])\n",
        "t = np.array([example[1] for example in train_set])\n",
        "h = 0.001\n",
        "x_min, x_max = x[:, 0].min() - .1, x[:, 0].max() + .1\n",
        "y_min, y_max = x[:, 1].min() - .1, x[:, 1].max() + .1\n",
        "xx, yy = np.meshgrid(np.arange(x_min, x_max, h), np.arange(y_min, y_max, h))\n",
        "X = np.c_[xx.ravel(), yy.ravel()]\n",
        "\n",
        "with dezero.test_mode():\n",
        "    score = model(X)\n",
        "predict_cls = np.argmax(score.data, axis=1)\n",
        "Z = predict_cls.reshape(xx.shape)\n",
        "plt.contourf(xx, yy, Z)\n",
        "\n",
        "N, CLS_NUM = 100, 3\n",
        "markers = ['o', 'x', '^']\n",
        "colors = ['orange', 'blue', 'green']\n",
        "for i in range(len(x)):\n",
        "    c = t[i]\n",
        "    plt.scatter(x[i][0], x[i][1],s=40,  marker=markers[c], c=colors[c])\n",
        "plt.show()"
      ]
    },
    {
      "cell_type": "markdown",
      "source": [
        "# GPUを使う"
      ],
      "metadata": {
        "id": "Cv7IipO52WHD"
      }
    },
    {
      "cell_type": "code",
      "execution_count": null,
      "metadata": {
        "id": "mI8o3LdZ4w_g"
      },
      "outputs": [],
      "source": [
        "from common.layers import Convolution, MaxPooling, ReLU, Affine, SoftmaxWithLoss, Dropout,BatchNormalization\n",
        "from common.optimizer import RMSProp\n",
        "from common.util import im2col, col2im\n",
        "\n",
        "import numpy as np\n",
        "import pandas as pd\n",
        "import matplotlib.pyplot as plt\n",
        "# from common.layers import TwoLayerNet\n",
        "from sklearn.model_selection import train_test_split\n",
        "import pickle\n",
        "import seaborn as sns\n",
        "from sklearn.metrics import accuracy_score\n",
        "from collections import OrderedDict\n",
        "\n",
        "class SimpleConvNetG:\n",
        "    def __init__(self, input_dim=(1, 28, 28), \n",
        "                 conv_param={'filter_num':16, 'filter_num2':32, 'filter_num3':64, 'filter_size':3, 'pad':0, 'stride':1},\n",
        "                 pool_param={'pool_size':2, 'pad':0, 'stride':1},\n",
        "                 hidden_size=100, output_size=10, weight_init_std=0.01):\n",
        "                \n",
        "        filter_num = conv_param['filter_num']\n",
        "        filter_size = conv_param['filter_size']\n",
        "        filter_pad = conv_param['pad']\n",
        "        filter_stride = conv_param['stride']\n",
        "        \n",
        "        pool_size = pool_param['pool_size']\n",
        "        pool_pad = pool_param['pad']\n",
        "        pool_stride = pool_param['stride']\n",
        "\n",
        "        filter_num2 = conv_param['filter_num2']\n",
        "        filter_num3 = conv_param['filter_num3']\n",
        "        hidden_size2 = 128\n",
        "        \n",
        "        input_size = input_dim[1]\n",
        "        conv_output_size = (input_size + 2*filter_pad - filter_size) // filter_stride + 1 # 畳み込み後のサイズ(H,W共通)\n",
        "        pool_output_size = (conv_output_size + 2*pool_pad - pool_size) // pool_stride + 1 # プーリング後のサイズ(H,W共通)\n",
        "        # pool_output_pixel = filter_num3 * pool_output_size * pool_output_size # プーリング後のピクセル総数\n",
        "        pool_output_pixel = 12544\n",
        "\n",
        "        # Heを使う\n",
        "        pre_node_nums = np.array([input_size*input_size,\n",
        "                                filter_num2*filter_num,\n",
        "                                filter_num2*filter_num2,\n",
        "                                filter_num3*filter_num2,\n",
        "                                filter_num3*filter_num3,\n",
        "                                pool_output_pixel,\n",
        "                                hidden_size,\n",
        "                                hidden_size2\n",
        "                                ])\n",
        "        wi_scales = np.sqrt(2/pre_node_nums)\n",
        "\n",
        "        print(wi_scales)\n",
        "\n",
        "        # 重みの初期化\n",
        "        self.params = {}\n",
        "        std = weight_init_std\n",
        "        # 64\n",
        "        self.params['W1'] = wi_scales[0] * np.random.randn(filter_num, input_dim[0], filter_size, filter_size) # W1は畳み込みフィルターの重みになる\n",
        "        self.params['b1'] = np.zeros(filter_num) #b1は畳み込みフィルターのバイアスになる\n",
        "        self.params['W12'] = wi_scales[1] * np.random.randn(filter_num, filter_num, filter_size, filter_size) # W1は畳み込みフィルターの重みになる\n",
        "        self.params['b12'] = np.zeros(filter_num) #b1は畳み込みフィルターのバイアスになる\n",
        "        # 128\n",
        "        self.params['W21'] = wi_scales[2] * np.random.randn(filter_num2, filter_num, filter_size, filter_size) # W1は畳み込みフィルターの重みになる\n",
        "        self.params['b21'] = np.zeros(filter_num2) #b1は畳み込みフィルターのバイアスになる\n",
        "        self.params['W22'] = wi_scales[3] * np.random.randn(filter_num2, filter_num2, filter_size, filter_size) # W1は畳み込みフィルターの重みになる\n",
        "        self.params['b22'] = np.zeros(filter_num2) #b1は畳み込みフィルターのバイアスになる\n",
        "        # 256\n",
        "        self.params['W31'] = wi_scales[4] * np.random.randn(filter_num3, filter_num2, filter_size, filter_size) # W1は畳み込みフィルターの重みになる\n",
        "        self.params['b31'] = np.zeros(filter_num3) #b1は畳み込みフィルターのバイアスになる\n",
        "\n",
        "\n",
        "        self.params['W2'] = wi_scales[2] *  np.random.randn(pool_output_pixel, hidden_size)\n",
        "        print(wi_scales[1],pool_output_pixel,hidden_size)\n",
        "        self.params['b2'] = np.zeros(hidden_size)\n",
        "        self.params['W3'] = wi_scales[6] *  np.random.randn(hidden_size, hidden_size2)\n",
        "        self.params['b3'] = np.zeros(hidden_size2)\n",
        "        self.params['W4'] = wi_scales[7] *  np.random.randn(hidden_size2, output_size)\n",
        "        self.params['b4'] = np.zeros(output_size)\n",
        "\n",
        "        # レイヤの生成\n",
        "        self.layers = OrderedDict()\n",
        "        self.layers['Conv1'] = Conv2d(self.params['W1'], self.params['b1'],\n",
        "                                           conv_param['stride'], conv_param['pad']) # W1が畳み込みフィルターの重み, b1が畳み込みフィルターのバイアスになる\n",
        "        self.layers['ReLU1'] = ReLU()\n",
        "        \n",
        "        self.layers['Conv2'] = Conv2d(self.params['W12'], self.params['b12'],\n",
        "                                           conv_param['stride'], conv_param['pad']) # W1が畳み込みフィルターの重み, b1が畳み込みフィルターのバイアスになる\n",
        "        self.layers['ReLU2'] = ReLU()\n",
        "        self.layers['Pool1'] = MaxPooling(pool_h=pool_size, pool_w=pool_size, stride=pool_stride, pad=pool_pad)\n",
        "        # self.layers['BatchNorm1'] = BatchNormalization(gamma=1,beta=0)\n",
        "\n",
        "        self.layers['Conv3'] = Conv2d(self.params['W21'], self.params['b21'],\n",
        "                                           conv_param['stride'], conv_param['pad']) # W1が畳み込みフィルターの重み, b1が畳み込みフィルターのバイアスになる\n",
        "        self.layers['ReLU3'] = ReLU()\n",
        "        \n",
        "        self.layers['Conv4'] = Conv2d(self.params['W22'], self.params['b22'],\n",
        "                                           conv_param['stride'], conv_param['pad']) # W1が畳み込みフィルターの重み, b1が畳み込みフィルターのバイアスになる\n",
        "        self.layers['ReLU4'] = ReLU()\n",
        "        # self.layers['Pool2'] = MaxPooling(pool_h=pool_size, pool_w=pool_size, stride=pool_stride, pad=pool_pad)\n",
        "        # self.layers['BatchNorm2'] = BatchNormalization(gamma=1,beta=0)\n",
        "\n",
        "        self.layers['Conv5'] = Conv2d(self.params['W31'], self.params['b31'],\n",
        "                                           conv_param['stride'], conv_param['pad']) # W1が畳み込みフィルターの重み, b1が畳み込みフィルターのバイアスになる\n",
        "        self.layers['ReLU5'] = ReLU()\n",
        "        # self.layers['Pool3'] = MaxPooling(pool_h=pool_size, pool_w=pool_size, stride=pool_stride, pad=pool_pad)\n",
        "        # self.layers['BatchNorm3'] = BatchNormalization(gamma=1,beta=0)\n",
        "\n",
        "\n",
        "        # self.layers['Pool2'] = MaxPooling(pool_h=pool_size, pool_w=pool_size, stride=pool_stride, pad=pool_pad)\n",
        "\n",
        "        self.layers['Affine1'] = AffineG(self.params['W2'], self.params['b2'])\n",
        "        self.layers['BatchNorm3'] = BatchNormalization(gamma=1,beta=0)\n",
        "        self.layers['ReLU2'] = ReLU()\n",
        "        # self.layers['Dropout1'] = Dropout(dropout_ratio=0.5)\n",
        "        self.layers['Affine2'] = AffineG(self.params['W3'], self.params['b3'])\n",
        "        self.layers['ReLU4'] = ReLU()\n",
        "        self.layers['Dropout2'] = Dropout(dropout_ratio=0.5)\n",
        "        \n",
        "        self.layers['Affine3'] = AffineG(self.params['W4'], self.params['b4'])\n",
        "        self.layers['ReLU4'] = ReLU()\n",
        "\n",
        "        self.last_layer = SoftmaxWithLossG()\n",
        "\n",
        "    def predict(self, x):\n",
        "        for layer in self.layers.values():\n",
        "            x = layer.forward(x)\n",
        "            # print('predict x.shape',x.shape)\n",
        "\n",
        "        return x\n",
        "\n",
        "    def loss(self, x, t):\n",
        "        \"\"\"\n",
        "        損失関数\n",
        "        \"\"\"        \n",
        "        y = self.predict(x)\n",
        "        return self.last_layer.forward(y, t)\n",
        "\n",
        "    def accuracy(self, x, t, batch_size=100):\n",
        "        if t.ndim != 1 : t = np.argmax(t, axis=1)\n",
        "        \n",
        "        acc = 0.0\n",
        "        \n",
        "        for i in range(int(x.shape[0] / batch_size)):\n",
        "            tx = x[i*batch_size:(i+1)*batch_size]\n",
        "            tt = t[i*batch_size:(i+1)*batch_size]\n",
        "            y = self.predict(tx)\n",
        "            y = np.argmax(y, axis=1)\n",
        "            acc += np.sum(y == tt) \n",
        "        \n",
        "        return acc / x.shape[0]\n",
        "    \n",
        "    def gradient(self, x, t):\n",
        "        \"\"\"勾配を求める（誤差逆伝播法）\n",
        "        \"\"\"\n",
        "        # forward\n",
        "        self.loss(x, t)\n",
        "\n",
        "        # backward\n",
        "        dout = 1\n",
        "        dout = self.last_layer.backward(dout)\n",
        "        # print('dout.shape',dout.shape)\n",
        "\n",
        "        layers = list(self.layers.values())\n",
        "        layers.reverse()\n",
        "        for layer in layers:\n",
        "            dout = layer.backward(dout)\n",
        "            # print('layer.backward(dout)',dout.shape)\n",
        "\n",
        "        # 設定\n",
        "        grads = {}\n",
        "        grads['W1'], grads['b1'] = self.layers['Conv1'].dW, self.layers['Conv1'].db\n",
        "        grads['W12'], grads['b12'] = self.layers['Conv2'].dW, self.layers['Conv2'].db\n",
        "        grads['W21'], grads['b21'] = self.layers['Conv3'].dW, self.layers['Conv3'].db\n",
        "        grads['W22'], grads['b22'] = self.layers['Conv4'].dW, self.layers['Conv4'].db\n",
        "        grads['W31'], grads['b31'] = self.layers['Conv5'].dW, self.layers['Conv5'].db\n",
        "        grads['W2'], grads['b2'] = self.layers['Affine1'].dW, self.layers['Affine1'].db\n",
        "        grads['W3'], grads['b3'] = self.layers['Affine2'].dW, self.layers['Affine2'].db\n",
        "        grads['W4'], grads['b4'] = self.layers['Affine3'].dW, self.layers['Affine3'].db\n",
        "\n",
        "        return grads"
      ]
    },
    {
      "cell_type": "code",
      "source": [
        "# CNNのオブジェクト生成\n",
        "snet = SimpleConvNetG(input_dim=(1, 28, 28), \n",
        "                     conv_param={'filter_num':32, 'filter_num2':64, 'filter_num3':64,'filter_size':3, 'pad':1, 'stride':1},\n",
        "                     pool_param={'pool_size':2, 'pad':0, 'stride':2},\n",
        "                     hidden_size=100, output_size=15, weight_init_std=0.01)\n",
        "\n",
        "epochs = 5\n",
        "batch_size = 32\n",
        "model = snet\n",
        "\n",
        "xsize = x.shape[0]\n",
        "iter_num = np.ceil(xsize / batch_size).astype(np.int)\n",
        "\n",
        "# Adamを使う\n",
        "# optimizer = Adam(lr=0.0001, beta1=0.8, beta2=0.98) #Adam\n",
        "optimizer = RMSProp(lr=0.001, rho=0.88)\n",
        "\n",
        "train(model, optimizer,epochs,iter_num,x,t,X_test,y_test)"
      ],
      "metadata": {
        "colab": {
          "base_uri": "https://localhost:8080/"
        },
        "id": "WFkSVwml5MYA",
        "outputId": "7d267a51-4438-47a9-9d63-cc64d351ba26"
      },
      "execution_count": null,
      "outputs": [
        {
          "output_type": "stream",
          "name": "stdout",
          "text": [
            "[0.05050763 0.03125    0.02209709 0.02209709 0.02209709 0.01262691\n",
            " 0.14142136 0.14142136]\n",
            "0.03125 12544 100\n"
          ]
        },
        {
          "output_type": "stream",
          "name": "stderr",
          "text": [
            "/usr/local/lib/python3.7/dist-packages/ipykernel_launcher.py:12: DeprecationWarning: `np.int` is a deprecated alias for the builtin `int`. To silence this warning, use `int` by itself. Doing this will not modify any behavior and is safe. When replacing `np.int`, you may wish to use e.g. `np.int64` or `np.int32` to specify the precision. If you wish to review your current use, check the release note link for additional information.\n",
            "Deprecated in NumPy 1.20; for more details and guidance: https://numpy.org/devdocs/release/1.20.0-notes.html#deprecations\n",
            "  if sys.path[0] == '':\n"
          ]
        },
        {
          "output_type": "stream",
          "name": "stdout",
          "text": [
            "t_loss 119.487 ------------- ,t_acc 65.167\n",
            "t_loss 89.229 ------------- ,t_acc 75.167\n",
            "t_loss 88.468 ------------- ,t_acc 77.000\n",
            "t_loss 77.227 ------------- ,t_acc 81.000\n",
            "t_loss 69.446 ------------- ,t_acc 84.167\n"
          ]
        }
      ]
    },
    {
      "cell_type": "code",
      "source": [
        "epochs = 5\n",
        "train(model, optimizer,epochs,iter_num,x,t,X_test,y_test)"
      ],
      "metadata": {
        "colab": {
          "base_uri": "https://localhost:8080/"
        },
        "id": "ySpV_VqjQrXl",
        "outputId": "91b025d6-12cd-4d1e-8493-ada016356fee"
      },
      "execution_count": null,
      "outputs": [
        {
          "output_type": "stream",
          "name": "stdout",
          "text": [
            "t_loss 67.104 ------------- ,t_acc 84.833\n",
            "t_loss 70.229 ------------- ,t_acc 83.167\n",
            "t_loss 64.953 ------------- ,t_acc 84.000\n",
            "t_loss 66.077 ------------- ,t_acc 84.167\n",
            "t_loss 66.500 ------------- ,t_acc 81.333\n"
          ]
        }
      ]
    },
    {
      "cell_type": "code",
      "source": [],
      "metadata": {
        "id": "EacQZvOutRMu"
      },
      "execution_count": null,
      "outputs": []
    },
    {
      "cell_type": "markdown",
      "source": [
        "# 99.8%精度"
      ],
      "metadata": {
        "id": "tDgq7TbZtRl-"
      }
    },
    {
      "cell_type": "code",
      "source": [
        "from common.layers import Convolution, MaxPooling, ReLU, Affine, SoftmaxWithLoss, Dropout,BatchNormalization\n",
        "from common.optimizer import RMSProp\n",
        "from common.util import im2col, col2im\n",
        "\n",
        "import numpy as np\n",
        "import pandas as pd\n",
        "import matplotlib.pyplot as plt\n",
        "from sklearn.model_selection import train_test_split\n",
        "import pickle\n",
        "import seaborn as sns\n",
        "from sklearn.metrics import accuracy_score\n",
        "from collections import OrderedDict\n",
        "\n",
        "class SimpleConvNet:\n",
        "    def __init__(self, input_dim=(1, 28, 28), \n",
        "                 conv_param={'filter_num':16, 'filter_num2':32, 'filter_num3':64, 'filter_size':3, 'pad':0, 'stride':1},\n",
        "                 pool_param={'pool_size':2, 'pad':0, 'stride':1},\n",
        "                 hidden_size=100, output_size=10, weight_init_std=0.01):\n",
        "                \n",
        "        filter_num = conv_param['filter_num']\n",
        "        filter_size = conv_param['filter_size']\n",
        "        filter_pad = conv_param['pad']\n",
        "        filter_stride = conv_param['stride']\n",
        "        \n",
        "        pool_size = pool_param['pool_size']\n",
        "        pool_pad = pool_param['pad']\n",
        "        pool_stride = pool_param['stride']\n",
        "\n",
        "        filter_num2 = conv_param['filter_num2']\n",
        "        filter_num3 = conv_param['filter_num3']\n",
        "        \n",
        "        input_size = input_dim[1]\n",
        "        conv_output_size = (input_size + 2*filter_pad - filter_size) // filter_stride + 1 # 畳み込み後のサイズ(H,W共通)\n",
        "        pool_output_size = (conv_output_size + 2*pool_pad - pool_size) // pool_stride + 1 # プーリング後のサイズ(H,W共通)\n",
        "        pool_output_pixel = 1568\n",
        "\n",
        "        # Heを使う\n",
        "        pre_node_nums = np.array([filter_num*input_dim[0]*filter_num,\n",
        "                                  filter_num2*filter_num3*filter_num,\n",
        "                                  filter_num2*filter_num3*filter_num,\n",
        "                                  filter_num3*filter_num2*filter_num,\n",
        "                                  filter_num3*filter_num2,\n",
        "                                  pool_output_pixel,\n",
        "                                  hidden_size\n",
        "                                  ])\n",
        "        wi_scales = np.sqrt(2/pre_node_nums)\n",
        "\n",
        "        # 重みの初期化\n",
        "        self.params = {}\n",
        "        std = weight_init_std\n",
        "        # 16\n",
        "        self.params['W1'] = wi_scales[0] * np.random.randn(filter_num, input_dim[0], filter_size, filter_size)\n",
        "        self.params['b1'] = np.zeros(filter_num) \n",
        "        self.params['W12'] = wi_scales[1] * np.random.randn(filter_num, filter_num, filter_size, filter_size)\n",
        "        self.params['b12'] = np.zeros(filter_num)\n",
        "        # 32\n",
        "        self.params['W21'] = wi_scales[2] * np.random.randn(filter_num2, filter_num, filter_size, filter_size) # W1は畳み込みフィルターの重みになる\n",
        "        self.params['b21'] = np.zeros(filter_num2) #b1は畳み込みフィルターのバイアスになる\n",
        "        self.params['W22'] = wi_scales[3] * np.random.randn(filter_num2, filter_num2, filter_size, filter_size) # W1は畳み込みフィルターの重みになる\n",
        "        self.params['b22'] = np.zeros(filter_num2) #b1は畳み込みフィルターのバイアスになる\n",
        "\n",
        "        self.params['W2'] = wi_scales[5] *  np.random.randn(pool_output_pixel, hidden_size)\n",
        "        print(wi_scales[1],pool_output_pixel,hidden_size)\n",
        "        self.params['b2'] = np.zeros(hidden_size)\n",
        "\n",
        "        self.params['W4'] = wi_scales[6] *  np.random.randn(hidden_size, output_size)\n",
        "        self.params['b4'] = np.zeros(output_size)\n",
        "\n",
        "        # レイヤの生成\n",
        "        self.layers = OrderedDict()\n",
        "        self.layers['Conv1'] = Convolution(self.params['W1'], self.params['b1'],\n",
        "                                           conv_param['stride'], conv_param['pad']) # W1が畳み込みフィルターの重み, b1が畳み込みフィルターのバイアスになる\n",
        "        self.layers['ReLU1'] = ReLU()\n",
        "        \n",
        "        self.layers['Conv2'] = Convolution(self.params['W12'], self.params['b12'],\n",
        "                                           conv_param['stride'], conv_param['pad']) # W1が畳み込みフィルターの重み, b1が畳み込みフィルターのバイアスになる\n",
        "        self.layers['ReLU2'] = ReLU()\n",
        "        self.layers['Pool1'] = MaxPooling(pool_h=pool_size, pool_w=pool_size, stride=pool_stride, pad=pool_pad)\n",
        "        # self.layers['BatchNorm1'] = BatchNormalization(gamma=1,beta=0)\n",
        "\n",
        "        self.layers['Conv3'] = Convolution(self.params['W21'], self.params['b21'],\n",
        "                                           conv_param['stride'], conv_param['pad']) # W1が畳み込みフィルターの重み, b1が畳み込みフィルターのバイアスになる\n",
        "        self.layers['ReLU3'] = ReLU()\n",
        "        \n",
        "        self.layers['Conv4'] = Convolution(self.params['W22'], self.params['b22'],\n",
        "                                           conv_param['stride'], conv_param['pad']) # W1が畳み込みフィルターの重み, b1が畳み込みフィルターのバイアスになる\n",
        "        self.layers['ReLU4'] = ReLU()\n",
        "        self.layers['Pool2'] = MaxPooling(pool_h=pool_size, pool_w=pool_size, stride=pool_stride, pad=pool_pad)\n",
        "        # self.layers['BatchNorm2'] = BatchNormalization(gamma=1,beta=0)\n",
        "\n",
        "\n",
        "        self.layers['Affine1'] = Affine(self.params['W2'], self.params['b2'])\n",
        "        self.layers['ReLU5'] = ReLU()\n",
        "        self.layers['BatchNorm2'] = BatchNormalization(gamma=1,beta=0)\n",
        "        # self.layers['Dropout1'] = Dropout(dropout_ratio=0.5)\n",
        "        self.layers['Affine3'] = Affine(self.params['W4'], self.params['b4'])\n",
        "        # self.layers['ReLU6'] = ReLU()\n",
        "        # self.layers['Dropout1'] = Dropout(dropout_ratio=0.5)\n",
        "        self.last_layer = SoftmaxWithLoss()\n",
        "\n",
        "    def predict(self, x):\n",
        "        for layer in self.layers.values():\n",
        "            x = layer.forward(x)\n",
        "\n",
        "        return x\n",
        "\n",
        "    def loss(self, x, t):\n",
        "        \"\"\"\n",
        "        損失関数\n",
        "        \"\"\"        \n",
        "        y = self.predict(x)\n",
        "        return self.last_layer.forward(y, t)\n",
        "\n",
        "    def accuracy(self, x, t, batch_size=100):\n",
        "        if t.ndim != 1 : t = np.argmax(t, axis=1)\n",
        "        \n",
        "        acc = 0.0\n",
        "        \n",
        "        for i in range(int(x.shape[0] / batch_size)):\n",
        "            tx = x[i*batch_size:(i+1)*batch_size]\n",
        "            tt = t[i*batch_size:(i+1)*batch_size]\n",
        "            y = self.predict(tx)\n",
        "            y = np.argmax(y, axis=1)\n",
        "            acc += np.sum(y == tt) \n",
        "        \n",
        "        return acc / x.shape[0]\n",
        "    \n",
        "    def gradient(self, x, t):\n",
        "        \"\"\"勾配を求める（誤差逆伝播法）\n",
        "        \"\"\"\n",
        "        # forward\n",
        "        self.loss(x, t)\n",
        "\n",
        "        # backward\n",
        "        dout = 1\n",
        "        dout = self.last_layer.backward(dout)\n",
        "\n",
        "        layers = list(self.layers.values())\n",
        "        layers.reverse()\n",
        "        for layer in layers:\n",
        "            dout = layer.backward(dout)\n",
        "\n",
        "        # 設定\n",
        "        grads = {}\n",
        "        grads['W1'], grads['b1'] = self.layers['Conv1'].dW, self.layers['Conv1'].db\n",
        "        grads['W12'], grads['b12'] = self.layers['Conv2'].dW, self.layers['Conv2'].db\n",
        "        grads['W21'], grads['b21'] = self.layers['Conv3'].dW, self.layers['Conv3'].db\n",
        "        grads['W22'], grads['b22'] = self.layers['Conv4'].dW, self.layers['Conv4'].db\n",
        "        # grads['W31'], grads['b31'] = self.layers['Conv5'].dW, self.layers['Conv5'].db\n",
        "        grads['W2'], grads['b2'] = self.layers['Affine1'].dW, self.layers['Affine1'].db\n",
        "        # grads['W3'], grads['b3'] = self.layers['Affine2'].dW, self.layers['Affine2'].db\n",
        "        grads['W4'], grads['b4'] = self.layers['Affine3'].dW, self.layers['Affine3'].db\n",
        "\n",
        "        return grads"
      ],
      "metadata": {
        "id": "BLxI8HsJCa63"
      },
      "execution_count": null,
      "outputs": []
    },
    {
      "cell_type": "code",
      "source": [
        "# CNNのオブジェクト生成\n",
        "snet = SimpleConvNet(input_dim=(1, 28, 28), \n",
        "                     conv_param={'filter_num':32, 'filter_num2':32, 'filter_num3':64,'filter_size':3, 'pad':1, 'stride':1},\n",
        "                     pool_param={'pool_size':2, 'pad':0, 'stride':2},\n",
        "                     hidden_size=100, output_size=15, weight_init_std=0.01)\n",
        "\n",
        "epochs = 3\n",
        "batch_size = 32\n",
        "model = snet\n",
        "\n",
        "xsize = x.shape[0]\n",
        "iter_num = np.ceil(xsize / batch_size).astype(np.int)\n",
        "\n",
        "optimizer = RMSProp(lr=0.001, rho=0.88)\n",
        "\n",
        "train_loss = []\n",
        "test_loss = []\n",
        "train_accuracy = []\n",
        "test_accuracy = []\n",
        "\n",
        "for epoch in range(epochs):\n",
        "    # print(\"epoch=%s\"%epoch)\n",
        "\n",
        "    # シャッフル\n",
        "    idx = np.arange(xsize)\n",
        "    np.random.shuffle(idx)\n",
        "\n",
        "    for it in range(iter_num):\n",
        "        \"\"\"\n",
        "        ランダムなミニバッチを順番に取り出す\n",
        "        \"\"\"\n",
        "        # print(\"it=\", it)\n",
        "        mask = idx[batch_size*it : batch_size*(it+1)]\n",
        "\n",
        "        # ミニバッチの生成\n",
        "        x_train = x[mask]\n",
        "        t_train = t[mask]\n",
        "\n",
        "        # print('x_train.shape',x_train.shape)\n",
        "        # print('t_train.shape',t_train.shape)\n",
        "        # 勾配の計算 (誤差逆伝播法を用いる) \n",
        "        grads = snet.gradient(x_train, t_train)\n",
        "\n",
        "        # 更新\n",
        "        optimizer.update(snet.params, grads)\n",
        "\n",
        "    ## 学習経過の記録  \n",
        "    l_loss = snet.loss(x,  t)\n",
        "\n",
        "    train_loss.append(l_loss)\n",
        "    X_test = X_test.reshape(-1,1,28,28)\n",
        "    test_loss.append(snet.loss(X_test, y_test))\n",
        "    train_accuracy.append(snet.accuracy(x, t))\n",
        "    \n",
        "    t_accuracy = snet.accuracy(X_test, y_test)\n",
        "    test_accuracy.append(t_accuracy)\n",
        "\n",
        "    print('loss,test_accuracy',l_loss, t_accuracy)"
      ],
      "metadata": {
        "colab": {
          "base_uri": "https://localhost:8080/"
        },
        "id": "EU7SDpr-C2U4",
        "outputId": "3bb107c9-ecaa-4319-9a25-e81bbf29b6e5"
      },
      "execution_count": null,
      "outputs": [
        {
          "output_type": "stream",
          "name": "stdout",
          "text": [
            "0.005524271728019903 1568 100\n"
          ]
        },
        {
          "output_type": "stream",
          "name": "stderr",
          "text": [
            "/usr/local/lib/python3.7/dist-packages/ipykernel_launcher.py:12: DeprecationWarning: `np.int` is a deprecated alias for the builtin `int`. To silence this warning, use `int` by itself. Doing this will not modify any behavior and is safe. When replacing `np.int`, you may wish to use e.g. `np.int64` or `np.int32` to specify the precision. If you wish to review your current use, check the release note link for additional information.\n",
            "Deprecated in NumPy 1.20; for more details and guidance: https://numpy.org/devdocs/release/1.20.0-notes.html#deprecations\n",
            "  if sys.path[0] == '':\n"
          ]
        },
        {
          "output_type": "stream",
          "name": "stdout",
          "text": [
            "loss,test_accuracy 0.5194852638198059 0.86\n",
            "loss,test_accuracy 0.3156582874884778 0.9083333333333333\n",
            "loss,test_accuracy 0.18400175024581242 0.925\n"
          ]
        }
      ]
    },
    {
      "cell_type": "code",
      "source": [
        "gen_train_data.shape"
      ],
      "metadata": {
        "colab": {
          "base_uri": "https://localhost:8080/"
        },
        "id": "0RqM4nFT1Mqc",
        "outputId": "a1946da4-82bf-4cbc-cd62-6ad9afc691e3"
      },
      "execution_count": null,
      "outputs": [
        {
          "output_type": "execute_result",
          "data": {
            "text/plain": [
              "(3400, 1, 28, 28)"
            ]
          },
          "metadata": {},
          "execution_count": 18
        }
      ]
    },
    {
      "cell_type": "code",
      "source": [
        "X_train.shape"
      ],
      "metadata": {
        "colab": {
          "base_uri": "https://localhost:8080/"
        },
        "id": "NpFEYEnq1qQD",
        "outputId": "74ddc571-888d-4f70-c105-f39173f3e826"
      },
      "execution_count": null,
      "outputs": [
        {
          "output_type": "execute_result",
          "data": {
            "text/plain": [
              "(1200, 1, 28, 28)"
            ]
          },
          "metadata": {},
          "execution_count": 18
        }
      ]
    },
    {
      "cell_type": "code",
      "source": [
        "# 7回、99.889の精度\n",
        "x = np.concatenate([X_train, gen_train_data[:3000]])\n",
        "t = np.concatenate([y_train, gen_train_label[:3000]])\n",
        "print('拡張したデータと結合したｘ',x.shape)\n",
        "print('拡張したデータと結合したｘ',t.shape)"
      ],
      "metadata": {
        "id": "DO91z6yZoc9l"
      },
      "execution_count": null,
      "outputs": []
    },
    {
      "cell_type": "code",
      "source": [
        "# 7回、98.889の精度\n",
        "x = np.concatenate([X_train, gen_train_data[9000:12000]])\n",
        "t = np.concatenate([y_train, gen_train_label[9000:12000]])\n",
        "print('拡張したデータと結合したｘ',x.shape)\n",
        "print('拡張したデータと結合したｘ',t.shape)"
      ],
      "metadata": {
        "colab": {
          "base_uri": "https://localhost:8080/"
        },
        "id": "gvBFIPM60nte",
        "outputId": "234d3e18-70d9-46b2-be60-26e31891c083"
      },
      "execution_count": null,
      "outputs": [
        {
          "output_type": "execute_result",
          "data": {
            "text/plain": [
              "(6000, 1, 28, 28)"
            ]
          },
          "metadata": {},
          "execution_count": 21
        }
      ]
    },
    {
      "cell_type": "code",
      "source": [
        "# 20回、70の精度\n",
        "x = np.concatenate([X_train, gen_train_data[6000:9000]])\n",
        "t = np.concatenate([y_train, gen_train_label[6000:9000]])\n",
        "print('拡張したデータと結合したｘ',x.shape)\n",
        "print('拡張したデータと結合したｘ',t.shape)"
      ],
      "metadata": {
        "colab": {
          "base_uri": "https://localhost:8080/"
        },
        "id": "Z1UtPFVWS0pS",
        "outputId": "95960902-521b-4e75-bff8-cca6677581e5"
      },
      "execution_count": null,
      "outputs": [
        {
          "output_type": "stream",
          "name": "stdout",
          "text": [
            "拡張したデータと結合したｘ (4200, 1, 28, 28)\n",
            "拡張したデータと結合したｘ (4200, 15)\n"
          ]
        }
      ]
    },
    {
      "cell_type": "code",
      "source": [
        "# 3回、100の精度\n",
        "x = np.concatenate([X_train, gen_train_data[3000:6000]])\n",
        "t = np.concatenate([y_train, gen_train_label[3000:6000]])\n",
        "print('拡張したデータと結合したｘ',x.shape)\n",
        "print('拡張したデータと結合したｘ',t.shape)"
      ],
      "metadata": {
        "colab": {
          "base_uri": "https://localhost:8080/"
        },
        "id": "F4FySJYYg6nI",
        "outputId": "3b1c1388-828d-4f1f-e120-a1c587cabc41"
      },
      "execution_count": null,
      "outputs": [
        {
          "output_type": "stream",
          "name": "stdout",
          "text": [
            "拡張したデータと結合したｘ (4200, 1, 28, 28)\n",
            "拡張したデータと結合したｘ (4200, 15)\n"
          ]
        }
      ]
    },
    {
      "cell_type": "code",
      "source": [
        "# t_loss 1.474 ------------- ,t_acc 99.722\n",
        "x = np.concatenate([X_train, gen_train_data[4500:7500]])\n",
        "t = np.concatenate([y_train, gen_train_label[4500:7500]])\n",
        "print('拡張したデータと結合したｘ',x.shape)\n",
        "print('拡張したデータと結合したｘ',t.shape)"
      ],
      "metadata": {
        "colab": {
          "base_uri": "https://localhost:8080/"
        },
        "id": "NsSdWIE1qTid",
        "outputId": "381d4b6d-0bad-442e-e5be-c4e34f04b7bb"
      },
      "execution_count": null,
      "outputs": [
        {
          "output_type": "stream",
          "name": "stdout",
          "text": [
            "拡張したデータと結合したｘ (4200, 1, 28, 28)\n",
            "拡張したデータと結合したｘ (4200, 15)\n"
          ]
        }
      ]
    },
    {
      "cell_type": "code",
      "source": [
        "# \n",
        "ox = np.concatenate([X_train, X_test])\n",
        "ot = np.concatenate([y_train, y_test])\n",
        "print('拡張したデータと結合したｘ',ox.shape)\n",
        "print('拡張したデータと結合したｘ',ot.shape)"
      ],
      "metadata": {
        "colab": {
          "base_uri": "https://localhost:8080/"
        },
        "id": "LzQQup_cqP8q",
        "outputId": "cd7860e1-0af0-4702-d7cb-4c2675d0a7c4"
      },
      "execution_count": null,
      "outputs": [
        {
          "output_type": "stream",
          "name": "stdout",
          "text": [
            "拡張したデータと結合したｘ (3000, 1, 28, 28)\n",
            "拡張したデータと結合したｘ (3000, 15)\n"
          ]
        }
      ]
    },
    {
      "cell_type": "code",
      "source": [
        "x.shape"
      ],
      "metadata": {
        "colab": {
          "base_uri": "https://localhost:8080/"
        },
        "id": "OTBiQQ7eqGI2",
        "outputId": "556f1d49-1d2f-44f3-811b-103417f9eb1c"
      },
      "execution_count": null,
      "outputs": [
        {
          "output_type": "execute_result",
          "data": {
            "text/plain": [
              "(2400, 1, 28, 28)"
            ]
          },
          "metadata": {},
          "execution_count": 38
        }
      ]
    },
    {
      "cell_type": "code",
      "source": [
        "X_test.shape"
      ],
      "metadata": {
        "colab": {
          "base_uri": "https://localhost:8080/"
        },
        "id": "tukerRzMqIE4",
        "outputId": "4179a846-f87c-4333-9aab-262b499b3bec"
      },
      "execution_count": null,
      "outputs": [
        {
          "output_type": "execute_result",
          "data": {
            "text/plain": [
              "(600, 1, 28, 28)"
            ]
          },
          "metadata": {},
          "execution_count": 39
        }
      ]
    },
    {
      "cell_type": "code",
      "source": [
        "# \n",
        "x = np.concatenate([X_train, gen_train_data[7500:10500]])\n",
        "t = np.concatenate([y_train, gen_train_label[7500:10500]])\n",
        "print('拡張したデータと結合したｘ',x.shape)\n",
        "print('拡張したデータと結合したｘ',t.shape)"
      ],
      "metadata": {
        "colab": {
          "base_uri": "https://localhost:8080/"
        },
        "id": "T8hyIbuTs5rP",
        "outputId": "fee90727-736e-4e64-f453-37129a1c7cfb"
      },
      "execution_count": null,
      "outputs": [
        {
          "output_type": "stream",
          "name": "stdout",
          "text": [
            "拡張したデータと結合したｘ (4200, 1, 28, 28)\n",
            "拡張したデータと結合したｘ (4200, 15)\n"
          ]
        }
      ]
    },
    {
      "cell_type": "code",
      "source": [
        "epochs = 3\n",
        "optimizer = Adam(lr=0.0001, beta1=0.8, beta2=0.98) #Adam\n",
        "train(snet, optimizer,epochs,iter_num,x,t,X_test,y_test)"
      ],
      "metadata": {
        "colab": {
          "base_uri": "https://localhost:8080/",
          "height": 335
        },
        "id": "3dNO-CyCPoTU",
        "outputId": "dc05b7a8-e27b-4fb3-b978-a81beb3f3132"
      },
      "execution_count": null,
      "outputs": [
        {
          "output_type": "stream",
          "name": "stdout",
          "text": [
            "t_loss 172.268 ------------- ,t_acc 44.833\n",
            "t_loss 166.816 ------------- ,t_acc 47.333\n",
            "t_loss 159.707 ------------- ,t_acc 48.500\n"
          ]
        },
        {
          "output_type": "display_data",
          "data": {
            "text/plain": [
              "<Figure size 432x288 with 1 Axes>"
            ],
            "image/png": "[encoded data removed]"
          },
          "metadata": {
            "needs_background": "light"
          }
        }
      ]
    },
    {
      "cell_type": "code",
      "source": [
        "epochs = 3\n",
        "optimizer = Adam(lr=0.0001, beta1=0.8, beta2=0.98) #Adam\n",
        "train(snet, optimizer,epochs,iter_num,x,t,X_test,y_test)"
      ],
      "metadata": {
        "colab": {
          "base_uri": "https://localhost:8080/",
          "height": 335
        },
        "id": "LWr3gpcdmqWV",
        "outputId": "6748530d-06b9-41bd-aa59-4ae85f93301b"
      },
      "execution_count": null,
      "outputs": [
        {
          "output_type": "stream",
          "name": "stdout",
          "text": [
            "t_loss 20.425 ------------- ,t_acc 94.167\n",
            "t_loss 21.243 ------------- ,t_acc 93.167\n",
            "t_loss 20.407 ------------- ,t_acc 95.333\n"
          ]
        },
        {
          "output_type": "display_data",
          "data": {
            "text/plain": [
              "<Figure size 432x288 with 1 Axes>"
            ],
            "image/png": "[encoded data removed]"
          },
          "metadata": {
            "needs_background": "light"
          }
        }
      ]
    },
    {
      "cell_type": "code",
      "source": [
        "epochs = 10\n",
        "optimizer = Adam(lr=0.0001, beta1=0.81, beta2=0.98) #Adam\n",
        "train(snet, optimizer,epochs,iter_num,x,t,X_test,y_test)"
      ],
      "metadata": {
        "colab": {
          "base_uri": "https://localhost:8080/",
          "height": 457
        },
        "id": "bJq1zpXZS9eL",
        "outputId": "577d9eef-5b8f-4af3-d838-c0440ab0d012"
      },
      "execution_count": null,
      "outputs": [
        {
          "output_type": "stream",
          "name": "stdout",
          "text": [
            "t_loss 20.904 ------------- ,t_acc 95.167\n",
            "t_loss 20.549 ------------- ,t_acc 95.667\n",
            "t_loss 22.533 ------------- ,t_acc 93.833\n",
            "t_loss 17.237 ------------- ,t_acc 94.833\n",
            "t_loss 18.055 ------------- ,t_acc 94.833\n",
            "t_loss 16.443 ------------- ,t_acc 95.167\n",
            "t_loss 19.122 ------------- ,t_acc 95.667\n",
            "t_loss 16.980 ------------- ,t_acc 95.667\n",
            "t_loss 17.006 ------------- ,t_acc 95.333\n",
            "t_loss 18.032 ------------- ,t_acc 95.167\n"
          ]
        },
        {
          "output_type": "display_data",
          "data": {
            "text/plain": [
              "<Figure size 432x288 with 1 Axes>"
            ],
            "image/png": "[encoded data removed]"
          },
          "metadata": {
            "needs_background": "light"
          }
        }
      ]
    },
    {
      "cell_type": "code",
      "source": [
        "x.shape"
      ],
      "metadata": {
        "colab": {
          "base_uri": "https://localhost:8080/"
        },
        "id": "0tCymMQd4GwB",
        "outputId": "a256950a-3b7e-41f1-8a98-df3ecf3eec4c"
      },
      "execution_count": null,
      "outputs": [
        {
          "output_type": "execute_result",
          "data": {
            "text/plain": [
              "(2400, 1, 28, 28)"
            ]
          },
          "metadata": {},
          "execution_count": 18
        }
      ]
    },
    {
      "cell_type": "code",
      "source": [
        "# dic_katakana = {\"a\":0,\"i\":1,\"u\":2,\"e\":3,\"o\":4,\"ka\":5,\"ki\":6,\"ku\":7,\"ke\":8,\"ko\":9,\"sa\":10,\"si\":11,\"su\":12,\"se\":13,\"so\":14}\n",
        "y_pred = snet.predict(x)\n",
        "# plot_ConfMat(y_pred,t)"
      ],
      "metadata": {
        "id": "bdkURDko4BH2"
      },
      "execution_count": null,
      "outputs": []
    },
    {
      "cell_type": "code",
      "source": [
        "snet.accuracy(x,t,600)"
      ],
      "metadata": {
        "colab": {
          "base_uri": "https://localhost:8080/"
        },
        "id": "PVTSeohs6aFJ",
        "outputId": "d75d6beb-0352-434e-f605-3aa1d3aa4109"
      },
      "execution_count": null,
      "outputs": [
        {
          "output_type": "execute_result",
          "data": {
            "text/plain": [
              "0.99875"
            ]
          },
          "metadata": {},
          "execution_count": 29
        }
      ]
    },
    {
      "cell_type": "code",
      "source": [
        "snet.accuracy(X_train,y_train,600)"
      ],
      "metadata": {
        "colab": {
          "base_uri": "https://localhost:8080/"
        },
        "id": "x2og3l3K6-uL",
        "outputId": "d77421ff-c566-4b31-bd71-c30706e58b0e"
      },
      "execution_count": null,
      "outputs": [
        {
          "output_type": "execute_result",
          "data": {
            "text/plain": [
              "0.99875"
            ]
          },
          "metadata": {},
          "execution_count": 30
        }
      ]
    },
    {
      "cell_type": "code",
      "source": [
        "x.shape"
      ],
      "metadata": {
        "colab": {
          "base_uri": "https://localhost:8080/"
        },
        "id": "WLq-NWc9WIJp",
        "outputId": "ba6eb457-7917-4fac-9643-e1f6259aee3d"
      },
      "execution_count": null,
      "outputs": [
        {
          "output_type": "execute_result",
          "data": {
            "text/plain": [
              "(2400, 1, 28, 28)"
            ]
          },
          "metadata": {},
          "execution_count": 11
        }
      ]
    },
    {
      "cell_type": "code",
      "source": [
        "# CNNのオブジェクト生成\n",
        "snet = SimpleConvNet(input_dim=(1, 28, 28), \n",
        "                     conv_param={'filter_num':32, 'filter_num2':32, 'filter_num3':64,'filter_size':3, 'pad':1, 'stride':1},\n",
        "                     pool_param={'pool_size':2, 'pad':0, 'stride':2},\n",
        "                     hidden_size=128, output_size=15, weight_init_std=0.01)\n",
        "\n",
        "epochs = 5\n",
        "optimizer = Adam(lr=0.0001, beta1=0.81, beta2=0.98) #Adam\n",
        "train(snet, optimizer,epochs,gen_train_data[:3000],gen_train_label[:3000],X_test,y_test)"
      ],
      "metadata": {
        "colab": {
          "base_uri": "https://localhost:8080/",
          "height": 459
        },
        "id": "u3MopV98a3aH",
        "outputId": "9275ef19-9e85-46d6-8423-2b73723ff84e"
      },
      "execution_count": null,
      "outputs": [
        {
          "output_type": "stream",
          "name": "stdout",
          "text": [
            "0.005524271728019903 1568 128\n"
          ]
        },
        {
          "output_type": "stream",
          "name": "stderr",
          "text": [
            "/usr/local/lib/python3.7/dist-packages/ipykernel_launcher.py:8: DeprecationWarning: `np.int` is a deprecated alias for the builtin `int`. To silence this warning, use `int` by itself. Doing this will not modify any behavior and is safe. When replacing `np.int`, you may wish to use e.g. `np.int64` or `np.int32` to specify the precision. If you wish to review your current use, check the release note link for additional information.\n",
            "Deprecated in NumPy 1.20; for more details and guidance: https://numpy.org/devdocs/release/1.20.0-notes.html#deprecations\n",
            "  \n"
          ]
        },
        {
          "output_type": "stream",
          "name": "stdout",
          "text": [
            "t_loss 79.034 ------------- ,t_acc 82.833\n",
            "t_loss 45.591 ------------- ,t_acc 91.167\n",
            "t_loss 32.374 ------------- ,t_acc 94.167\n",
            "t_loss 23.717 ------------- ,t_acc 95.333\n",
            "t_loss 17.901 ------------- ,t_acc 97.500\n"
          ]
        },
        {
          "output_type": "display_data",
          "data": {
            "text/plain": [
              "<Figure size 432x288 with 1 Axes>"
            ],
            "image/png": "[encoded data removed]"
          },
          "metadata": {
            "needs_background": "light"
          }
        }
      ]
    },
    {
      "cell_type": "code",
      "source": [
        "epochs = 5\n",
        "train(snet, optimizer,epochs,gen_train_data[:3000],gen_train_label[:3000],X_test,y_test)"
      ],
      "metadata": {
        "colab": {
          "base_uri": "https://localhost:8080/",
          "height": 442
        },
        "id": "oFspZkAJxAY3",
        "outputId": "630a01f1-6f31-4808-f009-7020374c3122"
      },
      "execution_count": null,
      "outputs": [
        {
          "output_type": "stream",
          "name": "stderr",
          "text": [
            "/usr/local/lib/python3.7/dist-packages/ipykernel_launcher.py:8: DeprecationWarning: `np.int` is a deprecated alias for the builtin `int`. To silence this warning, use `int` by itself. Doing this will not modify any behavior and is safe. When replacing `np.int`, you may wish to use e.g. `np.int64` or `np.int32` to specify the precision. If you wish to review your current use, check the release note link for additional information.\n",
            "Deprecated in NumPy 1.20; for more details and guidance: https://numpy.org/devdocs/release/1.20.0-notes.html#deprecations\n",
            "  \n"
          ]
        },
        {
          "output_type": "stream",
          "name": "stdout",
          "text": [
            "t_loss 15.153 ------------- ,t_acc 98.000\n",
            "t_loss 12.787 ------------- ,t_acc 98.333\n",
            "t_loss 10.480 ------------- ,t_acc 98.500\n",
            "t_loss 8.415 ------------- ,t_acc 98.833\n",
            "t_loss 6.589 ------------- ,t_acc 99.667\n"
          ]
        },
        {
          "output_type": "display_data",
          "data": {
            "text/plain": [
              "<Figure size 432x288 with 1 Axes>"
            ],
            "image/png": "[encoded data removed]"
          },
          "metadata": {
            "needs_background": "light"
          }
        }
      ]
    },
    {
      "cell_type": "code",
      "source": [
        "epochs = 5\n",
        "train(snet, optimizer,epochs,gen_train_data[:3000],gen_train_label[:3000],X_train,y_train)"
      ],
      "metadata": {
        "colab": {
          "base_uri": "https://localhost:8080/",
          "height": 442
        },
        "id": "J-g6H7XzycMD",
        "outputId": "9b45b277-23cc-493e-f050-01e405c29e3f"
      },
      "execution_count": null,
      "outputs": [
        {
          "output_type": "stream",
          "name": "stderr",
          "text": [
            "/usr/local/lib/python3.7/dist-packages/ipykernel_launcher.py:8: DeprecationWarning: `np.int` is a deprecated alias for the builtin `int`. To silence this warning, use `int` by itself. Doing this will not modify any behavior and is safe. When replacing `np.int`, you may wish to use e.g. `np.int64` or `np.int32` to specify the precision. If you wish to review your current use, check the release note link for additional information.\n",
            "Deprecated in NumPy 1.20; for more details and guidance: https://numpy.org/devdocs/release/1.20.0-notes.html#deprecations\n",
            "  \n"
          ]
        },
        {
          "output_type": "stream",
          "name": "stdout",
          "text": [
            "t_loss 6.066 ------------- ,t_acc 99.375\n",
            "t_loss 6.039 ------------- ,t_acc 99.458\n",
            "t_loss 5.076 ------------- ,t_acc 99.583\n",
            "t_loss 4.388 ------------- ,t_acc 99.875\n",
            "t_loss 3.511 ------------- ,t_acc 99.917\n"
          ]
        },
        {
          "output_type": "display_data",
          "data": {
            "text/plain": [
              "<Figure size 432x288 with 1 Axes>"
            ],
            "image/png": "[encoded data removed]"
          },
          "metadata": {
            "needs_background": "light"
          }
        }
      ]
    },
    {
      "cell_type": "code",
      "source": [
        "epochs = 5\n",
        "train(snet, optimizer,epochs,gen_train_data[3000:6000],gen_train_label[3000:6000],X_train,y_train)"
      ],
      "metadata": {
        "colab": {
          "base_uri": "https://localhost:8080/",
          "height": 442
        },
        "id": "aGFZA_Of0JyS",
        "outputId": "83635239-df9d-4dea-dfc9-6688e8e86490"
      },
      "execution_count": null,
      "outputs": [
        {
          "output_type": "stream",
          "name": "stderr",
          "text": [
            "/usr/local/lib/python3.7/dist-packages/ipykernel_launcher.py:8: DeprecationWarning: `np.int` is a deprecated alias for the builtin `int`. To silence this warning, use `int` by itself. Doing this will not modify any behavior and is safe. When replacing `np.int`, you may wish to use e.g. `np.int64` or `np.int32` to specify the precision. If you wish to review your current use, check the release note link for additional information.\n",
            "Deprecated in NumPy 1.20; for more details and guidance: https://numpy.org/devdocs/release/1.20.0-notes.html#deprecations\n",
            "  \n"
          ]
        },
        {
          "output_type": "stream",
          "name": "stdout",
          "text": [
            "t_loss 3.980 ------------- ,t_acc 99.917\n",
            "t_loss 3.959 ------------- ,t_acc 99.750\n",
            "t_loss 3.763 ------------- ,t_acc 99.750\n",
            "t_loss 3.494 ------------- ,t_acc 99.750\n",
            "t_loss 3.218 ------------- ,t_acc 99.750\n"
          ]
        },
        {
          "output_type": "display_data",
          "data": {
            "text/plain": [
              "<Figure size 432x288 with 1 Axes>"
            ],
            "image/png": "[encoded data removed]"
          },
          "metadata": {
            "needs_background": "light"
          }
        }
      ]
    },
    {
      "cell_type": "code",
      "source": [
        "epochs = 3\n",
        "# optimizer = Adam(lr=0.0001, beta1=0.81, beta2=0.98) #Adam\n",
        "train(snet, optimizer,epochs,iter_num,x,t,X_train,y_train)"
      ],
      "metadata": {
        "colab": {
          "base_uri": "https://localhost:8080/",
          "height": 335
        },
        "id": "m0_Mqvxuvuug",
        "outputId": "316ab767-417b-4eb7-8392-0b01bc306beb"
      },
      "execution_count": null,
      "outputs": [
        {
          "output_type": "stream",
          "name": "stdout",
          "text": [
            "t_loss 13.896 ------------- ,t_acc 98.583\n",
            "t_loss 12.268 ------------- ,t_acc 98.792\n",
            "t_loss 12.212 ------------- ,t_acc 98.750\n"
          ]
        },
        {
          "output_type": "display_data",
          "data": {
            "text/plain": [
              "<Figure size 432x288 with 1 Axes>"
            ],
            "image/png": "[encoded data removed]"
          },
          "metadata": {
            "needs_background": "light"
          }
        }
      ]
    },
    {
      "cell_type": "code",
      "source": [
        "epochs = 5\n",
        "# optimizer = Adam(lr=0.0001, beta1=0.83, beta2=0.98) #Adam\n",
        "train(snet, optimizer,epochs,iter_num,x,t,X_test,y_test)"
      ],
      "metadata": {
        "colab": {
          "base_uri": "https://localhost:8080/",
          "height": 370
        },
        "id": "8zNTLYq_egNg",
        "outputId": "971b38b8-52e9-4098-fd82-037aa22d3205"
      },
      "execution_count": null,
      "outputs": [
        {
          "output_type": "stream",
          "name": "stdout",
          "text": [
            "t_loss 18.008 ------------- ,t_acc 96.667\n",
            "t_loss 16.901 ------------- ,t_acc 97.000\n",
            "t_loss 18.032 ------------- ,t_acc 96.667\n",
            "t_loss 16.513 ------------- ,t_acc 97.333\n",
            "t_loss 16.391 ------------- ,t_acc 96.667\n"
          ]
        },
        {
          "output_type": "display_data",
          "data": {
            "text/plain": [
              "<Figure size 432x288 with 1 Axes>"
            ],
            "image/png": "[encoded data removed]"
          },
          "metadata": {
            "needs_background": "light"
          }
        }
      ]
    },
    {
      "cell_type": "code",
      "source": [
        "epochs = 5\n",
        "# optimizer = Adam(lr=0.0001, beta1=0.81, beta2=0.98) #Adam\n",
        "train(snet, optimizer,epochs,iter_num,gen_train_data[:6000],gen_train_label[:6000],X_test,y_test)"
      ],
      "metadata": {
        "id": "WTFm6BUXgW1D"
      },
      "execution_count": null,
      "outputs": []
    },
    {
      "cell_type": "code",
      "source": [
        "epochs = 5\n",
        "# optimizer = Adam(lr=0.0001, beta1=0.81, beta2=0.98) #Adam\n",
        "train(snet, optimizer,epochs,iter_num,ox,ot,X_test,y_test)"
      ],
      "metadata": {
        "colab": {
          "base_uri": "https://localhost:8080/",
          "height": 370
        },
        "id": "4iopCFqVqc27",
        "outputId": "c1468026-652e-4b16-ce4a-8e45ce056314"
      },
      "execution_count": null,
      "outputs": [
        {
          "output_type": "stream",
          "name": "stdout",
          "text": [
            "t_loss 22.403 ------------- ,t_acc 96.167\n",
            "t_loss 19.006 ------------- ,t_acc 97.167\n",
            "t_loss 17.504 ------------- ,t_acc 97.167\n",
            "t_loss 16.777 ------------- ,t_acc 97.000\n",
            "t_loss 15.389 ------------- ,t_acc 97.167\n"
          ]
        },
        {
          "output_type": "display_data",
          "data": {
            "text/plain": [
              "<Figure size 432x288 with 1 Axes>"
            ],
            "image/png": "[encoded data removed]"
          },
          "metadata": {
            "needs_background": "light"
          }
        }
      ]
    },
    {
      "cell_type": "code",
      "source": [
        "epochs = 5\n",
        "train(snet, optimizer,epochs,iter_num,gen_train_data,gen_train_label,X_test,y_test)"
      ],
      "metadata": {
        "colab": {
          "base_uri": "https://localhost:8080/",
          "height": 370
        },
        "id": "p769LLKorsBN",
        "outputId": "02621266-4346-4bbf-ec69-0c36be8fd7c0"
      },
      "execution_count": null,
      "outputs": [
        {
          "output_type": "stream",
          "name": "stdout",
          "text": [
            "t_loss 46.786 ------------- ,t_acc 91.667\n",
            "t_loss 41.481 ------------- ,t_acc 94.167\n",
            "t_loss 45.153 ------------- ,t_acc 93.333\n",
            "t_loss 48.347 ------------- ,t_acc 92.667\n",
            "t_loss 47.003 ------------- ,t_acc 91.500\n"
          ]
        },
        {
          "output_type": "display_data",
          "data": {
            "text/plain": [
              "<Figure size 432x288 with 1 Axes>"
            ],
            "image/png": "[encoded data removed]"
          },
          "metadata": {
            "needs_background": "light"
          }
        }
      ]
    },
    {
      "cell_type": "code",
      "source": [
        "gen_train_data.shape"
      ],
      "metadata": {
        "colab": {
          "base_uri": "https://localhost:8080/"
        },
        "id": "i71pJM9rtDWz",
        "outputId": "fcb0d636-b367-4527-f47a-aa5930ec94b1"
      },
      "execution_count": null,
      "outputs": [
        {
          "output_type": "execute_result",
          "data": {
            "text/plain": [
              "(3400, 1, 28, 28)"
            ]
          },
          "metadata": {},
          "execution_count": 44
        }
      ]
    },
    {
      "cell_type": "code",
      "source": [],
      "metadata": {
        "id": "6-I1NujPs3kq"
      },
      "execution_count": null,
      "outputs": []
    },
    {
      "cell_type": "code",
      "source": [
        "epochs = 2\n",
        "optimizer = Adam(lr=0.0001, beta1=0.8, beta2=0.98) #Adam\n",
        "train(snet, optimizer,epochs,iter_num,x,t,X_test,y_test)"
      ],
      "metadata": {
        "id": "6HiIi9wkXopV",
        "colab": {
          "base_uri": "https://localhost:8080/"
        },
        "outputId": "5ed7da13-042c-453e-ccea-ce81b6f04ffc"
      },
      "execution_count": null,
      "outputs": [
        {
          "output_type": "stream",
          "name": "stdout",
          "text": [
            "t_loss 2.457 ------------- ,t_acc 99.778\n",
            "t_loss 1.639 ------------- ,t_acc 99.778\n"
          ]
        }
      ]
    },
    {
      "cell_type": "code",
      "source": [
        "epochs = 10\n",
        "optimizer = Adam(lr=0.0001, beta1=0.8, beta2=0.98) #Adam\n",
        "# optimizer = RMSProp(lr=0.001, rho=0.88)\n",
        "train(snet, optimizer,epochs,iter_num,x,t,X_test,y_test)"
      ],
      "metadata": {
        "colab": {
          "base_uri": "https://localhost:8080/"
        },
        "id": "vmrzY6FU8CSS",
        "outputId": "204f0010-75db-45b3-9e58-676c5b7f5aa6"
      },
      "execution_count": null,
      "outputs": [
        {
          "output_type": "stream",
          "name": "stdout",
          "text": [
            "t_loss 28.227 ------------- ,t_acc 95.500\n",
            "t_loss 28.375 ------------- ,t_acc 95.333\n",
            "t_loss 25.024 ------------- ,t_acc 96.000\n",
            "t_loss 25.489 ------------- ,t_acc 95.111\n",
            "t_loss 24.485 ------------- ,t_acc 95.833\n",
            "t_loss 27.064 ------------- ,t_acc 95.556\n",
            "t_loss 23.176 ------------- ,t_acc 96.222\n",
            "t_loss 21.837 ------------- ,t_acc 96.111\n",
            "t_loss 24.102 ------------- ,t_acc 94.944\n",
            "t_loss 25.883 ------------- ,t_acc 95.111\n"
          ]
        }
      ]
    },
    {
      "cell_type": "code",
      "source": [
        "epochs = 10\n",
        "optimizer = Adam(lr=0.0001, beta1=0.9, beta2=0.99) #Adam\n",
        "# optimizer = RMSProp(lr=0.001, rho=0.88)\n",
        "train(snet, optimizer,epochs,iter_num,x,t,X_test,y_test)"
      ],
      "metadata": {
        "colab": {
          "base_uri": "https://localhost:8080/"
        },
        "id": "d8fBps3C_78D",
        "outputId": "9a42fd33-2dab-4a30-9793-8a340a3fd605"
      },
      "execution_count": null,
      "outputs": [
        {
          "output_type": "stream",
          "name": "stdout",
          "text": [
            "t_loss 26.255 ------------- ,t_acc 94.333\n",
            "t_loss 26.665 ------------- ,t_acc 93.722\n",
            "t_loss 25.819 ------------- ,t_acc 92.889\n",
            "t_loss 26.950 ------------- ,t_acc 93.833\n",
            "t_loss 22.126 ------------- ,t_acc 95.444\n",
            "t_loss 23.351 ------------- ,t_acc 94.389\n",
            "t_loss 25.699 ------------- ,t_acc 93.444\n",
            "t_loss 24.464 ------------- ,t_acc 93.611\n",
            "t_loss 25.103 ------------- ,t_acc 93.389\n",
            "t_loss 21.652 ------------- ,t_acc 95.222\n"
          ]
        }
      ]
    },
    {
      "cell_type": "code",
      "source": [
        "epochs = 10\n",
        "optimizer = Adam(lr=0.0001, beta1=0.75, beta2=0.9) #Adam\n",
        "# optimizer = RMSProp(lr=0.001, rho=0.88)\n",
        "train(snet, optimizer,epochs,iter_num,x,t,X_test,y_test)"
      ],
      "metadata": {
        "colab": {
          "base_uri": "https://localhost:8080/"
        },
        "id": "uI9i1R6qDVuI",
        "outputId": "69a744e6-025c-4f58-d201-26fc680252b1"
      },
      "execution_count": null,
      "outputs": [
        {
          "output_type": "stream",
          "name": "stdout",
          "text": [
            "t_loss 22.984 ------------- ,t_acc 93.833\n",
            "t_loss 22.111 ------------- ,t_acc 93.611\n",
            "t_loss 23.760 ------------- ,t_acc 93.000\n",
            "t_loss 26.139 ------------- ,t_acc 92.944\n",
            "t_loss 22.413 ------------- ,t_acc 93.500\n",
            "t_loss 23.253 ------------- ,t_acc 93.722\n",
            "t_loss 25.576 ------------- ,t_acc 93.222\n",
            "t_loss 22.348 ------------- ,t_acc 93.500\n",
            "t_loss 22.701 ------------- ,t_acc 94.389\n",
            "t_loss 23.304 ------------- ,t_acc 93.944\n"
          ]
        }
      ]
    },
    {
      "cell_type": "code",
      "source": [
        "epochs = 2\n",
        "optimizer = Adam(lr=0.0001, beta1=0.81, beta2=0.98) #Adam\n",
        "# optimizer = RMSProp(lr=0.001, rho=0.88)\n",
        "train(snet, optimizer,epochs,iter_num,x,t,X_test,y_test)"
      ],
      "metadata": {
        "colab": {
          "base_uri": "https://localhost:8080/"
        },
        "id": "SK-tt2UnE6ZE",
        "outputId": "f967cbb2-1d5b-440b-9a63-f0fff00f0de6"
      },
      "execution_count": null,
      "outputs": [
        {
          "output_type": "stream",
          "name": "stdout",
          "text": [
            "t_loss 3.450 ------------- ,t_acc 98.889\n",
            "t_loss 3.204 ------------- ,t_acc 99.167\n"
          ]
        }
      ]
    },
    {
      "cell_type": "code",
      "source": [
        "epochs = 3\n",
        "train(snet, optimizer,epochs,iter_num,x,t,X_test,y_test)"
      ],
      "metadata": {
        "colab": {
          "base_uri": "https://localhost:8080/"
        },
        "id": "tvC_ckZHEKhF",
        "outputId": "987f0da1-924d-432e-fc4a-da0b242aaf38"
      },
      "execution_count": null,
      "outputs": [
        {
          "output_type": "stream",
          "name": "stdout",
          "text": [
            "t_loss 1.902 ------------- ,t_acc 99.333\n",
            "t_loss 2.059 ------------- ,t_acc 98.944\n",
            "t_loss 2.469 ------------- ,t_acc 99.111\n"
          ]
        }
      ]
    },
    {
      "cell_type": "code",
      "source": [
        "epochs = 5\n",
        "train(snet, optimizer,epochs,x,t,X_train,y_train)"
      ],
      "metadata": {
        "colab": {
          "base_uri": "https://localhost:8080/",
          "height": 442
        },
        "id": "prnCHv6J1sMu",
        "outputId": "79a28347-d31a-44f1-d6ff-6e2dd41f81e0"
      },
      "execution_count": null,
      "outputs": [
        {
          "output_type": "stream",
          "name": "stderr",
          "text": [
            "/usr/local/lib/python3.7/dist-packages/ipykernel_launcher.py:8: DeprecationWarning: `np.int` is a deprecated alias for the builtin `int`. To silence this warning, use `int` by itself. Doing this will not modify any behavior and is safe. When replacing `np.int`, you may wish to use e.g. `np.int64` or `np.int32` to specify the precision. If you wish to review your current use, check the release note link for additional information.\n",
            "Deprecated in NumPy 1.20; for more details and guidance: https://numpy.org/devdocs/release/1.20.0-notes.html#deprecations\n",
            "  \n"
          ]
        },
        {
          "output_type": "stream",
          "name": "stdout",
          "text": [
            "t_loss 12.526 ------------- ,t_acc 99.250\n",
            "t_loss 6.857 ------------- ,t_acc 99.250\n",
            "t_loss 5.157 ------------- ,t_acc 99.917\n",
            "t_loss 4.174 ------------- ,t_acc 99.917\n",
            "t_loss 3.538 ------------- ,t_acc 99.958\n"
          ]
        },
        {
          "output_type": "display_data",
          "data": {
            "text/plain": [
              "<Figure size 432x288 with 1 Axes>"
            ],
            "image/png": "[encoded data removed]"
          },
          "metadata": {
            "needs_background": "light"
          }
        }
      ]
    },
    {
      "cell_type": "code",
      "source": [
        "epochs = 15\n",
        "train(model, optimizer,epochs,iter_num,x,t,X_test,y_test)"
      ],
      "metadata": {
        "id": "XQQKHpEAj0z7"
      },
      "execution_count": null,
      "outputs": []
    },
    {
      "cell_type": "code",
      "source": [
        "epochs = 15\n",
        "train(model, optimizer,epochs,iter_num,x,t,X_test,y_test)"
      ],
      "metadata": {
        "id": "BDybI2vprYXB"
      },
      "execution_count": null,
      "outputs": []
    },
    {
      "cell_type": "code",
      "source": [
        "epochs = 3\n",
        "\n",
        "for epoch in range(epochs):\n",
        "    # print(\"epoch=%s\"%epoch)\n",
        "\n",
        "    # シャッフル\n",
        "    idx = np.arange(xsize)\n",
        "    np.random.shuffle(idx)\n",
        "\n",
        "    for it in range(iter_num):\n",
        "        \"\"\"\n",
        "        ランダムなミニバッチを順番に取り出す\n",
        "        \"\"\"\n",
        "        # print(\"it=\", it)\n",
        "        mask = idx[batch_size*it : batch_size*(it+1)]\n",
        "\n",
        "        # ミニバッチの生成\n",
        "        x_train = x[mask]\n",
        "        t_train = t[mask]\n",
        "\n",
        "        # print('x_train.shape',x_train.shape)\n",
        "        # print('t_train.shape',t_train.shape)\n",
        "        # 勾配の計算 (誤差逆伝播法を用いる) \n",
        "        grads = snet.gradient(x_train, t_train)\n",
        "\n",
        "        # 更新\n",
        "        optimizer.update(snet.params, grads)\n",
        "\n",
        "    ## 学習経過の記録  \n",
        "    l_loss = snet.loss(x,  t)\n",
        "\n",
        "    train_loss.append(l_loss)\n",
        "    X_test = X_test.reshape(-1,1,28,28)\n",
        "    test_loss.append(snet.loss(X_test, y_test))\n",
        "    train_accuracy.append(snet.accuracy(x, t))\n",
        "    \n",
        "    t_accuracy = snet.accuracy(X_test, y_test)\n",
        "    test_accuracy.append(t_accuracy)\n",
        "\n",
        "    print('loss,test_accuracy',l_loss, t_accuracy)"
      ],
      "metadata": {
        "colab": {
          "base_uri": "https://localhost:8080/"
        },
        "id": "AwU0IAgWTpJp",
        "outputId": "1a745ddf-1af3-4472-fbce-cc5201257c0a"
      },
      "execution_count": null,
      "outputs": [
        {
          "output_type": "stream",
          "name": "stdout",
          "text": [
            "loss,test_accuracy 0.008928460036417297 0.9916666666666667\n",
            "loss,test_accuracy 0.011101360349715454 0.995\n",
            "loss,test_accuracy 0.009741163713377311 0.9916666666666667\n"
          ]
        }
      ]
    },
    {
      "cell_type": "code",
      "source": [
        "with open(\"katakana_model.pickle\", \"wb\") as f:\n",
        "    pickle.dump(snet, f)"
      ],
      "metadata": {
        "id": "QNNfONFWeWpR",
        "colab": {
          "base_uri": "https://localhost:8080/",
          "height": 188
        },
        "outputId": "04e329a4-931c-4005-859f-1cf301f98cc7"
      },
      "execution_count": null,
      "outputs": [
        {
          "output_type": "error",
          "ename": "PicklingError",
          "evalue": "ignored",
          "traceback": [
            "\u001b[0;31m---------------------------------------------------------------------------\u001b[0m",
            "\u001b[0;31mPicklingError\u001b[0m                             Traceback (most recent call last)",
            "\u001b[0;32m<ipython-input-78-cd7d85f47f87>\u001b[0m in \u001b[0;36m<module>\u001b[0;34m()\u001b[0m\n\u001b[1;32m      1\u001b[0m \u001b[0;32mwith\u001b[0m \u001b[0mopen\u001b[0m\u001b[0;34m(\u001b[0m\u001b[0;34m\"katakana_model.pickle\"\u001b[0m\u001b[0;34m,\u001b[0m \u001b[0;34m\"wb\"\u001b[0m\u001b[0;34m)\u001b[0m \u001b[0;32mas\u001b[0m \u001b[0mf\u001b[0m\u001b[0;34m:\u001b[0m\u001b[0;34m\u001b[0m\u001b[0;34m\u001b[0m\u001b[0m\n\u001b[0;32m----> 2\u001b[0;31m     \u001b[0mpickle\u001b[0m\u001b[0;34m.\u001b[0m\u001b[0mdump\u001b[0m\u001b[0;34m(\u001b[0m\u001b[0msnet\u001b[0m\u001b[0;34m,\u001b[0m \u001b[0mf\u001b[0m\u001b[0;34m)\u001b[0m\u001b[0;34m\u001b[0m\u001b[0;34m\u001b[0m\u001b[0m\n\u001b[0m",
            "\u001b[0;31mPicklingError\u001b[0m: Can't pickle <class '__main__.SimpleConvNet'>: it's not the same object as __main__.SimpleConvNet"
          ]
        }
      ]
    },
    {
      "cell_type": "code",
      "source": [
        "x.shape"
      ],
      "metadata": {
        "colab": {
          "base_uri": "https://localhost:8080/"
        },
        "id": "EerKpYlDTPBs",
        "outputId": "3853c696-4aa5-4797-8070-62b7b61fa30b"
      },
      "execution_count": null,
      "outputs": [
        {
          "output_type": "execute_result",
          "data": {
            "text/plain": [
              "(8400, 1, 28, 28)"
            ]
          },
          "metadata": {},
          "execution_count": 18
        }
      ]
    },
    {
      "cell_type": "code",
      "source": [
        "try:\n",
        "    import cupy as cp\n",
        "    cupy = cp\n",
        "except ImportError:\n",
        "    gpu_enable = False  \n",
        "\n",
        "def get_array_module(x):\n",
        "    \"\"\"Returns the array module for `x`.\n",
        "\n",
        "    Args:\n",
        "        x (dezero.Variable or numpy.ndarray or cupy.ndarray): Values to\n",
        "            determine whether NumPy or CuPy should be used.\n",
        "\n",
        "    Returns:\n",
        "        module: `cupy` or `numpy` is returned based on the argument.\n",
        "    \"\"\"\n",
        "    xp = cp.get_array_module(x)\n",
        "    return xp\n",
        "\n",
        "class AffineG:\n",
        "    def __init__(self, W, b):\n",
        "        self.W =W\n",
        "        self.b = b\n",
        "        \n",
        "        self.x = None\n",
        "        self.original_x_shape = None\n",
        "        # 重み・バイアスパラメータの微分\n",
        "        self.dW = None\n",
        "        self.db = None\n",
        "\n",
        "    def forward(self, x):\n",
        "        xp = get_array_module(x)\n",
        "        # テンソル対応(画像形式のxに対応させる)\n",
        "        self.original_x_shape = x.shape\n",
        "        x = x.reshape(x.shape[0], -1)\n",
        "        self.x = x\n",
        "\n",
        "        out = xp.dot(self.x, self.W) + self.b\n",
        "\n",
        "        return out\n",
        "\n",
        "    def backward(self, dout):\n",
        "        xp = get_array_module(dout)\n",
        "        dx = xp.dot(dout, self.W.T)\n",
        "        self.dW = xp.dot(self.x.T, dout)\n",
        "        self.db = xp.sum(dout, axis=0)\n",
        "        \n",
        "        dx = dx.reshape(*self.original_x_shape)  # 入力データの形状に戻す（テンソル対応）\n",
        "        return dx\n",
        "\n",
        "class ReLUG:\n",
        "    def __init__(self):\n",
        "        self.mask = None\n",
        "\n",
        "    def forward(self, x):\n",
        "        xp = get_array_module(x)\n",
        "        out = xp.maximum(x, 0.0)\n",
        "        # self.mask = (x <= 0)\n",
        "        # out = x.copy()\n",
        "        # out[self.mask] = 0\n",
        "\n",
        "        return out\n",
        "\n",
        "    def backward(self, dout):\n",
        "        dout[self.mask] = 0\n",
        "        dx = dout\n",
        "        return dx\n",
        "\n",
        "def softmax(x):\n",
        "    xp = get_array_module(x)\n",
        "    if x.ndim == 2:\n",
        "        x = x.T\n",
        "        x = x - xp.max(x, axis=0)\n",
        "        y = xp.exp(x) / xp.sum(xp.exp(x), axis=0)\n",
        "        return y.T \n",
        "\n",
        "    x = x - xp.max(x) # オーバーフロー対策\n",
        "    return xp.exp(x) / xp.sum(xp.exp(x))                \n",
        "\n",
        "class SoftmaxWithLossG:\n",
        "    def __init__(self):\n",
        "        \n",
        "        # 初期値\n",
        "        self.loss = None\n",
        "        self.y = None # softmaxの出力\n",
        "        self.t = None # 教師データ\n",
        "\n",
        "    def forward(self, x, t):\n",
        "        \"\"\"\n",
        "        順伝播\n",
        "        \"\"\"\n",
        "        self.t = t\n",
        "        self.y = softmax(x)\n",
        "        self.loss = cross_entropy_error(self.y, self.t)\n",
        "        \n",
        "        return self.loss\n",
        "\n",
        "    def backward(self, dout=1):\n",
        "        \"\"\"\n",
        "        逆伝播\n",
        "        伝播する値をバッチサイズで割ること\n",
        "        dout=1は、他のレイヤと同じ使い方ができるように設定しているダミー変数\n",
        "        \"\"\"\n",
        "        batch_size = self.t.shape[0]\n",
        "        dx = (self.y - self.t) / batch_size\n",
        "\n",
        "        return dx\n",
        "\n",
        "def cross_entropy_error(y, t):\n",
        "    \"\"\"\n",
        "    y : 出力値(通常は、0-1の確率)  \n",
        "    t : 正解値(通常は、0or1)  \n",
        "    \"\"\"\n",
        "    xp = get_array_module(t)\n",
        "\n",
        "    if y.ndim==1:\n",
        "        t = t.reshape(1, -1)\n",
        "        y = y.reshape(1, -1)\n",
        "        \n",
        "    batch_size = y.shape[0]\n",
        "    delta = 1e-7\n",
        "    return -xp.sum( t * xp.log(y + delta)) / batch_size\n",
        "\n",
        "# class Softmax(Function):\n",
        "#     def __init__(self, axis=1):\n",
        "#         self.axis = axis\n",
        "\n",
        "#     def forward(self, x):\n",
        "#         xp = get_array_module(x)\n",
        "#         y = x - x.max(axis=self.axis, keepdims=True)\n",
        "#         y = xp.exp(y)\n",
        "#         y /= y.sum(axis=self.axis, keepdims=True)\n",
        "#         return y\n",
        "\n",
        "#     def backward(self, gy):\n",
        "#         y = self.outputs[0]()\n",
        "#         gx = y * gy\n",
        "#         sumdx = gx.sum(axis=self.axis, keepdims=True)\n",
        "#         gx -= y * sumdx\n",
        "#         return gx        \n",
        "\n",
        "class Conv2d:\n",
        "    def __init__(self, W, b, stride=1, pad=0):\n",
        "        self.W = W # フィルターの重み(配列形状:フィルターの枚数, チャンネル数, フィルターの高さ, フィルターの幅)\n",
        "        self.b = b #フィルターのバイアス\n",
        "        self.stride = stride # ストライド数\n",
        "        self.pad = pad # パディング数\n",
        "        \n",
        "        # インスタンス変数の宣言\n",
        "        self.x = None   \n",
        "        self.col = None\n",
        "        self.col_W = None\n",
        "        self.dcol = None\n",
        "        self.dW = None\n",
        "        self.db = None\n",
        "\n",
        "    def forward(self, x):\n",
        "        \"\"\"\n",
        "        順伝播計算\n",
        "        x : 入力(配列形状=(データ数, チャンネル数, 高さ, 幅))\n",
        "        \"\"\"\n",
        "        xp = get_array_module(x) #CUPYを使う　　GPU！！！\n",
        "\n",
        "        FN, C, FH, FW = self.W.shape\n",
        "        N, C, H, W = x.shape\n",
        "        out_h = (H + 2*self.pad - FH) // self.stride + 1 # 出力の高さ(端数は切り捨てる)\n",
        "        out_w =(W + 2*self.pad - FW) // self.stride + 1# 出力の幅(端数は切り捨てる)\n",
        "\n",
        "        # 畳み込み演算を効率的に行えるようにするため、入力xを行列colに変換する\n",
        "        col = im2col(x, FH, FW, self.stride, self.pad)\n",
        "        \n",
        "        # 重みフィルターを2次元配列に変換する\n",
        "        # col_Wの配列形状は、(C*FH*FW, フィルター枚数)\n",
        "        col_W = self.W.reshape(FN, -1).T\n",
        "\n",
        "        # 行列の積を計算し、バイアスを足す\n",
        "        # out = np.dot(col, col_W) + self.b\n",
        "        out = xp.dot(col, col_W) + self.b\n",
        "        \n",
        "        # 画像形式に戻して、チャンネルの軸を2番目に移動させる\n",
        "        out = out.reshape(N, out_h, out_w, -1).transpose(0, 3, 1, 2)\n",
        "\n",
        "        self.x = x\n",
        "        self.col = col\n",
        "        self.col_W = col_W\n",
        "\n",
        "        return out\n",
        "\n",
        "    def backward(self, dout):\n",
        "        xp = get_array_module(dout) #CUPYを使う　　GPU！！！\n",
        "        \"\"\"\n",
        "        逆伝播計算\n",
        "        Affineレイヤと同様の考え方で、逆伝播させる\n",
        "        dout : 出力層側の勾配\n",
        "        return : 入力層側へ伝える勾配\n",
        "        \"\"\"\n",
        "        FN, C, FH, FW = self.W.shape\n",
        "        \n",
        "        # doutのチャンネル数軸を4番目に移動させ、2次元配列に変換する\n",
        "        dout = dout.transpose(0,2,3,1).reshape(-1, FN)\n",
        "\n",
        "        # バイアスbはデータ数方向に総和をとる\n",
        "        # self.db = np.sum(dout, axis=0)\n",
        "        self.db = xp.sum(dout, axis=0)\n",
        "        \n",
        "        # 重みWは、入力である行列colと行列doutの積になる\n",
        "        # self.dW = np.dot(self.col.T, dout)\n",
        "        self.dW = xp.dot(self.col.T, dout)\n",
        "        \n",
        "        # (フィルター数, チャンネル数, フィルター高さ、フィルター幅)の配列形状に戻す\n",
        "        self.dW = self.dW.transpose(1, 0).reshape(FN, C, FH, FW)\n",
        "\n",
        "        # 入力側の勾配は、doutにフィルターの重みを掛けて求める\n",
        "        # dcol = np.dot(dout, self.col_W.T)\n",
        "        dcol = xp.dot(dout, self.col_W.T)\n",
        "        \n",
        "        # 勾配を4次元配列(データ数, チャンネル数, 高さ, 幅)に変換する\n",
        "        dx = col2im(dcol, self.x.shape, FH, FW, self.stride, self.pad, is_backward=True)\n",
        "\n",
        "        self.dcol = dcol # 結果を確認するために保持しておく\n",
        "            \n",
        "        return dx"
      ],
      "metadata": {
        "id": "Ho36ue2b7KCi"
      },
      "execution_count": null,
      "outputs": []
    },
    {
      "cell_type": "markdown",
      "source": [
        "# tensorflowを使う"
      ],
      "metadata": {
        "id": "RQkZtYH0iixl"
      }
    },
    {
      "cell_type": "code",
      "source": [
        "from sklearn.model_selection import train_test_split\n",
        "from sklearn.metrics import confusion_matrix\n",
        "\n",
        "import keras\n",
        "from keras.models import Sequential\n",
        "from keras.layers import Conv2D, Lambda, MaxPooling2D # convolution layers\n",
        "from keras.layers import Dense, Dropout, Flatten # core layers\n",
        "from keras.layers import BatchNormalization\n",
        "\n",
        "from keras.preprocessing.image import ImageDataGenerator\n",
        "\n",
        "from keras.utils.np_utils import to_categorical"
      ],
      "metadata": {
        "id": "7r5SqktG9ND9"
      },
      "execution_count": null,
      "outputs": []
    },
    {
      "cell_type": "code",
      "source": [],
      "metadata": {
        "id": "WrBHFogLkHEQ"
      },
      "execution_count": null,
      "outputs": []
    },
    {
      "cell_type": "code",
      "source": [
        "datagen = ImageDataGenerator(\n",
        "        featurewise_center=False,  # set input mean to 0 over the dataset\n",
        "        samplewise_center=False,  # set each sample mean to 0\n",
        "        featurewise_std_normalization=False,  # divide inputs by std of the dataset\n",
        "        samplewise_std_normalization=False,  # divide each input by its std\n",
        "        zca_whitening=False,  # apply ZCA whitening\n",
        "        rotation_range=15,  # randomly rotate images in the range (degrees, 0 to 180)\n",
        "        zoom_range = 0.01, # Randomly zoom image \n",
        "        width_shift_range=0.1,  # randomly shift images horizontally (fraction of total width)\n",
        "        height_shift_range=0.1,  # randomly shift images vertically (fraction of total height)\n",
        "        horizontal_flip=False,  # randomly flip images\n",
        "        vertical_flip=False)  # randomly flip images\n",
        "\n",
        "\n",
        "#datagen.fit(X_train)\n",
        "train_gen = datagen.flow(X_train, y_train, batch_size=128)\n",
        "test_gen = datagen.flow(X_test, y_test, batch_size=128)"
      ],
      "metadata": {
        "colab": {
          "base_uri": "https://localhost:8080/"
        },
        "id": "1mi0S9TSkICM",
        "outputId": "94635089-c44a-462c-a1d2-73e7a786b70e"
      },
      "execution_count": null,
      "outputs": [
        {
          "output_type": "stream",
          "name": "stderr",
          "text": [
            "/usr/local/lib/python3.7/dist-packages/keras_preprocessing/image/numpy_array_iterator.py:136: UserWarning: NumpyArrayIterator is set to use the data format convention \"channels_last\" (channels on axis 3), i.e. expected either 1, 3, or 4 channels on axis 3. However, it was passed an array with shape (2400, 1, 28, 28) (28 channels).\n",
            "  str(self.x.shape[channels_axis]) + ' channels).')\n",
            "/usr/local/lib/python3.7/dist-packages/keras_preprocessing/image/numpy_array_iterator.py:136: UserWarning: NumpyArrayIterator is set to use the data format convention \"channels_last\" (channels on axis 3), i.e. expected either 1, 3, or 4 channels on axis 3. However, it was passed an array with shape (600, 1, 28, 28) (28 channels).\n",
            "  str(self.x.shape[channels_axis]) + ' channels).')\n"
          ]
        }
      ]
    },
    {
      "cell_type": "code",
      "source": [
        "x = X_train[:10000,:].reshape(-1,28,28,1) # 配列形式の変形\n",
        "t = y_train[:10000,:]\n",
        "\n",
        "X_test = X_test[:10000,:].reshape(-1,28,28,1) \n",
        "y_test = y_test[:10000,:]"
      ],
      "metadata": {
        "id": "uWWptzsBkr9c"
      },
      "execution_count": null,
      "outputs": []
    },
    {
      "cell_type": "code",
      "source": [
        "from tensorflow.keras import datasets, layers, models\n",
        "\n",
        "model = models.Sequential()\n",
        "model.add(layers.Conv2D(64, (3, 3), activation='relu', input_shape=(28, 28, 1)))\n",
        "model.add(layers.Conv2D(64, (3, 3), activation='relu'))\n",
        "model.add(layers.MaxPooling2D((2, 2)))\n",
        "model.add(layers.BatchNormalization())\n",
        "\n",
        "model.add(layers.Conv2D(128, (3, 3), activation='relu'))\n",
        "model.add(layers.Conv2D(128, (3, 3), activation='relu'))\n",
        "model.add(layers.MaxPooling2D((2, 2)))\n",
        "model.add(layers.BatchNormalization())\n",
        "\n",
        "model.add(layers.Conv2D(256, (3, 3), activation='relu'))\n",
        "model.add(layers.MaxPooling2D((2, 2)))\n",
        "model.add(layers.BatchNormalization())\n",
        "\n",
        "model.add(layers.Flatten())\n",
        "model.add(layers.Dense(512, activation='relu'))\n",
        "model.add(layers.Dense(15, activation='softmax'))"
      ],
      "metadata": {
        "id": "JE_vcnwEklP6"
      },
      "execution_count": null,
      "outputs": []
    },
    {
      "cell_type": "code",
      "source": [
        "model.compile(optimizer='adam',\n",
        "              loss='categorical_crossentropy',\n",
        "              metrics=['accuracy'])\n",
        "\n",
        "model.fit(x, t, epochs=10)"
      ],
      "metadata": {
        "id": "WsZdO-EikgUY"
      },
      "execution_count": null,
      "outputs": []
    },
    {
      "cell_type": "code",
      "source": [
        "model.fit(x, t, epochs=15)"
      ],
      "metadata": {
        "id": "ObpMmCkd2M8Z"
      },
      "execution_count": null,
      "outputs": []
    },
    {
      "cell_type": "code",
      "source": [
        "epochs = 20\n",
        "batch_size = 128\n",
        "train_steps = x.shape[0] // batch_size\n",
        "valid_steps = t.shape[0] // batch_size\n",
        "\n",
        "es = keras.callbacks.EarlyStopping(\n",
        "        monitor=\"val_acc\", # metrics to monitor\n",
        "        patience=10, # how many epochs before stop\n",
        "        verbose=1,\n",
        "        mode=\"max\", # we need the maximum accuracy.\n",
        "        restore_best_weights=True, # \n",
        "     )\n",
        "\n",
        "rp = keras.callbacks.ReduceLROnPlateau(\n",
        "        monitor=\"val_acc\",\n",
        "        factor=0.2,\n",
        "        patience=3,\n",
        "        verbose=1,\n",
        "        mode=\"max\",\n",
        "        min_lr=0.00001,\n",
        "     )"
      ],
      "metadata": {
        "id": "y9--tAg3kZmP"
      },
      "execution_count": null,
      "outputs": []
    },
    {
      "cell_type": "code",
      "source": [
        "# Fit the model\n",
        "history = model.fit(train_gen, \n",
        "                              epochs = epochs, \n",
        "                              steps_per_epoch = train_steps,\n",
        "                              validation_data = (X_test, y_test),\n",
        "                              validation_steps = valid_steps, \n",
        "                              callbacks=[es, rp])"
      ],
      "metadata": {
        "id": "_KKSqhqA0uAj"
      },
      "execution_count": null,
      "outputs": []
    },
    {
      "cell_type": "code",
      "source": [
        "# epoch = 20, model.compile=10, validation_dataが拡張しなかった\n",
        "history = model.fit(nx, nt, validation_split=0.2, epochs=50, batch_size=128, verbose=1)"
      ],
      "metadata": {
        "id": "6pVp33r6kfVE"
      },
      "execution_count": null,
      "outputs": []
    },
    {
      "cell_type": "code",
      "source": [
        "nx=np.concatenate([train_gen.next()[0] for i in range(train_gen.__len__())])\n",
        "nt=np.concatenate([train_gen.next()[1] for i in range(train_gen.__len__())])\n",
        "print(nx.shape)\n",
        "print(nt.shape)\n",
        "\n",
        "nx = nx.reshape(-1,28,28,1)"
      ],
      "metadata": {
        "colab": {
          "base_uri": "https://localhost:8080/"
        },
        "id": "D0DsJ7zj3nlb",
        "outputId": "258d29c5-9da7-42c1-f7b8-8b13ca04f356"
      },
      "execution_count": null,
      "outputs": [
        {
          "output_type": "stream",
          "name": "stdout",
          "text": [
            "(2400, 1, 28, 28)\n",
            "(2400, 15)\n"
          ]
        }
      ]
    },
    {
      "cell_type": "code",
      "source": [
        "nx = nx.reshape(-1,28,28,1)"
      ],
      "metadata": {
        "id": "QDbboJdR7pR2"
      },
      "execution_count": null,
      "outputs": []
    },
    {
      "cell_type": "code",
      "source": [
        "nx.shape"
      ],
      "metadata": {
        "colab": {
          "base_uri": "https://localhost:8080/"
        },
        "id": "C8DdlVWg7rzm",
        "outputId": "5cf98c48-133f-4e77-cba2-fb834219a8c1"
      },
      "execution_count": null,
      "outputs": [
        {
          "output_type": "execute_result",
          "data": {
            "text/plain": [
              "(2400, 28, 28, 1)"
            ]
          },
          "metadata": {},
          "execution_count": 57
        }
      ]
    },
    {
      "cell_type": "code",
      "source": [
        "X_test.shape"
      ],
      "metadata": {
        "colab": {
          "base_uri": "https://localhost:8080/"
        },
        "id": "OVfm8Hqo3yVN",
        "outputId": "a8520ce9-14df-4825-81f5-c551cea97da5"
      },
      "execution_count": null,
      "outputs": [
        {
          "output_type": "execute_result",
          "data": {
            "text/plain": [
              "(600, 28, 28, 1)"
            ]
          },
          "metadata": {},
          "execution_count": 45
        }
      ]
    },
    {
      "cell_type": "code",
      "source": [
        "# epoch = 20, model.compile=10, validation_dataが拡張しなかった\n",
        "test_loss, test_acc = model.evaluate(X_test, y_test)"
      ],
      "metadata": {
        "colab": {
          "base_uri": "https://localhost:8080/"
        },
        "id": "C3jdQR8UlIpV",
        "outputId": "de1ca253-46bb-49b5-a29c-eeaa1cb4483a"
      },
      "execution_count": null,
      "outputs": [
        {
          "output_type": "stream",
          "name": "stdout",
          "text": [
            "19/19 [==============================] - 0s 3ms/step - loss: 7.6763 - accuracy: 0.0733\n"
          ]
        }
      ]
    },
    {
      "cell_type": "markdown",
      "source": [
        "# 層を減らす"
      ],
      "metadata": {
        "id": "_rWA3pes_I4w"
      }
    },
    {
      "cell_type": "code",
      "source": [],
      "metadata": {
        "id": "ZZ32iQCu4KP8"
      },
      "execution_count": null,
      "outputs": []
    },
    {
      "cell_type": "code",
      "source": [],
      "metadata": {
        "id": "xZ5Dm8tP_IDu"
      },
      "execution_count": null,
      "outputs": []
    }
  ],
  "metadata": {
    "colab": {
      "machine_shape": "hm",
      "provenance": [],
      "toc_visible": true
    },
    "gpuClass": "standard",
    "kernelspec": {
      "display_name": "Python 3",
      "name": "python3"
    },
    "language_info": {
      "name": "python"
    }
  },
  "nbformat": 4,
  "nbformat_minor": 0
}