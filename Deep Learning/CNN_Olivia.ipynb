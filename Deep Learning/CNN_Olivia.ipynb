{
 "cells": [
  {
   "cell_type": "markdown",
   "metadata": {},
   "source": [
    "# 畳み込みニューラルネットワーク"
   ]
  },
  {
   "cell_type": "markdown",
   "metadata": {},
   "source": [
    "## ライブラリのインポート"
   ]
  },
  {
   "cell_type": "code",
   "execution_count": 7,
   "metadata": {},
   "outputs": [],
   "source": [
    "import tensorflow as tf\n",
    "from tensorflow.keras.preprocessing.image import ImageDataGenerator"
   ]
  },
  {
   "cell_type": "markdown",
   "metadata": {},
   "source": [
    "# データの前処理\n",
    "## 訓練用データセットの前処理"
   ]
  },
  {
   "cell_type": "code",
   "execution_count": 13,
   "metadata": {},
   "outputs": [
    {
     "name": "stdout",
     "output_type": "stream",
     "text": [
      "Found 8000 images belonging to 2 classes.\n"
     ]
    }
   ],
   "source": [
    "train_datagen = ImageDataGenerator(rescale = 1/255,\n",
    "                                  shear_range = 0.2,\n",
    "                                  zoom_range = 0.2,\n",
    "                                  horizontal_flip = True)\n",
    "training_set = train_datagen.flow_from_directory('dataset/training_set',\n",
    "                                                target_size = (64, 64),\n",
    "                                                batch_size = 32,\n",
    "                                                class_mode = 'binary')"
   ]
  },
  {
   "cell_type": "markdown",
   "metadata": {},
   "source": [
    "## テスト用データセットの前処理"
   ]
  },
  {
   "cell_type": "code",
   "execution_count": 15,
   "metadata": {},
   "outputs": [
    {
     "name": "stdout",
     "output_type": "stream",
     "text": [
      "Found 2000 images belonging to 2 classes.\n"
     ]
    }
   ],
   "source": [
    "test_datagen = ImageDataGenerator(rescale = 1./255)\n",
    "test_set = test_datagen.flow_from_directory('dataset/test_set',\n",
    "                                           target_size = (64, 64),\n",
    "                                           batch_size = 32,\n",
    "                                           class_mode = 'binary')"
   ]
  },
  {
   "cell_type": "markdown",
   "metadata": {},
   "source": [
    "# 畳み込みニューラルネットワークの構築\n",
    "## イニシャライズ"
   ]
  },
  {
   "cell_type": "code",
   "execution_count": 17,
   "metadata": {},
   "outputs": [],
   "source": [
    "cnn = tf.keras.models.Sequential()"
   ]
  },
  {
   "cell_type": "markdown",
   "metadata": {},
   "source": [
    "## 畳み込み"
   ]
  },
  {
   "cell_type": "code",
   "execution_count": 19,
   "metadata": {},
   "outputs": [],
   "source": [
    "cnn.add(tf.keras.layers.Conv2D(filters=32, kernel_size=3, activation='relu', input_shape=[64, 64, 3]))"
   ]
  },
  {
   "cell_type": "markdown",
   "metadata": {},
   "source": [
    "## プーリング\n",
    "### Max Poolingは各範囲で最大値を選択して圧縮する"
   ]
  },
  {
   "cell_type": "code",
   "execution_count": 20,
   "metadata": {},
   "outputs": [],
   "source": [
    "cnn.add(tf.keras.layers.MaxPool2D(pool_size=2, strides=2))"
   ]
  },
  {
   "cell_type": "code",
   "execution_count": 22,
   "metadata": {},
   "outputs": [],
   "source": [
    "cnn.add(tf.keras.layers.Conv2D(filters=32, kernel_size=3, activation='relu'))\n",
    "cnn.add(tf.keras.layers.MaxPool2D(pool_size=2, strides=2))"
   ]
  },
  {
   "cell_type": "code",
   "execution_count": 23,
   "metadata": {},
   "outputs": [],
   "source": [
    "cnn.add(tf.keras.layers.Flatten())"
   ]
  },
  {
   "cell_type": "code",
   "execution_count": 25,
   "metadata": {},
   "outputs": [],
   "source": [
    "cnn.add(tf.keras.layers.Dense(units=128, activation='relu'))"
   ]
  },
  {
   "cell_type": "code",
   "execution_count": 27,
   "metadata": {},
   "outputs": [],
   "source": [
    "cnn.add(tf.keras.layers.Dense(units=1, activation='sigmoid'))"
   ]
  },
  {
   "cell_type": "code",
   "execution_count": 28,
   "metadata": {},
   "outputs": [],
   "source": [
    "cnn.compile(optimizer = 'adam', loss='binary_crossentropy', metrics = ['accuracy'])"
   ]
  },
  {
   "cell_type": "code",
   "execution_count": 29,
   "metadata": {},
   "outputs": [
    {
     "name": "stdout",
     "output_type": "stream",
     "text": [
      "Epoch 1/25\n",
      "250/250 [==============================] - 181s 714ms/step - loss: 0.6893 - accuracy: 0.5309 - val_loss: 0.6676 - val_accuracy: 0.6175\n",
      "Epoch 2/25\n",
      "250/250 [==============================] - 167s 667ms/step - loss: 0.6438 - accuracy: 0.6252 - val_loss: 0.5974 - val_accuracy: 0.6685\n",
      "Epoch 3/25\n",
      "250/250 [==============================] - 161s 643ms/step - loss: 0.5888 - accuracy: 0.6867 - val_loss: 0.5543 - val_accuracy: 0.7310\n",
      "Epoch 4/25\n",
      "250/250 [==============================] - 137s 549ms/step - loss: 0.5480 - accuracy: 0.7195 - val_loss: 0.5318 - val_accuracy: 0.7365\n",
      "Epoch 5/25\n",
      "250/250 [==============================] - 166s 663ms/step - loss: 0.5252 - accuracy: 0.7369 - val_loss: 0.4990 - val_accuracy: 0.7655\n",
      "Epoch 6/25\n",
      "250/250 [==============================] - 172s 686ms/step - loss: 0.4929 - accuracy: 0.7596 - val_loss: 0.4666 - val_accuracy: 0.7785\n",
      "Epoch 7/25\n",
      "250/250 [==============================] - 147s 589ms/step - loss: 0.4701 - accuracy: 0.7724 - val_loss: 0.5348 - val_accuracy: 0.7470\n",
      "Epoch 8/25\n",
      "250/250 [==============================] - 135s 539ms/step - loss: 0.4633 - accuracy: 0.7810 - val_loss: 0.6220 - val_accuracy: 0.7085\n",
      "Epoch 9/25\n",
      "250/250 [==============================] - 137s 548ms/step - loss: 0.4478 - accuracy: 0.7855 - val_loss: 0.4613 - val_accuracy: 0.7875\n",
      "Epoch 10/25\n",
      "250/250 [==============================] - 115s 460ms/step - loss: 0.4293 - accuracy: 0.7960 - val_loss: 0.4475 - val_accuracy: 0.7945\n",
      "Epoch 11/25\n",
      "250/250 [==============================] - 118s 471ms/step - loss: 0.4130 - accuracy: 0.8073 - val_loss: 0.4273 - val_accuracy: 0.8105\n",
      "Epoch 12/25\n",
      "250/250 [==============================] - 137s 548ms/step - loss: 0.4016 - accuracy: 0.8130 - val_loss: 0.4575 - val_accuracy: 0.7775\n",
      "Epoch 13/25\n",
      "250/250 [==============================] - 117s 468ms/step - loss: 0.3895 - accuracy: 0.8191 - val_loss: 0.4286 - val_accuracy: 0.8045\n",
      "Epoch 14/25\n",
      "250/250 [==============================] - 123s 493ms/step - loss: 0.3876 - accuracy: 0.8198 - val_loss: 0.4208 - val_accuracy: 0.8210\n",
      "Epoch 15/25\n",
      "250/250 [==============================] - 148s 593ms/step - loss: 0.3667 - accuracy: 0.8390 - val_loss: 0.4376 - val_accuracy: 0.8025\n",
      "Epoch 16/25\n",
      "250/250 [==============================] - 131s 523ms/step - loss: 0.3545 - accuracy: 0.8396 - val_loss: 0.4353 - val_accuracy: 0.8200\n",
      "Epoch 17/25\n",
      "250/250 [==============================] - 137s 548ms/step - loss: 0.3332 - accuracy: 0.8509 - val_loss: 0.4420 - val_accuracy: 0.8145\n",
      "Epoch 18/25\n",
      "250/250 [==============================] - 132s 527ms/step - loss: 0.3258 - accuracy: 0.8560 - val_loss: 0.4438 - val_accuracy: 0.8065\n",
      "Epoch 19/25\n",
      "250/250 [==============================] - 129s 516ms/step - loss: 0.3232 - accuracy: 0.8593 - val_loss: 0.4264 - val_accuracy: 0.8295\n",
      "Epoch 20/25\n",
      "250/250 [==============================] - 130s 520ms/step - loss: 0.2973 - accuracy: 0.8708 - val_loss: 0.4494 - val_accuracy: 0.8280\n",
      "Epoch 21/25\n",
      "250/250 [==============================] - 131s 525ms/step - loss: 0.2913 - accuracy: 0.8744 - val_loss: 0.4430 - val_accuracy: 0.8185\n",
      "Epoch 22/25\n",
      "250/250 [==============================] - 138s 552ms/step - loss: 0.2827 - accuracy: 0.8816 - val_loss: 0.4306 - val_accuracy: 0.8345\n",
      "Epoch 23/25\n",
      "250/250 [==============================] - 140s 558ms/step - loss: 0.2739 - accuracy: 0.8819 - val_loss: 0.4080 - val_accuracy: 0.8305\n",
      "Epoch 24/25\n",
      "250/250 [==============================] - 141s 562ms/step - loss: 0.2609 - accuracy: 0.8886 - val_loss: 0.4435 - val_accuracy: 0.8375\n",
      "Epoch 25/25\n",
      "250/250 [==============================] - 134s 534ms/step - loss: 0.2535 - accuracy: 0.8940 - val_loss: 0.4573 - val_accuracy: 0.8090\n"
     ]
    },
    {
     "data": {
      "text/plain": [
       "<keras.callbacks.History at 0x7fb864b2c2d0>"
      ]
     },
     "execution_count": 29,
     "metadata": {},
     "output_type": "execute_result"
    }
   ],
   "source": [
    "cnn.fit(x = training_set, validation_data = test_set, epochs = 25)"
   ]
  },
  {
   "cell_type": "code",
   "execution_count": 26,
   "metadata": {},
   "outputs": [],
   "source": []
  },
  {
   "cell_type": "code",
   "execution_count": 35,
   "metadata": {},
   "outputs": [
    {
     "name": "stdout",
     "output_type": "stream",
     "text": [
      "1/1 [==============================] - 1s 675ms/step\n"
     ]
    }
   ],
   "source": [
    "import numpy as np\n",
    "from tensorflow.keras.preprocessing import image\n",
    "test_image = image.load_img('dataset/single_prediction/cat_or_dog_2.jpg', target_size = (64, 64))\n",
    "test_image = image.img_to_array(test_image)\n",
    "test_image = np.expand_dims(test_image, axis = 0)\n",
    "result = cnn.predict(test_image)\n",
    "training_set.class_indices\n",
    "if result[0][0] == 1:\n",
    "    prediction = 'dog'\n",
    "else:\n",
    "    prediction = 'cat'"
   ]
  },
  {
   "cell_type": "code",
   "execution_count": 36,
   "metadata": {},
   "outputs": [
    {
     "name": "stdout",
     "output_type": "stream",
     "text": [
      "dog\n"
     ]
    }
   ],
   "source": [
    "print(prediction)"
   ]
  },
  {
   "cell_type": "code",
   "execution_count": 37,
   "metadata": {},
   "outputs": [
    {
     "name": "stdout",
     "output_type": "stream",
     "text": [
      "1/1 [==============================] - 0s 28ms/step\n"
     ]
    }
   ],
   "source": [
    "import numpy as np\n",
    "from tensorflow.keras.preprocessing import image\n",
    "test_image = image.load_img('dataset/single_prediction/cat_or_dog_2.jpg', target_size = (64, 64))\n",
    "test_image = image.img_to_array(test_image)\n",
    "test_image = np.expand_dims(test_image, axis = 0)\n",
    "result = cnn.predict(test_image)\n",
    "training_set.class_indices\n",
    "if result[0][0] == 1:\n",
    "  prediction = 'dog'\n",
    "else:\n",
    "  prediction = 'cat'"
   ]
  },
  {
   "cell_type": "code",
   "execution_count": null,
   "metadata": {},
   "outputs": [],
   "source": [
    "print(prediction)"
   ]
  }
 ],
 "metadata": {
  "kernelspec": {
   "display_name": "Python 3",
   "language": "python",
   "name": "python3"
  },
  "language_info": {
   "codemirror_mode": {
    "name": "ipython",
    "version": 3
   },
   "file_extension": ".py",
   "mimetype": "text/x-python",
   "name": "python",
   "nbconvert_exporter": "python",
   "pygments_lexer": "ipython3",
   "version": "3.7.6"
  }
 },
 "nbformat": 4,
 "nbformat_minor": 4
}
